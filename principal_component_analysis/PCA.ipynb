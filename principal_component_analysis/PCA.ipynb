{
 "cells": [
  {
   "cell_type": "code",
   "execution_count": 29,
   "id": "552fcc82",
   "metadata": {},
   "outputs": [],
   "source": [
    "import pandas as pd\n",
    "import numpy as np\n",
    "import matplotlib.pyplot as plt\n",
    "from scipy.linalg import eig\n",
    "import seaborn as sns"
   ]
  },
  {
   "cell_type": "code",
   "execution_count": 3,
   "id": "4d381387",
   "metadata": {},
   "outputs": [],
   "source": [
    "data = np.array([[3,4],[2,8],[6,9],[10,12]])"
   ]
  },
  {
   "cell_type": "code",
   "execution_count": 5,
   "id": "0c09583c",
   "metadata": {},
   "outputs": [],
   "source": [
    "data = pd.DataFrame(data, columns=['col1','col2'])"
   ]
  },
  {
   "cell_type": "code",
   "execution_count": 7,
   "id": "0f83fcc4",
   "metadata": {},
   "outputs": [
    {
     "data": {
      "text/html": [
       "<div>\n",
       "<style scoped>\n",
       "    .dataframe tbody tr th:only-of-type {\n",
       "        vertical-align: middle;\n",
       "    }\n",
       "\n",
       "    .dataframe tbody tr th {\n",
       "        vertical-align: top;\n",
       "    }\n",
       "\n",
       "    .dataframe thead th {\n",
       "        text-align: right;\n",
       "    }\n",
       "</style>\n",
       "<table border=\"1\" class=\"dataframe\">\n",
       "  <thead>\n",
       "    <tr style=\"text-align: right;\">\n",
       "      <th></th>\n",
       "      <th>col1</th>\n",
       "      <th>col2</th>\n",
       "    </tr>\n",
       "  </thead>\n",
       "  <tbody>\n",
       "    <tr>\n",
       "      <th>0</th>\n",
       "      <td>3</td>\n",
       "      <td>4</td>\n",
       "    </tr>\n",
       "    <tr>\n",
       "      <th>1</th>\n",
       "      <td>2</td>\n",
       "      <td>8</td>\n",
       "    </tr>\n",
       "    <tr>\n",
       "      <th>2</th>\n",
       "      <td>6</td>\n",
       "      <td>9</td>\n",
       "    </tr>\n",
       "    <tr>\n",
       "      <th>3</th>\n",
       "      <td>10</td>\n",
       "      <td>12</td>\n",
       "    </tr>\n",
       "  </tbody>\n",
       "</table>\n",
       "</div>"
      ],
      "text/plain": [
       "   col1  col2\n",
       "0     3     4\n",
       "1     2     8\n",
       "2     6     9\n",
       "3    10    12"
      ]
     },
     "execution_count": 7,
     "metadata": {},
     "output_type": "execute_result"
    }
   ],
   "source": [
    "data"
   ]
  },
  {
   "cell_type": "code",
   "execution_count": 8,
   "id": "c235711c",
   "metadata": {},
   "outputs": [
    {
     "data": {
      "text/plain": [
       "<matplotlib.collections.PathCollection at 0x180b9d845e0>"
      ]
     },
     "execution_count": 8,
     "metadata": {},
     "output_type": "execute_result"
    },
    {
     "data": {
      "image/png": "[encoded data removed]",
      "text/plain": [
       "<Figure size 432x288 with 1 Axes>"
      ]
     },
     "metadata": {
      "needs_background": "light"
     },
     "output_type": "display_data"
    }
   ],
   "source": [
    "plt.scatter(data['col1'],data['col2'])"
   ]
  },
  {
   "cell_type": "markdown",
   "id": "fa53622e",
   "metadata": {},
   "source": [
    "1. Standardization of data\n",
    "2. cov matrix\n",
    "3. eig value and eig vector\n",
    "4. find principal component"
   ]
  },
  {
   "cell_type": "code",
   "execution_count": 18,
   "id": "d3f29bc4",
   "metadata": {},
   "outputs": [],
   "source": [
    "meanbycol = np.mean(data,axis=0)"
   ]
  },
  {
   "cell_type": "code",
   "execution_count": 19,
   "id": "39e2c20b",
   "metadata": {},
   "outputs": [],
   "source": [
    "stdbycol = np.std(data,axis=0)"
   ]
  },
  {
   "cell_type": "code",
   "execution_count": 22,
   "id": "5cc60bf9",
   "metadata": {},
   "outputs": [],
   "source": [
    "scaledbymean = data-meanbycol"
   ]
  },
  {
   "cell_type": "code",
   "execution_count": 24,
   "id": "67f0c01a",
   "metadata": {},
   "outputs": [],
   "source": [
    "scaled_data = scaledbymean/stdbycol"
   ]
  },
  {
   "cell_type": "code",
   "execution_count": 25,
   "id": "5bc7306d",
   "metadata": {},
   "outputs": [
    {
     "data": {
      "text/html": [
       "<div>\n",
       "<style scoped>\n",
       "    .dataframe tbody tr th:only-of-type {\n",
       "        vertical-align: middle;\n",
       "    }\n",
       "\n",
       "    .dataframe tbody tr th {\n",
       "        vertical-align: top;\n",
       "    }\n",
       "\n",
       "    .dataframe thead th {\n",
       "        text-align: right;\n",
       "    }\n",
       "</style>\n",
       "<table border=\"1\" class=\"dataframe\">\n",
       "  <thead>\n",
       "    <tr style=\"text-align: right;\">\n",
       "      <th></th>\n",
       "      <th>col1</th>\n",
       "      <th>col2</th>\n",
       "    </tr>\n",
       "  </thead>\n",
       "  <tbody>\n",
       "    <tr>\n",
       "      <th>0</th>\n",
       "      <td>-0.722897</td>\n",
       "      <td>-1.485297</td>\n",
       "    </tr>\n",
       "    <tr>\n",
       "      <th>1</th>\n",
       "      <td>-1.044185</td>\n",
       "      <td>-0.087370</td>\n",
       "    </tr>\n",
       "    <tr>\n",
       "      <th>2</th>\n",
       "      <td>0.240966</td>\n",
       "      <td>0.262111</td>\n",
       "    </tr>\n",
       "    <tr>\n",
       "      <th>3</th>\n",
       "      <td>1.526117</td>\n",
       "      <td>1.310556</td>\n",
       "    </tr>\n",
       "  </tbody>\n",
       "</table>\n",
       "</div>"
      ],
      "text/plain": [
       "       col1      col2\n",
       "0 -0.722897 -1.485297\n",
       "1 -1.044185 -0.087370\n",
       "2  0.240966  0.262111\n",
       "3  1.526117  1.310556"
      ]
     },
     "execution_count": 25,
     "metadata": {},
     "output_type": "execute_result"
    }
   ],
   "source": [
    "scaled_data"
   ]
  },
  {
   "cell_type": "code",
   "execution_count": 26,
   "id": "43476870",
   "metadata": {},
   "outputs": [
    {
     "data": {
      "text/plain": [
       "array([[-0.7228974 , -1.4852969 ],\n",
       "       [-1.04418513, -0.08737041],\n",
       "       [ 0.2409658 ,  0.26211122],\n",
       "       [ 1.52611672,  1.31055608]])"
      ]
     },
     "execution_count": 26,
     "metadata": {},
     "output_type": "execute_result"
    }
   ],
   "source": [
    "from sklearn.preprocessing import StandardScaler\n",
    "scaler = StandardScaler()\n",
    "scaler.fit_transform(data)"
   ]
  },
  {
   "cell_type": "code",
   "execution_count": 35,
   "id": "994c6438",
   "metadata": {},
   "outputs": [
    {
     "data": {
      "text/html": [
       "<div>\n",
       "<style scoped>\n",
       "    .dataframe tbody tr th:only-of-type {\n",
       "        vertical-align: middle;\n",
       "    }\n",
       "\n",
       "    .dataframe tbody tr th {\n",
       "        vertical-align: top;\n",
       "    }\n",
       "\n",
       "    .dataframe thead th {\n",
       "        text-align: right;\n",
       "    }\n",
       "</style>\n",
       "<table border=\"1\" class=\"dataframe\">\n",
       "  <thead>\n",
       "    <tr style=\"text-align: right;\">\n",
       "      <th></th>\n",
       "      <th>col1</th>\n",
       "      <th>col2</th>\n",
       "    </tr>\n",
       "  </thead>\n",
       "  <tbody>\n",
       "    <tr>\n",
       "      <th>col1</th>\n",
       "      <td>1.333333</td>\n",
       "      <td>1.076057</td>\n",
       "    </tr>\n",
       "    <tr>\n",
       "      <th>col2</th>\n",
       "      <td>1.076057</td>\n",
       "      <td>1.333333</td>\n",
       "    </tr>\n",
       "  </tbody>\n",
       "</table>\n",
       "</div>"
      ],
      "text/plain": [
       "          col1      col2\n",
       "col1  1.333333  1.076057\n",
       "col2  1.076057  1.333333"
      ]
     },
     "execution_count": 35,
     "metadata": {},
     "output_type": "execute_result"
    }
   ],
   "source": [
    "scaled_data.cov()"
   ]
  },
  {
   "cell_type": "code",
   "execution_count": 32,
   "id": "7d3aba68",
   "metadata": {},
   "outputs": [
    {
     "data": {
      "text/plain": [
       "<AxesSubplot:>"
      ]
     },
     "execution_count": 32,
     "metadata": {},
     "output_type": "execute_result"
    },
    {
     "data": {
      "image/png": "[encoded data removed]",
      "text/plain": [
       "<Figure size 432x288 with 2 Axes>"
      ]
     },
     "metadata": {
      "needs_background": "light"
     },
     "output_type": "display_data"
    }
   ],
   "source": [
    "sns.heatmap(scaled_data.cov(),annot=True)"
   ]
  },
  {
   "cell_type": "code",
   "execution_count": 36,
   "id": "d53bd7c7",
   "metadata": {},
   "outputs": [],
   "source": [
    "cov_mat = np.cov(scaled_data.T)"
   ]
  },
  {
   "cell_type": "code",
   "execution_count": 38,
   "id": "d17ec990",
   "metadata": {},
   "outputs": [],
   "source": [
    "eig_val,eig_vec=np.linalg.eig(cov_mat)"
   ]
  },
  {
   "cell_type": "code",
   "execution_count": null,
   "id": "7f782614",
   "metadata": {},
   "outputs": [],
   "source": [
    "scaled_data"
   ]
  },
  {
   "cell_type": "code",
   "execution_count": 49,
   "id": "f8089f29",
   "metadata": {},
   "outputs": [
    {
     "data": {
      "text/plain": [
       "array([[-1.56142916, -0.53909786],\n",
       "       [-0.80013059,  0.67657018],\n",
       "       [ 0.35572917,  0.01495207],\n",
       "       [ 2.00583058, -0.15242439]])"
      ]
     },
     "execution_count": 49,
     "metadata": {},
     "output_type": "execute_result"
    }
   ],
   "source": [
    "eig_vec.T.dot(scaled_data.T).T"
   ]
  },
  {
   "cell_type": "code",
   "execution_count": 50,
   "id": "afdd2051",
   "metadata": {},
   "outputs": [
    {
     "data": {
      "text/plain": [
       "array([[-1.56142916, -0.53909786],\n",
       "       [-0.80013059,  0.67657018],\n",
       "       [ 0.35572917,  0.01495207],\n",
       "       [ 2.00583058, -0.15242439]])"
      ]
     },
     "execution_count": 50,
     "metadata": {},
     "output_type": "execute_result"
    }
   ],
   "source": [
    "np.dot(scaled_data,eig_vec)"
   ]
  },
  {
   "cell_type": "code",
   "execution_count": 52,
   "id": "8e317e47",
   "metadata": {},
   "outputs": [
    {
     "data": {
      "text/plain": [
       "array([[-1.56142916, -0.53909786],\n",
       "       [-0.80013059,  0.67657018],\n",
       "       [ 0.35572917,  0.01495207],\n",
       "       [ 2.00583058, -0.15242439]])"
      ]
     },
     "execution_count": 52,
     "metadata": {},
     "output_type": "execute_result"
    }
   ],
   "source": [
    "from sklearn.decomposition import PCA\n",
    "pca = PCA()\n",
    "pca.fit_transform(scaled_data)"
   ]
  },
  {
   "cell_type": "code",
   "execution_count": 53,
   "id": "5ea7af75",
   "metadata": {},
   "outputs": [
    {
     "data": {
      "text/html": [
       "<div>\n",
       "<style scoped>\n",
       "    .dataframe tbody tr th:only-of-type {\n",
       "        vertical-align: middle;\n",
       "    }\n",
       "\n",
       "    .dataframe tbody tr th {\n",
       "        vertical-align: top;\n",
       "    }\n",
       "\n",
       "    .dataframe thead th {\n",
       "        text-align: right;\n",
       "    }\n",
       "</style>\n",
       "<table border=\"1\" class=\"dataframe\">\n",
       "  <thead>\n",
       "    <tr style=\"text-align: right;\">\n",
       "      <th></th>\n",
       "      <th>pc1</th>\n",
       "      <th>pc2</th>\n",
       "    </tr>\n",
       "  </thead>\n",
       "  <tbody>\n",
       "    <tr>\n",
       "      <th>0</th>\n",
       "      <td>-1.561429</td>\n",
       "      <td>-0.539098</td>\n",
       "    </tr>\n",
       "    <tr>\n",
       "      <th>1</th>\n",
       "      <td>-0.800131</td>\n",
       "      <td>0.676570</td>\n",
       "    </tr>\n",
       "    <tr>\n",
       "      <th>2</th>\n",
       "      <td>0.355729</td>\n",
       "      <td>0.014952</td>\n",
       "    </tr>\n",
       "    <tr>\n",
       "      <th>3</th>\n",
       "      <td>2.005831</td>\n",
       "      <td>-0.152424</td>\n",
       "    </tr>\n",
       "  </tbody>\n",
       "</table>\n",
       "</div>"
      ],
      "text/plain": [
       "        pc1       pc2\n",
       "0 -1.561429 -0.539098\n",
       "1 -0.800131  0.676570\n",
       "2  0.355729  0.014952\n",
       "3  2.005831 -0.152424"
      ]
     },
     "execution_count": 53,
     "metadata": {},
     "output_type": "execute_result"
    }
   ],
   "source": [
    "pd.DataFrame(pca.fit_transform(scaled_data),columns=['pc1','pc2'])"
   ]
  },
  {
   "cell_type": "code",
   "execution_count": 54,
   "id": "ec4ab6bc",
   "metadata": {},
   "outputs": [
    {
     "data": {
      "text/plain": [
       "array([[-0.7228974 , -1.4852969 ],\n",
       "       [-1.04418513, -0.08737041],\n",
       "       [ 0.2409658 ,  0.26211122],\n",
       "       [ 1.52611672,  1.31055608]])"
      ]
     },
     "execution_count": 54,
     "metadata": {},
     "output_type": "execute_result"
    }
   ],
   "source": [
    "pca.inverse_transform(pca.fit_transform(scaled_data))"
   ]
  },
  {
   "cell_type": "code",
   "execution_count": 56,
   "id": "e51bb43f",
   "metadata": {},
   "outputs": [
    {
     "data": {
      "text/plain": [
       "array([0.90352119, 0.09647881])"
      ]
     },
     "execution_count": 56,
     "metadata": {},
     "output_type": "execute_result"
    }
   ],
   "source": [
    "# representation of data by principal complonents\n",
    "pca.explained_variance_ratio_"
   ]
  },
  {
   "cell_type": "code",
   "execution_count": 59,
   "id": "d80ed4f7",
   "metadata": {},
   "outputs": [],
   "source": [
    "df = pd.read_csv(\"https://gist.githubusercontent.com/yifancui/e1d5ce0ba59ba0c275c0e2efed542a37/raw/dde7dbca24429542ff78964b83aaf064142dd771/data.csv\")"
   ]
  },
  {
   "cell_type": "code",
   "execution_count": 60,
   "id": "e8d63431",
   "metadata": {
    "scrolled": true
   },
   "outputs": [
    {
     "data": {
      "text/html": [
       "<div>\n",
       "<style scoped>\n",
       "    .dataframe tbody tr th:only-of-type {\n",
       "        vertical-align: middle;\n",
       "    }\n",
       "\n",
       "    .dataframe tbody tr th {\n",
       "        vertical-align: top;\n",
       "    }\n",
       "\n",
       "    .dataframe thead th {\n",
       "        text-align: right;\n",
       "    }\n",
       "</style>\n",
       "<table border=\"1\" class=\"dataframe\">\n",
       "  <thead>\n",
       "    <tr style=\"text-align: right;\">\n",
       "      <th></th>\n",
       "      <th>Id number</th>\n",
       "      <th>RI</th>\n",
       "      <th>Na</th>\n",
       "      <th>Mg</th>\n",
       "      <th>Al</th>\n",
       "      <th>Si</th>\n",
       "      <th>K</th>\n",
       "      <th>Ca</th>\n",
       "      <th>Ba</th>\n",
       "      <th>Fe</th>\n",
       "      <th>Type of glass</th>\n",
       "    </tr>\n",
       "  </thead>\n",
       "  <tbody>\n",
       "    <tr>\n",
       "      <th>0</th>\n",
       "      <td>1</td>\n",
       "      <td>1.52101</td>\n",
       "      <td>13.64</td>\n",
       "      <td>4.49</td>\n",
       "      <td>1.10</td>\n",
       "      <td>71.78</td>\n",
       "      <td>0.06</td>\n",
       "      <td>8.75</td>\n",
       "      <td>0.0</td>\n",
       "      <td>0.0</td>\n",
       "      <td>1</td>\n",
       "    </tr>\n",
       "    <tr>\n",
       "      <th>1</th>\n",
       "      <td>2</td>\n",
       "      <td>1.51761</td>\n",
       "      <td>13.89</td>\n",
       "      <td>3.60</td>\n",
       "      <td>1.36</td>\n",
       "      <td>72.73</td>\n",
       "      <td>0.48</td>\n",
       "      <td>7.83</td>\n",
       "      <td>0.0</td>\n",
       "      <td>0.0</td>\n",
       "      <td>1</td>\n",
       "    </tr>\n",
       "    <tr>\n",
       "      <th>2</th>\n",
       "      <td>3</td>\n",
       "      <td>1.51618</td>\n",
       "      <td>13.53</td>\n",
       "      <td>3.55</td>\n",
       "      <td>1.54</td>\n",
       "      <td>72.99</td>\n",
       "      <td>0.39</td>\n",
       "      <td>7.78</td>\n",
       "      <td>0.0</td>\n",
       "      <td>0.0</td>\n",
       "      <td>1</td>\n",
       "    </tr>\n",
       "    <tr>\n",
       "      <th>3</th>\n",
       "      <td>4</td>\n",
       "      <td>1.51766</td>\n",
       "      <td>13.21</td>\n",
       "      <td>3.69</td>\n",
       "      <td>1.29</td>\n",
       "      <td>72.61</td>\n",
       "      <td>0.57</td>\n",
       "      <td>8.22</td>\n",
       "      <td>0.0</td>\n",
       "      <td>0.0</td>\n",
       "      <td>1</td>\n",
       "    </tr>\n",
       "    <tr>\n",
       "      <th>4</th>\n",
       "      <td>5</td>\n",
       "      <td>1.51742</td>\n",
       "      <td>13.27</td>\n",
       "      <td>3.62</td>\n",
       "      <td>1.24</td>\n",
       "      <td>73.08</td>\n",
       "      <td>0.55</td>\n",
       "      <td>8.07</td>\n",
       "      <td>0.0</td>\n",
       "      <td>0.0</td>\n",
       "      <td>1</td>\n",
       "    </tr>\n",
       "  </tbody>\n",
       "</table>\n",
       "</div>"
      ],
      "text/plain": [
       "   Id number       RI     Na    Mg    Al     Si     K    Ca   Ba   Fe  \\\n",
       "0          1  1.52101  13.64  4.49  1.10  71.78  0.06  8.75  0.0  0.0   \n",
       "1          2  1.51761  13.89  3.60  1.36  72.73  0.48  7.83  0.0  0.0   \n",
       "2          3  1.51618  13.53  3.55  1.54  72.99  0.39  7.78  0.0  0.0   \n",
       "3          4  1.51766  13.21  3.69  1.29  72.61  0.57  8.22  0.0  0.0   \n",
       "4          5  1.51742  13.27  3.62  1.24  73.08  0.55  8.07  0.0  0.0   \n",
       "\n",
       "   Type of glass  \n",
       "0              1  \n",
       "1              1  \n",
       "2              1  \n",
       "3              1  \n",
       "4              1  "
      ]
     },
     "execution_count": 60,
     "metadata": {},
     "output_type": "execute_result"
    }
   ],
   "source": [
    "df.head()"
   ]
  },
  {
   "cell_type": "code",
   "execution_count": 63,
   "id": "af8f49c0",
   "metadata": {},
   "outputs": [],
   "source": [
    "df = df.drop(['Id number','Type of glass'],axis=1)"
   ]
  },
  {
   "cell_type": "code",
   "execution_count": 72,
   "id": "0efb1d12",
   "metadata": {},
   "outputs": [],
   "source": [
    "scaled_df = pd.DataFrame(scaler.fit_transform(df),columns=df.columns)"
   ]
  },
  {
   "cell_type": "code",
   "execution_count": 76,
   "id": "68e4732b",
   "metadata": {},
   "outputs": [],
   "source": [
    "pc_df=pd.DataFrame(pca.fit_transform(scaled_df))"
   ]
  },
  {
   "cell_type": "code",
   "execution_count": 77,
   "id": "aa97d697",
   "metadata": {},
   "outputs": [
    {
     "data": {
      "text/html": [
       "<div>\n",
       "<style scoped>\n",
       "    .dataframe tbody tr th:only-of-type {\n",
       "        vertical-align: middle;\n",
       "    }\n",
       "\n",
       "    .dataframe tbody tr th {\n",
       "        vertical-align: top;\n",
       "    }\n",
       "\n",
       "    .dataframe thead th {\n",
       "        text-align: right;\n",
       "    }\n",
       "</style>\n",
       "<table border=\"1\" class=\"dataframe\">\n",
       "  <thead>\n",
       "    <tr style=\"text-align: right;\">\n",
       "      <th></th>\n",
       "      <th>0</th>\n",
       "      <th>1</th>\n",
       "      <th>2</th>\n",
       "      <th>3</th>\n",
       "      <th>4</th>\n",
       "      <th>5</th>\n",
       "      <th>6</th>\n",
       "      <th>7</th>\n",
       "      <th>8</th>\n",
       "    </tr>\n",
       "  </thead>\n",
       "  <tbody>\n",
       "    <tr>\n",
       "      <th>0</th>\n",
       "      <td>1.151140</td>\n",
       "      <td>-0.529488</td>\n",
       "      <td>-0.372096</td>\n",
       "      <td>1.728901</td>\n",
       "      <td>-0.251936</td>\n",
       "      <td>0.340210</td>\n",
       "      <td>-0.395600</td>\n",
       "      <td>-0.197160</td>\n",
       "      <td>0.016346</td>\n",
       "    </tr>\n",
       "    <tr>\n",
       "      <th>1</th>\n",
       "      <td>-0.574137</td>\n",
       "      <td>-0.759788</td>\n",
       "      <td>-0.556708</td>\n",
       "      <td>0.760232</td>\n",
       "      <td>-0.257071</td>\n",
       "      <td>-0.115960</td>\n",
       "      <td>-0.024158</td>\n",
       "      <td>-0.284214</td>\n",
       "      <td>-0.010790</td>\n",
       "    </tr>\n",
       "    <tr>\n",
       "      <th>2</th>\n",
       "      <td>-0.940160</td>\n",
       "      <td>-0.929836</td>\n",
       "      <td>-0.554907</td>\n",
       "      <td>0.206254</td>\n",
       "      <td>-0.237506</td>\n",
       "      <td>0.126630</td>\n",
       "      <td>-0.367518</td>\n",
       "      <td>-0.095941</td>\n",
       "      <td>0.021640</td>\n",
       "    </tr>\n",
       "    <tr>\n",
       "      <th>3</th>\n",
       "      <td>-0.142083</td>\n",
       "      <td>-0.961677</td>\n",
       "      <td>-0.117125</td>\n",
       "      <td>0.415724</td>\n",
       "      <td>-0.476299</td>\n",
       "      <td>0.285805</td>\n",
       "      <td>-0.052497</td>\n",
       "      <td>-0.002959</td>\n",
       "      <td>0.092035</td>\n",
       "    </tr>\n",
       "    <tr>\n",
       "      <th>4</th>\n",
       "      <td>-0.351092</td>\n",
       "      <td>-1.091249</td>\n",
       "      <td>-0.485079</td>\n",
       "      <td>0.069102</td>\n",
       "      <td>-0.432090</td>\n",
       "      <td>0.298032</td>\n",
       "      <td>0.158570</td>\n",
       "      <td>-0.191316</td>\n",
       "      <td>0.002315</td>\n",
       "    </tr>\n",
       "    <tr>\n",
       "      <th>...</th>\n",
       "      <td>...</td>\n",
       "      <td>...</td>\n",
       "      <td>...</td>\n",
       "      <td>...</td>\n",
       "      <td>...</td>\n",
       "      <td>...</td>\n",
       "      <td>...</td>\n",
       "      <td>...</td>\n",
       "      <td>...</td>\n",
       "    </tr>\n",
       "    <tr>\n",
       "      <th>209</th>\n",
       "      <td>-2.383835</td>\n",
       "      <td>3.061677</td>\n",
       "      <td>0.090445</td>\n",
       "      <td>-0.376611</td>\n",
       "      <td>0.103227</td>\n",
       "      <td>0.231162</td>\n",
       "      <td>-1.320186</td>\n",
       "      <td>0.189401</td>\n",
       "      <td>-0.028657</td>\n",
       "    </tr>\n",
       "    <tr>\n",
       "      <th>210</th>\n",
       "      <td>-2.397652</td>\n",
       "      <td>3.108236</td>\n",
       "      <td>-1.117502</td>\n",
       "      <td>0.288454</td>\n",
       "      <td>0.624723</td>\n",
       "      <td>0.618056</td>\n",
       "      <td>0.582361</td>\n",
       "      <td>0.131651</td>\n",
       "      <td>-0.013663</td>\n",
       "    </tr>\n",
       "    <tr>\n",
       "      <th>211</th>\n",
       "      <td>-1.680246</td>\n",
       "      <td>3.284823</td>\n",
       "      <td>-0.930349</td>\n",
       "      <td>-0.171014</td>\n",
       "      <td>0.451687</td>\n",
       "      <td>1.247320</td>\n",
       "      <td>0.674122</td>\n",
       "      <td>-0.891710</td>\n",
       "      <td>0.046284</td>\n",
       "    </tr>\n",
       "    <tr>\n",
       "      <th>212</th>\n",
       "      <td>-2.369748</td>\n",
       "      <td>2.756873</td>\n",
       "      <td>-1.234701</td>\n",
       "      <td>-0.525285</td>\n",
       "      <td>0.515008</td>\n",
       "      <td>1.003352</td>\n",
       "      <td>0.678899</td>\n",
       "      <td>0.074460</td>\n",
       "      <td>-0.027301</td>\n",
       "    </tr>\n",
       "    <tr>\n",
       "      <th>213</th>\n",
       "      <td>-2.262649</td>\n",
       "      <td>3.028592</td>\n",
       "      <td>-0.890845</td>\n",
       "      <td>-0.414491</td>\n",
       "      <td>0.505474</td>\n",
       "      <td>1.213617</td>\n",
       "      <td>0.462461</td>\n",
       "      <td>0.063315</td>\n",
       "      <td>-0.019450</td>\n",
       "    </tr>\n",
       "  </tbody>\n",
       "</table>\n",
       "<p>214 rows × 9 columns</p>\n",
       "</div>"
      ],
      "text/plain": [
       "            0         1         2         3         4         5         6  \\\n",
       "0    1.151140 -0.529488 -0.372096  1.728901 -0.251936  0.340210 -0.395600   \n",
       "1   -0.574137 -0.759788 -0.556708  0.760232 -0.257071 -0.115960 -0.024158   \n",
       "2   -0.940160 -0.929836 -0.554907  0.206254 -0.237506  0.126630 -0.367518   \n",
       "3   -0.142083 -0.961677 -0.117125  0.415724 -0.476299  0.285805 -0.052497   \n",
       "4   -0.351092 -1.091249 -0.485079  0.069102 -0.432090  0.298032  0.158570   \n",
       "..        ...       ...       ...       ...       ...       ...       ...   \n",
       "209 -2.383835  3.061677  0.090445 -0.376611  0.103227  0.231162 -1.320186   \n",
       "210 -2.397652  3.108236 -1.117502  0.288454  0.624723  0.618056  0.582361   \n",
       "211 -1.680246  3.284823 -0.930349 -0.171014  0.451687  1.247320  0.674122   \n",
       "212 -2.369748  2.756873 -1.234701 -0.525285  0.515008  1.003352  0.678899   \n",
       "213 -2.262649  3.028592 -0.890845 -0.414491  0.505474  1.213617  0.462461   \n",
       "\n",
       "            7         8  \n",
       "0   -0.197160  0.016346  \n",
       "1   -0.284214 -0.010790  \n",
       "2   -0.095941  0.021640  \n",
       "3   -0.002959  0.092035  \n",
       "4   -0.191316  0.002315  \n",
       "..        ...       ...  \n",
       "209  0.189401 -0.028657  \n",
       "210  0.131651 -0.013663  \n",
       "211 -0.891710  0.046284  \n",
       "212  0.074460 -0.027301  \n",
       "213  0.063315 -0.019450  \n",
       "\n",
       "[214 rows x 9 columns]"
      ]
     },
     "execution_count": 77,
     "metadata": {},
     "output_type": "execute_result"
    }
   ],
   "source": [
    "pd.DataFrame(pc_df)"
   ]
  },
  {
   "cell_type": "code",
   "execution_count": 79,
   "id": "e7db9fb7",
   "metadata": {},
   "outputs": [],
   "source": [
    "pcs = pca.explained_variance_ratio_"
   ]
  },
  {
   "cell_type": "code",
   "execution_count": 78,
   "id": "2e116bf8",
   "metadata": {},
   "outputs": [
    {
     "data": {
      "text/html": [
       "<div>\n",
       "<style scoped>\n",
       "    .dataframe tbody tr th:only-of-type {\n",
       "        vertical-align: middle;\n",
       "    }\n",
       "\n",
       "    .dataframe tbody tr th {\n",
       "        vertical-align: top;\n",
       "    }\n",
       "\n",
       "    .dataframe thead th {\n",
       "        text-align: right;\n",
       "    }\n",
       "</style>\n",
       "<table border=\"1\" class=\"dataframe\">\n",
       "  <thead>\n",
       "    <tr style=\"text-align: right;\">\n",
       "      <th></th>\n",
       "      <th>0</th>\n",
       "    </tr>\n",
       "  </thead>\n",
       "  <tbody>\n",
       "    <tr>\n",
       "      <th>0</th>\n",
       "      <td>0.279018</td>\n",
       "    </tr>\n",
       "    <tr>\n",
       "      <th>1</th>\n",
       "      <td>0.227786</td>\n",
       "    </tr>\n",
       "    <tr>\n",
       "      <th>2</th>\n",
       "      <td>0.156094</td>\n",
       "    </tr>\n",
       "    <tr>\n",
       "      <th>3</th>\n",
       "      <td>0.128651</td>\n",
       "    </tr>\n",
       "    <tr>\n",
       "      <th>4</th>\n",
       "      <td>0.101556</td>\n",
       "    </tr>\n",
       "    <tr>\n",
       "      <th>5</th>\n",
       "      <td>0.058626</td>\n",
       "    </tr>\n",
       "    <tr>\n",
       "      <th>6</th>\n",
       "      <td>0.040995</td>\n",
       "    </tr>\n",
       "    <tr>\n",
       "      <th>7</th>\n",
       "      <td>0.007095</td>\n",
       "    </tr>\n",
       "    <tr>\n",
       "      <th>8</th>\n",
       "      <td>0.000179</td>\n",
       "    </tr>\n",
       "  </tbody>\n",
       "</table>\n",
       "</div>"
      ],
      "text/plain": [
       "          0\n",
       "0  0.279018\n",
       "1  0.227786\n",
       "2  0.156094\n",
       "3  0.128651\n",
       "4  0.101556\n",
       "5  0.058626\n",
       "6  0.040995\n",
       "7  0.007095\n",
       "8  0.000179"
      ]
     },
     "execution_count": 78,
     "metadata": {},
     "output_type": "execute_result"
    }
   ],
   "source": [
    "pd.DataFrame(pca.explained_variance_ratio_)"
   ]
  },
  {
   "cell_type": "code",
   "execution_count": 84,
   "id": "c7a0d46e",
   "metadata": {},
   "outputs": [
    {
     "data": {
      "text/plain": [
       "0.951731087898719"
      ]
     },
     "execution_count": 84,
     "metadata": {},
     "output_type": "execute_result"
    }
   ],
   "source": [
    "sum(sorted(pcs,reverse=True)[:6])"
   ]
  },
  {
   "cell_type": "code",
   "execution_count": 90,
   "id": "de17384f",
   "metadata": {},
   "outputs": [
    {
     "name": "stdout",
     "output_type": "stream",
     "text": [
      "0 0\n",
      "27.90181917945641 1\n",
      "50.68039901112667 2\n",
      "66.2897767220671 3\n",
      "79.15491501404738 4\n",
      "89.31049553766317 5\n",
      "95.173108789872 6\n",
      "99.27264704892754 7\n",
      "99.9821242464097 8\n",
      "99.99999999999996 9\n"
     ]
    }
   ],
   "source": [
    "for i in range(len(pcs)+1):\n",
    "    print(sum(sorted(pcs,reverse=True)[:i]*100),i)"
   ]
  },
  {
   "cell_type": "markdown",
   "id": "82ef8940",
   "metadata": {},
   "source": [
    "higest variance in only :6 !"
   ]
  },
  {
   "cell_type": "code",
   "execution_count": 89,
   "id": "c6a1dad3",
   "metadata": {},
   "outputs": [
    {
     "data": {
      "image/png": "[encoded data removed]",
      "text/plain": [
       "<Figure size 432x288 with 1 Axes>"
      ]
     },
     "metadata": {
      "needs_background": "light"
     },
     "output_type": "display_data"
    }
   ],
   "source": [
    "plt.plot(np.cumsum(pcs))\n",
    "plt.show()"
   ]
  },
  {
   "cell_type": "code",
   "execution_count": 93,
   "id": "ffd9cd3f",
   "metadata": {},
   "outputs": [
    {
     "data": {
      "text/html": [
       "<div>\n",
       "<style scoped>\n",
       "    .dataframe tbody tr th:only-of-type {\n",
       "        vertical-align: middle;\n",
       "    }\n",
       "\n",
       "    .dataframe tbody tr th {\n",
       "        vertical-align: top;\n",
       "    }\n",
       "\n",
       "    .dataframe thead th {\n",
       "        text-align: right;\n",
       "    }\n",
       "</style>\n",
       "<table border=\"1\" class=\"dataframe\">\n",
       "  <thead>\n",
       "    <tr style=\"text-align: right;\">\n",
       "      <th></th>\n",
       "      <th>0</th>\n",
       "      <th>1</th>\n",
       "      <th>2</th>\n",
       "      <th>3</th>\n",
       "      <th>4</th>\n",
       "      <th>5</th>\n",
       "    </tr>\n",
       "  </thead>\n",
       "  <tbody>\n",
       "    <tr>\n",
       "      <th>0</th>\n",
       "      <td>1.151140</td>\n",
       "      <td>-0.529488</td>\n",
       "      <td>-0.372096</td>\n",
       "      <td>1.728901</td>\n",
       "      <td>-0.251936</td>\n",
       "      <td>0.340210</td>\n",
       "    </tr>\n",
       "    <tr>\n",
       "      <th>1</th>\n",
       "      <td>-0.574137</td>\n",
       "      <td>-0.759788</td>\n",
       "      <td>-0.556708</td>\n",
       "      <td>0.760232</td>\n",
       "      <td>-0.257071</td>\n",
       "      <td>-0.115960</td>\n",
       "    </tr>\n",
       "    <tr>\n",
       "      <th>2</th>\n",
       "      <td>-0.940160</td>\n",
       "      <td>-0.929836</td>\n",
       "      <td>-0.554907</td>\n",
       "      <td>0.206254</td>\n",
       "      <td>-0.237506</td>\n",
       "      <td>0.126630</td>\n",
       "    </tr>\n",
       "    <tr>\n",
       "      <th>3</th>\n",
       "      <td>-0.142083</td>\n",
       "      <td>-0.961677</td>\n",
       "      <td>-0.117125</td>\n",
       "      <td>0.415724</td>\n",
       "      <td>-0.476299</td>\n",
       "      <td>0.285805</td>\n",
       "    </tr>\n",
       "    <tr>\n",
       "      <th>4</th>\n",
       "      <td>-0.351092</td>\n",
       "      <td>-1.091249</td>\n",
       "      <td>-0.485079</td>\n",
       "      <td>0.069102</td>\n",
       "      <td>-0.432090</td>\n",
       "      <td>0.298032</td>\n",
       "    </tr>\n",
       "    <tr>\n",
       "      <th>...</th>\n",
       "      <td>...</td>\n",
       "      <td>...</td>\n",
       "      <td>...</td>\n",
       "      <td>...</td>\n",
       "      <td>...</td>\n",
       "      <td>...</td>\n",
       "    </tr>\n",
       "    <tr>\n",
       "      <th>209</th>\n",
       "      <td>-2.383835</td>\n",
       "      <td>3.061677</td>\n",
       "      <td>0.090445</td>\n",
       "      <td>-0.376611</td>\n",
       "      <td>0.103227</td>\n",
       "      <td>0.231162</td>\n",
       "    </tr>\n",
       "    <tr>\n",
       "      <th>210</th>\n",
       "      <td>-2.397652</td>\n",
       "      <td>3.108236</td>\n",
       "      <td>-1.117502</td>\n",
       "      <td>0.288454</td>\n",
       "      <td>0.624723</td>\n",
       "      <td>0.618056</td>\n",
       "    </tr>\n",
       "    <tr>\n",
       "      <th>211</th>\n",
       "      <td>-1.680246</td>\n",
       "      <td>3.284823</td>\n",
       "      <td>-0.930349</td>\n",
       "      <td>-0.171014</td>\n",
       "      <td>0.451687</td>\n",
       "      <td>1.247320</td>\n",
       "    </tr>\n",
       "    <tr>\n",
       "      <th>212</th>\n",
       "      <td>-2.369748</td>\n",
       "      <td>2.756873</td>\n",
       "      <td>-1.234701</td>\n",
       "      <td>-0.525285</td>\n",
       "      <td>0.515008</td>\n",
       "      <td>1.003352</td>\n",
       "    </tr>\n",
       "    <tr>\n",
       "      <th>213</th>\n",
       "      <td>-2.262649</td>\n",
       "      <td>3.028592</td>\n",
       "      <td>-0.890845</td>\n",
       "      <td>-0.414491</td>\n",
       "      <td>0.505474</td>\n",
       "      <td>1.213617</td>\n",
       "    </tr>\n",
       "  </tbody>\n",
       "</table>\n",
       "<p>214 rows × 6 columns</p>\n",
       "</div>"
      ],
      "text/plain": [
       "            0         1         2         3         4         5\n",
       "0    1.151140 -0.529488 -0.372096  1.728901 -0.251936  0.340210\n",
       "1   -0.574137 -0.759788 -0.556708  0.760232 -0.257071 -0.115960\n",
       "2   -0.940160 -0.929836 -0.554907  0.206254 -0.237506  0.126630\n",
       "3   -0.142083 -0.961677 -0.117125  0.415724 -0.476299  0.285805\n",
       "4   -0.351092 -1.091249 -0.485079  0.069102 -0.432090  0.298032\n",
       "..        ...       ...       ...       ...       ...       ...\n",
       "209 -2.383835  3.061677  0.090445 -0.376611  0.103227  0.231162\n",
       "210 -2.397652  3.108236 -1.117502  0.288454  0.624723  0.618056\n",
       "211 -1.680246  3.284823 -0.930349 -0.171014  0.451687  1.247320\n",
       "212 -2.369748  2.756873 -1.234701 -0.525285  0.515008  1.003352\n",
       "213 -2.262649  3.028592 -0.890845 -0.414491  0.505474  1.213617\n",
       "\n",
       "[214 rows x 6 columns]"
      ]
     },
     "execution_count": 93,
     "metadata": {},
     "output_type": "execute_result"
    }
   ],
   "source": [
    "pca2 = PCA(n_components=6)\n",
    "pca2_df = pd.DataFrame(pca2.fit_transform(scaled_df))\n",
    "pca2_df"
   ]
  },
  {
   "cell_type": "code",
   "execution_count": 96,
   "id": "c3badf9e",
   "metadata": {},
   "outputs": [
    {
     "data": {
      "text/html": [
       "<div>\n",
       "<style scoped>\n",
       "    .dataframe tbody tr th:only-of-type {\n",
       "        vertical-align: middle;\n",
       "    }\n",
       "\n",
       "    .dataframe tbody tr th {\n",
       "        vertical-align: top;\n",
       "    }\n",
       "\n",
       "    .dataframe thead th {\n",
       "        text-align: right;\n",
       "    }\n",
       "</style>\n",
       "<table border=\"1\" class=\"dataframe\">\n",
       "  <thead>\n",
       "    <tr style=\"text-align: right;\">\n",
       "      <th></th>\n",
       "      <th>0</th>\n",
       "      <th>1</th>\n",
       "      <th>2</th>\n",
       "      <th>3</th>\n",
       "      <th>4</th>\n",
       "      <th>5</th>\n",
       "      <th>6</th>\n",
       "      <th>7</th>\n",
       "      <th>8</th>\n",
       "    </tr>\n",
       "  </thead>\n",
       "  <tbody>\n",
       "    <tr>\n",
       "      <th>0</th>\n",
       "      <td>0.756527</td>\n",
       "      <td>0.323655</td>\n",
       "      <td>1.167404</td>\n",
       "      <td>-1.020026</td>\n",
       "      <td>-1.111639</td>\n",
       "      <td>-0.489667</td>\n",
       "      <td>-0.096905</td>\n",
       "      <td>-0.181896</td>\n",
       "      <td>-0.560255</td>\n",
       "    </tr>\n",
       "    <tr>\n",
       "      <th>1</th>\n",
       "      <td>-0.460868</td>\n",
       "      <td>0.555749</td>\n",
       "      <td>0.603108</td>\n",
       "      <td>-0.267426</td>\n",
       "      <td>-0.003657</td>\n",
       "      <td>-0.048056</td>\n",
       "      <td>-0.689062</td>\n",
       "      <td>-0.305326</td>\n",
       "      <td>-0.589453</td>\n",
       "    </tr>\n",
       "    <tr>\n",
       "      <th>2</th>\n",
       "      <td>-0.763955</td>\n",
       "      <td>0.199038</td>\n",
       "      <td>0.530813</td>\n",
       "      <td>-0.088240</td>\n",
       "      <td>0.488195</td>\n",
       "      <td>0.015843</td>\n",
       "      <td>-0.814594</td>\n",
       "      <td>-0.205396</td>\n",
       "      <td>-0.560601</td>\n",
       "    </tr>\n",
       "    <tr>\n",
       "      <th>3</th>\n",
       "      <td>-0.233127</td>\n",
       "      <td>-0.206721</td>\n",
       "      <td>0.740795</td>\n",
       "      <td>-0.330822</td>\n",
       "      <td>-0.015322</td>\n",
       "      <td>0.162222</td>\n",
       "      <td>-0.469758</td>\n",
       "      <td>-0.315736</td>\n",
       "      <td>-0.581279</td>\n",
       "    </tr>\n",
       "    <tr>\n",
       "      <th>4</th>\n",
       "      <td>-0.468997</td>\n",
       "      <td>-0.216473</td>\n",
       "      <td>0.669365</td>\n",
       "      <td>-0.352557</td>\n",
       "      <td>0.448999</td>\n",
       "      <td>-0.018975</td>\n",
       "      <td>-0.531360</td>\n",
       "      <td>-0.380472</td>\n",
       "      <td>-0.601220</td>\n",
       "    </tr>\n",
       "    <tr>\n",
       "      <th>...</th>\n",
       "      <td>...</td>\n",
       "      <td>...</td>\n",
       "      <td>...</td>\n",
       "      <td>...</td>\n",
       "      <td>...</td>\n",
       "      <td>...</td>\n",
       "      <td>...</td>\n",
       "      <td>...</td>\n",
       "      <td>...</td>\n",
       "    </tr>\n",
       "    <tr>\n",
       "      <th>209</th>\n",
       "      <td>-0.453527</td>\n",
       "      <td>1.110080</td>\n",
       "      <td>-2.139509</td>\n",
       "      <td>2.004474</td>\n",
       "      <td>0.295690</td>\n",
       "      <td>0.037899</td>\n",
       "      <td>-0.065905</td>\n",
       "      <td>2.215265</td>\n",
       "      <td>-0.486464</td>\n",
       "    </tr>\n",
       "    <tr>\n",
       "      <th>210</th>\n",
       "      <td>-0.448473</td>\n",
       "      <td>1.782118</td>\n",
       "      <td>-1.743282</td>\n",
       "      <td>1.535053</td>\n",
       "      <td>0.449490</td>\n",
       "      <td>-1.046602</td>\n",
       "      <td>-0.394949</td>\n",
       "      <td>2.625752</td>\n",
       "      <td>-0.627442</td>\n",
       "    </tr>\n",
       "    <tr>\n",
       "      <th>211</th>\n",
       "      <td>0.026909</td>\n",
       "      <td>0.969133</td>\n",
       "      <td>-1.768457</td>\n",
       "      <td>1.390116</td>\n",
       "      <td>0.524612</td>\n",
       "      <td>-1.189621</td>\n",
       "      <td>0.085068</td>\n",
       "      <td>2.854468</td>\n",
       "      <td>-0.649979</td>\n",
       "    </tr>\n",
       "    <tr>\n",
       "      <th>212</th>\n",
       "      <td>-0.611266</td>\n",
       "      <td>1.093392</td>\n",
       "      <td>-1.735661</td>\n",
       "      <td>1.483858</td>\n",
       "      <td>1.114597</td>\n",
       "      <td>-1.105102</td>\n",
       "      <td>-0.314132</td>\n",
       "      <td>2.557059</td>\n",
       "      <td>-0.635689</td>\n",
       "    </tr>\n",
       "    <tr>\n",
       "      <th>213</th>\n",
       "      <td>-0.404096</td>\n",
       "      <td>0.942457</td>\n",
       "      <td>-1.776582</td>\n",
       "      <td>1.612034</td>\n",
       "      <td>0.835941</td>\n",
       "      <td>-0.995169</td>\n",
       "      <td>-0.227993</td>\n",
       "      <td>2.837960</td>\n",
       "      <td>-0.619799</td>\n",
       "    </tr>\n",
       "  </tbody>\n",
       "</table>\n",
       "<p>214 rows × 9 columns</p>\n",
       "</div>"
      ],
      "text/plain": [
       "            0         1         2         3         4         5         6  \\\n",
       "0    0.756527  0.323655  1.167404 -1.020026 -1.111639 -0.489667 -0.096905   \n",
       "1   -0.460868  0.555749  0.603108 -0.267426 -0.003657 -0.048056 -0.689062   \n",
       "2   -0.763955  0.199038  0.530813 -0.088240  0.488195  0.015843 -0.814594   \n",
       "3   -0.233127 -0.206721  0.740795 -0.330822 -0.015322  0.162222 -0.469758   \n",
       "4   -0.468997 -0.216473  0.669365 -0.352557  0.448999 -0.018975 -0.531360   \n",
       "..        ...       ...       ...       ...       ...       ...       ...   \n",
       "209 -0.453527  1.110080 -2.139509  2.004474  0.295690  0.037899 -0.065905   \n",
       "210 -0.448473  1.782118 -1.743282  1.535053  0.449490 -1.046602 -0.394949   \n",
       "211  0.026909  0.969133 -1.768457  1.390116  0.524612 -1.189621  0.085068   \n",
       "212 -0.611266  1.093392 -1.735661  1.483858  1.114597 -1.105102 -0.314132   \n",
       "213 -0.404096  0.942457 -1.776582  1.612034  0.835941 -0.995169 -0.227993   \n",
       "\n",
       "            7         8  \n",
       "0   -0.181896 -0.560255  \n",
       "1   -0.305326 -0.589453  \n",
       "2   -0.205396 -0.560601  \n",
       "3   -0.315736 -0.581279  \n",
       "4   -0.380472 -0.601220  \n",
       "..        ...       ...  \n",
       "209  2.215265 -0.486464  \n",
       "210  2.625752 -0.627442  \n",
       "211  2.854468 -0.649979  \n",
       "212  2.557059 -0.635689  \n",
       "213  2.837960 -0.619799  \n",
       "\n",
       "[214 rows x 9 columns]"
      ]
     },
     "execution_count": 96,
     "metadata": {},
     "output_type": "execute_result"
    }
   ],
   "source": [
    "pd.DataFrame(pca2.inverse_transform(pca2_df))"
   ]
  },
  {
   "cell_type": "code",
   "execution_count": null,
   "id": "591e0bb8",
   "metadata": {},
   "outputs": [],
   "source": []
  }
 ],
 "metadata": {
  "kernelspec": {
   "display_name": "Python 3 (ipykernel)",
   "language": "python",
   "name": "python3"
  },
  "language_info": {
   "codemirror_mode": {
    "name": "ipython",
    "version": 3
   },
   "file_extension": ".py",
   "mimetype": "text/x-python",
   "name": "python",
   "nbconvert_exporter": "python",
   "pygments_lexer": "ipython3",
   "version": "3.9.12"
  }
 },
 "nbformat": 4,
 "nbformat_minor": 5
}
