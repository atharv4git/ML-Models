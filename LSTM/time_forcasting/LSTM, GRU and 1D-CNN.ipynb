{
 "cells": [
  {
   "cell_type": "code",
   "execution_count": 1,
   "id": "de5c4ebe",
   "metadata": {},
   "outputs": [],
   "source": [
    "import tensorflow as tf\n",
    "import os\n",
    "import pandas as pd\n",
    "import numpy as np"
   ]
  },
  {
   "cell_type": "code",
   "execution_count": 2,
   "id": "15f6e527",
   "metadata": {},
   "outputs": [
    {
     "name": "stdout",
     "output_type": "stream",
     "text": [
      "Downloading data from https://storage.googleapis.com/tensorflow/tf-keras-datasets/jena_climate_2009_2016.csv.zip\n",
      "13568290/13568290 [==============================] - 32s 2us/step\n"
     ]
    }
   ],
   "source": [
    "zip_path = tf.keras.utils.get_file(\n",
    "    origin='https://storage.googleapis.com/tensorflow/tf-keras-datasets/jena_climate_2009_2016.csv.zip',\n",
    "    fname='jena_climate_2009_2016.csv.zip',\n",
    "    extract=True)\n",
    "csv_path, _ = os.path.splitext(zip_path)"
   ]
  },
  {
   "cell_type": "code",
   "execution_count": 3,
   "id": "54489609",
   "metadata": {},
   "outputs": [],
   "source": [
    "df = pd.read_csv(csv_path)"
   ]
  },
  {
   "cell_type": "code",
   "execution_count": 6,
   "id": "2b3aa373",
   "metadata": {},
   "outputs": [
    {
     "data": {
      "text/html": [
       "<div>\n",
       "<style scoped>\n",
       "    .dataframe tbody tr th:only-of-type {\n",
       "        vertical-align: middle;\n",
       "    }\n",
       "\n",
       "    .dataframe tbody tr th {\n",
       "        vertical-align: top;\n",
       "    }\n",
       "\n",
       "    .dataframe thead th {\n",
       "        text-align: right;\n",
       "    }\n",
       "</style>\n",
       "<table border=\"1\" class=\"dataframe\">\n",
       "  <thead>\n",
       "    <tr style=\"text-align: right;\">\n",
       "      <th></th>\n",
       "      <th>Date Time</th>\n",
       "      <th>p (mbar)</th>\n",
       "      <th>T (degC)</th>\n",
       "      <th>Tpot (K)</th>\n",
       "      <th>Tdew (degC)</th>\n",
       "      <th>rh (%)</th>\n",
       "      <th>VPmax (mbar)</th>\n",
       "      <th>VPact (mbar)</th>\n",
       "      <th>VPdef (mbar)</th>\n",
       "      <th>sh (g/kg)</th>\n",
       "      <th>H2OC (mmol/mol)</th>\n",
       "      <th>rho (g/m**3)</th>\n",
       "      <th>wv (m/s)</th>\n",
       "      <th>max. wv (m/s)</th>\n",
       "      <th>wd (deg)</th>\n",
       "    </tr>\n",
       "  </thead>\n",
       "  <tbody>\n",
       "    <tr>\n",
       "      <th>0</th>\n",
       "      <td>01.01.2009 00:10:00</td>\n",
       "      <td>996.52</td>\n",
       "      <td>-8.02</td>\n",
       "      <td>265.40</td>\n",
       "      <td>-8.90</td>\n",
       "      <td>93.3</td>\n",
       "      <td>3.33</td>\n",
       "      <td>3.11</td>\n",
       "      <td>0.22</td>\n",
       "      <td>1.94</td>\n",
       "      <td>3.12</td>\n",
       "      <td>1307.75</td>\n",
       "      <td>1.03</td>\n",
       "      <td>1.75</td>\n",
       "      <td>152.3</td>\n",
       "    </tr>\n",
       "    <tr>\n",
       "      <th>1</th>\n",
       "      <td>01.01.2009 00:20:00</td>\n",
       "      <td>996.57</td>\n",
       "      <td>-8.41</td>\n",
       "      <td>265.01</td>\n",
       "      <td>-9.28</td>\n",
       "      <td>93.4</td>\n",
       "      <td>3.23</td>\n",
       "      <td>3.02</td>\n",
       "      <td>0.21</td>\n",
       "      <td>1.89</td>\n",
       "      <td>3.03</td>\n",
       "      <td>1309.80</td>\n",
       "      <td>0.72</td>\n",
       "      <td>1.50</td>\n",
       "      <td>136.1</td>\n",
       "    </tr>\n",
       "    <tr>\n",
       "      <th>2</th>\n",
       "      <td>01.01.2009 00:30:00</td>\n",
       "      <td>996.53</td>\n",
       "      <td>-8.51</td>\n",
       "      <td>264.91</td>\n",
       "      <td>-9.31</td>\n",
       "      <td>93.9</td>\n",
       "      <td>3.21</td>\n",
       "      <td>3.01</td>\n",
       "      <td>0.20</td>\n",
       "      <td>1.88</td>\n",
       "      <td>3.02</td>\n",
       "      <td>1310.24</td>\n",
       "      <td>0.19</td>\n",
       "      <td>0.63</td>\n",
       "      <td>171.6</td>\n",
       "    </tr>\n",
       "    <tr>\n",
       "      <th>3</th>\n",
       "      <td>01.01.2009 00:40:00</td>\n",
       "      <td>996.51</td>\n",
       "      <td>-8.31</td>\n",
       "      <td>265.12</td>\n",
       "      <td>-9.07</td>\n",
       "      <td>94.2</td>\n",
       "      <td>3.26</td>\n",
       "      <td>3.07</td>\n",
       "      <td>0.19</td>\n",
       "      <td>1.92</td>\n",
       "      <td>3.08</td>\n",
       "      <td>1309.19</td>\n",
       "      <td>0.34</td>\n",
       "      <td>0.50</td>\n",
       "      <td>198.0</td>\n",
       "    </tr>\n",
       "    <tr>\n",
       "      <th>4</th>\n",
       "      <td>01.01.2009 00:50:00</td>\n",
       "      <td>996.51</td>\n",
       "      <td>-8.27</td>\n",
       "      <td>265.15</td>\n",
       "      <td>-9.04</td>\n",
       "      <td>94.1</td>\n",
       "      <td>3.27</td>\n",
       "      <td>3.08</td>\n",
       "      <td>0.19</td>\n",
       "      <td>1.92</td>\n",
       "      <td>3.09</td>\n",
       "      <td>1309.00</td>\n",
       "      <td>0.32</td>\n",
       "      <td>0.63</td>\n",
       "      <td>214.3</td>\n",
       "    </tr>\n",
       "  </tbody>\n",
       "</table>\n",
       "</div>"
      ],
      "text/plain": [
       "             Date Time  p (mbar)  T (degC)  Tpot (K)  Tdew (degC)  rh (%)  \\\n",
       "0  01.01.2009 00:10:00    996.52     -8.02    265.40        -8.90    93.3   \n",
       "1  01.01.2009 00:20:00    996.57     -8.41    265.01        -9.28    93.4   \n",
       "2  01.01.2009 00:30:00    996.53     -8.51    264.91        -9.31    93.9   \n",
       "3  01.01.2009 00:40:00    996.51     -8.31    265.12        -9.07    94.2   \n",
       "4  01.01.2009 00:50:00    996.51     -8.27    265.15        -9.04    94.1   \n",
       "\n",
       "   VPmax (mbar)  VPact (mbar)  VPdef (mbar)  sh (g/kg)  H2OC (mmol/mol)  \\\n",
       "0          3.33          3.11          0.22       1.94             3.12   \n",
       "1          3.23          3.02          0.21       1.89             3.03   \n",
       "2          3.21          3.01          0.20       1.88             3.02   \n",
       "3          3.26          3.07          0.19       1.92             3.08   \n",
       "4          3.27          3.08          0.19       1.92             3.09   \n",
       "\n",
       "   rho (g/m**3)  wv (m/s)  max. wv (m/s)  wd (deg)  \n",
       "0       1307.75      1.03           1.75     152.3  \n",
       "1       1309.80      0.72           1.50     136.1  \n",
       "2       1310.24      0.19           0.63     171.6  \n",
       "3       1309.19      0.34           0.50     198.0  \n",
       "4       1309.00      0.32           0.63     214.3  "
      ]
     },
     "execution_count": 6,
     "metadata": {},
     "output_type": "execute_result"
    }
   ],
   "source": [
    "df.head()"
   ]
  },
  {
   "cell_type": "markdown",
   "id": "0468f0cd",
   "metadata": {},
   "source": [
    "We have this dataset for year 2009 - 2016 and a lil bit of 2017"
   ]
  },
  {
   "cell_type": "code",
   "execution_count": 7,
   "id": "fe1cc8ad",
   "metadata": {},
   "outputs": [
    {
     "name": "stdout",
     "output_type": "stream",
     "text": [
      "<class 'pandas.core.frame.DataFrame'>\n",
      "RangeIndex: 420551 entries, 0 to 420550\n",
      "Data columns (total 15 columns):\n",
      " #   Column           Non-Null Count   Dtype  \n",
      "---  ------           --------------   -----  \n",
      " 0   Date Time        420551 non-null  object \n",
      " 1   p (mbar)         420551 non-null  float64\n",
      " 2   T (degC)         420551 non-null  float64\n",
      " 3   Tpot (K)         420551 non-null  float64\n",
      " 4   Tdew (degC)      420551 non-null  float64\n",
      " 5   rh (%)           420551 non-null  float64\n",
      " 6   VPmax (mbar)     420551 non-null  float64\n",
      " 7   VPact (mbar)     420551 non-null  float64\n",
      " 8   VPdef (mbar)     420551 non-null  float64\n",
      " 9   sh (g/kg)        420551 non-null  float64\n",
      " 10  H2OC (mmol/mol)  420551 non-null  float64\n",
      " 11  rho (g/m**3)     420551 non-null  float64\n",
      " 12  wv (m/s)         420551 non-null  float64\n",
      " 13  max. wv (m/s)    420551 non-null  float64\n",
      " 14  wd (deg)         420551 non-null  float64\n",
      "dtypes: float64(14), object(1)\n",
      "memory usage: 48.1+ MB\n"
     ]
    }
   ],
   "source": [
    "df.info()"
   ]
  },
  {
   "cell_type": "code",
   "execution_count": 8,
   "id": "d3eb105d",
   "metadata": {},
   "outputs": [
    {
     "data": {
      "text/html": [
       "<div>\n",
       "<style scoped>\n",
       "    .dataframe tbody tr th:only-of-type {\n",
       "        vertical-align: middle;\n",
       "    }\n",
       "\n",
       "    .dataframe tbody tr th {\n",
       "        vertical-align: top;\n",
       "    }\n",
       "\n",
       "    .dataframe thead th {\n",
       "        text-align: right;\n",
       "    }\n",
       "</style>\n",
       "<table border=\"1\" class=\"dataframe\">\n",
       "  <thead>\n",
       "    <tr style=\"text-align: right;\">\n",
       "      <th></th>\n",
       "      <th>p (mbar)</th>\n",
       "      <th>T (degC)</th>\n",
       "      <th>Tpot (K)</th>\n",
       "      <th>Tdew (degC)</th>\n",
       "      <th>rh (%)</th>\n",
       "      <th>VPmax (mbar)</th>\n",
       "      <th>VPact (mbar)</th>\n",
       "      <th>VPdef (mbar)</th>\n",
       "      <th>sh (g/kg)</th>\n",
       "      <th>H2OC (mmol/mol)</th>\n",
       "      <th>rho (g/m**3)</th>\n",
       "      <th>wv (m/s)</th>\n",
       "      <th>max. wv (m/s)</th>\n",
       "      <th>wd (deg)</th>\n",
       "    </tr>\n",
       "  </thead>\n",
       "  <tbody>\n",
       "    <tr>\n",
       "      <th>count</th>\n",
       "      <td>420551.000000</td>\n",
       "      <td>420551.000000</td>\n",
       "      <td>420551.000000</td>\n",
       "      <td>420551.000000</td>\n",
       "      <td>420551.000000</td>\n",
       "      <td>420551.000000</td>\n",
       "      <td>420551.000000</td>\n",
       "      <td>420551.000000</td>\n",
       "      <td>420551.000000</td>\n",
       "      <td>420551.000000</td>\n",
       "      <td>420551.000000</td>\n",
       "      <td>420551.000000</td>\n",
       "      <td>420551.000000</td>\n",
       "      <td>420551.000000</td>\n",
       "    </tr>\n",
       "    <tr>\n",
       "      <th>mean</th>\n",
       "      <td>989.212776</td>\n",
       "      <td>9.450147</td>\n",
       "      <td>283.492743</td>\n",
       "      <td>4.955854</td>\n",
       "      <td>76.008259</td>\n",
       "      <td>13.576251</td>\n",
       "      <td>9.533756</td>\n",
       "      <td>4.042412</td>\n",
       "      <td>6.022408</td>\n",
       "      <td>9.640223</td>\n",
       "      <td>1216.062748</td>\n",
       "      <td>1.702224</td>\n",
       "      <td>3.056555</td>\n",
       "      <td>174.743738</td>\n",
       "    </tr>\n",
       "    <tr>\n",
       "      <th>std</th>\n",
       "      <td>8.358481</td>\n",
       "      <td>8.423365</td>\n",
       "      <td>8.504471</td>\n",
       "      <td>6.730674</td>\n",
       "      <td>16.476175</td>\n",
       "      <td>7.739020</td>\n",
       "      <td>4.184164</td>\n",
       "      <td>4.896851</td>\n",
       "      <td>2.656139</td>\n",
       "      <td>4.235395</td>\n",
       "      <td>39.975208</td>\n",
       "      <td>65.446714</td>\n",
       "      <td>69.016932</td>\n",
       "      <td>86.681693</td>\n",
       "    </tr>\n",
       "    <tr>\n",
       "      <th>min</th>\n",
       "      <td>913.600000</td>\n",
       "      <td>-23.010000</td>\n",
       "      <td>250.600000</td>\n",
       "      <td>-25.010000</td>\n",
       "      <td>12.950000</td>\n",
       "      <td>0.950000</td>\n",
       "      <td>0.790000</td>\n",
       "      <td>0.000000</td>\n",
       "      <td>0.500000</td>\n",
       "      <td>0.800000</td>\n",
       "      <td>1059.450000</td>\n",
       "      <td>-9999.000000</td>\n",
       "      <td>-9999.000000</td>\n",
       "      <td>0.000000</td>\n",
       "    </tr>\n",
       "    <tr>\n",
       "      <th>25%</th>\n",
       "      <td>984.200000</td>\n",
       "      <td>3.360000</td>\n",
       "      <td>277.430000</td>\n",
       "      <td>0.240000</td>\n",
       "      <td>65.210000</td>\n",
       "      <td>7.780000</td>\n",
       "      <td>6.210000</td>\n",
       "      <td>0.870000</td>\n",
       "      <td>3.920000</td>\n",
       "      <td>6.290000</td>\n",
       "      <td>1187.490000</td>\n",
       "      <td>0.990000</td>\n",
       "      <td>1.760000</td>\n",
       "      <td>124.900000</td>\n",
       "    </tr>\n",
       "    <tr>\n",
       "      <th>50%</th>\n",
       "      <td>989.580000</td>\n",
       "      <td>9.420000</td>\n",
       "      <td>283.470000</td>\n",
       "      <td>5.220000</td>\n",
       "      <td>79.300000</td>\n",
       "      <td>11.820000</td>\n",
       "      <td>8.860000</td>\n",
       "      <td>2.190000</td>\n",
       "      <td>5.590000</td>\n",
       "      <td>8.960000</td>\n",
       "      <td>1213.790000</td>\n",
       "      <td>1.760000</td>\n",
       "      <td>2.960000</td>\n",
       "      <td>198.100000</td>\n",
       "    </tr>\n",
       "    <tr>\n",
       "      <th>75%</th>\n",
       "      <td>994.720000</td>\n",
       "      <td>15.470000</td>\n",
       "      <td>289.530000</td>\n",
       "      <td>10.070000</td>\n",
       "      <td>89.400000</td>\n",
       "      <td>17.600000</td>\n",
       "      <td>12.350000</td>\n",
       "      <td>5.300000</td>\n",
       "      <td>7.800000</td>\n",
       "      <td>12.490000</td>\n",
       "      <td>1242.770000</td>\n",
       "      <td>2.860000</td>\n",
       "      <td>4.740000</td>\n",
       "      <td>234.100000</td>\n",
       "    </tr>\n",
       "    <tr>\n",
       "      <th>max</th>\n",
       "      <td>1015.350000</td>\n",
       "      <td>37.280000</td>\n",
       "      <td>311.340000</td>\n",
       "      <td>23.110000</td>\n",
       "      <td>100.000000</td>\n",
       "      <td>63.770000</td>\n",
       "      <td>28.320000</td>\n",
       "      <td>46.010000</td>\n",
       "      <td>18.130000</td>\n",
       "      <td>28.820000</td>\n",
       "      <td>1393.540000</td>\n",
       "      <td>28.490000</td>\n",
       "      <td>23.500000</td>\n",
       "      <td>360.000000</td>\n",
       "    </tr>\n",
       "  </tbody>\n",
       "</table>\n",
       "</div>"
      ],
      "text/plain": [
       "            p (mbar)       T (degC)       Tpot (K)    Tdew (degC)  \\\n",
       "count  420551.000000  420551.000000  420551.000000  420551.000000   \n",
       "mean      989.212776       9.450147     283.492743       4.955854   \n",
       "std         8.358481       8.423365       8.504471       6.730674   \n",
       "min       913.600000     -23.010000     250.600000     -25.010000   \n",
       "25%       984.200000       3.360000     277.430000       0.240000   \n",
       "50%       989.580000       9.420000     283.470000       5.220000   \n",
       "75%       994.720000      15.470000     289.530000      10.070000   \n",
       "max      1015.350000      37.280000     311.340000      23.110000   \n",
       "\n",
       "              rh (%)   VPmax (mbar)   VPact (mbar)   VPdef (mbar)  \\\n",
       "count  420551.000000  420551.000000  420551.000000  420551.000000   \n",
       "mean       76.008259      13.576251       9.533756       4.042412   \n",
       "std        16.476175       7.739020       4.184164       4.896851   \n",
       "min        12.950000       0.950000       0.790000       0.000000   \n",
       "25%        65.210000       7.780000       6.210000       0.870000   \n",
       "50%        79.300000      11.820000       8.860000       2.190000   \n",
       "75%        89.400000      17.600000      12.350000       5.300000   \n",
       "max       100.000000      63.770000      28.320000      46.010000   \n",
       "\n",
       "           sh (g/kg)  H2OC (mmol/mol)   rho (g/m**3)       wv (m/s)  \\\n",
       "count  420551.000000    420551.000000  420551.000000  420551.000000   \n",
       "mean        6.022408         9.640223    1216.062748       1.702224   \n",
       "std         2.656139         4.235395      39.975208      65.446714   \n",
       "min         0.500000         0.800000    1059.450000   -9999.000000   \n",
       "25%         3.920000         6.290000    1187.490000       0.990000   \n",
       "50%         5.590000         8.960000    1213.790000       1.760000   \n",
       "75%         7.800000        12.490000    1242.770000       2.860000   \n",
       "max        18.130000        28.820000    1393.540000      28.490000   \n",
       "\n",
       "       max. wv (m/s)       wd (deg)  \n",
       "count  420551.000000  420551.000000  \n",
       "mean        3.056555     174.743738  \n",
       "std        69.016932      86.681693  \n",
       "min     -9999.000000       0.000000  \n",
       "25%         1.760000     124.900000  \n",
       "50%         2.960000     198.100000  \n",
       "75%         4.740000     234.100000  \n",
       "max        23.500000     360.000000  "
      ]
     },
     "execution_count": 8,
     "metadata": {},
     "output_type": "execute_result"
    }
   ],
   "source": [
    "df.describe()"
   ]
  },
  {
   "cell_type": "markdown",
   "id": "41b4d837",
   "metadata": {},
   "source": [
    "Currently we hace this data set in a 10 minute nterval, we will now convert it into a  hour interval dataset"
   ]
  },
  {
   "cell_type": "code",
   "execution_count": 9,
   "id": "de4cf6c3",
   "metadata": {},
   "outputs": [
    {
     "data": {
      "text/html": [
       "<div>\n",
       "<style scoped>\n",
       "    .dataframe tbody tr th:only-of-type {\n",
       "        vertical-align: middle;\n",
       "    }\n",
       "\n",
       "    .dataframe tbody tr th {\n",
       "        vertical-align: top;\n",
       "    }\n",
       "\n",
       "    .dataframe thead th {\n",
       "        text-align: right;\n",
       "    }\n",
       "</style>\n",
       "<table border=\"1\" class=\"dataframe\">\n",
       "  <thead>\n",
       "    <tr style=\"text-align: right;\">\n",
       "      <th></th>\n",
       "      <th>Date Time</th>\n",
       "      <th>p (mbar)</th>\n",
       "      <th>T (degC)</th>\n",
       "      <th>Tpot (K)</th>\n",
       "      <th>Tdew (degC)</th>\n",
       "      <th>rh (%)</th>\n",
       "      <th>VPmax (mbar)</th>\n",
       "      <th>VPact (mbar)</th>\n",
       "      <th>VPdef (mbar)</th>\n",
       "      <th>sh (g/kg)</th>\n",
       "      <th>H2OC (mmol/mol)</th>\n",
       "      <th>rho (g/m**3)</th>\n",
       "      <th>wv (m/s)</th>\n",
       "      <th>max. wv (m/s)</th>\n",
       "      <th>wd (deg)</th>\n",
       "    </tr>\n",
       "  </thead>\n",
       "  <tbody>\n",
       "    <tr>\n",
       "      <th>5</th>\n",
       "      <td>01.01.2009 01:00:00</td>\n",
       "      <td>996.50</td>\n",
       "      <td>-8.05</td>\n",
       "      <td>265.38</td>\n",
       "      <td>-8.78</td>\n",
       "      <td>94.4</td>\n",
       "      <td>3.33</td>\n",
       "      <td>3.14</td>\n",
       "      <td>0.19</td>\n",
       "      <td>1.96</td>\n",
       "      <td>3.15</td>\n",
       "      <td>1307.86</td>\n",
       "      <td>0.21</td>\n",
       "      <td>0.63</td>\n",
       "      <td>192.7</td>\n",
       "    </tr>\n",
       "    <tr>\n",
       "      <th>11</th>\n",
       "      <td>01.01.2009 02:00:00</td>\n",
       "      <td>996.62</td>\n",
       "      <td>-8.88</td>\n",
       "      <td>264.54</td>\n",
       "      <td>-9.77</td>\n",
       "      <td>93.2</td>\n",
       "      <td>3.12</td>\n",
       "      <td>2.90</td>\n",
       "      <td>0.21</td>\n",
       "      <td>1.81</td>\n",
       "      <td>2.91</td>\n",
       "      <td>1312.25</td>\n",
       "      <td>0.25</td>\n",
       "      <td>0.63</td>\n",
       "      <td>190.3</td>\n",
       "    </tr>\n",
       "    <tr>\n",
       "      <th>17</th>\n",
       "      <td>01.01.2009 03:00:00</td>\n",
       "      <td>996.84</td>\n",
       "      <td>-8.81</td>\n",
       "      <td>264.59</td>\n",
       "      <td>-9.66</td>\n",
       "      <td>93.5</td>\n",
       "      <td>3.13</td>\n",
       "      <td>2.93</td>\n",
       "      <td>0.20</td>\n",
       "      <td>1.83</td>\n",
       "      <td>2.94</td>\n",
       "      <td>1312.18</td>\n",
       "      <td>0.18</td>\n",
       "      <td>0.63</td>\n",
       "      <td>167.2</td>\n",
       "    </tr>\n",
       "    <tr>\n",
       "      <th>23</th>\n",
       "      <td>01.01.2009 04:00:00</td>\n",
       "      <td>996.99</td>\n",
       "      <td>-9.05</td>\n",
       "      <td>264.34</td>\n",
       "      <td>-10.02</td>\n",
       "      <td>92.6</td>\n",
       "      <td>3.07</td>\n",
       "      <td>2.85</td>\n",
       "      <td>0.23</td>\n",
       "      <td>1.78</td>\n",
       "      <td>2.85</td>\n",
       "      <td>1313.61</td>\n",
       "      <td>0.10</td>\n",
       "      <td>0.38</td>\n",
       "      <td>240.0</td>\n",
       "    </tr>\n",
       "    <tr>\n",
       "      <th>29</th>\n",
       "      <td>01.01.2009 05:00:00</td>\n",
       "      <td>997.46</td>\n",
       "      <td>-9.63</td>\n",
       "      <td>263.72</td>\n",
       "      <td>-10.65</td>\n",
       "      <td>92.2</td>\n",
       "      <td>2.94</td>\n",
       "      <td>2.71</td>\n",
       "      <td>0.23</td>\n",
       "      <td>1.69</td>\n",
       "      <td>2.71</td>\n",
       "      <td>1317.19</td>\n",
       "      <td>0.40</td>\n",
       "      <td>0.88</td>\n",
       "      <td>157.0</td>\n",
       "    </tr>\n",
       "  </tbody>\n",
       "</table>\n",
       "</div>"
      ],
      "text/plain": [
       "              Date Time  p (mbar)  T (degC)  Tpot (K)  Tdew (degC)  rh (%)  \\\n",
       "5   01.01.2009 01:00:00    996.50     -8.05    265.38        -8.78    94.4   \n",
       "11  01.01.2009 02:00:00    996.62     -8.88    264.54        -9.77    93.2   \n",
       "17  01.01.2009 03:00:00    996.84     -8.81    264.59        -9.66    93.5   \n",
       "23  01.01.2009 04:00:00    996.99     -9.05    264.34       -10.02    92.6   \n",
       "29  01.01.2009 05:00:00    997.46     -9.63    263.72       -10.65    92.2   \n",
       "\n",
       "    VPmax (mbar)  VPact (mbar)  VPdef (mbar)  sh (g/kg)  H2OC (mmol/mol)  \\\n",
       "5           3.33          3.14          0.19       1.96             3.15   \n",
       "11          3.12          2.90          0.21       1.81             2.91   \n",
       "17          3.13          2.93          0.20       1.83             2.94   \n",
       "23          3.07          2.85          0.23       1.78             2.85   \n",
       "29          2.94          2.71          0.23       1.69             2.71   \n",
       "\n",
       "    rho (g/m**3)  wv (m/s)  max. wv (m/s)  wd (deg)  \n",
       "5        1307.86      0.21           0.63     192.7  \n",
       "11       1312.25      0.25           0.63     190.3  \n",
       "17       1312.18      0.18           0.63     167.2  \n",
       "23       1313.61      0.10           0.38     240.0  \n",
       "29       1317.19      0.40           0.88     157.0  "
      ]
     },
     "execution_count": 9,
     "metadata": {},
     "output_type": "execute_result"
    }
   ],
   "source": [
    "df = df[5::6]\n",
    "df.head()"
   ]
  },
  {
   "cell_type": "markdown",
   "id": "ae9518e1",
   "metadata": {},
   "source": [
    "We will turn the index into a date time so its easier for us to do some stuff to this dataset \\\n",
    "`first 26 hours:`"
   ]
  },
  {
   "cell_type": "code",
   "execution_count": 13,
   "id": "cfa2d180",
   "metadata": {},
   "outputs": [
    {
     "data": {
      "text/html": [
       "<div>\n",
       "<style scoped>\n",
       "    .dataframe tbody tr th:only-of-type {\n",
       "        vertical-align: middle;\n",
       "    }\n",
       "\n",
       "    .dataframe tbody tr th {\n",
       "        vertical-align: top;\n",
       "    }\n",
       "\n",
       "    .dataframe thead th {\n",
       "        text-align: right;\n",
       "    }\n",
       "</style>\n",
       "<table border=\"1\" class=\"dataframe\">\n",
       "  <thead>\n",
       "    <tr style=\"text-align: right;\">\n",
       "      <th></th>\n",
       "      <th>Date Time</th>\n",
       "      <th>p (mbar)</th>\n",
       "      <th>T (degC)</th>\n",
       "      <th>Tpot (K)</th>\n",
       "      <th>Tdew (degC)</th>\n",
       "      <th>rh (%)</th>\n",
       "      <th>VPmax (mbar)</th>\n",
       "      <th>VPact (mbar)</th>\n",
       "      <th>VPdef (mbar)</th>\n",
       "      <th>sh (g/kg)</th>\n",
       "      <th>H2OC (mmol/mol)</th>\n",
       "      <th>rho (g/m**3)</th>\n",
       "      <th>wv (m/s)</th>\n",
       "      <th>max. wv (m/s)</th>\n",
       "      <th>wd (deg)</th>\n",
       "    </tr>\n",
       "    <tr>\n",
       "      <th>Date Time</th>\n",
       "      <th></th>\n",
       "      <th></th>\n",
       "      <th></th>\n",
       "      <th></th>\n",
       "      <th></th>\n",
       "      <th></th>\n",
       "      <th></th>\n",
       "      <th></th>\n",
       "      <th></th>\n",
       "      <th></th>\n",
       "      <th></th>\n",
       "      <th></th>\n",
       "      <th></th>\n",
       "      <th></th>\n",
       "      <th></th>\n",
       "    </tr>\n",
       "  </thead>\n",
       "  <tbody>\n",
       "    <tr>\n",
       "      <th>2009-01-01 01:00:00</th>\n",
       "      <td>01.01.2009 01:00:00</td>\n",
       "      <td>996.50</td>\n",
       "      <td>-8.05</td>\n",
       "      <td>265.38</td>\n",
       "      <td>-8.78</td>\n",
       "      <td>94.4</td>\n",
       "      <td>3.33</td>\n",
       "      <td>3.14</td>\n",
       "      <td>0.19</td>\n",
       "      <td>1.96</td>\n",
       "      <td>3.15</td>\n",
       "      <td>1307.86</td>\n",
       "      <td>0.21</td>\n",
       "      <td>0.63</td>\n",
       "      <td>192.7</td>\n",
       "    </tr>\n",
       "    <tr>\n",
       "      <th>2009-01-01 02:00:00</th>\n",
       "      <td>01.01.2009 02:00:00</td>\n",
       "      <td>996.62</td>\n",
       "      <td>-8.88</td>\n",
       "      <td>264.54</td>\n",
       "      <td>-9.77</td>\n",
       "      <td>93.2</td>\n",
       "      <td>3.12</td>\n",
       "      <td>2.90</td>\n",
       "      <td>0.21</td>\n",
       "      <td>1.81</td>\n",
       "      <td>2.91</td>\n",
       "      <td>1312.25</td>\n",
       "      <td>0.25</td>\n",
       "      <td>0.63</td>\n",
       "      <td>190.3</td>\n",
       "    </tr>\n",
       "    <tr>\n",
       "      <th>2009-01-01 03:00:00</th>\n",
       "      <td>01.01.2009 03:00:00</td>\n",
       "      <td>996.84</td>\n",
       "      <td>-8.81</td>\n",
       "      <td>264.59</td>\n",
       "      <td>-9.66</td>\n",
       "      <td>93.5</td>\n",
       "      <td>3.13</td>\n",
       "      <td>2.93</td>\n",
       "      <td>0.20</td>\n",
       "      <td>1.83</td>\n",
       "      <td>2.94</td>\n",
       "      <td>1312.18</td>\n",
       "      <td>0.18</td>\n",
       "      <td>0.63</td>\n",
       "      <td>167.2</td>\n",
       "    </tr>\n",
       "    <tr>\n",
       "      <th>2009-01-01 04:00:00</th>\n",
       "      <td>01.01.2009 04:00:00</td>\n",
       "      <td>996.99</td>\n",
       "      <td>-9.05</td>\n",
       "      <td>264.34</td>\n",
       "      <td>-10.02</td>\n",
       "      <td>92.6</td>\n",
       "      <td>3.07</td>\n",
       "      <td>2.85</td>\n",
       "      <td>0.23</td>\n",
       "      <td>1.78</td>\n",
       "      <td>2.85</td>\n",
       "      <td>1313.61</td>\n",
       "      <td>0.10</td>\n",
       "      <td>0.38</td>\n",
       "      <td>240.0</td>\n",
       "    </tr>\n",
       "    <tr>\n",
       "      <th>2009-01-01 05:00:00</th>\n",
       "      <td>01.01.2009 05:00:00</td>\n",
       "      <td>997.46</td>\n",
       "      <td>-9.63</td>\n",
       "      <td>263.72</td>\n",
       "      <td>-10.65</td>\n",
       "      <td>92.2</td>\n",
       "      <td>2.94</td>\n",
       "      <td>2.71</td>\n",
       "      <td>0.23</td>\n",
       "      <td>1.69</td>\n",
       "      <td>2.71</td>\n",
       "      <td>1317.19</td>\n",
       "      <td>0.40</td>\n",
       "      <td>0.88</td>\n",
       "      <td>157.0</td>\n",
       "    </tr>\n",
       "    <tr>\n",
       "      <th>2009-01-01 06:00:00</th>\n",
       "      <td>01.01.2009 06:00:00</td>\n",
       "      <td>997.71</td>\n",
       "      <td>-9.67</td>\n",
       "      <td>263.66</td>\n",
       "      <td>-10.62</td>\n",
       "      <td>92.7</td>\n",
       "      <td>2.93</td>\n",
       "      <td>2.71</td>\n",
       "      <td>0.21</td>\n",
       "      <td>1.69</td>\n",
       "      <td>2.72</td>\n",
       "      <td>1317.71</td>\n",
       "      <td>0.05</td>\n",
       "      <td>0.50</td>\n",
       "      <td>146.0</td>\n",
       "    </tr>\n",
       "    <tr>\n",
       "      <th>2009-01-01 07:00:00</th>\n",
       "      <td>01.01.2009 07:00:00</td>\n",
       "      <td>998.33</td>\n",
       "      <td>-9.17</td>\n",
       "      <td>264.12</td>\n",
       "      <td>-10.10</td>\n",
       "      <td>92.9</td>\n",
       "      <td>3.04</td>\n",
       "      <td>2.83</td>\n",
       "      <td>0.22</td>\n",
       "      <td>1.76</td>\n",
       "      <td>2.83</td>\n",
       "      <td>1315.98</td>\n",
       "      <td>2.08</td>\n",
       "      <td>2.88</td>\n",
       "      <td>348.8</td>\n",
       "    </tr>\n",
       "    <tr>\n",
       "      <th>2009-01-01 08:00:00</th>\n",
       "      <td>01.01.2009 08:00:00</td>\n",
       "      <td>999.17</td>\n",
       "      <td>-8.10</td>\n",
       "      <td>265.12</td>\n",
       "      <td>-9.05</td>\n",
       "      <td>92.8</td>\n",
       "      <td>3.31</td>\n",
       "      <td>3.07</td>\n",
       "      <td>0.24</td>\n",
       "      <td>1.92</td>\n",
       "      <td>3.08</td>\n",
       "      <td>1311.65</td>\n",
       "      <td>0.72</td>\n",
       "      <td>1.25</td>\n",
       "      <td>213.9</td>\n",
       "    </tr>\n",
       "    <tr>\n",
       "      <th>2009-01-01 09:00:00</th>\n",
       "      <td>01.01.2009 09:00:00</td>\n",
       "      <td>999.69</td>\n",
       "      <td>-7.66</td>\n",
       "      <td>265.52</td>\n",
       "      <td>-8.84</td>\n",
       "      <td>91.2</td>\n",
       "      <td>3.43</td>\n",
       "      <td>3.13</td>\n",
       "      <td>0.30</td>\n",
       "      <td>1.95</td>\n",
       "      <td>3.13</td>\n",
       "      <td>1310.14</td>\n",
       "      <td>0.34</td>\n",
       "      <td>0.63</td>\n",
       "      <td>202.2</td>\n",
       "    </tr>\n",
       "    <tr>\n",
       "      <th>2009-01-01 10:00:00</th>\n",
       "      <td>01.01.2009 10:00:00</td>\n",
       "      <td>1000.27</td>\n",
       "      <td>-7.04</td>\n",
       "      <td>266.10</td>\n",
       "      <td>-8.17</td>\n",
       "      <td>91.6</td>\n",
       "      <td>3.60</td>\n",
       "      <td>3.30</td>\n",
       "      <td>0.30</td>\n",
       "      <td>2.05</td>\n",
       "      <td>3.29</td>\n",
       "      <td>1307.76</td>\n",
       "      <td>1.45</td>\n",
       "      <td>3.00</td>\n",
       "      <td>292.6</td>\n",
       "    </tr>\n",
       "    <tr>\n",
       "      <th>2009-01-01 11:00:00</th>\n",
       "      <td>01.01.2009 11:00:00</td>\n",
       "      <td>1000.87</td>\n",
       "      <td>-7.41</td>\n",
       "      <td>265.68</td>\n",
       "      <td>-8.66</td>\n",
       "      <td>90.7</td>\n",
       "      <td>3.50</td>\n",
       "      <td>3.17</td>\n",
       "      <td>0.33</td>\n",
       "      <td>1.97</td>\n",
       "      <td>3.17</td>\n",
       "      <td>1310.43</td>\n",
       "      <td>1.91</td>\n",
       "      <td>3.38</td>\n",
       "      <td>269.6</td>\n",
       "    </tr>\n",
       "    <tr>\n",
       "      <th>2009-01-01 12:00:00</th>\n",
       "      <td>01.01.2009 12:00:00</td>\n",
       "      <td>1000.30</td>\n",
       "      <td>-6.87</td>\n",
       "      <td>266.27</td>\n",
       "      <td>-8.28</td>\n",
       "      <td>89.6</td>\n",
       "      <td>3.64</td>\n",
       "      <td>3.27</td>\n",
       "      <td>0.38</td>\n",
       "      <td>2.03</td>\n",
       "      <td>3.26</td>\n",
       "      <td>1306.98</td>\n",
       "      <td>1.84</td>\n",
       "      <td>2.63</td>\n",
       "      <td>184.4</td>\n",
       "    </tr>\n",
       "    <tr>\n",
       "      <th>2009-01-01 13:00:00</th>\n",
       "      <td>01.01.2009 13:00:00</td>\n",
       "      <td>1000.03</td>\n",
       "      <td>-5.89</td>\n",
       "      <td>267.27</td>\n",
       "      <td>-7.46</td>\n",
       "      <td>88.6</td>\n",
       "      <td>3.93</td>\n",
       "      <td>3.48</td>\n",
       "      <td>0.45</td>\n",
       "      <td>2.17</td>\n",
       "      <td>3.48</td>\n",
       "      <td>1301.73</td>\n",
       "      <td>0.57</td>\n",
       "      <td>1.25</td>\n",
       "      <td>187.3</td>\n",
       "    </tr>\n",
       "    <tr>\n",
       "      <th>2009-01-01 14:00:00</th>\n",
       "      <td>01.01.2009 14:00:00</td>\n",
       "      <td>999.81</td>\n",
       "      <td>-5.94</td>\n",
       "      <td>267.24</td>\n",
       "      <td>-7.43</td>\n",
       "      <td>89.1</td>\n",
       "      <td>3.92</td>\n",
       "      <td>3.49</td>\n",
       "      <td>0.43</td>\n",
       "      <td>2.17</td>\n",
       "      <td>3.49</td>\n",
       "      <td>1301.67</td>\n",
       "      <td>1.25</td>\n",
       "      <td>2.00</td>\n",
       "      <td>144.0</td>\n",
       "    </tr>\n",
       "    <tr>\n",
       "      <th>2009-01-01 15:00:00</th>\n",
       "      <td>01.01.2009 15:00:00</td>\n",
       "      <td>999.88</td>\n",
       "      <td>-5.69</td>\n",
       "      <td>267.48</td>\n",
       "      <td>-7.00</td>\n",
       "      <td>90.4</td>\n",
       "      <td>3.99</td>\n",
       "      <td>3.61</td>\n",
       "      <td>0.38</td>\n",
       "      <td>2.25</td>\n",
       "      <td>3.61</td>\n",
       "      <td>1300.51</td>\n",
       "      <td>1.17</td>\n",
       "      <td>1.88</td>\n",
       "      <td>134.9</td>\n",
       "    </tr>\n",
       "    <tr>\n",
       "      <th>2009-01-01 16:00:00</th>\n",
       "      <td>01.01.2009 16:00:00</td>\n",
       "      <td>999.94</td>\n",
       "      <td>-5.40</td>\n",
       "      <td>267.76</td>\n",
       "      <td>-6.86</td>\n",
       "      <td>89.4</td>\n",
       "      <td>4.08</td>\n",
       "      <td>3.65</td>\n",
       "      <td>0.43</td>\n",
       "      <td>2.27</td>\n",
       "      <td>3.65</td>\n",
       "      <td>1299.17</td>\n",
       "      <td>1.40</td>\n",
       "      <td>2.13</td>\n",
       "      <td>145.5</td>\n",
       "    </tr>\n",
       "    <tr>\n",
       "      <th>2009-01-01 17:00:00</th>\n",
       "      <td>01.01.2009 17:00:00</td>\n",
       "      <td>1000.17</td>\n",
       "      <td>-5.37</td>\n",
       "      <td>267.78</td>\n",
       "      <td>-6.82</td>\n",
       "      <td>89.4</td>\n",
       "      <td>4.09</td>\n",
       "      <td>3.66</td>\n",
       "      <td>0.43</td>\n",
       "      <td>2.28</td>\n",
       "      <td>3.66</td>\n",
       "      <td>1299.27</td>\n",
       "      <td>0.85</td>\n",
       "      <td>1.63</td>\n",
       "      <td>142.2</td>\n",
       "    </tr>\n",
       "    <tr>\n",
       "      <th>2009-01-01 18:00:00</th>\n",
       "      <td>01.01.2009 18:00:00</td>\n",
       "      <td>1000.16</td>\n",
       "      <td>-5.25</td>\n",
       "      <td>267.90</td>\n",
       "      <td>-6.75</td>\n",
       "      <td>89.1</td>\n",
       "      <td>4.13</td>\n",
       "      <td>3.68</td>\n",
       "      <td>0.45</td>\n",
       "      <td>2.29</td>\n",
       "      <td>3.68</td>\n",
       "      <td>1298.68</td>\n",
       "      <td>0.55</td>\n",
       "      <td>1.00</td>\n",
       "      <td>183.7</td>\n",
       "    </tr>\n",
       "    <tr>\n",
       "      <th>2009-01-01 19:00:00</th>\n",
       "      <td>01.01.2009 19:00:00</td>\n",
       "      <td>1000.22</td>\n",
       "      <td>-5.11</td>\n",
       "      <td>268.03</td>\n",
       "      <td>-6.57</td>\n",
       "      <td>89.4</td>\n",
       "      <td>4.17</td>\n",
       "      <td>3.73</td>\n",
       "      <td>0.44</td>\n",
       "      <td>2.32</td>\n",
       "      <td>3.73</td>\n",
       "      <td>1298.07</td>\n",
       "      <td>0.41</td>\n",
       "      <td>0.75</td>\n",
       "      <td>176.7</td>\n",
       "    </tr>\n",
       "    <tr>\n",
       "      <th>2009-01-01 20:00:00</th>\n",
       "      <td>01.01.2009 20:00:00</td>\n",
       "      <td>1000.22</td>\n",
       "      <td>-4.90</td>\n",
       "      <td>268.24</td>\n",
       "      <td>-6.38</td>\n",
       "      <td>89.3</td>\n",
       "      <td>4.24</td>\n",
       "      <td>3.79</td>\n",
       "      <td>0.45</td>\n",
       "      <td>2.36</td>\n",
       "      <td>3.78</td>\n",
       "      <td>1297.05</td>\n",
       "      <td>0.68</td>\n",
       "      <td>1.13</td>\n",
       "      <td>195.2</td>\n",
       "    </tr>\n",
       "    <tr>\n",
       "      <th>2009-01-01 21:00:00</th>\n",
       "      <td>01.01.2009 21:00:00</td>\n",
       "      <td>1000.19</td>\n",
       "      <td>-4.80</td>\n",
       "      <td>268.35</td>\n",
       "      <td>-6.14</td>\n",
       "      <td>90.2</td>\n",
       "      <td>4.27</td>\n",
       "      <td>3.85</td>\n",
       "      <td>0.42</td>\n",
       "      <td>2.40</td>\n",
       "      <td>3.85</td>\n",
       "      <td>1296.45</td>\n",
       "      <td>0.44</td>\n",
       "      <td>0.75</td>\n",
       "      <td>206.3</td>\n",
       "    </tr>\n",
       "    <tr>\n",
       "      <th>2009-01-01 22:00:00</th>\n",
       "      <td>01.01.2009 22:00:00</td>\n",
       "      <td>1000.00</td>\n",
       "      <td>-4.50</td>\n",
       "      <td>268.66</td>\n",
       "      <td>-5.82</td>\n",
       "      <td>90.4</td>\n",
       "      <td>4.37</td>\n",
       "      <td>3.95</td>\n",
       "      <td>0.42</td>\n",
       "      <td>2.46</td>\n",
       "      <td>3.95</td>\n",
       "      <td>1294.72</td>\n",
       "      <td>0.33</td>\n",
       "      <td>0.63</td>\n",
       "      <td>175.7</td>\n",
       "    </tr>\n",
       "    <tr>\n",
       "      <th>2009-01-01 23:00:00</th>\n",
       "      <td>01.01.2009 23:00:00</td>\n",
       "      <td>999.77</td>\n",
       "      <td>-4.47</td>\n",
       "      <td>268.71</td>\n",
       "      <td>-5.84</td>\n",
       "      <td>90.1</td>\n",
       "      <td>4.38</td>\n",
       "      <td>3.95</td>\n",
       "      <td>0.43</td>\n",
       "      <td>2.46</td>\n",
       "      <td>3.95</td>\n",
       "      <td>1294.29</td>\n",
       "      <td>0.65</td>\n",
       "      <td>1.00</td>\n",
       "      <td>219.3</td>\n",
       "    </tr>\n",
       "    <tr>\n",
       "      <th>2009-01-02 00:00:00</th>\n",
       "      <td>02.01.2009 00:00:00</td>\n",
       "      <td>999.59</td>\n",
       "      <td>-4.54</td>\n",
       "      <td>268.65</td>\n",
       "      <td>-5.46</td>\n",
       "      <td>93.2</td>\n",
       "      <td>4.36</td>\n",
       "      <td>4.06</td>\n",
       "      <td>0.30</td>\n",
       "      <td>2.53</td>\n",
       "      <td>4.06</td>\n",
       "      <td>1294.33</td>\n",
       "      <td>0.41</td>\n",
       "      <td>0.88</td>\n",
       "      <td>155.0</td>\n",
       "    </tr>\n",
       "    <tr>\n",
       "      <th>2009-01-02 01:00:00</th>\n",
       "      <td>02.01.2009 01:00:00</td>\n",
       "      <td>999.34</td>\n",
       "      <td>-4.44</td>\n",
       "      <td>268.77</td>\n",
       "      <td>-5.19</td>\n",
       "      <td>94.4</td>\n",
       "      <td>4.39</td>\n",
       "      <td>4.15</td>\n",
       "      <td>0.25</td>\n",
       "      <td>2.58</td>\n",
       "      <td>4.15</td>\n",
       "      <td>1293.47</td>\n",
       "      <td>0.28</td>\n",
       "      <td>1.00</td>\n",
       "      <td>148.1</td>\n",
       "    </tr>\n",
       "    <tr>\n",
       "      <th>2009-01-02 02:00:00</th>\n",
       "      <td>02.01.2009 02:00:00</td>\n",
       "      <td>998.93</td>\n",
       "      <td>-4.29</td>\n",
       "      <td>268.95</td>\n",
       "      <td>-5.04</td>\n",
       "      <td>94.5</td>\n",
       "      <td>4.44</td>\n",
       "      <td>4.20</td>\n",
       "      <td>0.24</td>\n",
       "      <td>2.62</td>\n",
       "      <td>4.20</td>\n",
       "      <td>1292.22</td>\n",
       "      <td>0.49</td>\n",
       "      <td>0.88</td>\n",
       "      <td>209.8</td>\n",
       "    </tr>\n",
       "  </tbody>\n",
       "</table>\n",
       "</div>"
      ],
      "text/plain": [
       "                               Date Time  p (mbar)  T (degC)  Tpot (K)  \\\n",
       "Date Time                                                                \n",
       "2009-01-01 01:00:00  01.01.2009 01:00:00    996.50     -8.05    265.38   \n",
       "2009-01-01 02:00:00  01.01.2009 02:00:00    996.62     -8.88    264.54   \n",
       "2009-01-01 03:00:00  01.01.2009 03:00:00    996.84     -8.81    264.59   \n",
       "2009-01-01 04:00:00  01.01.2009 04:00:00    996.99     -9.05    264.34   \n",
       "2009-01-01 05:00:00  01.01.2009 05:00:00    997.46     -9.63    263.72   \n",
       "2009-01-01 06:00:00  01.01.2009 06:00:00    997.71     -9.67    263.66   \n",
       "2009-01-01 07:00:00  01.01.2009 07:00:00    998.33     -9.17    264.12   \n",
       "2009-01-01 08:00:00  01.01.2009 08:00:00    999.17     -8.10    265.12   \n",
       "2009-01-01 09:00:00  01.01.2009 09:00:00    999.69     -7.66    265.52   \n",
       "2009-01-01 10:00:00  01.01.2009 10:00:00   1000.27     -7.04    266.10   \n",
       "2009-01-01 11:00:00  01.01.2009 11:00:00   1000.87     -7.41    265.68   \n",
       "2009-01-01 12:00:00  01.01.2009 12:00:00   1000.30     -6.87    266.27   \n",
       "2009-01-01 13:00:00  01.01.2009 13:00:00   1000.03     -5.89    267.27   \n",
       "2009-01-01 14:00:00  01.01.2009 14:00:00    999.81     -5.94    267.24   \n",
       "2009-01-01 15:00:00  01.01.2009 15:00:00    999.88     -5.69    267.48   \n",
       "2009-01-01 16:00:00  01.01.2009 16:00:00    999.94     -5.40    267.76   \n",
       "2009-01-01 17:00:00  01.01.2009 17:00:00   1000.17     -5.37    267.78   \n",
       "2009-01-01 18:00:00  01.01.2009 18:00:00   1000.16     -5.25    267.90   \n",
       "2009-01-01 19:00:00  01.01.2009 19:00:00   1000.22     -5.11    268.03   \n",
       "2009-01-01 20:00:00  01.01.2009 20:00:00   1000.22     -4.90    268.24   \n",
       "2009-01-01 21:00:00  01.01.2009 21:00:00   1000.19     -4.80    268.35   \n",
       "2009-01-01 22:00:00  01.01.2009 22:00:00   1000.00     -4.50    268.66   \n",
       "2009-01-01 23:00:00  01.01.2009 23:00:00    999.77     -4.47    268.71   \n",
       "2009-01-02 00:00:00  02.01.2009 00:00:00    999.59     -4.54    268.65   \n",
       "2009-01-02 01:00:00  02.01.2009 01:00:00    999.34     -4.44    268.77   \n",
       "2009-01-02 02:00:00  02.01.2009 02:00:00    998.93     -4.29    268.95   \n",
       "\n",
       "                     Tdew (degC)  rh (%)  VPmax (mbar)  VPact (mbar)  \\\n",
       "Date Time                                                              \n",
       "2009-01-01 01:00:00        -8.78    94.4          3.33          3.14   \n",
       "2009-01-01 02:00:00        -9.77    93.2          3.12          2.90   \n",
       "2009-01-01 03:00:00        -9.66    93.5          3.13          2.93   \n",
       "2009-01-01 04:00:00       -10.02    92.6          3.07          2.85   \n",
       "2009-01-01 05:00:00       -10.65    92.2          2.94          2.71   \n",
       "2009-01-01 06:00:00       -10.62    92.7          2.93          2.71   \n",
       "2009-01-01 07:00:00       -10.10    92.9          3.04          2.83   \n",
       "2009-01-01 08:00:00        -9.05    92.8          3.31          3.07   \n",
       "2009-01-01 09:00:00        -8.84    91.2          3.43          3.13   \n",
       "2009-01-01 10:00:00        -8.17    91.6          3.60          3.30   \n",
       "2009-01-01 11:00:00        -8.66    90.7          3.50          3.17   \n",
       "2009-01-01 12:00:00        -8.28    89.6          3.64          3.27   \n",
       "2009-01-01 13:00:00        -7.46    88.6          3.93          3.48   \n",
       "2009-01-01 14:00:00        -7.43    89.1          3.92          3.49   \n",
       "2009-01-01 15:00:00        -7.00    90.4          3.99          3.61   \n",
       "2009-01-01 16:00:00        -6.86    89.4          4.08          3.65   \n",
       "2009-01-01 17:00:00        -6.82    89.4          4.09          3.66   \n",
       "2009-01-01 18:00:00        -6.75    89.1          4.13          3.68   \n",
       "2009-01-01 19:00:00        -6.57    89.4          4.17          3.73   \n",
       "2009-01-01 20:00:00        -6.38    89.3          4.24          3.79   \n",
       "2009-01-01 21:00:00        -6.14    90.2          4.27          3.85   \n",
       "2009-01-01 22:00:00        -5.82    90.4          4.37          3.95   \n",
       "2009-01-01 23:00:00        -5.84    90.1          4.38          3.95   \n",
       "2009-01-02 00:00:00        -5.46    93.2          4.36          4.06   \n",
       "2009-01-02 01:00:00        -5.19    94.4          4.39          4.15   \n",
       "2009-01-02 02:00:00        -5.04    94.5          4.44          4.20   \n",
       "\n",
       "                     VPdef (mbar)  sh (g/kg)  H2OC (mmol/mol)  rho (g/m**3)  \\\n",
       "Date Time                                                                     \n",
       "2009-01-01 01:00:00          0.19       1.96             3.15       1307.86   \n",
       "2009-01-01 02:00:00          0.21       1.81             2.91       1312.25   \n",
       "2009-01-01 03:00:00          0.20       1.83             2.94       1312.18   \n",
       "2009-01-01 04:00:00          0.23       1.78             2.85       1313.61   \n",
       "2009-01-01 05:00:00          0.23       1.69             2.71       1317.19   \n",
       "2009-01-01 06:00:00          0.21       1.69             2.72       1317.71   \n",
       "2009-01-01 07:00:00          0.22       1.76             2.83       1315.98   \n",
       "2009-01-01 08:00:00          0.24       1.92             3.08       1311.65   \n",
       "2009-01-01 09:00:00          0.30       1.95             3.13       1310.14   \n",
       "2009-01-01 10:00:00          0.30       2.05             3.29       1307.76   \n",
       "2009-01-01 11:00:00          0.33       1.97             3.17       1310.43   \n",
       "2009-01-01 12:00:00          0.38       2.03             3.26       1306.98   \n",
       "2009-01-01 13:00:00          0.45       2.17             3.48       1301.73   \n",
       "2009-01-01 14:00:00          0.43       2.17             3.49       1301.67   \n",
       "2009-01-01 15:00:00          0.38       2.25             3.61       1300.51   \n",
       "2009-01-01 16:00:00          0.43       2.27             3.65       1299.17   \n",
       "2009-01-01 17:00:00          0.43       2.28             3.66       1299.27   \n",
       "2009-01-01 18:00:00          0.45       2.29             3.68       1298.68   \n",
       "2009-01-01 19:00:00          0.44       2.32             3.73       1298.07   \n",
       "2009-01-01 20:00:00          0.45       2.36             3.78       1297.05   \n",
       "2009-01-01 21:00:00          0.42       2.40             3.85       1296.45   \n",
       "2009-01-01 22:00:00          0.42       2.46             3.95       1294.72   \n",
       "2009-01-01 23:00:00          0.43       2.46             3.95       1294.29   \n",
       "2009-01-02 00:00:00          0.30       2.53             4.06       1294.33   \n",
       "2009-01-02 01:00:00          0.25       2.58             4.15       1293.47   \n",
       "2009-01-02 02:00:00          0.24       2.62             4.20       1292.22   \n",
       "\n",
       "                     wv (m/s)  max. wv (m/s)  wd (deg)  \n",
       "Date Time                                               \n",
       "2009-01-01 01:00:00      0.21           0.63     192.7  \n",
       "2009-01-01 02:00:00      0.25           0.63     190.3  \n",
       "2009-01-01 03:00:00      0.18           0.63     167.2  \n",
       "2009-01-01 04:00:00      0.10           0.38     240.0  \n",
       "2009-01-01 05:00:00      0.40           0.88     157.0  \n",
       "2009-01-01 06:00:00      0.05           0.50     146.0  \n",
       "2009-01-01 07:00:00      2.08           2.88     348.8  \n",
       "2009-01-01 08:00:00      0.72           1.25     213.9  \n",
       "2009-01-01 09:00:00      0.34           0.63     202.2  \n",
       "2009-01-01 10:00:00      1.45           3.00     292.6  \n",
       "2009-01-01 11:00:00      1.91           3.38     269.6  \n",
       "2009-01-01 12:00:00      1.84           2.63     184.4  \n",
       "2009-01-01 13:00:00      0.57           1.25     187.3  \n",
       "2009-01-01 14:00:00      1.25           2.00     144.0  \n",
       "2009-01-01 15:00:00      1.17           1.88     134.9  \n",
       "2009-01-01 16:00:00      1.40           2.13     145.5  \n",
       "2009-01-01 17:00:00      0.85           1.63     142.2  \n",
       "2009-01-01 18:00:00      0.55           1.00     183.7  \n",
       "2009-01-01 19:00:00      0.41           0.75     176.7  \n",
       "2009-01-01 20:00:00      0.68           1.13     195.2  \n",
       "2009-01-01 21:00:00      0.44           0.75     206.3  \n",
       "2009-01-01 22:00:00      0.33           0.63     175.7  \n",
       "2009-01-01 23:00:00      0.65           1.00     219.3  \n",
       "2009-01-02 00:00:00      0.41           0.88     155.0  \n",
       "2009-01-02 01:00:00      0.28           1.00     148.1  \n",
       "2009-01-02 02:00:00      0.49           0.88     209.8  "
      ]
     },
     "execution_count": 13,
     "metadata": {},
     "output_type": "execute_result"
    }
   ],
   "source": [
    "df.index = pd.to_datetime(df['Date Time'], format='%d.%m.%Y %H:%M:%S')\n",
    "df[:26]"
   ]
  },
  {
   "cell_type": "markdown",
   "id": "4b8060e7",
   "metadata": {},
   "source": [
    "We have so many features, f*ck them we'll just use the Temperature feature :)"
   ]
  },
  {
   "cell_type": "code",
   "execution_count": 14,
   "id": "4c503602",
   "metadata": {},
   "outputs": [
    {
     "data": {
      "text/plain": [
       "<AxesSubplot:xlabel='Date Time'>"
      ]
     },
     "execution_count": 14,
     "metadata": {},
     "output_type": "execute_result"
    },
    {
     "data": {
      "image/png": "[encoded data removed]",
      "text/plain": [
       "<Figure size 432x288 with 1 Axes>"
      ]
     },
     "metadata": {
      "needs_background": "light"
     },
     "output_type": "display_data"
    }
   ],
   "source": [
    "temp = df['T (degC)']\n",
    "temp.plot()"
   ]
  },
  {
   "cell_type": "markdown",
   "id": "0116cb48",
   "metadata": {},
   "source": [
    "Woah...that is a cool pattern right there... \n",
    "\n",
    "we will make an amazing function to make our lufe easier...\n",
    "\n",
    "we will make a matrix for input data for our model (every 5 hours)"
   ]
  },
  {
   "cell_type": "code",
   "execution_count": 15,
   "id": "683a3f8a",
   "metadata": {},
   "outputs": [],
   "source": [
    "# [[[1], [2], [3], [4], [5]]] [6]\n",
    "# [[[2], [3], [4], [5], [6]]] [7]\n",
    "# [[[3], [4], [5], [6], [7]]] [8]\n",
    "\n",
    "def df_to_X_y(df, window_size = 5):\n",
    "    df_np = df.to_numpy()\n",
    "    X = [] # first five values\n",
    "    y = [] # output (the next 6th value)\n",
    "    for i in range(len(df_np)-window_size):\n",
    "        row = [[a] for a in df_np[i:i+5]]\n",
    "        X.append(row)\n",
    "        label = df_np[i+5]\n",
    "        y.append(label)\n",
    "    return np.array(X), np.array(y)"
   ]
  },
  {
   "cell_type": "code",
   "execution_count": 16,
   "id": "fe9b0804",
   "metadata": {},
   "outputs": [
    {
     "data": {
      "text/plain": [
       "((70086, 5, 1), (70086,))"
      ]
     },
     "execution_count": 16,
     "metadata": {},
     "output_type": "execute_result"
    }
   ],
   "source": [
    "WINDOW_SIZE = 5\n",
    "X, y = df_to_X_y(temp,WINDOW_SIZE)\n",
    "X.shape, y.shape"
   ]
  },
  {
   "cell_type": "markdown",
   "id": "e4925814",
   "metadata": {},
   "source": [
    "##### Splitting the X y in train val and test"
   ]
  },
  {
   "cell_type": "code",
   "execution_count": 20,
   "id": "b8537f02",
   "metadata": {},
   "outputs": [],
   "source": [
    "X_train, y_train = X[:60000], y[:60000]\n",
    "X_val, y_val = X[60000:65000], y[60000:65000]\n",
    "X_test, y_test = X[65000:], y[65000:]"
   ]
  },
  {
   "cell_type": "code",
   "execution_count": 22,
   "id": "b9f06a63",
   "metadata": {},
   "outputs": [
    {
     "data": {
      "text/plain": [
       "((60000, 5, 1), (5086, 5, 1), (5000, 5, 1), (60000,), (5086,), (5000,))"
      ]
     },
     "execution_count": 22,
     "metadata": {},
     "output_type": "execute_result"
    }
   ],
   "source": [
    "X_train.shape, X_test.shape, X_val.shape, y_train.shape, y_test.shape, y_val.shape"
   ]
  },
  {
   "cell_type": "markdown",
   "id": "bdda24f5",
   "metadata": {},
   "source": [
    "#### Creating a model"
   ]
  },
  {
   "cell_type": "code",
   "execution_count": 23,
   "id": "342c0134",
   "metadata": {},
   "outputs": [
    {
     "name": "stdout",
     "output_type": "stream",
     "text": [
      "Model: \"sequential\"\n",
      "_________________________________________________________________\n",
      " Layer (type)                Output Shape              Param #   \n",
      "=================================================================\n",
      " lstm (LSTM)                 (None, 64)                16896     \n",
      "                                                                 \n",
      " dense (Dense)               (None, 8)                 520       \n",
      "                                                                 \n",
      " dense_1 (Dense)             (None, 1)                 9         \n",
      "                                                                 \n",
      "=================================================================\n",
      "Total params: 17,425\n",
      "Trainable params: 17,425\n",
      "Non-trainable params: 0\n",
      "_________________________________________________________________\n"
     ]
    }
   ],
   "source": [
    "from tensorflow.keras.models import Sequential\n",
    "from tensorflow.keras.layers import *\n",
    "from tensorflow.keras.callbacks import ModelCheckpoint # to save the model\n",
    "from tensorflow.keras.losses import MeanSquaredError\n",
    "from tensorflow.keras.metrics import RootMeanSquaredError\n",
    "from tensorflow.keras.optimizers import Adam\n",
    "\n",
    "model1 = Sequential()\n",
    "model1.add(InputLayer((5,1))) # a batch of 5\n",
    "model1.add(LSTM(64))\n",
    "model1.add(Dense(8, 'relu'))\n",
    "model1.add(Dense(1, 'linear')) # output\n",
    "\n",
    "model1.summary()"
   ]
  },
  {
   "cell_type": "code",
   "execution_count": 24,
   "id": "4a7a1ceb",
   "metadata": {},
   "outputs": [],
   "source": [
    "cp = ModelCheckpoint('model1/', save_best_only=True)\n",
    "model1.compile(loss = MeanSquaredError(), optimizer = Adam(learning_rate=0.00001), metrics=[RootMeanSquaredError()])"
   ]
  },
  {
   "cell_type": "code",
   "execution_count": 25,
   "id": "3e09d245",
   "metadata": {},
   "outputs": [
    {
     "name": "stdout",
     "output_type": "stream",
     "text": [
      "Epoch 1/100\n",
      "1864/1875 [============================>.] - ETA: 0s - loss: 126.9266 - root_mean_squared_error: 11.2662"
     ]
    },
    {
     "name": "stderr",
     "output_type": "stream",
     "text": [
      "WARNING:absl:Found untraced functions such as _update_step_xla, lstm_cell_layer_call_fn, lstm_cell_layer_call_and_return_conditional_losses while saving (showing 3 of 3). These functions will not be directly callable after loading.\n"
     ]
    },
    {
     "name": "stdout",
     "output_type": "stream",
     "text": [
      "INFO:tensorflow:Assets written to: model1\\assets\n"
     ]
    },
    {
     "name": "stderr",
     "output_type": "stream",
     "text": [
      "INFO:tensorflow:Assets written to: model1\\assets\n"
     ]
    },
    {
     "name": "stdout",
     "output_type": "stream",
     "text": [
      "1875/1875 [==============================] - 21s 10ms/step - loss: 126.7261 - root_mean_squared_error: 11.2573 - val_loss: 35.8184 - val_root_mean_squared_error: 5.9848\n",
      "Epoch 2/100\n",
      "1875/1875 [==============================] - ETA: 0s - loss: 65.7650 - root_mean_squared_error: 8.1096"
     ]
    },
    {
     "name": "stderr",
     "output_type": "stream",
     "text": [
      "WARNING:absl:Found untraced functions such as _update_step_xla, lstm_cell_layer_call_fn, lstm_cell_layer_call_and_return_conditional_losses while saving (showing 3 of 3). These functions will not be directly callable after loading.\n"
     ]
    },
    {
     "name": "stdout",
     "output_type": "stream",
     "text": [
      "INFO:tensorflow:Assets written to: model1\\assets\n"
     ]
    },
    {
     "name": "stderr",
     "output_type": "stream",
     "text": [
      "INFO:tensorflow:Assets written to: model1\\assets\n"
     ]
    },
    {
     "name": "stdout",
     "output_type": "stream",
     "text": [
      "1875/1875 [==============================] - 17s 9ms/step - loss: 65.7650 - root_mean_squared_error: 8.1096 - val_loss: 14.7166 - val_root_mean_squared_error: 3.8362\n",
      "Epoch 3/100\n",
      "1858/1875 [============================>.] - ETA: 0s - loss: 32.8022 - root_mean_squared_error: 5.7273"
     ]
    },
    {
     "name": "stderr",
     "output_type": "stream",
     "text": [
      "WARNING:absl:Found untraced functions such as _update_step_xla, lstm_cell_layer_call_fn, lstm_cell_layer_call_and_return_conditional_losses while saving (showing 3 of 3). These functions will not be directly callable after loading.\n"
     ]
    },
    {
     "name": "stdout",
     "output_type": "stream",
     "text": [
      "INFO:tensorflow:Assets written to: model1\\assets\n"
     ]
    },
    {
     "name": "stderr",
     "output_type": "stream",
     "text": [
      "INFO:tensorflow:Assets written to: model1\\assets\n"
     ]
    },
    {
     "name": "stdout",
     "output_type": "stream",
     "text": [
      "1875/1875 [==============================] - 13s 7ms/step - loss: 32.6953 - root_mean_squared_error: 5.7180 - val_loss: 6.3477 - val_root_mean_squared_error: 2.5195\n",
      "Epoch 4/100\n",
      "1875/1875 [==============================] - ETA: 0s - loss: 16.5790 - root_mean_squared_error: 4.0717"
     ]
    },
    {
     "name": "stderr",
     "output_type": "stream",
     "text": [
      "WARNING:absl:Found untraced functions such as _update_step_xla, lstm_cell_layer_call_fn, lstm_cell_layer_call_and_return_conditional_losses while saving (showing 3 of 3). These functions will not be directly callable after loading.\n"
     ]
    },
    {
     "name": "stdout",
     "output_type": "stream",
     "text": [
      "INFO:tensorflow:Assets written to: model1\\assets\n"
     ]
    },
    {
     "name": "stderr",
     "output_type": "stream",
     "text": [
      "INFO:tensorflow:Assets written to: model1\\assets\n"
     ]
    },
    {
     "name": "stdout",
     "output_type": "stream",
     "text": [
      "1875/1875 [==============================] - 12s 6ms/step - loss: 16.5790 - root_mean_squared_error: 4.0717 - val_loss: 3.2943 - val_root_mean_squared_error: 1.8150\n",
      "Epoch 5/100\n",
      "1865/1875 [============================>.] - ETA: 0s - loss: 9.6037 - root_mean_squared_error: 3.0990"
     ]
    },
    {
     "name": "stderr",
     "output_type": "stream",
     "text": [
      "WARNING:absl:Found untraced functions such as _update_step_xla, lstm_cell_layer_call_fn, lstm_cell_layer_call_and_return_conditional_losses while saving (showing 3 of 3). These functions will not be directly callable after loading.\n"
     ]
    },
    {
     "name": "stdout",
     "output_type": "stream",
     "text": [
      "INFO:tensorflow:Assets written to: model1\\assets\n"
     ]
    },
    {
     "name": "stderr",
     "output_type": "stream",
     "text": [
      "INFO:tensorflow:Assets written to: model1\\assets\n"
     ]
    },
    {
     "name": "stdout",
     "output_type": "stream",
     "text": [
      "1875/1875 [==============================] - 12s 6ms/step - loss: 9.5798 - root_mean_squared_error: 3.0951 - val_loss: 2.2572 - val_root_mean_squared_error: 1.5024\n",
      "Epoch 6/100\n",
      "1869/1875 [============================>.] - ETA: 0s - loss: 6.4134 - root_mean_squared_error: 2.5325"
     ]
    },
    {
     "name": "stderr",
     "output_type": "stream",
     "text": [
      "WARNING:absl:Found untraced functions such as _update_step_xla, lstm_cell_layer_call_fn, lstm_cell_layer_call_and_return_conditional_losses while saving (showing 3 of 3). These functions will not be directly callable after loading.\n"
     ]
    },
    {
     "name": "stdout",
     "output_type": "stream",
     "text": [
      "INFO:tensorflow:Assets written to: model1\\assets\n"
     ]
    },
    {
     "name": "stderr",
     "output_type": "stream",
     "text": [
      "INFO:tensorflow:Assets written to: model1\\assets\n"
     ]
    },
    {
     "name": "stdout",
     "output_type": "stream",
     "text": [
      "1875/1875 [==============================] - 13s 7ms/step - loss: 6.4048 - root_mean_squared_error: 2.5308 - val_loss: 1.7393 - val_root_mean_squared_error: 1.3188\n",
      "Epoch 7/100\n",
      "1860/1875 [============================>.] - ETA: 0s - loss: 4.6629 - root_mean_squared_error: 2.1594"
     ]
    },
    {
     "name": "stderr",
     "output_type": "stream",
     "text": [
      "WARNING:absl:Found untraced functions such as _update_step_xla, lstm_cell_layer_call_fn, lstm_cell_layer_call_and_return_conditional_losses while saving (showing 3 of 3). These functions will not be directly callable after loading.\n"
     ]
    },
    {
     "name": "stdout",
     "output_type": "stream",
     "text": [
      "INFO:tensorflow:Assets written to: model1\\assets\n"
     ]
    },
    {
     "name": "stderr",
     "output_type": "stream",
     "text": [
      "INFO:tensorflow:Assets written to: model1\\assets\n"
     ]
    },
    {
     "name": "stdout",
     "output_type": "stream",
     "text": [
      "1875/1875 [==============================] - 12s 6ms/step - loss: 4.6563 - root_mean_squared_error: 2.1578 - val_loss: 1.4095 - val_root_mean_squared_error: 1.1872\n",
      "Epoch 8/100\n",
      "1865/1875 [============================>.] - ETA: 0s - loss: 3.5380 - root_mean_squared_error: 1.8810"
     ]
    },
    {
     "name": "stderr",
     "output_type": "stream",
     "text": [
      "WARNING:absl:Found untraced functions such as _update_step_xla, lstm_cell_layer_call_fn, lstm_cell_layer_call_and_return_conditional_losses while saving (showing 3 of 3). These functions will not be directly callable after loading.\n"
     ]
    },
    {
     "name": "stdout",
     "output_type": "stream",
     "text": [
      "INFO:tensorflow:Assets written to: model1\\assets\n"
     ]
    },
    {
     "name": "stderr",
     "output_type": "stream",
     "text": [
      "INFO:tensorflow:Assets written to: model1\\assets\n"
     ]
    },
    {
     "name": "stdout",
     "output_type": "stream",
     "text": [
      "1875/1875 [==============================] - 13s 7ms/step - loss: 3.5383 - root_mean_squared_error: 1.8810 - val_loss: 1.1831 - val_root_mean_squared_error: 1.0877\n",
      "Epoch 9/100\n",
      "1856/1875 [============================>.] - ETA: 0s - loss: 2.7816 - root_mean_squared_error: 1.6678"
     ]
    },
    {
     "name": "stderr",
     "output_type": "stream",
     "text": [
      "WARNING:absl:Found untraced functions such as _update_step_xla, lstm_cell_layer_call_fn, lstm_cell_layer_call_and_return_conditional_losses while saving (showing 3 of 3). These functions will not be directly callable after loading.\n"
     ]
    },
    {
     "name": "stdout",
     "output_type": "stream",
     "text": [
      "INFO:tensorflow:Assets written to: model1\\assets\n"
     ]
    },
    {
     "name": "stderr",
     "output_type": "stream",
     "text": [
      "INFO:tensorflow:Assets written to: model1\\assets\n"
     ]
    },
    {
     "name": "stdout",
     "output_type": "stream",
     "text": [
      "1875/1875 [==============================] - 12s 6ms/step - loss: 2.7785 - root_mean_squared_error: 1.6669 - val_loss: 1.0176 - val_root_mean_squared_error: 1.0088\n",
      "Epoch 10/100\n",
      "1867/1875 [============================>.] - ETA: 0s - loss: 2.2383 - root_mean_squared_error: 1.4961"
     ]
    },
    {
     "name": "stderr",
     "output_type": "stream",
     "text": [
      "WARNING:absl:Found untraced functions such as _update_step_xla, lstm_cell_layer_call_fn, lstm_cell_layer_call_and_return_conditional_losses while saving (showing 3 of 3). These functions will not be directly callable after loading.\n"
     ]
    },
    {
     "name": "stdout",
     "output_type": "stream",
     "text": [
      "INFO:tensorflow:Assets written to: model1\\assets\n"
     ]
    },
    {
     "name": "stderr",
     "output_type": "stream",
     "text": [
      "INFO:tensorflow:Assets written to: model1\\assets\n"
     ]
    },
    {
     "name": "stdout",
     "output_type": "stream",
     "text": [
      "1875/1875 [==============================] - 13s 7ms/step - loss: 2.2381 - root_mean_squared_error: 1.4960 - val_loss: 0.8857 - val_root_mean_squared_error: 0.9411\n",
      "Epoch 11/100\n",
      "1875/1875 [==============================] - ETA: 0s - loss: 1.8441 - root_mean_squared_error: 1.3580"
     ]
    },
    {
     "name": "stderr",
     "output_type": "stream",
     "text": [
      "WARNING:absl:Found untraced functions such as _update_step_xla, lstm_cell_layer_call_fn, lstm_cell_layer_call_and_return_conditional_losses while saving (showing 3 of 3). These functions will not be directly callable after loading.\n"
     ]
    },
    {
     "name": "stdout",
     "output_type": "stream",
     "text": [
      "INFO:tensorflow:Assets written to: model1\\assets\n"
     ]
    },
    {
     "name": "stderr",
     "output_type": "stream",
     "text": [
      "INFO:tensorflow:Assets written to: model1\\assets\n"
     ]
    },
    {
     "name": "stdout",
     "output_type": "stream",
     "text": [
      "1875/1875 [==============================] - 12s 6ms/step - loss: 1.8441 - root_mean_squared_error: 1.3580 - val_loss: 0.7811 - val_root_mean_squared_error: 0.8838\n",
      "Epoch 12/100\n",
      "1863/1875 [============================>.] - ETA: 0s - loss: 1.5494 - root_mean_squared_error: 1.2448"
     ]
    },
    {
     "name": "stderr",
     "output_type": "stream",
     "text": [
      "WARNING:absl:Found untraced functions such as _update_step_xla, lstm_cell_layer_call_fn, lstm_cell_layer_call_and_return_conditional_losses while saving (showing 3 of 3). These functions will not be directly callable after loading.\n"
     ]
    },
    {
     "name": "stdout",
     "output_type": "stream",
     "text": [
      "INFO:tensorflow:Assets written to: model1\\assets\n"
     ]
    },
    {
     "name": "stderr",
     "output_type": "stream",
     "text": [
      "INFO:tensorflow:Assets written to: model1\\assets\n"
     ]
    },
    {
     "name": "stdout",
     "output_type": "stream",
     "text": [
      "1875/1875 [==============================] - 13s 7ms/step - loss: 1.5475 - root_mean_squared_error: 1.2440 - val_loss: 0.7061 - val_root_mean_squared_error: 0.8403\n",
      "Epoch 13/100\n",
      "1868/1875 [============================>.] - ETA: 0s - loss: 1.3274 - root_mean_squared_error: 1.1521"
     ]
    },
    {
     "name": "stderr",
     "output_type": "stream",
     "text": [
      "WARNING:absl:Found untraced functions such as _update_step_xla, lstm_cell_layer_call_fn, lstm_cell_layer_call_and_return_conditional_losses while saving (showing 3 of 3). These functions will not be directly callable after loading.\n"
     ]
    },
    {
     "name": "stdout",
     "output_type": "stream",
     "text": [
      "INFO:tensorflow:Assets written to: model1\\assets\n"
     ]
    },
    {
     "name": "stderr",
     "output_type": "stream",
     "text": [
      "INFO:tensorflow:Assets written to: model1\\assets\n"
     ]
    },
    {
     "name": "stdout",
     "output_type": "stream",
     "text": [
      "1875/1875 [==============================] - 13s 7ms/step - loss: 1.3280 - root_mean_squared_error: 1.1524 - val_loss: 0.6532 - val_root_mean_squared_error: 0.8082\n",
      "Epoch 14/100\n",
      "1862/1875 [============================>.] - ETA: 0s - loss: 1.1679 - root_mean_squared_error: 1.0807"
     ]
    },
    {
     "name": "stderr",
     "output_type": "stream",
     "text": [
      "WARNING:absl:Found untraced functions such as _update_step_xla, lstm_cell_layer_call_fn, lstm_cell_layer_call_and_return_conditional_losses while saving (showing 3 of 3). These functions will not be directly callable after loading.\n"
     ]
    },
    {
     "name": "stdout",
     "output_type": "stream",
     "text": [
      "INFO:tensorflow:Assets written to: model1\\assets\n"
     ]
    },
    {
     "name": "stderr",
     "output_type": "stream",
     "text": [
      "INFO:tensorflow:Assets written to: model1\\assets\n"
     ]
    },
    {
     "name": "stdout",
     "output_type": "stream",
     "text": [
      "1875/1875 [==============================] - 13s 7ms/step - loss: 1.1663 - root_mean_squared_error: 1.0800 - val_loss: 0.6199 - val_root_mean_squared_error: 0.7873\n",
      "Epoch 15/100\n",
      "1869/1875 [============================>.] - ETA: 0s - loss: 1.0478 - root_mean_squared_error: 1.0236"
     ]
    },
    {
     "name": "stderr",
     "output_type": "stream",
     "text": [
      "WARNING:absl:Found untraced functions such as _update_step_xla, lstm_cell_layer_call_fn, lstm_cell_layer_call_and_return_conditional_losses while saving (showing 3 of 3). These functions will not be directly callable after loading.\n"
     ]
    },
    {
     "name": "stdout",
     "output_type": "stream",
     "text": [
      "INFO:tensorflow:Assets written to: model1\\assets\n"
     ]
    },
    {
     "name": "stderr",
     "output_type": "stream",
     "text": [
      "INFO:tensorflow:Assets written to: model1\\assets\n"
     ]
    },
    {
     "name": "stdout",
     "output_type": "stream",
     "text": [
      "1875/1875 [==============================] - 11s 6ms/step - loss: 1.0472 - root_mean_squared_error: 1.0233 - val_loss: 0.5954 - val_root_mean_squared_error: 0.7716\n",
      "Epoch 16/100\n",
      "1868/1875 [============================>.] - ETA: 0s - loss: 0.9612 - root_mean_squared_error: 0.9804"
     ]
    },
    {
     "name": "stderr",
     "output_type": "stream",
     "text": [
      "WARNING:absl:Found untraced functions such as _update_step_xla, lstm_cell_layer_call_fn, lstm_cell_layer_call_and_return_conditional_losses while saving (showing 3 of 3). These functions will not be directly callable after loading.\n"
     ]
    },
    {
     "name": "stdout",
     "output_type": "stream",
     "text": [
      "INFO:tensorflow:Assets written to: model1\\assets\n"
     ]
    },
    {
     "name": "stderr",
     "output_type": "stream",
     "text": [
      "INFO:tensorflow:Assets written to: model1\\assets\n"
     ]
    },
    {
     "name": "stdout",
     "output_type": "stream",
     "text": [
      "1875/1875 [==============================] - 13s 7ms/step - loss: 0.9608 - root_mean_squared_error: 0.9802 - val_loss: 0.5752 - val_root_mean_squared_error: 0.7584\n",
      "Epoch 17/100\n",
      "1870/1875 [============================>.] - ETA: 0s - loss: 0.8977 - root_mean_squared_error: 0.9475"
     ]
    },
    {
     "name": "stderr",
     "output_type": "stream",
     "text": [
      "WARNING:absl:Found untraced functions such as _update_step_xla, lstm_cell_layer_call_fn, lstm_cell_layer_call_and_return_conditional_losses while saving (showing 3 of 3). These functions will not be directly callable after loading.\n"
     ]
    },
    {
     "name": "stdout",
     "output_type": "stream",
     "text": [
      "INFO:tensorflow:Assets written to: model1\\assets\n"
     ]
    },
    {
     "name": "stderr",
     "output_type": "stream",
     "text": [
      "INFO:tensorflow:Assets written to: model1\\assets\n"
     ]
    },
    {
     "name": "stdout",
     "output_type": "stream",
     "text": [
      "1875/1875 [==============================] - 11s 6ms/step - loss: 0.8975 - root_mean_squared_error: 0.9474 - val_loss: 0.5649 - val_root_mean_squared_error: 0.7516\n",
      "Epoch 18/100\n",
      "1868/1875 [============================>.] - ETA: 0s - loss: 0.8500 - root_mean_squared_error: 0.9220"
     ]
    },
    {
     "name": "stderr",
     "output_type": "stream",
     "text": [
      "WARNING:absl:Found untraced functions such as _update_step_xla, lstm_cell_layer_call_fn, lstm_cell_layer_call_and_return_conditional_losses while saving (showing 3 of 3). These functions will not be directly callable after loading.\n"
     ]
    },
    {
     "name": "stdout",
     "output_type": "stream",
     "text": [
      "INFO:tensorflow:Assets written to: model1\\assets\n"
     ]
    },
    {
     "name": "stderr",
     "output_type": "stream",
     "text": [
      "INFO:tensorflow:Assets written to: model1\\assets\n"
     ]
    },
    {
     "name": "stdout",
     "output_type": "stream",
     "text": [
      "1875/1875 [==============================] - 13s 7ms/step - loss: 0.8510 - root_mean_squared_error: 0.9225 - val_loss: 0.5558 - val_root_mean_squared_error: 0.7455\n",
      "Epoch 19/100\n",
      "1870/1875 [============================>.] - ETA: 0s - loss: 0.8153 - root_mean_squared_error: 0.9030"
     ]
    },
    {
     "name": "stderr",
     "output_type": "stream",
     "text": [
      "WARNING:absl:Found untraced functions such as _update_step_xla, lstm_cell_layer_call_fn, lstm_cell_layer_call_and_return_conditional_losses while saving (showing 3 of 3). These functions will not be directly callable after loading.\n"
     ]
    },
    {
     "name": "stdout",
     "output_type": "stream",
     "text": [
      "INFO:tensorflow:Assets written to: model1\\assets\n"
     ]
    },
    {
     "name": "stderr",
     "output_type": "stream",
     "text": [
      "INFO:tensorflow:Assets written to: model1\\assets\n"
     ]
    },
    {
     "name": "stdout",
     "output_type": "stream",
     "text": [
      "1875/1875 [==============================] - 12s 7ms/step - loss: 0.8156 - root_mean_squared_error: 0.9031 - val_loss: 0.5466 - val_root_mean_squared_error: 0.7393\n",
      "Epoch 20/100\n",
      "1869/1875 [============================>.] - ETA: 0s - loss: 0.7884 - root_mean_squared_error: 0.8879"
     ]
    },
    {
     "name": "stderr",
     "output_type": "stream",
     "text": [
      "WARNING:absl:Found untraced functions such as _update_step_xla, lstm_cell_layer_call_fn, lstm_cell_layer_call_and_return_conditional_losses while saving (showing 3 of 3). These functions will not be directly callable after loading.\n"
     ]
    },
    {
     "name": "stdout",
     "output_type": "stream",
     "text": [
      "INFO:tensorflow:Assets written to: model1\\assets\n"
     ]
    },
    {
     "name": "stderr",
     "output_type": "stream",
     "text": [
      "INFO:tensorflow:Assets written to: model1\\assets\n"
     ]
    },
    {
     "name": "stdout",
     "output_type": "stream",
     "text": [
      "1875/1875 [==============================] - 12s 6ms/step - loss: 0.7881 - root_mean_squared_error: 0.8878 - val_loss: 0.5379 - val_root_mean_squared_error: 0.7334\n",
      "Epoch 21/100\n",
      "1861/1875 [============================>.] - ETA: 0s - loss: 0.7660 - root_mean_squared_error: 0.8752"
     ]
    },
    {
     "name": "stderr",
     "output_type": "stream",
     "text": [
      "WARNING:absl:Found untraced functions such as _update_step_xla, lstm_cell_layer_call_fn, lstm_cell_layer_call_and_return_conditional_losses while saving (showing 3 of 3). These functions will not be directly callable after loading.\n"
     ]
    },
    {
     "name": "stdout",
     "output_type": "stream",
     "text": [
      "INFO:tensorflow:Assets written to: model1\\assets\n"
     ]
    },
    {
     "name": "stderr",
     "output_type": "stream",
     "text": [
      "INFO:tensorflow:Assets written to: model1\\assets\n"
     ]
    },
    {
     "name": "stdout",
     "output_type": "stream",
     "text": [
      "1875/1875 [==============================] - 12s 6ms/step - loss: 0.7660 - root_mean_squared_error: 0.8752 - val_loss: 0.5341 - val_root_mean_squared_error: 0.7308\n",
      "Epoch 22/100\n",
      "1856/1875 [============================>.] - ETA: 0s - loss: 0.7493 - root_mean_squared_error: 0.8656"
     ]
    },
    {
     "name": "stderr",
     "output_type": "stream",
     "text": [
      "WARNING:absl:Found untraced functions such as _update_step_xla, lstm_cell_layer_call_fn, lstm_cell_layer_call_and_return_conditional_losses while saving (showing 3 of 3). These functions will not be directly callable after loading.\n"
     ]
    },
    {
     "name": "stdout",
     "output_type": "stream",
     "text": [
      "INFO:tensorflow:Assets written to: model1\\assets\n"
     ]
    },
    {
     "name": "stderr",
     "output_type": "stream",
     "text": [
      "INFO:tensorflow:Assets written to: model1\\assets\n"
     ]
    },
    {
     "name": "stdout",
     "output_type": "stream",
     "text": [
      "1875/1875 [==============================] - 13s 7ms/step - loss: 0.7482 - root_mean_squared_error: 0.8650 - val_loss: 0.5236 - val_root_mean_squared_error: 0.7236\n",
      "Epoch 23/100\n",
      "1868/1875 [============================>.] - ETA: 0s - loss: 0.7331 - root_mean_squared_error: 0.8562"
     ]
    },
    {
     "name": "stderr",
     "output_type": "stream",
     "text": [
      "WARNING:absl:Found untraced functions such as _update_step_xla, lstm_cell_layer_call_fn, lstm_cell_layer_call_and_return_conditional_losses while saving (showing 3 of 3). These functions will not be directly callable after loading.\n"
     ]
    },
    {
     "name": "stdout",
     "output_type": "stream",
     "text": [
      "INFO:tensorflow:Assets written to: model1\\assets\n"
     ]
    },
    {
     "name": "stderr",
     "output_type": "stream",
     "text": [
      "INFO:tensorflow:Assets written to: model1\\assets\n"
     ]
    },
    {
     "name": "stdout",
     "output_type": "stream",
     "text": [
      "1875/1875 [==============================] - 12s 6ms/step - loss: 0.7342 - root_mean_squared_error: 0.8569 - val_loss: 0.5202 - val_root_mean_squared_error: 0.7213\n",
      "Epoch 24/100\n",
      "1873/1875 [============================>.] - ETA: 0s - loss: 0.7226 - root_mean_squared_error: 0.8501"
     ]
    },
    {
     "name": "stderr",
     "output_type": "stream",
     "text": [
      "WARNING:absl:Found untraced functions such as _update_step_xla, lstm_cell_layer_call_fn, lstm_cell_layer_call_and_return_conditional_losses while saving (showing 3 of 3). These functions will not be directly callable after loading.\n"
     ]
    },
    {
     "name": "stdout",
     "output_type": "stream",
     "text": [
      "INFO:tensorflow:Assets written to: model1\\assets\n"
     ]
    },
    {
     "name": "stderr",
     "output_type": "stream",
     "text": [
      "INFO:tensorflow:Assets written to: model1\\assets\n"
     ]
    },
    {
     "name": "stdout",
     "output_type": "stream",
     "text": [
      "1875/1875 [==============================] - 13s 7ms/step - loss: 0.7227 - root_mean_squared_error: 0.8501 - val_loss: 0.5152 - val_root_mean_squared_error: 0.7178\n",
      "Epoch 25/100\n",
      "1859/1875 [============================>.] - ETA: 0s - loss: 0.7141 - root_mean_squared_error: 0.8451"
     ]
    },
    {
     "name": "stderr",
     "output_type": "stream",
     "text": [
      "WARNING:absl:Found untraced functions such as _update_step_xla, lstm_cell_layer_call_fn, lstm_cell_layer_call_and_return_conditional_losses while saving (showing 3 of 3). These functions will not be directly callable after loading.\n"
     ]
    },
    {
     "name": "stdout",
     "output_type": "stream",
     "text": [
      "INFO:tensorflow:Assets written to: model1\\assets\n"
     ]
    },
    {
     "name": "stderr",
     "output_type": "stream",
     "text": [
      "INFO:tensorflow:Assets written to: model1\\assets\n"
     ]
    },
    {
     "name": "stdout",
     "output_type": "stream",
     "text": [
      "1875/1875 [==============================] - 12s 6ms/step - loss: 0.7134 - root_mean_squared_error: 0.8446 - val_loss: 0.5106 - val_root_mean_squared_error: 0.7146\n",
      "Epoch 26/100\n",
      "1875/1875 [==============================] - 5s 3ms/step - loss: 0.7061 - root_mean_squared_error: 0.8403 - val_loss: 0.5131 - val_root_mean_squared_error: 0.7163\n",
      "Epoch 27/100\n",
      "1875/1875 [==============================] - 5s 3ms/step - loss: 0.6999 - root_mean_squared_error: 0.8366 - val_loss: 0.5138 - val_root_mean_squared_error: 0.7168\n",
      "Epoch 28/100\n",
      "1862/1875 [============================>.] - ETA: 0s - loss: 0.6961 - root_mean_squared_error: 0.8343"
     ]
    },
    {
     "name": "stderr",
     "output_type": "stream",
     "text": [
      "WARNING:absl:Found untraced functions such as _update_step_xla, lstm_cell_layer_call_fn, lstm_cell_layer_call_and_return_conditional_losses while saving (showing 3 of 3). These functions will not be directly callable after loading.\n"
     ]
    },
    {
     "name": "stdout",
     "output_type": "stream",
     "text": [
      "INFO:tensorflow:Assets written to: model1\\assets\n"
     ]
    },
    {
     "name": "stderr",
     "output_type": "stream",
     "text": [
      "INFO:tensorflow:Assets written to: model1\\assets\n"
     ]
    },
    {
     "name": "stdout",
     "output_type": "stream",
     "text": [
      "1875/1875 [==============================] - 12s 6ms/step - loss: 0.6949 - root_mean_squared_error: 0.8336 - val_loss: 0.5091 - val_root_mean_squared_error: 0.7135\n",
      "Epoch 29/100\n",
      "1875/1875 [==============================] - 6s 3ms/step - loss: 0.6906 - root_mean_squared_error: 0.8310 - val_loss: 0.5146 - val_root_mean_squared_error: 0.7174\n",
      "Epoch 30/100\n",
      "1866/1875 [============================>.] - ETA: 0s - loss: 0.6874 - root_mean_squared_error: 0.8291"
     ]
    },
    {
     "name": "stderr",
     "output_type": "stream",
     "text": [
      "WARNING:absl:Found untraced functions such as _update_step_xla, lstm_cell_layer_call_fn, lstm_cell_layer_call_and_return_conditional_losses while saving (showing 3 of 3). These functions will not be directly callable after loading.\n"
     ]
    },
    {
     "name": "stdout",
     "output_type": "stream",
     "text": [
      "INFO:tensorflow:Assets written to: model1\\assets\n"
     ]
    },
    {
     "name": "stderr",
     "output_type": "stream",
     "text": [
      "INFO:tensorflow:Assets written to: model1\\assets\n"
     ]
    },
    {
     "name": "stdout",
     "output_type": "stream",
     "text": [
      "1875/1875 [==============================] - 13s 7ms/step - loss: 0.6871 - root_mean_squared_error: 0.8289 - val_loss: 0.5053 - val_root_mean_squared_error: 0.7109\n",
      "Epoch 31/100\n",
      "1875/1875 [==============================] - 5s 3ms/step - loss: 0.6839 - root_mean_squared_error: 0.8270 - val_loss: 0.5109 - val_root_mean_squared_error: 0.7148\n",
      "Epoch 32/100\n",
      "1857/1875 [============================>.] - ETA: 0s - loss: 0.6821 - root_mean_squared_error: 0.8259"
     ]
    },
    {
     "name": "stderr",
     "output_type": "stream",
     "text": [
      "WARNING:absl:Found untraced functions such as _update_step_xla, lstm_cell_layer_call_fn, lstm_cell_layer_call_and_return_conditional_losses while saving (showing 3 of 3). These functions will not be directly callable after loading.\n"
     ]
    },
    {
     "name": "stdout",
     "output_type": "stream",
     "text": [
      "INFO:tensorflow:Assets written to: model1\\assets\n"
     ]
    },
    {
     "name": "stderr",
     "output_type": "stream",
     "text": [
      "INFO:tensorflow:Assets written to: model1\\assets\n"
     ]
    },
    {
     "name": "stdout",
     "output_type": "stream",
     "text": [
      "1875/1875 [==============================] - 12s 6ms/step - loss: 0.6811 - root_mean_squared_error: 0.8253 - val_loss: 0.5032 - val_root_mean_squared_error: 0.7094\n",
      "Epoch 33/100\n",
      "1875/1875 [==============================] - 5s 3ms/step - loss: 0.6784 - root_mean_squared_error: 0.8237 - val_loss: 0.5035 - val_root_mean_squared_error: 0.7096\n",
      "Epoch 34/100\n",
      "1872/1875 [============================>.] - ETA: 0s - loss: 0.6764 - root_mean_squared_error: 0.8224"
     ]
    },
    {
     "name": "stderr",
     "output_type": "stream",
     "text": [
      "WARNING:absl:Found untraced functions such as _update_step_xla, lstm_cell_layer_call_fn, lstm_cell_layer_call_and_return_conditional_losses while saving (showing 3 of 3). These functions will not be directly callable after loading.\n"
     ]
    },
    {
     "name": "stdout",
     "output_type": "stream",
     "text": [
      "INFO:tensorflow:Assets written to: model1\\assets\n"
     ]
    },
    {
     "name": "stderr",
     "output_type": "stream",
     "text": [
      "INFO:tensorflow:Assets written to: model1\\assets\n"
     ]
    },
    {
     "name": "stdout",
     "output_type": "stream",
     "text": [
      "1875/1875 [==============================] - 12s 6ms/step - loss: 0.6762 - root_mean_squared_error: 0.8223 - val_loss: 0.5028 - val_root_mean_squared_error: 0.7091\n",
      "Epoch 35/100\n",
      "1865/1875 [============================>.] - ETA: 0s - loss: 0.6743 - root_mean_squared_error: 0.8212"
     ]
    },
    {
     "name": "stderr",
     "output_type": "stream",
     "text": [
      "WARNING:absl:Found untraced functions such as _update_step_xla, lstm_cell_layer_call_fn, lstm_cell_layer_call_and_return_conditional_losses while saving (showing 3 of 3). These functions will not be directly callable after loading.\n"
     ]
    },
    {
     "name": "stdout",
     "output_type": "stream",
     "text": [
      "INFO:tensorflow:Assets written to: model1\\assets\n"
     ]
    },
    {
     "name": "stderr",
     "output_type": "stream",
     "text": [
      "INFO:tensorflow:Assets written to: model1\\assets\n"
     ]
    },
    {
     "name": "stdout",
     "output_type": "stream",
     "text": [
      "1875/1875 [==============================] - 13s 7ms/step - loss: 0.6742 - root_mean_squared_error: 0.8211 - val_loss: 0.5003 - val_root_mean_squared_error: 0.7073\n",
      "Epoch 36/100\n",
      "1875/1875 [==============================] - 6s 3ms/step - loss: 0.6724 - root_mean_squared_error: 0.8200 - val_loss: 0.5063 - val_root_mean_squared_error: 0.7115\n",
      "Epoch 37/100\n",
      "1875/1875 [==============================] - 5s 3ms/step - loss: 0.6706 - root_mean_squared_error: 0.8189 - val_loss: 0.5016 - val_root_mean_squared_error: 0.7083\n",
      "Epoch 38/100\n",
      "1875/1875 [==============================] - 5s 3ms/step - loss: 0.6688 - root_mean_squared_error: 0.8178 - val_loss: 0.5036 - val_root_mean_squared_error: 0.7096\n",
      "Epoch 39/100\n",
      "1875/1875 [==============================] - 5s 3ms/step - loss: 0.6675 - root_mean_squared_error: 0.8170 - val_loss: 0.5054 - val_root_mean_squared_error: 0.7109\n",
      "Epoch 40/100\n",
      "1857/1875 [============================>.] - ETA: 0s - loss: 0.6656 - root_mean_squared_error: 0.8159"
     ]
    },
    {
     "name": "stderr",
     "output_type": "stream",
     "text": [
      "WARNING:absl:Found untraced functions such as _update_step_xla, lstm_cell_layer_call_fn, lstm_cell_layer_call_and_return_conditional_losses while saving (showing 3 of 3). These functions will not be directly callable after loading.\n"
     ]
    },
    {
     "name": "stdout",
     "output_type": "stream",
     "text": [
      "INFO:tensorflow:Assets written to: model1\\assets\n"
     ]
    },
    {
     "name": "stderr",
     "output_type": "stream",
     "text": [
      "INFO:tensorflow:Assets written to: model1\\assets\n"
     ]
    },
    {
     "name": "stdout",
     "output_type": "stream",
     "text": [
      "1875/1875 [==============================] - 12s 6ms/step - loss: 0.6660 - root_mean_squared_error: 0.8161 - val_loss: 0.4997 - val_root_mean_squared_error: 0.7069\n",
      "Epoch 41/100\n",
      "1875/1875 [==============================] - 5s 3ms/step - loss: 0.6650 - root_mean_squared_error: 0.8155 - val_loss: 0.5001 - val_root_mean_squared_error: 0.7072\n",
      "Epoch 42/100\n",
      "1875/1875 [==============================] - 5s 3ms/step - loss: 0.6638 - root_mean_squared_error: 0.8147 - val_loss: 0.5023 - val_root_mean_squared_error: 0.7087\n",
      "Epoch 43/100\n",
      "1875/1875 [==============================] - 5s 3ms/step - loss: 0.6628 - root_mean_squared_error: 0.8141 - val_loss: 0.5025 - val_root_mean_squared_error: 0.7088\n",
      "Epoch 44/100\n",
      "1875/1875 [==============================] - 5s 3ms/step - loss: 0.6618 - root_mean_squared_error: 0.8135 - val_loss: 0.5034 - val_root_mean_squared_error: 0.7095\n",
      "Epoch 45/100\n",
      "1866/1875 [============================>.] - ETA: 0s - loss: 0.6612 - root_mean_squared_error: 0.8131"
     ]
    },
    {
     "name": "stderr",
     "output_type": "stream",
     "text": [
      "WARNING:absl:Found untraced functions such as _update_step_xla, lstm_cell_layer_call_fn, lstm_cell_layer_call_and_return_conditional_losses while saving (showing 3 of 3). These functions will not be directly callable after loading.\n"
     ]
    },
    {
     "name": "stdout",
     "output_type": "stream",
     "text": [
      "INFO:tensorflow:Assets written to: model1\\assets\n"
     ]
    },
    {
     "name": "stderr",
     "output_type": "stream",
     "text": [
      "INFO:tensorflow:Assets written to: model1\\assets\n"
     ]
    },
    {
     "name": "stdout",
     "output_type": "stream",
     "text": [
      "1875/1875 [==============================] - 13s 7ms/step - loss: 0.6605 - root_mean_squared_error: 0.8127 - val_loss: 0.4985 - val_root_mean_squared_error: 0.7061\n",
      "Epoch 46/100\n",
      "1875/1875 [==============================] - 5s 3ms/step - loss: 0.6603 - root_mean_squared_error: 0.8126 - val_loss: 0.5012 - val_root_mean_squared_error: 0.7079\n",
      "Epoch 47/100\n",
      "1875/1875 [==============================] - 6s 3ms/step - loss: 0.6591 - root_mean_squared_error: 0.8119 - val_loss: 0.5026 - val_root_mean_squared_error: 0.7089\n",
      "Epoch 48/100\n",
      "1875/1875 [==============================] - 5s 3ms/step - loss: 0.6585 - root_mean_squared_error: 0.8115 - val_loss: 0.4998 - val_root_mean_squared_error: 0.7070\n",
      "Epoch 49/100\n",
      "1875/1875 [==============================] - 5s 3ms/step - loss: 0.6575 - root_mean_squared_error: 0.8109 - val_loss: 0.5020 - val_root_mean_squared_error: 0.7085\n",
      "Epoch 50/100\n",
      "1875/1875 [==============================] - 5s 3ms/step - loss: 0.6567 - root_mean_squared_error: 0.8104 - val_loss: 0.5022 - val_root_mean_squared_error: 0.7087\n",
      "Epoch 51/100\n",
      "1866/1875 [============================>.] - ETA: 0s - loss: 0.6545 - root_mean_squared_error: 0.8090"
     ]
    },
    {
     "name": "stderr",
     "output_type": "stream",
     "text": [
      "WARNING:absl:Found untraced functions such as _update_step_xla, lstm_cell_layer_call_fn, lstm_cell_layer_call_and_return_conditional_losses while saving (showing 3 of 3). These functions will not be directly callable after loading.\n"
     ]
    },
    {
     "name": "stdout",
     "output_type": "stream",
     "text": [
      "INFO:tensorflow:Assets written to: model1\\assets\n"
     ]
    },
    {
     "name": "stderr",
     "output_type": "stream",
     "text": [
      "INFO:tensorflow:Assets written to: model1\\assets\n"
     ]
    },
    {
     "name": "stdout",
     "output_type": "stream",
     "text": [
      "1875/1875 [==============================] - 12s 6ms/step - loss: 0.6563 - root_mean_squared_error: 0.8101 - val_loss: 0.4978 - val_root_mean_squared_error: 0.7055\n",
      "Epoch 52/100\n",
      "1875/1875 [==============================] - 5s 3ms/step - loss: 0.6554 - root_mean_squared_error: 0.8096 - val_loss: 0.5049 - val_root_mean_squared_error: 0.7106\n",
      "Epoch 53/100\n",
      "1875/1875 [==============================] - 5s 3ms/step - loss: 0.6548 - root_mean_squared_error: 0.8092 - val_loss: 0.5020 - val_root_mean_squared_error: 0.7086\n",
      "Epoch 54/100\n",
      "1875/1875 [==============================] - 6s 3ms/step - loss: 0.6543 - root_mean_squared_error: 0.8089 - val_loss: 0.5001 - val_root_mean_squared_error: 0.7072\n",
      "Epoch 55/100\n",
      "1862/1875 [============================>.] - ETA: 0s - loss: 0.6530 - root_mean_squared_error: 0.8081"
     ]
    },
    {
     "name": "stderr",
     "output_type": "stream",
     "text": [
      "WARNING:absl:Found untraced functions such as _update_step_xla, lstm_cell_layer_call_fn, lstm_cell_layer_call_and_return_conditional_losses while saving (showing 3 of 3). These functions will not be directly callable after loading.\n"
     ]
    },
    {
     "name": "stdout",
     "output_type": "stream",
     "text": [
      "INFO:tensorflow:Assets written to: model1\\assets\n"
     ]
    },
    {
     "name": "stderr",
     "output_type": "stream",
     "text": [
      "INFO:tensorflow:Assets written to: model1\\assets\n"
     ]
    },
    {
     "name": "stdout",
     "output_type": "stream",
     "text": [
      "1875/1875 [==============================] - 13s 7ms/step - loss: 0.6538 - root_mean_squared_error: 0.8085 - val_loss: 0.4964 - val_root_mean_squared_error: 0.7045\n",
      "Epoch 56/100\n",
      "1861/1875 [============================>.] - ETA: 0s - loss: 0.6540 - root_mean_squared_error: 0.8087"
     ]
    },
    {
     "name": "stderr",
     "output_type": "stream",
     "text": [
      "WARNING:absl:Found untraced functions such as _update_step_xla, lstm_cell_layer_call_fn, lstm_cell_layer_call_and_return_conditional_losses while saving (showing 3 of 3). These functions will not be directly callable after loading.\n"
     ]
    },
    {
     "name": "stdout",
     "output_type": "stream",
     "text": [
      "INFO:tensorflow:Assets written to: model1\\assets\n"
     ]
    },
    {
     "name": "stderr",
     "output_type": "stream",
     "text": [
      "INFO:tensorflow:Assets written to: model1\\assets\n"
     ]
    },
    {
     "name": "stdout",
     "output_type": "stream",
     "text": [
      "1875/1875 [==============================] - 12s 7ms/step - loss: 0.6532 - root_mean_squared_error: 0.8082 - val_loss: 0.4963 - val_root_mean_squared_error: 0.7045\n",
      "Epoch 57/100\n",
      "1875/1875 [==============================] - 5s 3ms/step - loss: 0.6524 - root_mean_squared_error: 0.8077 - val_loss: 0.4980 - val_root_mean_squared_error: 0.7057\n",
      "Epoch 58/100\n",
      "1875/1875 [==============================] - 5s 3ms/step - loss: 0.6521 - root_mean_squared_error: 0.8075 - val_loss: 0.4980 - val_root_mean_squared_error: 0.7057\n",
      "Epoch 59/100\n",
      "1875/1875 [==============================] - 5s 3ms/step - loss: 0.6518 - root_mean_squared_error: 0.8073 - val_loss: 0.5015 - val_root_mean_squared_error: 0.7082\n",
      "Epoch 60/100\n",
      "1875/1875 [==============================] - 5s 3ms/step - loss: 0.6512 - root_mean_squared_error: 0.8070 - val_loss: 0.4995 - val_root_mean_squared_error: 0.7067\n",
      "Epoch 61/100\n",
      "1875/1875 [==============================] - 5s 3ms/step - loss: 0.6504 - root_mean_squared_error: 0.8065 - val_loss: 0.4981 - val_root_mean_squared_error: 0.7058\n",
      "Epoch 62/100\n",
      "1875/1875 [==============================] - 5s 3ms/step - loss: 0.6503 - root_mean_squared_error: 0.8064 - val_loss: 0.5020 - val_root_mean_squared_error: 0.7085\n",
      "Epoch 63/100\n",
      "1875/1875 [==============================] - 6s 3ms/step - loss: 0.6497 - root_mean_squared_error: 0.8060 - val_loss: 0.4967 - val_root_mean_squared_error: 0.7048\n",
      "Epoch 64/100\n",
      "1863/1875 [============================>.] - ETA: 0s - loss: 0.6490 - root_mean_squared_error: 0.8056"
     ]
    },
    {
     "name": "stderr",
     "output_type": "stream",
     "text": [
      "WARNING:absl:Found untraced functions such as _update_step_xla, lstm_cell_layer_call_fn, lstm_cell_layer_call_and_return_conditional_losses while saving (showing 3 of 3). These functions will not be directly callable after loading.\n"
     ]
    },
    {
     "name": "stdout",
     "output_type": "stream",
     "text": [
      "INFO:tensorflow:Assets written to: model1\\assets\n"
     ]
    },
    {
     "name": "stderr",
     "output_type": "stream",
     "text": [
      "INFO:tensorflow:Assets written to: model1\\assets\n"
     ]
    },
    {
     "name": "stdout",
     "output_type": "stream",
     "text": [
      "1875/1875 [==============================] - 12s 6ms/step - loss: 0.6495 - root_mean_squared_error: 0.8059 - val_loss: 0.4961 - val_root_mean_squared_error: 0.7044\n",
      "Epoch 65/100\n",
      "1875/1875 [==============================] - 5s 3ms/step - loss: 0.6490 - root_mean_squared_error: 0.8056 - val_loss: 0.5003 - val_root_mean_squared_error: 0.7073\n",
      "Epoch 66/100\n",
      "1875/1875 [==============================] - 5s 3ms/step - loss: 0.6485 - root_mean_squared_error: 0.8053 - val_loss: 0.5018 - val_root_mean_squared_error: 0.7083\n",
      "Epoch 67/100\n",
      "1875/1875 [==============================] - 5s 3ms/step - loss: 0.6479 - root_mean_squared_error: 0.8050 - val_loss: 0.4972 - val_root_mean_squared_error: 0.7051\n",
      "Epoch 68/100\n",
      "1875/1875 [==============================] - 5s 3ms/step - loss: 0.6478 - root_mean_squared_error: 0.8049 - val_loss: 0.4983 - val_root_mean_squared_error: 0.7059\n",
      "Epoch 69/100\n",
      "1869/1875 [============================>.] - ETA: 0s - loss: 0.6481 - root_mean_squared_error: 0.8051"
     ]
    },
    {
     "name": "stderr",
     "output_type": "stream",
     "text": [
      "WARNING:absl:Found untraced functions such as _update_step_xla, lstm_cell_layer_call_fn, lstm_cell_layer_call_and_return_conditional_losses while saving (showing 3 of 3). These functions will not be directly callable after loading.\n"
     ]
    },
    {
     "name": "stdout",
     "output_type": "stream",
     "text": [
      "INFO:tensorflow:Assets written to: model1\\assets\n"
     ]
    },
    {
     "name": "stderr",
     "output_type": "stream",
     "text": [
      "INFO:tensorflow:Assets written to: model1\\assets\n"
     ]
    },
    {
     "name": "stdout",
     "output_type": "stream",
     "text": [
      "1875/1875 [==============================] - 13s 7ms/step - loss: 0.6475 - root_mean_squared_error: 0.8046 - val_loss: 0.4923 - val_root_mean_squared_error: 0.7017\n",
      "Epoch 70/100\n",
      "1875/1875 [==============================] - 5s 3ms/step - loss: 0.6470 - root_mean_squared_error: 0.8044 - val_loss: 0.4967 - val_root_mean_squared_error: 0.7047\n",
      "Epoch 71/100\n",
      "1875/1875 [==============================] - 5s 3ms/step - loss: 0.6466 - root_mean_squared_error: 0.8041 - val_loss: 0.4943 - val_root_mean_squared_error: 0.7031\n",
      "Epoch 72/100\n",
      "1875/1875 [==============================] - 5s 3ms/step - loss: 0.6462 - root_mean_squared_error: 0.8039 - val_loss: 0.4985 - val_root_mean_squared_error: 0.7061\n",
      "Epoch 73/100\n",
      "1875/1875 [==============================] - 8s 4ms/step - loss: 0.6459 - root_mean_squared_error: 0.8037 - val_loss: 0.4987 - val_root_mean_squared_error: 0.7062\n",
      "Epoch 74/100\n",
      "1875/1875 [==============================] - 8s 4ms/step - loss: 0.6457 - root_mean_squared_error: 0.8036 - val_loss: 0.4972 - val_root_mean_squared_error: 0.7051\n",
      "Epoch 75/100\n",
      "1875/1875 [==============================] - 8s 4ms/step - loss: 0.6455 - root_mean_squared_error: 0.8034 - val_loss: 0.5005 - val_root_mean_squared_error: 0.7075\n",
      "Epoch 76/100\n",
      "1861/1875 [============================>.] - ETA: 0s - loss: 0.6444 - root_mean_squared_error: 0.8027"
     ]
    },
    {
     "name": "stderr",
     "output_type": "stream",
     "text": [
      "WARNING:absl:Found untraced functions such as _update_step_xla, lstm_cell_layer_call_fn, lstm_cell_layer_call_and_return_conditional_losses while saving (showing 3 of 3). These functions will not be directly callable after loading.\n"
     ]
    },
    {
     "name": "stdout",
     "output_type": "stream",
     "text": [
      "INFO:tensorflow:Assets written to: model1\\assets\n"
     ]
    },
    {
     "name": "stderr",
     "output_type": "stream",
     "text": [
      "INFO:tensorflow:Assets written to: model1\\assets\n"
     ]
    },
    {
     "name": "stdout",
     "output_type": "stream",
     "text": [
      "1875/1875 [==============================] - 14s 7ms/step - loss: 0.6450 - root_mean_squared_error: 0.8031 - val_loss: 0.4913 - val_root_mean_squared_error: 0.7009\n",
      "Epoch 77/100\n",
      "1875/1875 [==============================] - 5s 3ms/step - loss: 0.6445 - root_mean_squared_error: 0.8028 - val_loss: 0.4962 - val_root_mean_squared_error: 0.7044\n",
      "Epoch 78/100\n",
      "1873/1875 [============================>.] - ETA: 0s - loss: 0.6443 - root_mean_squared_error: 0.8027"
     ]
    },
    {
     "name": "stderr",
     "output_type": "stream",
     "text": [
      "WARNING:absl:Found untraced functions such as _update_step_xla, lstm_cell_layer_call_fn, lstm_cell_layer_call_and_return_conditional_losses while saving (showing 3 of 3). These functions will not be directly callable after loading.\n"
     ]
    },
    {
     "name": "stdout",
     "output_type": "stream",
     "text": [
      "INFO:tensorflow:Assets written to: model1\\assets\n"
     ]
    },
    {
     "name": "stderr",
     "output_type": "stream",
     "text": [
      "INFO:tensorflow:Assets written to: model1\\assets\n"
     ]
    },
    {
     "name": "stdout",
     "output_type": "stream",
     "text": [
      "1875/1875 [==============================] - 13s 7ms/step - loss: 0.6444 - root_mean_squared_error: 0.8028 - val_loss: 0.4895 - val_root_mean_squared_error: 0.6997\n",
      "Epoch 79/100\n",
      "1875/1875 [==============================] - 6s 3ms/step - loss: 0.6442 - root_mean_squared_error: 0.8026 - val_loss: 0.4977 - val_root_mean_squared_error: 0.7055\n",
      "Epoch 80/100\n",
      "1875/1875 [==============================] - 5s 3ms/step - loss: 0.6439 - root_mean_squared_error: 0.8024 - val_loss: 0.4932 - val_root_mean_squared_error: 0.7023\n",
      "Epoch 81/100\n",
      "1875/1875 [==============================] - 5s 3ms/step - loss: 0.6434 - root_mean_squared_error: 0.8021 - val_loss: 0.5001 - val_root_mean_squared_error: 0.7072\n",
      "Epoch 82/100\n",
      "1875/1875 [==============================] - 5s 3ms/step - loss: 0.6431 - root_mean_squared_error: 0.8019 - val_loss: 0.4941 - val_root_mean_squared_error: 0.7029\n",
      "Epoch 83/100\n",
      "1875/1875 [==============================] - 6s 3ms/step - loss: 0.6429 - root_mean_squared_error: 0.8018 - val_loss: 0.4956 - val_root_mean_squared_error: 0.7040\n",
      "Epoch 84/100\n",
      "1875/1875 [==============================] - 5s 3ms/step - loss: 0.6427 - root_mean_squared_error: 0.8017 - val_loss: 0.4920 - val_root_mean_squared_error: 0.7015\n",
      "Epoch 85/100\n",
      "1875/1875 [==============================] - 5s 3ms/step - loss: 0.6425 - root_mean_squared_error: 0.8015 - val_loss: 0.4938 - val_root_mean_squared_error: 0.7027\n",
      "Epoch 86/100\n",
      "1875/1875 [==============================] - 5s 3ms/step - loss: 0.6423 - root_mean_squared_error: 0.8015 - val_loss: 0.4929 - val_root_mean_squared_error: 0.7021\n",
      "Epoch 87/100\n",
      "1875/1875 [==============================] - 5s 3ms/step - loss: 0.6421 - root_mean_squared_error: 0.8013 - val_loss: 0.4923 - val_root_mean_squared_error: 0.7017\n",
      "Epoch 88/100\n",
      "1875/1875 [==============================] - 5s 3ms/step - loss: 0.6418 - root_mean_squared_error: 0.8011 - val_loss: 0.4933 - val_root_mean_squared_error: 0.7023\n",
      "Epoch 89/100\n",
      "1875/1875 [==============================] - 5s 3ms/step - loss: 0.6413 - root_mean_squared_error: 0.8008 - val_loss: 0.4915 - val_root_mean_squared_error: 0.7011\n",
      "Epoch 90/100\n",
      "1875/1875 [==============================] - 6s 3ms/step - loss: 0.6411 - root_mean_squared_error: 0.8007 - val_loss: 0.4948 - val_root_mean_squared_error: 0.7034\n",
      "Epoch 91/100\n",
      "1875/1875 [==============================] - 5s 3ms/step - loss: 0.6410 - root_mean_squared_error: 0.8006 - val_loss: 0.4921 - val_root_mean_squared_error: 0.7015\n",
      "Epoch 92/100\n",
      "1875/1875 [==============================] - 5s 3ms/step - loss: 0.6408 - root_mean_squared_error: 0.8005 - val_loss: 0.4924 - val_root_mean_squared_error: 0.7017\n",
      "Epoch 93/100\n",
      "1875/1875 [==============================] - 5s 3ms/step - loss: 0.6406 - root_mean_squared_error: 0.8004 - val_loss: 0.4935 - val_root_mean_squared_error: 0.7025\n",
      "Epoch 94/100\n",
      "1875/1875 [==============================] - 5s 3ms/step - loss: 0.6403 - root_mean_squared_error: 0.8002 - val_loss: 0.4921 - val_root_mean_squared_error: 0.7015\n",
      "Epoch 95/100\n",
      "1875/1875 [==============================] - 5s 3ms/step - loss: 0.6403 - root_mean_squared_error: 0.8002 - val_loss: 0.4902 - val_root_mean_squared_error: 0.7001\n",
      "Epoch 96/100\n",
      "1875/1875 [==============================] - 5s 3ms/step - loss: 0.6400 - root_mean_squared_error: 0.8000 - val_loss: 0.5057 - val_root_mean_squared_error: 0.7111\n",
      "Epoch 97/100\n",
      "1863/1875 [============================>.] - ETA: 0s - loss: 0.6388 - root_mean_squared_error: 0.7993"
     ]
    },
    {
     "name": "stderr",
     "output_type": "stream",
     "text": [
      "WARNING:absl:Found untraced functions such as _update_step_xla, lstm_cell_layer_call_fn, lstm_cell_layer_call_and_return_conditional_losses while saving (showing 3 of 3). These functions will not be directly callable after loading.\n"
     ]
    },
    {
     "name": "stdout",
     "output_type": "stream",
     "text": [
      "INFO:tensorflow:Assets written to: model1\\assets\n"
     ]
    },
    {
     "name": "stderr",
     "output_type": "stream",
     "text": [
      "INFO:tensorflow:Assets written to: model1\\assets\n"
     ]
    },
    {
     "name": "stdout",
     "output_type": "stream",
     "text": [
      "1875/1875 [==============================] - 12s 6ms/step - loss: 0.6397 - root_mean_squared_error: 0.7998 - val_loss: 0.4887 - val_root_mean_squared_error: 0.6991\n",
      "Epoch 98/100\n",
      "1875/1875 [==============================] - 5s 3ms/step - loss: 0.6396 - root_mean_squared_error: 0.7997 - val_loss: 0.4936 - val_root_mean_squared_error: 0.7026\n",
      "Epoch 99/100\n",
      "1875/1875 [==============================] - 6s 3ms/step - loss: 0.6393 - root_mean_squared_error: 0.7996 - val_loss: 0.4963 - val_root_mean_squared_error: 0.7045\n",
      "Epoch 100/100\n",
      "1875/1875 [==============================] - 6s 3ms/step - loss: 0.6391 - root_mean_squared_error: 0.7994 - val_loss: 0.4902 - val_root_mean_squared_error: 0.7001\n"
     ]
    },
    {
     "data": {
      "text/plain": [
       "<keras.callbacks.History at 0x1b90f303100>"
      ]
     },
     "execution_count": 25,
     "metadata": {},
     "output_type": "execute_result"
    }
   ],
   "source": [
    "model1.fit(X_train, y_train, validation_data = (X_val, y_val), epochs=100, callbacks=[cp])"
   ]
  },
  {
   "cell_type": "code",
   "execution_count": 26,
   "id": "a9ca2efc",
   "metadata": {},
   "outputs": [],
   "source": [
    "from tensorflow.keras.models import load_model\n",
    "model1 = load_model('model1/')"
   ]
  },
  {
   "cell_type": "code",
   "execution_count": 31,
   "id": "2d52aa2d",
   "metadata": {},
   "outputs": [
    {
     "name": "stdout",
     "output_type": "stream",
     "text": [
      "1875/1875 [==============================] - 3s 1ms/step\n"
     ]
    },
    {
     "data": {
      "text/html": [
       "<div>\n",
       "<style scoped>\n",
       "    .dataframe tbody tr th:only-of-type {\n",
       "        vertical-align: middle;\n",
       "    }\n",
       "\n",
       "    .dataframe tbody tr th {\n",
       "        vertical-align: top;\n",
       "    }\n",
       "\n",
       "    .dataframe thead th {\n",
       "        text-align: right;\n",
       "    }\n",
       "</style>\n",
       "<table border=\"1\" class=\"dataframe\">\n",
       "  <thead>\n",
       "    <tr style=\"text-align: right;\">\n",
       "      <th></th>\n",
       "      <th>Train Predictions</th>\n",
       "      <th>Actuals</th>\n",
       "    </tr>\n",
       "  </thead>\n",
       "  <tbody>\n",
       "    <tr>\n",
       "      <th>0</th>\n",
       "      <td>-9.874640</td>\n",
       "      <td>-9.67</td>\n",
       "    </tr>\n",
       "    <tr>\n",
       "      <th>1</th>\n",
       "      <td>-9.717672</td>\n",
       "      <td>-9.17</td>\n",
       "    </tr>\n",
       "    <tr>\n",
       "      <th>2</th>\n",
       "      <td>-8.776578</td>\n",
       "      <td>-8.10</td>\n",
       "    </tr>\n",
       "    <tr>\n",
       "      <th>3</th>\n",
       "      <td>-7.289771</td>\n",
       "      <td>-7.66</td>\n",
       "    </tr>\n",
       "    <tr>\n",
       "      <th>4</th>\n",
       "      <td>-7.146247</td>\n",
       "      <td>-7.04</td>\n",
       "    </tr>\n",
       "    <tr>\n",
       "      <th>...</th>\n",
       "      <td>...</td>\n",
       "      <td>...</td>\n",
       "    </tr>\n",
       "    <tr>\n",
       "      <th>59995</th>\n",
       "      <td>6.118192</td>\n",
       "      <td>6.07</td>\n",
       "    </tr>\n",
       "    <tr>\n",
       "      <th>59996</th>\n",
       "      <td>7.264373</td>\n",
       "      <td>9.88</td>\n",
       "    </tr>\n",
       "    <tr>\n",
       "      <th>59997</th>\n",
       "      <td>12.330401</td>\n",
       "      <td>13.53</td>\n",
       "    </tr>\n",
       "    <tr>\n",
       "      <th>59998</th>\n",
       "      <td>16.024273</td>\n",
       "      <td>15.43</td>\n",
       "    </tr>\n",
       "    <tr>\n",
       "      <th>59999</th>\n",
       "      <td>16.463074</td>\n",
       "      <td>15.54</td>\n",
       "    </tr>\n",
       "  </tbody>\n",
       "</table>\n",
       "<p>60000 rows × 2 columns</p>\n",
       "</div>"
      ],
      "text/plain": [
       "       Train Predictions  Actuals\n",
       "0              -9.874640    -9.67\n",
       "1              -9.717672    -9.17\n",
       "2              -8.776578    -8.10\n",
       "3              -7.289771    -7.66\n",
       "4              -7.146247    -7.04\n",
       "...                  ...      ...\n",
       "59995           6.118192     6.07\n",
       "59996           7.264373     9.88\n",
       "59997          12.330401    13.53\n",
       "59998          16.024273    15.43\n",
       "59999          16.463074    15.54\n",
       "\n",
       "[60000 rows x 2 columns]"
      ]
     },
     "execution_count": 31,
     "metadata": {},
     "output_type": "execute_result"
    }
   ],
   "source": [
    "train_predictions = model1.predict(X_train).flatten()\n",
    "train_results = pd.DataFrame({\"Train Predictions\": train_predictions, \"Actuals\": y_train})\n",
    "train_results"
   ]
  },
  {
   "cell_type": "code",
   "execution_count": 41,
   "id": "254b6e66",
   "metadata": {},
   "outputs": [
    {
     "data": {
      "text/plain": [
       "Text(0.5, 1.0, 'Train dataset')"
      ]
     },
     "execution_count": 41,
     "metadata": {},
     "output_type": "execute_result"
    },
    {
     "data": {
      "image/png": "[encoded data removed]",
      "text/plain": [
       "<Figure size 432x288 with 1 Axes>"
      ]
     },
     "metadata": {
      "needs_background": "light"
     },
     "output_type": "display_data"
    }
   ],
   "source": [
    "import matplotlib.pyplot as plt\n",
    "plt.plot(train_results['Train Predictions'][:100])\n",
    "plt.plot(train_results['Actuals'][:100])\n",
    "plt.legend([\"Train Predictions\",\"Actuals\"])\n",
    "plt.title('Train dataset')"
   ]
  },
  {
   "cell_type": "code",
   "execution_count": 35,
   "id": "837bae3c",
   "metadata": {},
   "outputs": [
    {
     "name": "stdout",
     "output_type": "stream",
     "text": [
      "157/157 [==============================] - 0s 1ms/step\n"
     ]
    },
    {
     "data": {
      "text/html": [
       "<div>\n",
       "<style scoped>\n",
       "    .dataframe tbody tr th:only-of-type {\n",
       "        vertical-align: middle;\n",
       "    }\n",
       "\n",
       "    .dataframe tbody tr th {\n",
       "        vertical-align: top;\n",
       "    }\n",
       "\n",
       "    .dataframe thead th {\n",
       "        text-align: right;\n",
       "    }\n",
       "</style>\n",
       "<table border=\"1\" class=\"dataframe\">\n",
       "  <thead>\n",
       "    <tr style=\"text-align: right;\">\n",
       "      <th></th>\n",
       "      <th>Validation Predictions</th>\n",
       "      <th>Actuals</th>\n",
       "    </tr>\n",
       "  </thead>\n",
       "  <tbody>\n",
       "    <tr>\n",
       "      <th>0</th>\n",
       "      <td>15.387779</td>\n",
       "      <td>14.02</td>\n",
       "    </tr>\n",
       "    <tr>\n",
       "      <th>1</th>\n",
       "      <td>13.203417</td>\n",
       "      <td>13.67</td>\n",
       "    </tr>\n",
       "    <tr>\n",
       "      <th>2</th>\n",
       "      <td>13.103407</td>\n",
       "      <td>12.27</td>\n",
       "    </tr>\n",
       "    <tr>\n",
       "      <th>3</th>\n",
       "      <td>11.527019</td>\n",
       "      <td>11.19</td>\n",
       "    </tr>\n",
       "    <tr>\n",
       "      <th>4</th>\n",
       "      <td>10.443669</td>\n",
       "      <td>10.85</td>\n",
       "    </tr>\n",
       "    <tr>\n",
       "      <th>...</th>\n",
       "      <td>...</td>\n",
       "      <td>...</td>\n",
       "    </tr>\n",
       "    <tr>\n",
       "      <th>4995</th>\n",
       "      <td>17.356825</td>\n",
       "      <td>18.27</td>\n",
       "    </tr>\n",
       "    <tr>\n",
       "      <th>4996</th>\n",
       "      <td>17.407610</td>\n",
       "      <td>17.85</td>\n",
       "    </tr>\n",
       "    <tr>\n",
       "      <th>4997</th>\n",
       "      <td>17.182362</td>\n",
       "      <td>16.65</td>\n",
       "    </tr>\n",
       "    <tr>\n",
       "      <th>4998</th>\n",
       "      <td>15.873108</td>\n",
       "      <td>15.85</td>\n",
       "    </tr>\n",
       "    <tr>\n",
       "      <th>4999</th>\n",
       "      <td>15.100220</td>\n",
       "      <td>15.09</td>\n",
       "    </tr>\n",
       "  </tbody>\n",
       "</table>\n",
       "<p>5000 rows × 2 columns</p>\n",
       "</div>"
      ],
      "text/plain": [
       "      Validation Predictions  Actuals\n",
       "0                  15.387779    14.02\n",
       "1                  13.203417    13.67\n",
       "2                  13.103407    12.27\n",
       "3                  11.527019    11.19\n",
       "4                  10.443669    10.85\n",
       "...                      ...      ...\n",
       "4995               17.356825    18.27\n",
       "4996               17.407610    17.85\n",
       "4997               17.182362    16.65\n",
       "4998               15.873108    15.85\n",
       "4999               15.100220    15.09\n",
       "\n",
       "[5000 rows x 2 columns]"
      ]
     },
     "execution_count": 35,
     "metadata": {},
     "output_type": "execute_result"
    }
   ],
   "source": [
    "val_predictions = model1.predict(X_val).flatten()\n",
    "val_results = pd.DataFrame({\"Validation Predictions\": val_predictions, \"Actuals\": y_val})\n",
    "val_results"
   ]
  },
  {
   "cell_type": "code",
   "execution_count": 40,
   "id": "bfad3d0f",
   "metadata": {},
   "outputs": [
    {
     "data": {
      "text/plain": [
       "Text(0.5, 1.0, 'Validation dataset')"
      ]
     },
     "execution_count": 40,
     "metadata": {},
     "output_type": "execute_result"
    },
    {
     "data": {
      "image/png": "[encoded data removed]",
      "text/plain": [
       "<Figure size 432x288 with 1 Axes>"
      ]
     },
     "metadata": {
      "needs_background": "light"
     },
     "output_type": "display_data"
    }
   ],
   "source": [
    "import matplotlib.pyplot as plt\n",
    "plt.plot(val_results['Validation Predictions'][:100])\n",
    "plt.plot(val_results['Actuals'][:100])\n",
    "plt.legend([\"Validation Predictions\",\"Actuals\"])\n",
    "plt.title('Validation dataset')"
   ]
  },
  {
   "cell_type": "code",
   "execution_count": 37,
   "id": "64a0521d",
   "metadata": {},
   "outputs": [
    {
     "name": "stdout",
     "output_type": "stream",
     "text": [
      "159/159 [==============================] - 0s 1ms/step\n"
     ]
    },
    {
     "data": {
      "text/html": [
       "<div>\n",
       "<style scoped>\n",
       "    .dataframe tbody tr th:only-of-type {\n",
       "        vertical-align: middle;\n",
       "    }\n",
       "\n",
       "    .dataframe tbody tr th {\n",
       "        vertical-align: top;\n",
       "    }\n",
       "\n",
       "    .dataframe thead th {\n",
       "        text-align: right;\n",
       "    }\n",
       "</style>\n",
       "<table border=\"1\" class=\"dataframe\">\n",
       "  <thead>\n",
       "    <tr style=\"text-align: right;\">\n",
       "      <th></th>\n",
       "      <th>Test Predictions</th>\n",
       "      <th>Actuals</th>\n",
       "    </tr>\n",
       "  </thead>\n",
       "  <tbody>\n",
       "    <tr>\n",
       "      <th>0</th>\n",
       "      <td>14.415404</td>\n",
       "      <td>13.99</td>\n",
       "    </tr>\n",
       "    <tr>\n",
       "      <th>1</th>\n",
       "      <td>13.277983</td>\n",
       "      <td>13.46</td>\n",
       "    </tr>\n",
       "    <tr>\n",
       "      <th>2</th>\n",
       "      <td>12.901031</td>\n",
       "      <td>12.93</td>\n",
       "    </tr>\n",
       "    <tr>\n",
       "      <th>3</th>\n",
       "      <td>12.492652</td>\n",
       "      <td>12.43</td>\n",
       "    </tr>\n",
       "    <tr>\n",
       "      <th>4</th>\n",
       "      <td>12.058166</td>\n",
       "      <td>12.17</td>\n",
       "    </tr>\n",
       "    <tr>\n",
       "      <th>...</th>\n",
       "      <td>...</td>\n",
       "      <td>...</td>\n",
       "    </tr>\n",
       "    <tr>\n",
       "      <th>5081</th>\n",
       "      <td>-0.968966</td>\n",
       "      <td>-0.98</td>\n",
       "    </tr>\n",
       "    <tr>\n",
       "      <th>5082</th>\n",
       "      <td>-1.542173</td>\n",
       "      <td>-1.40</td>\n",
       "    </tr>\n",
       "    <tr>\n",
       "      <th>5083</th>\n",
       "      <td>-1.761845</td>\n",
       "      <td>-2.75</td>\n",
       "    </tr>\n",
       "    <tr>\n",
       "      <th>5084</th>\n",
       "      <td>-3.199624</td>\n",
       "      <td>-2.89</td>\n",
       "    </tr>\n",
       "    <tr>\n",
       "      <th>5085</th>\n",
       "      <td>-3.149828</td>\n",
       "      <td>-3.93</td>\n",
       "    </tr>\n",
       "  </tbody>\n",
       "</table>\n",
       "<p>5086 rows × 2 columns</p>\n",
       "</div>"
      ],
      "text/plain": [
       "      Test Predictions  Actuals\n",
       "0            14.415404    13.99\n",
       "1            13.277983    13.46\n",
       "2            12.901031    12.93\n",
       "3            12.492652    12.43\n",
       "4            12.058166    12.17\n",
       "...                ...      ...\n",
       "5081         -0.968966    -0.98\n",
       "5082         -1.542173    -1.40\n",
       "5083         -1.761845    -2.75\n",
       "5084         -3.199624    -2.89\n",
       "5085         -3.149828    -3.93\n",
       "\n",
       "[5086 rows x 2 columns]"
      ]
     },
     "execution_count": 37,
     "metadata": {},
     "output_type": "execute_result"
    }
   ],
   "source": [
    "test_predictions = model1.predict(X_test).flatten()\n",
    "test_results = pd.DataFrame({\"Test Predictions\": test_predictions, \"Actuals\": y_test})\n",
    "test_results"
   ]
  },
  {
   "cell_type": "code",
   "execution_count": 39,
   "id": "88fc3ae7",
   "metadata": {},
   "outputs": [
    {
     "data": {
      "text/plain": [
       "Text(0.5, 1.0, 'Test dataset')"
      ]
     },
     "execution_count": 39,
     "metadata": {},
     "output_type": "execute_result"
    },
    {
     "data": {
      "image/png": "[encoded data removed]",
      "text/plain": [
       "<Figure size 432x288 with 1 Axes>"
      ]
     },
     "metadata": {
      "needs_background": "light"
     },
     "output_type": "display_data"
    }
   ],
   "source": [
    "import matplotlib.pyplot as plt\n",
    "plt.plot(test_results['Test Predictions'][:100])\n",
    "plt.plot(test_results['Actuals'][:100])\n",
    "plt.legend([\"Test Predictions\",\"Actuals\"])\n",
    "plt.title('Test dataset')"
   ]
  },
  {
   "cell_type": "markdown",
   "id": "2786d773",
   "metadata": {},
   "source": [
    "# Lets use different models\n",
    "### 1DCNN"
   ]
  },
  {
   "cell_type": "code",
   "execution_count": 43,
   "id": "cfa83f43",
   "metadata": {},
   "outputs": [],
   "source": [
    "from sklearn.metrics import mean_squared_error as mse\n",
    "\n",
    "def plot_predictions1(model, X, y, start=0, end=100):\n",
    "    predictions = model.predict(X).flatten()\n",
    "    df = pd.DataFrame(data = {\"Predictions\": predictions, \"Actuals\": y})\n",
    "    plt.plot(df['Predictions'][start:end])\n",
    "    plt.plot(df['Actuals'][start:end])\n",
    "    plt.legend([\"Predictions\",\"Actuals\"])\n",
    "    return df, mse(y, predictions)"
   ]
  },
  {
   "cell_type": "code",
   "execution_count": 44,
   "id": "02a85a23",
   "metadata": {},
   "outputs": [
    {
     "name": "stdout",
     "output_type": "stream",
     "text": [
      "159/159 [==============================] - 0s 2ms/step\n"
     ]
    },
    {
     "data": {
      "text/plain": [
       "(      Predictions  Actuals\n",
       " 0       14.415404    13.99\n",
       " 1       13.277983    13.46\n",
       " 2       12.901031    12.93\n",
       " 3       12.492652    12.43\n",
       " 4       12.058166    12.17\n",
       " ...           ...      ...\n",
       " 5081    -0.968966    -0.98\n",
       " 5082    -1.542173    -1.40\n",
       " 5083    -1.761845    -2.75\n",
       " 5084    -3.199624    -2.89\n",
       " 5085    -3.149828    -3.93\n",
       " \n",
       " [5086 rows x 2 columns],\n",
       " 0.6262389605045895)"
      ]
     },
     "execution_count": 44,
     "metadata": {},
     "output_type": "execute_result"
    },
    {
     "data": {
      "image/png": "[encoded data removed]",
      "text/plain": [
       "<Figure size 432x288 with 1 Axes>"
      ]
     },
     "metadata": {
      "needs_background": "light"
     },
     "output_type": "display_data"
    }
   ],
   "source": [
    "plot_predictions1(model1, X_test, y_test)"
   ]
  },
  {
   "cell_type": "code",
   "execution_count": 45,
   "id": "01090fb7",
   "metadata": {},
   "outputs": [
    {
     "name": "stdout",
     "output_type": "stream",
     "text": [
      "Model: \"sequential_1\"\n",
      "_________________________________________________________________\n",
      " Layer (type)                Output Shape              Param #   \n",
      "=================================================================\n",
      " conv1d (Conv1D)             (None, 4, 64)             192       \n",
      "                                                                 \n",
      " flatten (Flatten)           (None, 256)               0         \n",
      "                                                                 \n",
      " dense_2 (Dense)             (None, 8)                 2056      \n",
      "                                                                 \n",
      " dense_3 (Dense)             (None, 1)                 9         \n",
      "                                                                 \n",
      "=================================================================\n",
      "Total params: 2,257\n",
      "Trainable params: 2,257\n",
      "Non-trainable params: 0\n",
      "_________________________________________________________________\n"
     ]
    }
   ],
   "source": [
    "model2 = Sequential()\n",
    "model2.add(InputLayer((5,1))) # a batch of 5\n",
    "model2.add(Conv1D(64, kernel_size=2)) # kernel takes 2 things and turns them into 1 and it will do this 64 times\n",
    "model2.add(Flatten()) # 1D\n",
    "model2.add(Dense(8, 'relu'))\n",
    "model2.add(Dense(1, 'linear')) # output\n",
    "\n",
    "model2.summary()"
   ]
  },
  {
   "cell_type": "markdown",
   "id": "de0dc171",
   "metadata": {},
   "source": [
    "Woah....those are very less parameters than the LSTM model (model1)\n",
    "\n",
    "Lower the parameters in the model (complexity), faster the model"
   ]
  },
  {
   "cell_type": "code",
   "execution_count": 46,
   "id": "bfe3dbbf",
   "metadata": {},
   "outputs": [],
   "source": [
    "cp2 = ModelCheckpoint('model2/', save_best_only=True)\n",
    "model2.compile(loss = MeanSquaredError(), optimizer = Adam(learning_rate=0.00001), metrics=[RootMeanSquaredError()])"
   ]
  },
  {
   "cell_type": "code",
   "execution_count": 47,
   "id": "e590dee0",
   "metadata": {},
   "outputs": [
    {
     "name": "stdout",
     "output_type": "stream",
     "text": [
      "Epoch 1/100\n",
      "1855/1875 [============================>.] - ETA: 0s - loss: 38.2425 - root_mean_squared_error: 6.1841"
     ]
    },
    {
     "name": "stderr",
     "output_type": "stream",
     "text": [
      "WARNING:absl:Found untraced functions such as _jit_compiled_convolution_op, _update_step_xla while saving (showing 2 of 2). These functions will not be directly callable after loading.\n"
     ]
    },
    {
     "name": "stdout",
     "output_type": "stream",
     "text": [
      "INFO:tensorflow:Assets written to: model2\\assets\n"
     ]
    },
    {
     "name": "stderr",
     "output_type": "stream",
     "text": [
      "INFO:tensorflow:Assets written to: model2\\assets\n"
     ]
    },
    {
     "name": "stdout",
     "output_type": "stream",
     "text": [
      "1875/1875 [==============================] - 8s 4ms/step - loss: 37.9370 - root_mean_squared_error: 6.1593 - val_loss: 5.2339 - val_root_mean_squared_error: 2.2878\n",
      "Epoch 2/100\n",
      "1854/1875 [============================>.] - ETA: 0s - loss: 8.9848 - root_mean_squared_error: 2.9975"
     ]
    },
    {
     "name": "stderr",
     "output_type": "stream",
     "text": [
      "WARNING:absl:Found untraced functions such as _jit_compiled_convolution_op, _update_step_xla while saving (showing 2 of 2). These functions will not be directly callable after loading.\n"
     ]
    },
    {
     "name": "stdout",
     "output_type": "stream",
     "text": [
      "INFO:tensorflow:Assets written to: model2\\assets\n"
     ]
    },
    {
     "name": "stderr",
     "output_type": "stream",
     "text": [
      "INFO:tensorflow:Assets written to: model2\\assets\n"
     ]
    },
    {
     "name": "stdout",
     "output_type": "stream",
     "text": [
      "1875/1875 [==============================] - 4s 2ms/step - loss: 8.9807 - root_mean_squared_error: 2.9968 - val_loss: 4.2681 - val_root_mean_squared_error: 2.0659\n",
      "Epoch 3/100\n",
      "1859/1875 [============================>.] - ETA: 0s - loss: 6.8876 - root_mean_squared_error: 2.6244"
     ]
    },
    {
     "name": "stderr",
     "output_type": "stream",
     "text": [
      "WARNING:absl:Found untraced functions such as _jit_compiled_convolution_op, _update_step_xla while saving (showing 2 of 2). These functions will not be directly callable after loading.\n"
     ]
    },
    {
     "name": "stdout",
     "output_type": "stream",
     "text": [
      "INFO:tensorflow:Assets written to: model2\\assets\n"
     ]
    },
    {
     "name": "stderr",
     "output_type": "stream",
     "text": [
      "INFO:tensorflow:Assets written to: model2\\assets\n"
     ]
    },
    {
     "name": "stdout",
     "output_type": "stream",
     "text": [
      "1875/1875 [==============================] - 5s 3ms/step - loss: 6.8730 - root_mean_squared_error: 2.6216 - val_loss: 3.0784 - val_root_mean_squared_error: 1.7545\n",
      "Epoch 4/100\n",
      "1835/1875 [============================>.] - ETA: 0s - loss: 4.5885 - root_mean_squared_error: 2.1421"
     ]
    },
    {
     "name": "stderr",
     "output_type": "stream",
     "text": [
      "WARNING:absl:Found untraced functions such as _jit_compiled_convolution_op, _update_step_xla while saving (showing 2 of 2). These functions will not be directly callable after loading.\n"
     ]
    },
    {
     "name": "stdout",
     "output_type": "stream",
     "text": [
      "INFO:tensorflow:Assets written to: model2\\assets\n"
     ]
    },
    {
     "name": "stderr",
     "output_type": "stream",
     "text": [
      "INFO:tensorflow:Assets written to: model2\\assets\n"
     ]
    },
    {
     "name": "stdout",
     "output_type": "stream",
     "text": [
      "1875/1875 [==============================] - 4s 2ms/step - loss: 4.5620 - root_mean_squared_error: 2.1359 - val_loss: 1.9991 - val_root_mean_squared_error: 1.4139\n",
      "Epoch 5/100\n",
      "1873/1875 [============================>.] - ETA: 0s - loss: 2.6923 - root_mean_squared_error: 1.6408"
     ]
    },
    {
     "name": "stderr",
     "output_type": "stream",
     "text": [
      "WARNING:absl:Found untraced functions such as _jit_compiled_convolution_op, _update_step_xla while saving (showing 2 of 2). These functions will not be directly callable after loading.\n"
     ]
    },
    {
     "name": "stdout",
     "output_type": "stream",
     "text": [
      "INFO:tensorflow:Assets written to: model2\\assets\n"
     ]
    },
    {
     "name": "stderr",
     "output_type": "stream",
     "text": [
      "INFO:tensorflow:Assets written to: model2\\assets\n"
     ]
    },
    {
     "name": "stdout",
     "output_type": "stream",
     "text": [
      "1875/1875 [==============================] - 6s 3ms/step - loss: 2.6907 - root_mean_squared_error: 1.6403 - val_loss: 1.3088 - val_root_mean_squared_error: 1.1440\n",
      "Epoch 6/100\n",
      "1875/1875 [==============================] - ETA: 0s - loss: 1.6536 - root_mean_squared_error: 1.2859"
     ]
    },
    {
     "name": "stderr",
     "output_type": "stream",
     "text": [
      "WARNING:absl:Found untraced functions such as _jit_compiled_convolution_op, _update_step_xla while saving (showing 2 of 2). These functions will not be directly callable after loading.\n"
     ]
    },
    {
     "name": "stdout",
     "output_type": "stream",
     "text": [
      "INFO:tensorflow:Assets written to: model2\\assets\n"
     ]
    },
    {
     "name": "stderr",
     "output_type": "stream",
     "text": [
      "INFO:tensorflow:Assets written to: model2\\assets\n"
     ]
    },
    {
     "name": "stdout",
     "output_type": "stream",
     "text": [
      "1875/1875 [==============================] - 3s 2ms/step - loss: 1.6536 - root_mean_squared_error: 1.2859 - val_loss: 1.0281 - val_root_mean_squared_error: 1.0140\n",
      "Epoch 7/100\n",
      "1865/1875 [============================>.] - ETA: 0s - loss: 1.2982 - root_mean_squared_error: 1.1394"
     ]
    },
    {
     "name": "stderr",
     "output_type": "stream",
     "text": [
      "WARNING:absl:Found untraced functions such as _jit_compiled_convolution_op, _update_step_xla while saving (showing 2 of 2). These functions will not be directly callable after loading.\n"
     ]
    },
    {
     "name": "stdout",
     "output_type": "stream",
     "text": [
      "INFO:tensorflow:Assets written to: model2\\assets\n"
     ]
    },
    {
     "name": "stderr",
     "output_type": "stream",
     "text": [
      "INFO:tensorflow:Assets written to: model2\\assets\n"
     ]
    },
    {
     "name": "stdout",
     "output_type": "stream",
     "text": [
      "1875/1875 [==============================] - 6s 3ms/step - loss: 1.2979 - root_mean_squared_error: 1.1393 - val_loss: 0.9433 - val_root_mean_squared_error: 0.9712\n",
      "Epoch 8/100\n",
      "1870/1875 [============================>.] - ETA: 0s - loss: 1.1750 - root_mean_squared_error: 1.0840"
     ]
    },
    {
     "name": "stderr",
     "output_type": "stream",
     "text": [
      "WARNING:absl:Found untraced functions such as _jit_compiled_convolution_op, _update_step_xla while saving (showing 2 of 2). These functions will not be directly callable after loading.\n"
     ]
    },
    {
     "name": "stdout",
     "output_type": "stream",
     "text": [
      "INFO:tensorflow:Assets written to: model2\\assets\n"
     ]
    },
    {
     "name": "stderr",
     "output_type": "stream",
     "text": [
      "INFO:tensorflow:Assets written to: model2\\assets\n"
     ]
    },
    {
     "name": "stdout",
     "output_type": "stream",
     "text": [
      "1875/1875 [==============================] - 3s 2ms/step - loss: 1.1745 - root_mean_squared_error: 1.0837 - val_loss: 0.8682 - val_root_mean_squared_error: 0.9318\n",
      "Epoch 9/100\n",
      "1864/1875 [============================>.] - ETA: 0s - loss: 1.0898 - root_mean_squared_error: 1.0439"
     ]
    },
    {
     "name": "stderr",
     "output_type": "stream",
     "text": [
      "WARNING:absl:Found untraced functions such as _jit_compiled_convolution_op, _update_step_xla while saving (showing 2 of 2). These functions will not be directly callable after loading.\n"
     ]
    },
    {
     "name": "stdout",
     "output_type": "stream",
     "text": [
      "INFO:tensorflow:Assets written to: model2\\assets\n"
     ]
    },
    {
     "name": "stderr",
     "output_type": "stream",
     "text": [
      "INFO:tensorflow:Assets written to: model2\\assets\n"
     ]
    },
    {
     "name": "stdout",
     "output_type": "stream",
     "text": [
      "1875/1875 [==============================] - 7s 4ms/step - loss: 1.0890 - root_mean_squared_error: 1.0435 - val_loss: 0.8152 - val_root_mean_squared_error: 0.9029\n",
      "Epoch 10/100\n",
      "1855/1875 [============================>.] - ETA: 0s - loss: 1.0219 - root_mean_squared_error: 1.0109"
     ]
    },
    {
     "name": "stderr",
     "output_type": "stream",
     "text": [
      "WARNING:absl:Found untraced functions such as _jit_compiled_convolution_op, _update_step_xla while saving (showing 2 of 2). These functions will not be directly callable after loading.\n"
     ]
    },
    {
     "name": "stdout",
     "output_type": "stream",
     "text": [
      "INFO:tensorflow:Assets written to: model2\\assets\n"
     ]
    },
    {
     "name": "stderr",
     "output_type": "stream",
     "text": [
      "INFO:tensorflow:Assets written to: model2\\assets\n"
     ]
    },
    {
     "name": "stdout",
     "output_type": "stream",
     "text": [
      "1875/1875 [==============================] - 3s 2ms/step - loss: 1.0216 - root_mean_squared_error: 1.0107 - val_loss: 0.7862 - val_root_mean_squared_error: 0.8867\n",
      "Epoch 11/100\n",
      "1868/1875 [============================>.] - ETA: 0s - loss: 0.9676 - root_mean_squared_error: 0.9837"
     ]
    },
    {
     "name": "stderr",
     "output_type": "stream",
     "text": [
      "WARNING:absl:Found untraced functions such as _jit_compiled_convolution_op, _update_step_xla while saving (showing 2 of 2). These functions will not be directly callable after loading.\n"
     ]
    },
    {
     "name": "stdout",
     "output_type": "stream",
     "text": [
      "INFO:tensorflow:Assets written to: model2\\assets\n"
     ]
    },
    {
     "name": "stderr",
     "output_type": "stream",
     "text": [
      "INFO:tensorflow:Assets written to: model2\\assets\n"
     ]
    },
    {
     "name": "stdout",
     "output_type": "stream",
     "text": [
      "1875/1875 [==============================] - 6s 3ms/step - loss: 0.9676 - root_mean_squared_error: 0.9837 - val_loss: 0.7470 - val_root_mean_squared_error: 0.8643\n",
      "Epoch 12/100\n",
      "1822/1875 [============================>.] - ETA: 0s - loss: 0.9212 - root_mean_squared_error: 0.9598"
     ]
    },
    {
     "name": "stderr",
     "output_type": "stream",
     "text": [
      "WARNING:absl:Found untraced functions such as _jit_compiled_convolution_op, _update_step_xla while saving (showing 2 of 2). These functions will not be directly callable after loading.\n"
     ]
    },
    {
     "name": "stdout",
     "output_type": "stream",
     "text": [
      "INFO:tensorflow:Assets written to: model2\\assets\n"
     ]
    },
    {
     "name": "stderr",
     "output_type": "stream",
     "text": [
      "INFO:tensorflow:Assets written to: model2\\assets\n"
     ]
    },
    {
     "name": "stdout",
     "output_type": "stream",
     "text": [
      "1875/1875 [==============================] - 4s 2ms/step - loss: 0.9232 - root_mean_squared_error: 0.9609 - val_loss: 0.7188 - val_root_mean_squared_error: 0.8478\n",
      "Epoch 13/100\n",
      "1843/1875 [============================>.] - ETA: 0s - loss: 0.8881 - root_mean_squared_error: 0.9424"
     ]
    },
    {
     "name": "stderr",
     "output_type": "stream",
     "text": [
      "WARNING:absl:Found untraced functions such as _jit_compiled_convolution_op, _update_step_xla while saving (showing 2 of 2). These functions will not be directly callable after loading.\n"
     ]
    },
    {
     "name": "stdout",
     "output_type": "stream",
     "text": [
      "INFO:tensorflow:Assets written to: model2\\assets\n"
     ]
    },
    {
     "name": "stderr",
     "output_type": "stream",
     "text": [
      "INFO:tensorflow:Assets written to: model2\\assets\n"
     ]
    },
    {
     "name": "stdout",
     "output_type": "stream",
     "text": [
      "1875/1875 [==============================] - 3s 2ms/step - loss: 0.8868 - root_mean_squared_error: 0.9417 - val_loss: 0.6889 - val_root_mean_squared_error: 0.8300\n",
      "Epoch 14/100\n",
      "1852/1875 [============================>.] - ETA: 0s - loss: 0.8562 - root_mean_squared_error: 0.9253"
     ]
    },
    {
     "name": "stderr",
     "output_type": "stream",
     "text": [
      "WARNING:absl:Found untraced functions such as _jit_compiled_convolution_op, _update_step_xla while saving (showing 2 of 2). These functions will not be directly callable after loading.\n"
     ]
    },
    {
     "name": "stdout",
     "output_type": "stream",
     "text": [
      "INFO:tensorflow:Assets written to: model2\\assets\n"
     ]
    },
    {
     "name": "stderr",
     "output_type": "stream",
     "text": [
      "INFO:tensorflow:Assets written to: model2\\assets\n"
     ]
    },
    {
     "name": "stdout",
     "output_type": "stream",
     "text": [
      "1875/1875 [==============================] - 3s 1ms/step - loss: 0.8565 - root_mean_squared_error: 0.9255 - val_loss: 0.6632 - val_root_mean_squared_error: 0.8144\n",
      "Epoch 15/100\n",
      "1855/1875 [============================>.] - ETA: 0s - loss: 0.8318 - root_mean_squared_error: 0.9120"
     ]
    },
    {
     "name": "stderr",
     "output_type": "stream",
     "text": [
      "WARNING:absl:Found untraced functions such as _jit_compiled_convolution_op, _update_step_xla while saving (showing 2 of 2). These functions will not be directly callable after loading.\n"
     ]
    },
    {
     "name": "stdout",
     "output_type": "stream",
     "text": [
      "INFO:tensorflow:Assets written to: model2\\assets\n"
     ]
    },
    {
     "name": "stderr",
     "output_type": "stream",
     "text": [
      "INFO:tensorflow:Assets written to: model2\\assets\n"
     ]
    },
    {
     "name": "stdout",
     "output_type": "stream",
     "text": [
      "1875/1875 [==============================] - 3s 2ms/step - loss: 0.8318 - root_mean_squared_error: 0.9121 - val_loss: 0.6508 - val_root_mean_squared_error: 0.8067\n",
      "Epoch 16/100\n",
      "1825/1875 [============================>.] - ETA: 0s - loss: 0.8100 - root_mean_squared_error: 0.9000"
     ]
    },
    {
     "name": "stderr",
     "output_type": "stream",
     "text": [
      "WARNING:absl:Found untraced functions such as _jit_compiled_convolution_op, _update_step_xla while saving (showing 2 of 2). These functions will not be directly callable after loading.\n"
     ]
    },
    {
     "name": "stdout",
     "output_type": "stream",
     "text": [
      "INFO:tensorflow:Assets written to: model2\\assets\n"
     ]
    },
    {
     "name": "stderr",
     "output_type": "stream",
     "text": [
      "INFO:tensorflow:Assets written to: model2\\assets\n"
     ]
    },
    {
     "name": "stdout",
     "output_type": "stream",
     "text": [
      "1875/1875 [==============================] - 3s 2ms/step - loss: 0.8110 - root_mean_squared_error: 0.9006 - val_loss: 0.6424 - val_root_mean_squared_error: 0.8015\n",
      "Epoch 17/100\n",
      "1845/1875 [============================>.] - ETA: 0s - loss: 0.7933 - root_mean_squared_error: 0.8907"
     ]
    },
    {
     "name": "stderr",
     "output_type": "stream",
     "text": [
      "WARNING:absl:Found untraced functions such as _jit_compiled_convolution_op, _update_step_xla while saving (showing 2 of 2). These functions will not be directly callable after loading.\n"
     ]
    },
    {
     "name": "stdout",
     "output_type": "stream",
     "text": [
      "INFO:tensorflow:Assets written to: model2\\assets\n"
     ]
    },
    {
     "name": "stderr",
     "output_type": "stream",
     "text": [
      "INFO:tensorflow:Assets written to: model2\\assets\n"
     ]
    },
    {
     "name": "stdout",
     "output_type": "stream",
     "text": [
      "1875/1875 [==============================] - 3s 1ms/step - loss: 0.7939 - root_mean_squared_error: 0.8910 - val_loss: 0.6199 - val_root_mean_squared_error: 0.7873\n",
      "Epoch 18/100\n",
      "1815/1875 [============================>.] - ETA: 0s - loss: 0.7783 - root_mean_squared_error: 0.8822"
     ]
    },
    {
     "name": "stderr",
     "output_type": "stream",
     "text": [
      "WARNING:absl:Found untraced functions such as _jit_compiled_convolution_op, _update_step_xla while saving (showing 2 of 2). These functions will not be directly callable after loading.\n"
     ]
    },
    {
     "name": "stdout",
     "output_type": "stream",
     "text": [
      "INFO:tensorflow:Assets written to: model2\\assets\n"
     ]
    },
    {
     "name": "stderr",
     "output_type": "stream",
     "text": [
      "INFO:tensorflow:Assets written to: model2\\assets\n"
     ]
    },
    {
     "name": "stdout",
     "output_type": "stream",
     "text": [
      "1875/1875 [==============================] - 3s 1ms/step - loss: 0.7797 - root_mean_squared_error: 0.8830 - val_loss: 0.6084 - val_root_mean_squared_error: 0.7800\n",
      "Epoch 19/100\n",
      "1850/1875 [============================>.] - ETA: 0s - loss: 0.7644 - root_mean_squared_error: 0.8743"
     ]
    },
    {
     "name": "stderr",
     "output_type": "stream",
     "text": [
      "WARNING:absl:Found untraced functions such as _jit_compiled_convolution_op, _update_step_xla while saving (showing 2 of 2). These functions will not be directly callable after loading.\n"
     ]
    },
    {
     "name": "stdout",
     "output_type": "stream",
     "text": [
      "INFO:tensorflow:Assets written to: model2\\assets\n"
     ]
    },
    {
     "name": "stderr",
     "output_type": "stream",
     "text": [
      "INFO:tensorflow:Assets written to: model2\\assets\n"
     ]
    },
    {
     "name": "stdout",
     "output_type": "stream",
     "text": [
      "1875/1875 [==============================] - 3s 2ms/step - loss: 0.7670 - root_mean_squared_error: 0.8758 - val_loss: 0.5984 - val_root_mean_squared_error: 0.7735\n",
      "Epoch 20/100\n",
      "1859/1875 [============================>.] - ETA: 0s - loss: 0.7559 - root_mean_squared_error: 0.8694"
     ]
    },
    {
     "name": "stderr",
     "output_type": "stream",
     "text": [
      "WARNING:absl:Found untraced functions such as _jit_compiled_convolution_op, _update_step_xla while saving (showing 2 of 2). These functions will not be directly callable after loading.\n"
     ]
    },
    {
     "name": "stdout",
     "output_type": "stream",
     "text": [
      "INFO:tensorflow:Assets written to: model2\\assets\n"
     ]
    },
    {
     "name": "stderr",
     "output_type": "stream",
     "text": [
      "INFO:tensorflow:Assets written to: model2\\assets\n"
     ]
    },
    {
     "name": "stdout",
     "output_type": "stream",
     "text": [
      "1875/1875 [==============================] - 3s 2ms/step - loss: 0.7562 - root_mean_squared_error: 0.8696 - val_loss: 0.5885 - val_root_mean_squared_error: 0.7671\n",
      "Epoch 21/100\n",
      "1827/1875 [============================>.] - ETA: 0s - loss: 0.7480 - root_mean_squared_error: 0.8649"
     ]
    },
    {
     "name": "stderr",
     "output_type": "stream",
     "text": [
      "WARNING:absl:Found untraced functions such as _jit_compiled_convolution_op, _update_step_xla while saving (showing 2 of 2). These functions will not be directly callable after loading.\n"
     ]
    },
    {
     "name": "stdout",
     "output_type": "stream",
     "text": [
      "INFO:tensorflow:Assets written to: model2\\assets\n"
     ]
    },
    {
     "name": "stderr",
     "output_type": "stream",
     "text": [
      "INFO:tensorflow:Assets written to: model2\\assets\n"
     ]
    },
    {
     "name": "stdout",
     "output_type": "stream",
     "text": [
      "1875/1875 [==============================] - 3s 1ms/step - loss: 0.7474 - root_mean_squared_error: 0.8645 - val_loss: 0.5835 - val_root_mean_squared_error: 0.7639\n",
      "Epoch 22/100\n",
      "1833/1875 [============================>.] - ETA: 0s - loss: 0.7398 - root_mean_squared_error: 0.8601"
     ]
    },
    {
     "name": "stderr",
     "output_type": "stream",
     "text": [
      "WARNING:absl:Found untraced functions such as _jit_compiled_convolution_op, _update_step_xla while saving (showing 2 of 2). These functions will not be directly callable after loading.\n"
     ]
    },
    {
     "name": "stdout",
     "output_type": "stream",
     "text": [
      "INFO:tensorflow:Assets written to: model2\\assets\n"
     ]
    },
    {
     "name": "stderr",
     "output_type": "stream",
     "text": [
      "INFO:tensorflow:Assets written to: model2\\assets\n"
     ]
    },
    {
     "name": "stdout",
     "output_type": "stream",
     "text": [
      "1875/1875 [==============================] - 3s 1ms/step - loss: 0.7390 - root_mean_squared_error: 0.8597 - val_loss: 0.5746 - val_root_mean_squared_error: 0.7580\n",
      "Epoch 23/100\n",
      "1824/1875 [============================>.] - ETA: 0s - loss: 0.7314 - root_mean_squared_error: 0.8552"
     ]
    },
    {
     "name": "stderr",
     "output_type": "stream",
     "text": [
      "WARNING:absl:Found untraced functions such as _jit_compiled_convolution_op, _update_step_xla while saving (showing 2 of 2). These functions will not be directly callable after loading.\n"
     ]
    },
    {
     "name": "stdout",
     "output_type": "stream",
     "text": [
      "INFO:tensorflow:Assets written to: model2\\assets\n"
     ]
    },
    {
     "name": "stderr",
     "output_type": "stream",
     "text": [
      "INFO:tensorflow:Assets written to: model2\\assets\n"
     ]
    },
    {
     "name": "stdout",
     "output_type": "stream",
     "text": [
      "1875/1875 [==============================] - 3s 2ms/step - loss: 0.7318 - root_mean_squared_error: 0.8554 - val_loss: 0.5669 - val_root_mean_squared_error: 0.7529\n",
      "Epoch 24/100\n",
      "1857/1875 [============================>.] - ETA: 0s - loss: 0.7262 - root_mean_squared_error: 0.8522"
     ]
    },
    {
     "name": "stderr",
     "output_type": "stream",
     "text": [
      "WARNING:absl:Found untraced functions such as _jit_compiled_convolution_op, _update_step_xla while saving (showing 2 of 2). These functions will not be directly callable after loading.\n"
     ]
    },
    {
     "name": "stdout",
     "output_type": "stream",
     "text": [
      "INFO:tensorflow:Assets written to: model2\\assets\n"
     ]
    },
    {
     "name": "stderr",
     "output_type": "stream",
     "text": [
      "INFO:tensorflow:Assets written to: model2\\assets\n"
     ]
    },
    {
     "name": "stdout",
     "output_type": "stream",
     "text": [
      "1875/1875 [==============================] - 4s 2ms/step - loss: 0.7255 - root_mean_squared_error: 0.8518 - val_loss: 0.5633 - val_root_mean_squared_error: 0.7506\n",
      "Epoch 25/100\n",
      "1860/1875 [============================>.] - ETA: 0s - loss: 0.7198 - root_mean_squared_error: 0.8484"
     ]
    },
    {
     "name": "stderr",
     "output_type": "stream",
     "text": [
      "WARNING:absl:Found untraced functions such as _jit_compiled_convolution_op, _update_step_xla while saving (showing 2 of 2). These functions will not be directly callable after loading.\n"
     ]
    },
    {
     "name": "stdout",
     "output_type": "stream",
     "text": [
      "INFO:tensorflow:Assets written to: model2\\assets\n"
     ]
    },
    {
     "name": "stderr",
     "output_type": "stream",
     "text": [
      "INFO:tensorflow:Assets written to: model2\\assets\n"
     ]
    },
    {
     "name": "stdout",
     "output_type": "stream",
     "text": [
      "1875/1875 [==============================] - 3s 2ms/step - loss: 0.7198 - root_mean_squared_error: 0.8484 - val_loss: 0.5614 - val_root_mean_squared_error: 0.7493\n",
      "Epoch 26/100\n",
      "1850/1875 [============================>.] - ETA: 0s - loss: 0.7156 - root_mean_squared_error: 0.8459"
     ]
    },
    {
     "name": "stderr",
     "output_type": "stream",
     "text": [
      "WARNING:absl:Found untraced functions such as _jit_compiled_convolution_op, _update_step_xla while saving (showing 2 of 2). These functions will not be directly callable after loading.\n"
     ]
    },
    {
     "name": "stdout",
     "output_type": "stream",
     "text": [
      "INFO:tensorflow:Assets written to: model2\\assets\n"
     ]
    },
    {
     "name": "stderr",
     "output_type": "stream",
     "text": [
      "INFO:tensorflow:Assets written to: model2\\assets\n"
     ]
    },
    {
     "name": "stdout",
     "output_type": "stream",
     "text": [
      "1875/1875 [==============================] - 3s 2ms/step - loss: 0.7146 - root_mean_squared_error: 0.8454 - val_loss: 0.5520 - val_root_mean_squared_error: 0.7430\n",
      "Epoch 27/100\n",
      "1846/1875 [============================>.] - ETA: 0s - loss: 0.7061 - root_mean_squared_error: 0.8403"
     ]
    },
    {
     "name": "stderr",
     "output_type": "stream",
     "text": [
      "WARNING:absl:Found untraced functions such as _jit_compiled_convolution_op, _update_step_xla while saving (showing 2 of 2). These functions will not be directly callable after loading.\n"
     ]
    },
    {
     "name": "stdout",
     "output_type": "stream",
     "text": [
      "INFO:tensorflow:Assets written to: model2\\assets\n"
     ]
    },
    {
     "name": "stderr",
     "output_type": "stream",
     "text": [
      "INFO:tensorflow:Assets written to: model2\\assets\n"
     ]
    },
    {
     "name": "stdout",
     "output_type": "stream",
     "text": [
      "1875/1875 [==============================] - 3s 2ms/step - loss: 0.7099 - root_mean_squared_error: 0.8426 - val_loss: 0.5481 - val_root_mean_squared_error: 0.7403\n",
      "Epoch 28/100\n",
      "1869/1875 [============================>.] - ETA: 0s - loss: 0.7053 - root_mean_squared_error: 0.8398"
     ]
    },
    {
     "name": "stderr",
     "output_type": "stream",
     "text": [
      "WARNING:absl:Found untraced functions such as _jit_compiled_convolution_op, _update_step_xla while saving (showing 2 of 2). These functions will not be directly callable after loading.\n"
     ]
    },
    {
     "name": "stdout",
     "output_type": "stream",
     "text": [
      "INFO:tensorflow:Assets written to: model2\\assets\n"
     ]
    },
    {
     "name": "stderr",
     "output_type": "stream",
     "text": [
      "INFO:tensorflow:Assets written to: model2\\assets\n"
     ]
    },
    {
     "name": "stdout",
     "output_type": "stream",
     "text": [
      "1875/1875 [==============================] - 4s 2ms/step - loss: 0.7053 - root_mean_squared_error: 0.8398 - val_loss: 0.5439 - val_root_mean_squared_error: 0.7375\n",
      "Epoch 29/100\n",
      "1867/1875 [============================>.] - ETA: 0s - loss: 0.7007 - root_mean_squared_error: 0.8371"
     ]
    },
    {
     "name": "stderr",
     "output_type": "stream",
     "text": [
      "WARNING:absl:Found untraced functions such as _jit_compiled_convolution_op, _update_step_xla while saving (showing 2 of 2). These functions will not be directly callable after loading.\n"
     ]
    },
    {
     "name": "stdout",
     "output_type": "stream",
     "text": [
      "INFO:tensorflow:Assets written to: model2\\assets\n"
     ]
    },
    {
     "name": "stderr",
     "output_type": "stream",
     "text": [
      "INFO:tensorflow:Assets written to: model2\\assets\n"
     ]
    },
    {
     "name": "stdout",
     "output_type": "stream",
     "text": [
      "1875/1875 [==============================] - 3s 1ms/step - loss: 0.7014 - root_mean_squared_error: 0.8375 - val_loss: 0.5402 - val_root_mean_squared_error: 0.7350\n",
      "Epoch 30/100\n",
      "1866/1875 [============================>.] - ETA: 0s - loss: 0.6979 - root_mean_squared_error: 0.8354"
     ]
    },
    {
     "name": "stderr",
     "output_type": "stream",
     "text": [
      "WARNING:absl:Found untraced functions such as _jit_compiled_convolution_op, _update_step_xla while saving (showing 2 of 2). These functions will not be directly callable after loading.\n"
     ]
    },
    {
     "name": "stdout",
     "output_type": "stream",
     "text": [
      "INFO:tensorflow:Assets written to: model2\\assets\n"
     ]
    },
    {
     "name": "stderr",
     "output_type": "stream",
     "text": [
      "INFO:tensorflow:Assets written to: model2\\assets\n"
     ]
    },
    {
     "name": "stdout",
     "output_type": "stream",
     "text": [
      "1875/1875 [==============================] - 3s 1ms/step - loss: 0.6981 - root_mean_squared_error: 0.8355 - val_loss: 0.5395 - val_root_mean_squared_error: 0.7345\n",
      "Epoch 31/100\n",
      "1860/1875 [============================>.] - ETA: 0s - loss: 0.6961 - root_mean_squared_error: 0.8343"
     ]
    },
    {
     "name": "stderr",
     "output_type": "stream",
     "text": [
      "WARNING:absl:Found untraced functions such as _jit_compiled_convolution_op, _update_step_xla while saving (showing 2 of 2). These functions will not be directly callable after loading.\n"
     ]
    },
    {
     "name": "stdout",
     "output_type": "stream",
     "text": [
      "INFO:tensorflow:Assets written to: model2\\assets\n"
     ]
    },
    {
     "name": "stderr",
     "output_type": "stream",
     "text": [
      "INFO:tensorflow:Assets written to: model2\\assets\n"
     ]
    },
    {
     "name": "stdout",
     "output_type": "stream",
     "text": [
      "1875/1875 [==============================] - 3s 2ms/step - loss: 0.6946 - root_mean_squared_error: 0.8335 - val_loss: 0.5384 - val_root_mean_squared_error: 0.7337\n",
      "Epoch 32/100\n",
      "1845/1875 [============================>.] - ETA: 0s - loss: 0.6893 - root_mean_squared_error: 0.8303"
     ]
    },
    {
     "name": "stderr",
     "output_type": "stream",
     "text": [
      "WARNING:absl:Found untraced functions such as _jit_compiled_convolution_op, _update_step_xla while saving (showing 2 of 2). These functions will not be directly callable after loading.\n"
     ]
    },
    {
     "name": "stdout",
     "output_type": "stream",
     "text": [
      "INFO:tensorflow:Assets written to: model2\\assets\n"
     ]
    },
    {
     "name": "stderr",
     "output_type": "stream",
     "text": [
      "INFO:tensorflow:Assets written to: model2\\assets\n"
     ]
    },
    {
     "name": "stdout",
     "output_type": "stream",
     "text": [
      "1875/1875 [==============================] - 3s 1ms/step - loss: 0.6912 - root_mean_squared_error: 0.8314 - val_loss: 0.5338 - val_root_mean_squared_error: 0.7306\n",
      "Epoch 33/100\n",
      "1875/1875 [==============================] - 2s 958us/step - loss: 0.6887 - root_mean_squared_error: 0.8299 - val_loss: 0.5351 - val_root_mean_squared_error: 0.7315\n",
      "Epoch 34/100\n",
      "1851/1875 [============================>.] - ETA: 0s - loss: 0.6863 - root_mean_squared_error: 0.8284"
     ]
    },
    {
     "name": "stderr",
     "output_type": "stream",
     "text": [
      "WARNING:absl:Found untraced functions such as _jit_compiled_convolution_op, _update_step_xla while saving (showing 2 of 2). These functions will not be directly callable after loading.\n"
     ]
    },
    {
     "name": "stdout",
     "output_type": "stream",
     "text": [
      "INFO:tensorflow:Assets written to: model2\\assets\n"
     ]
    },
    {
     "name": "stderr",
     "output_type": "stream",
     "text": [
      "INFO:tensorflow:Assets written to: model2\\assets\n"
     ]
    },
    {
     "name": "stdout",
     "output_type": "stream",
     "text": [
      "1875/1875 [==============================] - 3s 1ms/step - loss: 0.6860 - root_mean_squared_error: 0.8282 - val_loss: 0.5321 - val_root_mean_squared_error: 0.7295\n",
      "Epoch 35/100\n",
      "1846/1875 [============================>.] - ETA: 0s - loss: 0.6843 - root_mean_squared_error: 0.8272"
     ]
    },
    {
     "name": "stderr",
     "output_type": "stream",
     "text": [
      "WARNING:absl:Found untraced functions such as _jit_compiled_convolution_op, _update_step_xla while saving (showing 2 of 2). These functions will not be directly callable after loading.\n"
     ]
    },
    {
     "name": "stdout",
     "output_type": "stream",
     "text": [
      "INFO:tensorflow:Assets written to: model2\\assets\n"
     ]
    },
    {
     "name": "stderr",
     "output_type": "stream",
     "text": [
      "INFO:tensorflow:Assets written to: model2\\assets\n"
     ]
    },
    {
     "name": "stdout",
     "output_type": "stream",
     "text": [
      "1875/1875 [==============================] - 3s 2ms/step - loss: 0.6835 - root_mean_squared_error: 0.8268 - val_loss: 0.5271 - val_root_mean_squared_error: 0.7260\n",
      "Epoch 36/100\n",
      "1863/1875 [============================>.] - ETA: 0s - loss: 0.6810 - root_mean_squared_error: 0.8252"
     ]
    },
    {
     "name": "stderr",
     "output_type": "stream",
     "text": [
      "WARNING:absl:Found untraced functions such as _jit_compiled_convolution_op, _update_step_xla while saving (showing 2 of 2). These functions will not be directly callable after loading.\n"
     ]
    },
    {
     "name": "stdout",
     "output_type": "stream",
     "text": [
      "INFO:tensorflow:Assets written to: model2\\assets\n"
     ]
    },
    {
     "name": "stderr",
     "output_type": "stream",
     "text": [
      "INFO:tensorflow:Assets written to: model2\\assets\n"
     ]
    },
    {
     "name": "stdout",
     "output_type": "stream",
     "text": [
      "1875/1875 [==============================] - 3s 2ms/step - loss: 0.6813 - root_mean_squared_error: 0.8254 - val_loss: 0.5228 - val_root_mean_squared_error: 0.7230\n",
      "Epoch 37/100\n",
      "1864/1875 [============================>.] - ETA: 0s - loss: 0.6791 - root_mean_squared_error: 0.8241"
     ]
    },
    {
     "name": "stderr",
     "output_type": "stream",
     "text": [
      "WARNING:absl:Found untraced functions such as _jit_compiled_convolution_op, _update_step_xla while saving (showing 2 of 2). These functions will not be directly callable after loading.\n"
     ]
    },
    {
     "name": "stdout",
     "output_type": "stream",
     "text": [
      "INFO:tensorflow:Assets written to: model2\\assets\n"
     ]
    },
    {
     "name": "stderr",
     "output_type": "stream",
     "text": [
      "INFO:tensorflow:Assets written to: model2\\assets\n"
     ]
    },
    {
     "name": "stdout",
     "output_type": "stream",
     "text": [
      "1875/1875 [==============================] - 4s 2ms/step - loss: 0.6792 - root_mean_squared_error: 0.8241 - val_loss: 0.5214 - val_root_mean_squared_error: 0.7220\n",
      "Epoch 38/100\n",
      "1875/1875 [==============================] - 3s 2ms/step - loss: 0.6777 - root_mean_squared_error: 0.8232 - val_loss: 0.5283 - val_root_mean_squared_error: 0.7269\n",
      "Epoch 39/100\n",
      "1875/1875 [==============================] - 3s 2ms/step - loss: 0.6758 - root_mean_squared_error: 0.8221 - val_loss: 0.5218 - val_root_mean_squared_error: 0.7224\n",
      "Epoch 40/100\n",
      "1850/1875 [============================>.] - ETA: 0s - loss: 0.6734 - root_mean_squared_error: 0.8206"
     ]
    },
    {
     "name": "stderr",
     "output_type": "stream",
     "text": [
      "WARNING:absl:Found untraced functions such as _jit_compiled_convolution_op, _update_step_xla while saving (showing 2 of 2). These functions will not be directly callable after loading.\n"
     ]
    },
    {
     "name": "stdout",
     "output_type": "stream",
     "text": [
      "INFO:tensorflow:Assets written to: model2\\assets\n"
     ]
    },
    {
     "name": "stderr",
     "output_type": "stream",
     "text": [
      "INFO:tensorflow:Assets written to: model2\\assets\n"
     ]
    },
    {
     "name": "stdout",
     "output_type": "stream",
     "text": [
      "1875/1875 [==============================] - 4s 2ms/step - loss: 0.6741 - root_mean_squared_error: 0.8210 - val_loss: 0.5175 - val_root_mean_squared_error: 0.7194\n",
      "Epoch 41/100\n",
      "1859/1875 [============================>.] - ETA: 0s - loss: 0.6739 - root_mean_squared_error: 0.8209"
     ]
    },
    {
     "name": "stderr",
     "output_type": "stream",
     "text": [
      "WARNING:absl:Found untraced functions such as _jit_compiled_convolution_op, _update_step_xla while saving (showing 2 of 2). These functions will not be directly callable after loading.\n"
     ]
    },
    {
     "name": "stdout",
     "output_type": "stream",
     "text": [
      "INFO:tensorflow:Assets written to: model2\\assets\n"
     ]
    },
    {
     "name": "stderr",
     "output_type": "stream",
     "text": [
      "INFO:tensorflow:Assets written to: model2\\assets\n"
     ]
    },
    {
     "name": "stdout",
     "output_type": "stream",
     "text": [
      "1875/1875 [==============================] - 4s 2ms/step - loss: 0.6730 - root_mean_squared_error: 0.8204 - val_loss: 0.5171 - val_root_mean_squared_error: 0.7191\n",
      "Epoch 42/100\n",
      "1860/1875 [============================>.] - ETA: 0s - loss: 0.6718 - root_mean_squared_error: 0.8197"
     ]
    },
    {
     "name": "stderr",
     "output_type": "stream",
     "text": [
      "WARNING:absl:Found untraced functions such as _jit_compiled_convolution_op, _update_step_xla while saving (showing 2 of 2). These functions will not be directly callable after loading.\n"
     ]
    },
    {
     "name": "stdout",
     "output_type": "stream",
     "text": [
      "INFO:tensorflow:Assets written to: model2\\assets\n"
     ]
    },
    {
     "name": "stderr",
     "output_type": "stream",
     "text": [
      "INFO:tensorflow:Assets written to: model2\\assets\n"
     ]
    },
    {
     "name": "stdout",
     "output_type": "stream",
     "text": [
      "1875/1875 [==============================] - 3s 1ms/step - loss: 0.6714 - root_mean_squared_error: 0.8194 - val_loss: 0.5160 - val_root_mean_squared_error: 0.7184\n",
      "Epoch 43/100\n",
      "1875/1875 [==============================] - 2s 1ms/step - loss: 0.6698 - root_mean_squared_error: 0.8184 - val_loss: 0.5173 - val_root_mean_squared_error: 0.7193\n",
      "Epoch 44/100\n",
      "1872/1875 [============================>.] - ETA: 0s - loss: 0.6689 - root_mean_squared_error: 0.8179"
     ]
    },
    {
     "name": "stderr",
     "output_type": "stream",
     "text": [
      "WARNING:absl:Found untraced functions such as _jit_compiled_convolution_op, _update_step_xla while saving (showing 2 of 2). These functions will not be directly callable after loading.\n"
     ]
    },
    {
     "name": "stdout",
     "output_type": "stream",
     "text": [
      "INFO:tensorflow:Assets written to: model2\\assets\n"
     ]
    },
    {
     "name": "stderr",
     "output_type": "stream",
     "text": [
      "INFO:tensorflow:Assets written to: model2\\assets\n"
     ]
    },
    {
     "name": "stdout",
     "output_type": "stream",
     "text": [
      "1875/1875 [==============================] - 4s 2ms/step - loss: 0.6687 - root_mean_squared_error: 0.8178 - val_loss: 0.5151 - val_root_mean_squared_error: 0.7177\n",
      "Epoch 45/100\n",
      "1875/1875 [==============================] - 2s 1ms/step - loss: 0.6677 - root_mean_squared_error: 0.8172 - val_loss: 0.5162 - val_root_mean_squared_error: 0.7184\n",
      "Epoch 46/100\n",
      "1875/1875 [==============================] - 2s 1ms/step - loss: 0.6669 - root_mean_squared_error: 0.8167 - val_loss: 0.5174 - val_root_mean_squared_error: 0.7193\n",
      "Epoch 47/100\n",
      "1875/1875 [==============================] - 2s 1ms/step - loss: 0.6657 - root_mean_squared_error: 0.8159 - val_loss: 0.5183 - val_root_mean_squared_error: 0.7199\n",
      "Epoch 48/100\n",
      "1875/1875 [==============================] - 2s 1ms/step - loss: 0.6648 - root_mean_squared_error: 0.8153 - val_loss: 0.5191 - val_root_mean_squared_error: 0.7205\n",
      "Epoch 49/100\n",
      "1834/1875 [============================>.] - ETA: 0s - loss: 0.6622 - root_mean_squared_error: 0.8138"
     ]
    },
    {
     "name": "stderr",
     "output_type": "stream",
     "text": [
      "WARNING:absl:Found untraced functions such as _jit_compiled_convolution_op, _update_step_xla while saving (showing 2 of 2). These functions will not be directly callable after loading.\n"
     ]
    },
    {
     "name": "stdout",
     "output_type": "stream",
     "text": [
      "INFO:tensorflow:Assets written to: model2\\assets\n"
     ]
    },
    {
     "name": "stderr",
     "output_type": "stream",
     "text": [
      "INFO:tensorflow:Assets written to: model2\\assets\n"
     ]
    },
    {
     "name": "stdout",
     "output_type": "stream",
     "text": [
      "1875/1875 [==============================] - 3s 2ms/step - loss: 0.6639 - root_mean_squared_error: 0.8148 - val_loss: 0.5116 - val_root_mean_squared_error: 0.7152\n",
      "Epoch 50/100\n",
      "1875/1875 [==============================] - 2s 1ms/step - loss: 0.6628 - root_mean_squared_error: 0.8141 - val_loss: 0.5121 - val_root_mean_squared_error: 0.7156\n",
      "Epoch 51/100\n",
      "1840/1875 [============================>.] - ETA: 0s - loss: 0.6624 - root_mean_squared_error: 0.8139"
     ]
    },
    {
     "name": "stderr",
     "output_type": "stream",
     "text": [
      "WARNING:absl:Found untraced functions such as _jit_compiled_convolution_op, _update_step_xla while saving (showing 2 of 2). These functions will not be directly callable after loading.\n"
     ]
    },
    {
     "name": "stdout",
     "output_type": "stream",
     "text": [
      "INFO:tensorflow:Assets written to: model2\\assets\n"
     ]
    },
    {
     "name": "stderr",
     "output_type": "stream",
     "text": [
      "INFO:tensorflow:Assets written to: model2\\assets\n"
     ]
    },
    {
     "name": "stdout",
     "output_type": "stream",
     "text": [
      "1875/1875 [==============================] - 4s 2ms/step - loss: 0.6619 - root_mean_squared_error: 0.8135 - val_loss: 0.5090 - val_root_mean_squared_error: 0.7134\n",
      "Epoch 52/100\n",
      "1840/1875 [============================>.] - ETA: 0s - loss: 0.6617 - root_mean_squared_error: 0.8134"
     ]
    },
    {
     "name": "stderr",
     "output_type": "stream",
     "text": [
      "WARNING:absl:Found untraced functions such as _jit_compiled_convolution_op, _update_step_xla while saving (showing 2 of 2). These functions will not be directly callable after loading.\n"
     ]
    },
    {
     "name": "stdout",
     "output_type": "stream",
     "text": [
      "INFO:tensorflow:Assets written to: model2\\assets\n"
     ]
    },
    {
     "name": "stderr",
     "output_type": "stream",
     "text": [
      "INFO:tensorflow:Assets written to: model2\\assets\n"
     ]
    },
    {
     "name": "stdout",
     "output_type": "stream",
     "text": [
      "1875/1875 [==============================] - 3s 2ms/step - loss: 0.6615 - root_mean_squared_error: 0.8133 - val_loss: 0.5089 - val_root_mean_squared_error: 0.7134\n",
      "Epoch 53/100\n",
      "1875/1875 [==============================] - 2s 967us/step - loss: 0.6608 - root_mean_squared_error: 0.8129 - val_loss: 0.5101 - val_root_mean_squared_error: 0.7142\n",
      "Epoch 54/100\n",
      "1875/1875 [==============================] - ETA: 0s - loss: 0.6601 - root_mean_squared_error: 0.8125"
     ]
    },
    {
     "name": "stderr",
     "output_type": "stream",
     "text": [
      "WARNING:absl:Found untraced functions such as _jit_compiled_convolution_op, _update_step_xla while saving (showing 2 of 2). These functions will not be directly callable after loading.\n"
     ]
    },
    {
     "name": "stdout",
     "output_type": "stream",
     "text": [
      "INFO:tensorflow:Assets written to: model2\\assets\n"
     ]
    },
    {
     "name": "stderr",
     "output_type": "stream",
     "text": [
      "INFO:tensorflow:Assets written to: model2\\assets\n"
     ]
    },
    {
     "name": "stdout",
     "output_type": "stream",
     "text": [
      "1875/1875 [==============================] - 3s 1ms/step - loss: 0.6601 - root_mean_squared_error: 0.8125 - val_loss: 0.5057 - val_root_mean_squared_error: 0.7111\n",
      "Epoch 55/100\n",
      "1875/1875 [==============================] - 2s 939us/step - loss: 0.6600 - root_mean_squared_error: 0.8124 - val_loss: 0.5097 - val_root_mean_squared_error: 0.7140\n",
      "Epoch 56/100\n",
      "1875/1875 [==============================] - 2s 1ms/step - loss: 0.6590 - root_mean_squared_error: 0.8118 - val_loss: 0.5060 - val_root_mean_squared_error: 0.7113\n",
      "Epoch 57/100\n",
      "1870/1875 [============================>.] - ETA: 0s - loss: 0.6572 - root_mean_squared_error: 0.8107"
     ]
    },
    {
     "name": "stderr",
     "output_type": "stream",
     "text": [
      "WARNING:absl:Found untraced functions such as _jit_compiled_convolution_op, _update_step_xla while saving (showing 2 of 2). These functions will not be directly callable after loading.\n"
     ]
    },
    {
     "name": "stdout",
     "output_type": "stream",
     "text": [
      "INFO:tensorflow:Assets written to: model2\\assets\n"
     ]
    },
    {
     "name": "stderr",
     "output_type": "stream",
     "text": [
      "INFO:tensorflow:Assets written to: model2\\assets\n"
     ]
    },
    {
     "name": "stdout",
     "output_type": "stream",
     "text": [
      "1875/1875 [==============================] - 4s 2ms/step - loss: 0.6581 - root_mean_squared_error: 0.8112 - val_loss: 0.5056 - val_root_mean_squared_error: 0.7110\n",
      "Epoch 58/100\n",
      "1872/1875 [============================>.] - ETA: 0s - loss: 0.6585 - root_mean_squared_error: 0.8115"
     ]
    },
    {
     "name": "stderr",
     "output_type": "stream",
     "text": [
      "WARNING:absl:Found untraced functions such as _jit_compiled_convolution_op, _update_step_xla while saving (showing 2 of 2). These functions will not be directly callable after loading.\n"
     ]
    },
    {
     "name": "stdout",
     "output_type": "stream",
     "text": [
      "INFO:tensorflow:Assets written to: model2\\assets\n"
     ]
    },
    {
     "name": "stderr",
     "output_type": "stream",
     "text": [
      "INFO:tensorflow:Assets written to: model2\\assets\n"
     ]
    },
    {
     "name": "stdout",
     "output_type": "stream",
     "text": [
      "1875/1875 [==============================] - 4s 2ms/step - loss: 0.6581 - root_mean_squared_error: 0.8112 - val_loss: 0.5043 - val_root_mean_squared_error: 0.7102\n",
      "Epoch 59/100\n",
      "1875/1875 [==============================] - 2s 923us/step - loss: 0.6572 - root_mean_squared_error: 0.8107 - val_loss: 0.5057 - val_root_mean_squared_error: 0.7111\n",
      "Epoch 60/100\n",
      "1875/1875 [==============================] - 2s 970us/step - loss: 0.6569 - root_mean_squared_error: 0.8105 - val_loss: 0.5075 - val_root_mean_squared_error: 0.7124\n",
      "Epoch 61/100\n",
      "1875/1875 [==============================] - 2s 1ms/step - loss: 0.6563 - root_mean_squared_error: 0.8101 - val_loss: 0.5058 - val_root_mean_squared_error: 0.7112\n",
      "Epoch 62/100\n",
      "1856/1875 [============================>.] - ETA: 0s - loss: 0.6555 - root_mean_squared_error: 0.8096"
     ]
    },
    {
     "name": "stderr",
     "output_type": "stream",
     "text": [
      "WARNING:absl:Found untraced functions such as _jit_compiled_convolution_op, _update_step_xla while saving (showing 2 of 2). These functions will not be directly callable after loading.\n"
     ]
    },
    {
     "name": "stdout",
     "output_type": "stream",
     "text": [
      "INFO:tensorflow:Assets written to: model2\\assets\n"
     ]
    },
    {
     "name": "stderr",
     "output_type": "stream",
     "text": [
      "INFO:tensorflow:Assets written to: model2\\assets\n"
     ]
    },
    {
     "name": "stdout",
     "output_type": "stream",
     "text": [
      "1875/1875 [==============================] - 3s 2ms/step - loss: 0.6556 - root_mean_squared_error: 0.8097 - val_loss: 0.5038 - val_root_mean_squared_error: 0.7098\n",
      "Epoch 63/100\n",
      "1875/1875 [==============================] - 2s 921us/step - loss: 0.6557 - root_mean_squared_error: 0.8098 - val_loss: 0.5045 - val_root_mean_squared_error: 0.7103\n",
      "Epoch 64/100\n",
      "1835/1875 [============================>.] - ETA: 0s - loss: 0.6544 - root_mean_squared_error: 0.8090"
     ]
    },
    {
     "name": "stderr",
     "output_type": "stream",
     "text": [
      "WARNING:absl:Found untraced functions such as _jit_compiled_convolution_op, _update_step_xla while saving (showing 2 of 2). These functions will not be directly callable after loading.\n"
     ]
    },
    {
     "name": "stdout",
     "output_type": "stream",
     "text": [
      "INFO:tensorflow:Assets written to: model2\\assets\n"
     ]
    },
    {
     "name": "stderr",
     "output_type": "stream",
     "text": [
      "INFO:tensorflow:Assets written to: model2\\assets\n"
     ]
    },
    {
     "name": "stdout",
     "output_type": "stream",
     "text": [
      "1875/1875 [==============================] - 3s 1ms/step - loss: 0.6551 - root_mean_squared_error: 0.8094 - val_loss: 0.5033 - val_root_mean_squared_error: 0.7094\n",
      "Epoch 65/100\n",
      "1868/1875 [============================>.] - ETA: 0s - loss: 0.6546 - root_mean_squared_error: 0.8091"
     ]
    },
    {
     "name": "stderr",
     "output_type": "stream",
     "text": [
      "WARNING:absl:Found untraced functions such as _jit_compiled_convolution_op, _update_step_xla while saving (showing 2 of 2). These functions will not be directly callable after loading.\n"
     ]
    },
    {
     "name": "stdout",
     "output_type": "stream",
     "text": [
      "INFO:tensorflow:Assets written to: model2\\assets\n"
     ]
    },
    {
     "name": "stderr",
     "output_type": "stream",
     "text": [
      "INFO:tensorflow:Assets written to: model2\\assets\n"
     ]
    },
    {
     "name": "stdout",
     "output_type": "stream",
     "text": [
      "1875/1875 [==============================] - 3s 2ms/step - loss: 0.6546 - root_mean_squared_error: 0.8091 - val_loss: 0.5010 - val_root_mean_squared_error: 0.7078\n",
      "Epoch 66/100\n",
      "1830/1875 [============================>.] - ETA: 0s - loss: 0.6538 - root_mean_squared_error: 0.8086"
     ]
    },
    {
     "name": "stderr",
     "output_type": "stream",
     "text": [
      "WARNING:absl:Found untraced functions such as _jit_compiled_convolution_op, _update_step_xla while saving (showing 2 of 2). These functions will not be directly callable after loading.\n"
     ]
    },
    {
     "name": "stdout",
     "output_type": "stream",
     "text": [
      "INFO:tensorflow:Assets written to: model2\\assets\n"
     ]
    },
    {
     "name": "stderr",
     "output_type": "stream",
     "text": [
      "INFO:tensorflow:Assets written to: model2\\assets\n"
     ]
    },
    {
     "name": "stdout",
     "output_type": "stream",
     "text": [
      "1875/1875 [==============================] - 3s 1ms/step - loss: 0.6541 - root_mean_squared_error: 0.8088 - val_loss: 0.5007 - val_root_mean_squared_error: 0.7076\n",
      "Epoch 67/100\n",
      "1875/1875 [==============================] - 2s 1ms/step - loss: 0.6540 - root_mean_squared_error: 0.8087 - val_loss: 0.5035 - val_root_mean_squared_error: 0.7096\n",
      "Epoch 68/100\n",
      "1875/1875 [==============================] - 2s 940us/step - loss: 0.6534 - root_mean_squared_error: 0.8083 - val_loss: 0.5019 - val_root_mean_squared_error: 0.7084\n",
      "Epoch 69/100\n",
      "1824/1875 [============================>.] - ETA: 0s - loss: 0.6560 - root_mean_squared_error: 0.8100"
     ]
    },
    {
     "name": "stderr",
     "output_type": "stream",
     "text": [
      "WARNING:absl:Found untraced functions such as _jit_compiled_convolution_op, _update_step_xla while saving (showing 2 of 2). These functions will not be directly callable after loading.\n"
     ]
    },
    {
     "name": "stdout",
     "output_type": "stream",
     "text": [
      "INFO:tensorflow:Assets written to: model2\\assets\n"
     ]
    },
    {
     "name": "stderr",
     "output_type": "stream",
     "text": [
      "INFO:tensorflow:Assets written to: model2\\assets\n"
     ]
    },
    {
     "name": "stdout",
     "output_type": "stream",
     "text": [
      "1875/1875 [==============================] - 3s 1ms/step - loss: 0.6532 - root_mean_squared_error: 0.8082 - val_loss: 0.5002 - val_root_mean_squared_error: 0.7072\n",
      "Epoch 70/100\n",
      "1875/1875 [==============================] - 2s 960us/step - loss: 0.6531 - root_mean_squared_error: 0.8081 - val_loss: 0.5044 - val_root_mean_squared_error: 0.7102\n",
      "Epoch 71/100\n",
      "1875/1875 [==============================] - 2s 1ms/step - loss: 0.6525 - root_mean_squared_error: 0.8078 - val_loss: 0.5068 - val_root_mean_squared_error: 0.7119\n",
      "Epoch 72/100\n",
      "1875/1875 [==============================] - 2s 1ms/step - loss: 0.6521 - root_mean_squared_error: 0.8075 - val_loss: 0.5078 - val_root_mean_squared_error: 0.7126\n",
      "Epoch 73/100\n",
      "1863/1875 [============================>.] - ETA: 0s - loss: 0.6513 - root_mean_squared_error: 0.8070"
     ]
    },
    {
     "name": "stderr",
     "output_type": "stream",
     "text": [
      "WARNING:absl:Found untraced functions such as _jit_compiled_convolution_op, _update_step_xla while saving (showing 2 of 2). These functions will not be directly callable after loading.\n"
     ]
    },
    {
     "name": "stdout",
     "output_type": "stream",
     "text": [
      "INFO:tensorflow:Assets written to: model2\\assets\n"
     ]
    },
    {
     "name": "stderr",
     "output_type": "stream",
     "text": [
      "INFO:tensorflow:Assets written to: model2\\assets\n"
     ]
    },
    {
     "name": "stdout",
     "output_type": "stream",
     "text": [
      "1875/1875 [==============================] - 3s 2ms/step - loss: 0.6523 - root_mean_squared_error: 0.8076 - val_loss: 0.4990 - val_root_mean_squared_error: 0.7064\n",
      "Epoch 74/100\n",
      "1875/1875 [==============================] - 2s 1ms/step - loss: 0.6516 - root_mean_squared_error: 0.8072 - val_loss: 0.5045 - val_root_mean_squared_error: 0.7103\n",
      "Epoch 75/100\n",
      "1875/1875 [==============================] - 2s 1ms/step - loss: 0.6514 - root_mean_squared_error: 0.8071 - val_loss: 0.4998 - val_root_mean_squared_error: 0.7070\n",
      "Epoch 76/100\n",
      "1821/1875 [============================>.] - ETA: 0s - loss: 0.6523 - root_mean_squared_error: 0.8077"
     ]
    },
    {
     "name": "stderr",
     "output_type": "stream",
     "text": [
      "WARNING:absl:Found untraced functions such as _jit_compiled_convolution_op, _update_step_xla while saving (showing 2 of 2). These functions will not be directly callable after loading.\n"
     ]
    },
    {
     "name": "stdout",
     "output_type": "stream",
     "text": [
      "INFO:tensorflow:Assets written to: model2\\assets\n"
     ]
    },
    {
     "name": "stderr",
     "output_type": "stream",
     "text": [
      "INFO:tensorflow:Assets written to: model2\\assets\n"
     ]
    },
    {
     "name": "stdout",
     "output_type": "stream",
     "text": [
      "1875/1875 [==============================] - 3s 2ms/step - loss: 0.6509 - root_mean_squared_error: 0.8068 - val_loss: 0.4971 - val_root_mean_squared_error: 0.7051\n",
      "Epoch 77/100\n",
      "1875/1875 [==============================] - 2s 1ms/step - loss: 0.6507 - root_mean_squared_error: 0.8067 - val_loss: 0.5031 - val_root_mean_squared_error: 0.7093\n",
      "Epoch 78/100\n",
      "1875/1875 [==============================] - 2s 989us/step - loss: 0.6504 - root_mean_squared_error: 0.8065 - val_loss: 0.4995 - val_root_mean_squared_error: 0.7068\n",
      "Epoch 79/100\n",
      "1875/1875 [==============================] - 2s 993us/step - loss: 0.6503 - root_mean_squared_error: 0.8064 - val_loss: 0.4987 - val_root_mean_squared_error: 0.7062\n",
      "Epoch 80/100\n",
      "1875/1875 [==============================] - 2s 957us/step - loss: 0.6501 - root_mean_squared_error: 0.8063 - val_loss: 0.4992 - val_root_mean_squared_error: 0.7065\n",
      "Epoch 81/100\n",
      "1875/1875 [==============================] - 2s 941us/step - loss: 0.6502 - root_mean_squared_error: 0.8063 - val_loss: 0.4976 - val_root_mean_squared_error: 0.7054\n",
      "Epoch 82/100\n",
      "1875/1875 [==============================] - 2s 948us/step - loss: 0.6496 - root_mean_squared_error: 0.8060 - val_loss: 0.4972 - val_root_mean_squared_error: 0.7052\n",
      "Epoch 83/100\n",
      "1836/1875 [============================>.] - ETA: 0s - loss: 0.6486 - root_mean_squared_error: 0.8054"
     ]
    },
    {
     "name": "stderr",
     "output_type": "stream",
     "text": [
      "WARNING:absl:Found untraced functions such as _jit_compiled_convolution_op, _update_step_xla while saving (showing 2 of 2). These functions will not be directly callable after loading.\n"
     ]
    },
    {
     "name": "stdout",
     "output_type": "stream",
     "text": [
      "INFO:tensorflow:Assets written to: model2\\assets\n"
     ]
    },
    {
     "name": "stderr",
     "output_type": "stream",
     "text": [
      "INFO:tensorflow:Assets written to: model2\\assets\n"
     ]
    },
    {
     "name": "stdout",
     "output_type": "stream",
     "text": [
      "1875/1875 [==============================] - 3s 1ms/step - loss: 0.6495 - root_mean_squared_error: 0.8059 - val_loss: 0.4958 - val_root_mean_squared_error: 0.7041\n",
      "Epoch 84/100\n",
      "1875/1875 [==============================] - 2s 934us/step - loss: 0.6495 - root_mean_squared_error: 0.8059 - val_loss: 0.4984 - val_root_mean_squared_error: 0.7060\n",
      "Epoch 85/100\n",
      "1821/1875 [============================>.] - ETA: 0s - loss: 0.6490 - root_mean_squared_error: 0.8056"
     ]
    },
    {
     "name": "stderr",
     "output_type": "stream",
     "text": [
      "WARNING:absl:Found untraced functions such as _jit_compiled_convolution_op, _update_step_xla while saving (showing 2 of 2). These functions will not be directly callable after loading.\n"
     ]
    },
    {
     "name": "stdout",
     "output_type": "stream",
     "text": [
      "INFO:tensorflow:Assets written to: model2\\assets\n"
     ]
    },
    {
     "name": "stderr",
     "output_type": "stream",
     "text": [
      "INFO:tensorflow:Assets written to: model2\\assets\n"
     ]
    },
    {
     "name": "stdout",
     "output_type": "stream",
     "text": [
      "1875/1875 [==============================] - 3s 1ms/step - loss: 0.6489 - root_mean_squared_error: 0.8056 - val_loss: 0.4957 - val_root_mean_squared_error: 0.7040\n",
      "Epoch 86/100\n",
      "1875/1875 [==============================] - 2s 939us/step - loss: 0.6491 - root_mean_squared_error: 0.8056 - val_loss: 0.4980 - val_root_mean_squared_error: 0.7057\n",
      "Epoch 87/100\n",
      "1875/1875 [==============================] - 2s 938us/step - loss: 0.6486 - root_mean_squared_error: 0.8054 - val_loss: 0.4972 - val_root_mean_squared_error: 0.7051\n",
      "Epoch 88/100\n",
      "1875/1875 [==============================] - 2s 1ms/step - loss: 0.6486 - root_mean_squared_error: 0.8054 - val_loss: 0.4958 - val_root_mean_squared_error: 0.7041\n",
      "Epoch 89/100\n",
      "1875/1875 [==============================] - 2s 1ms/step - loss: 0.6486 - root_mean_squared_error: 0.8054 - val_loss: 0.5005 - val_root_mean_squared_error: 0.7074\n",
      "Epoch 90/100\n",
      "1824/1875 [============================>.] - ETA: 0s - loss: 0.6472 - root_mean_squared_error: 0.8045"
     ]
    },
    {
     "name": "stderr",
     "output_type": "stream",
     "text": [
      "WARNING:absl:Found untraced functions such as _jit_compiled_convolution_op, _update_step_xla while saving (showing 2 of 2). These functions will not be directly callable after loading.\n"
     ]
    },
    {
     "name": "stdout",
     "output_type": "stream",
     "text": [
      "INFO:tensorflow:Assets written to: model2\\assets\n"
     ]
    },
    {
     "name": "stderr",
     "output_type": "stream",
     "text": [
      "INFO:tensorflow:Assets written to: model2\\assets\n"
     ]
    },
    {
     "name": "stdout",
     "output_type": "stream",
     "text": [
      "1875/1875 [==============================] - 3s 1ms/step - loss: 0.6482 - root_mean_squared_error: 0.8051 - val_loss: 0.4946 - val_root_mean_squared_error: 0.7033\n",
      "Epoch 91/100\n",
      "1875/1875 [==============================] - 2s 930us/step - loss: 0.6482 - root_mean_squared_error: 0.8051 - val_loss: 0.4950 - val_root_mean_squared_error: 0.7036\n",
      "Epoch 92/100\n",
      "1865/1875 [============================>.] - ETA: 0s - loss: 0.6470 - root_mean_squared_error: 0.8044"
     ]
    },
    {
     "name": "stderr",
     "output_type": "stream",
     "text": [
      "WARNING:absl:Found untraced functions such as _jit_compiled_convolution_op, _update_step_xla while saving (showing 2 of 2). These functions will not be directly callable after loading.\n"
     ]
    },
    {
     "name": "stdout",
     "output_type": "stream",
     "text": [
      "INFO:tensorflow:Assets written to: model2\\assets\n"
     ]
    },
    {
     "name": "stderr",
     "output_type": "stream",
     "text": [
      "INFO:tensorflow:Assets written to: model2\\assets\n"
     ]
    },
    {
     "name": "stdout",
     "output_type": "stream",
     "text": [
      "1875/1875 [==============================] - 3s 2ms/step - loss: 0.6477 - root_mean_squared_error: 0.8048 - val_loss: 0.4942 - val_root_mean_squared_error: 0.7030\n",
      "Epoch 93/100\n",
      "1875/1875 [==============================] - 2s 950us/step - loss: 0.6479 - root_mean_squared_error: 0.8049 - val_loss: 0.4992 - val_root_mean_squared_error: 0.7065\n",
      "Epoch 94/100\n",
      "1875/1875 [==============================] - 2s 924us/step - loss: 0.6479 - root_mean_squared_error: 0.8049 - val_loss: 0.4969 - val_root_mean_squared_error: 0.7049\n",
      "Epoch 95/100\n",
      "1875/1875 [==============================] - 2s 923us/step - loss: 0.6473 - root_mean_squared_error: 0.8045 - val_loss: 0.4962 - val_root_mean_squared_error: 0.7044\n",
      "Epoch 96/100\n",
      "1875/1875 [==============================] - 2s 963us/step - loss: 0.6470 - root_mean_squared_error: 0.8044 - val_loss: 0.4949 - val_root_mean_squared_error: 0.7035\n",
      "Epoch 97/100\n",
      "1875/1875 [==============================] - 2s 941us/step - loss: 0.6471 - root_mean_squared_error: 0.8045 - val_loss: 0.4978 - val_root_mean_squared_error: 0.7056\n",
      "Epoch 98/100\n",
      "1875/1875 [==============================] - 2s 923us/step - loss: 0.6469 - root_mean_squared_error: 0.8043 - val_loss: 0.4988 - val_root_mean_squared_error: 0.7062\n",
      "Epoch 99/100\n",
      "1875/1875 [==============================] - 2s 920us/step - loss: 0.6471 - root_mean_squared_error: 0.8044 - val_loss: 0.4980 - val_root_mean_squared_error: 0.7057\n",
      "Epoch 100/100\n",
      "1838/1875 [============================>.] - ETA: 0s - loss: 0.6478 - root_mean_squared_error: 0.8049"
     ]
    },
    {
     "name": "stderr",
     "output_type": "stream",
     "text": [
      "WARNING:absl:Found untraced functions such as _jit_compiled_convolution_op, _update_step_xla while saving (showing 2 of 2). These functions will not be directly callable after loading.\n"
     ]
    },
    {
     "name": "stdout",
     "output_type": "stream",
     "text": [
      "INFO:tensorflow:Assets written to: model2\\assets\n"
     ]
    },
    {
     "name": "stderr",
     "output_type": "stream",
     "text": [
      "INFO:tensorflow:Assets written to: model2\\assets\n"
     ]
    },
    {
     "name": "stdout",
     "output_type": "stream",
     "text": [
      "\b\b\b\b\b\b\b\b\b\b\b\b\b\b\b\b\b\b\b\b\b\b\b\b\b\b\b\b\b\b\b\b\b\b\b\b\b\b\b\b\b\b\b\b\b\b\b\b\b\b\b\b\b\b\b\b\b\b\b\b\b\b\b\b\b\b\b\b\b\b\b\b\b\b\b\b\b\b\b\b\b\b\b\b\b\b\b\b\b\b\b\b\b\b\b\b\b\b\b\b\b\r",
      "1875/1875 [==============================] - 3s 1ms/step - loss: 0.6468 - root_mean_squared_error: 0.8043 - val_loss: 0.4926 - val_root_mean_squared_error: 0.7019\n"
     ]
    },
    {
     "data": {
      "text/plain": [
       "<keras.callbacks.History at 0x1b921b2ca30>"
      ]
     },
     "execution_count": 47,
     "metadata": {},
     "output_type": "execute_result"
    }
   ],
   "source": [
    "model2.fit(X_train, y_train, validation_data = (X_val, y_val), epochs=100, callbacks=[cp2])"
   ]
  },
  {
   "cell_type": "code",
   "execution_count": 48,
   "id": "7404a32b",
   "metadata": {},
   "outputs": [
    {
     "name": "stdout",
     "output_type": "stream",
     "text": [
      "159/159 [==============================] - 0s 1ms/step\n"
     ]
    },
    {
     "data": {
      "text/plain": [
       "(      Predictions  Actuals\n",
       " 0       14.342990    13.99\n",
       " 1       13.147723    13.46\n",
       " 2       12.863708    12.93\n",
       " 3       12.445944    12.43\n",
       " 4       12.009718    12.17\n",
       " ...           ...      ...\n",
       " 5081    -0.939604    -0.98\n",
       " 5082    -1.417286    -1.40\n",
       " 5083    -1.686782    -2.75\n",
       " 5084    -3.125515    -2.89\n",
       " 5085    -3.191079    -3.93\n",
       " \n",
       " [5086 rows x 2 columns],\n",
       " 0.6432495954489904)"
      ]
     },
     "execution_count": 48,
     "metadata": {},
     "output_type": "execute_result"
    },
    {
     "data": {
      "image/png": "[encoded data removed]",
      "text/plain": [
       "<Figure size 432x288 with 1 Axes>"
      ]
     },
     "metadata": {
      "needs_background": "light"
     },
     "output_type": "display_data"
    }
   ],
   "source": [
    "plot_predictions1(model2, X_test, y_test)"
   ]
  },
  {
   "attachments": {
    "image.png": {
     "image/png": "[encoded data removed]"
    }
   },
   "cell_type": "markdown",
   "id": "daae7295",
   "metadata": {},
   "source": [
    "### GRU {Gated recurrent unit}\n",
    "- more likke LSTM\n",
    "\n",
    "Gated recurrent units (GRUs) are a gating mechanism in recurrent neural networks, introduced in 2014 by Kyunghyun Cho et al.[1] The GRU is like a long short-term memory (LSTM) with a forget gate,[2] but has fewer parameters than LSTM, as it lacks an output gate.[3] GRU's performance on certain tasks of polyphonic music modeling, speech signal modeling and natural language processing was found to be similar to that of LSTM.[4][5] GRUs have been shown to exhibit better performance on certain smaller and less frequent datasets\n",
    "![image.png](attachment:image.png)"
   ]
  },
  {
   "cell_type": "code",
   "execution_count": 50,
   "id": "45eedef8",
   "metadata": {},
   "outputs": [
    {
     "name": "stdout",
     "output_type": "stream",
     "text": [
      "Model: \"sequential_2\"\n",
      "_________________________________________________________________\n",
      " Layer (type)                Output Shape              Param #   \n",
      "=================================================================\n",
      " gru (GRU)                   (None, 64)                12864     \n",
      "                                                                 \n",
      " dense_4 (Dense)             (None, 8)                 520       \n",
      "                                                                 \n",
      " dense_5 (Dense)             (None, 1)                 9         \n",
      "                                                                 \n",
      "=================================================================\n",
      "Total params: 13,393\n",
      "Trainable params: 13,393\n",
      "Non-trainable params: 0\n",
      "_________________________________________________________________\n"
     ]
    }
   ],
   "source": [
    "model3 = Sequential()\n",
    "model3.add(InputLayer((5,1))) # a batch of 5\n",
    "model3.add(GRU(64))\n",
    "model3.add(Dense(8, 'relu'))\n",
    "model3.add(Dense(1, 'linear')) # output\n",
    "\n",
    "model3.summary()"
   ]
  },
  {
   "cell_type": "code",
   "execution_count": 51,
   "id": "ca31f8b1",
   "metadata": {},
   "outputs": [],
   "source": [
    "cp3 = ModelCheckpoint('model3/', save_best_only=True)\n",
    "model3.compile(loss = MeanSquaredError(), optimizer = Adam(learning_rate=0.00001), metrics=[RootMeanSquaredError()])"
   ]
  },
  {
   "cell_type": "code",
   "execution_count": 52,
   "id": "0beed510",
   "metadata": {},
   "outputs": [
    {
     "name": "stdout",
     "output_type": "stream",
     "text": [
      "Epoch 1/100\n",
      "1872/1875 [============================>.] - ETA: 0s - loss: 91.2728 - root_mean_squared_error: 9.5537"
     ]
    },
    {
     "name": "stderr",
     "output_type": "stream",
     "text": [
      "WARNING:absl:Found untraced functions such as _update_step_xla, gru_cell_layer_call_fn, gru_cell_layer_call_and_return_conditional_losses while saving (showing 3 of 3). These functions will not be directly callable after loading.\n"
     ]
    },
    {
     "name": "stdout",
     "output_type": "stream",
     "text": [
      "INFO:tensorflow:Assets written to: model3\\assets\n"
     ]
    },
    {
     "name": "stderr",
     "output_type": "stream",
     "text": [
      "INFO:tensorflow:Assets written to: model3\\assets\n"
     ]
    },
    {
     "name": "stdout",
     "output_type": "stream",
     "text": [
      "1875/1875 [==============================] - 18s 8ms/step - loss: 91.2456 - root_mean_squared_error: 9.5523 - val_loss: 18.9403 - val_root_mean_squared_error: 4.3520\n",
      "Epoch 2/100\n",
      "1864/1875 [============================>.] - ETA: 0s - loss: 40.6704 - root_mean_squared_error: 6.3773"
     ]
    },
    {
     "name": "stderr",
     "output_type": "stream",
     "text": [
      "WARNING:absl:Found untraced functions such as _update_step_xla, gru_cell_layer_call_fn, gru_cell_layer_call_and_return_conditional_losses while saving (showing 3 of 3). These functions will not be directly callable after loading.\n"
     ]
    },
    {
     "name": "stdout",
     "output_type": "stream",
     "text": [
      "INFO:tensorflow:Assets written to: model3\\assets\n"
     ]
    },
    {
     "name": "stderr",
     "output_type": "stream",
     "text": [
      "INFO:tensorflow:Assets written to: model3\\assets\n"
     ]
    },
    {
     "name": "stdout",
     "output_type": "stream",
     "text": [
      "1875/1875 [==============================] - 16s 8ms/step - loss: 40.5770 - root_mean_squared_error: 6.3700 - val_loss: 7.9412 - val_root_mean_squared_error: 2.8180\n",
      "Epoch 3/100\n",
      "1872/1875 [============================>.] - ETA: 0s - loss: 18.6598 - root_mean_squared_error: 4.3197"
     ]
    },
    {
     "name": "stderr",
     "output_type": "stream",
     "text": [
      "WARNING:absl:Found untraced functions such as _update_step_xla, gru_cell_layer_call_fn, gru_cell_layer_call_and_return_conditional_losses while saving (showing 3 of 3). These functions will not be directly callable after loading.\n"
     ]
    },
    {
     "name": "stdout",
     "output_type": "stream",
     "text": [
      "INFO:tensorflow:Assets written to: model3\\assets\n"
     ]
    },
    {
     "name": "stderr",
     "output_type": "stream",
     "text": [
      "INFO:tensorflow:Assets written to: model3\\assets\n"
     ]
    },
    {
     "name": "stdout",
     "output_type": "stream",
     "text": [
      "1875/1875 [==============================] - 16s 8ms/step - loss: 18.6478 - root_mean_squared_error: 4.3183 - val_loss: 3.0357 - val_root_mean_squared_error: 1.7423\n",
      "Epoch 4/100\n",
      "1854/1875 [============================>.] - ETA: 0s - loss: 9.1992 - root_mean_squared_error: 3.0330"
     ]
    },
    {
     "name": "stderr",
     "output_type": "stream",
     "text": [
      "WARNING:absl:Found untraced functions such as _update_step_xla, gru_cell_layer_call_fn, gru_cell_layer_call_and_return_conditional_losses while saving (showing 3 of 3). These functions will not be directly callable after loading.\n"
     ]
    },
    {
     "name": "stdout",
     "output_type": "stream",
     "text": [
      "INFO:tensorflow:Assets written to: model3\\assets\n"
     ]
    },
    {
     "name": "stderr",
     "output_type": "stream",
     "text": [
      "INFO:tensorflow:Assets written to: model3\\assets\n"
     ]
    },
    {
     "name": "stdout",
     "output_type": "stream",
     "text": [
      "1875/1875 [==============================] - 16s 8ms/step - loss: 9.1720 - root_mean_squared_error: 3.0285 - val_loss: 1.7428 - val_root_mean_squared_error: 1.3202\n",
      "Epoch 5/100\n",
      "1870/1875 [============================>.] - ETA: 0s - loss: 5.2436 - root_mean_squared_error: 2.2899"
     ]
    },
    {
     "name": "stderr",
     "output_type": "stream",
     "text": [
      "WARNING:absl:Found untraced functions such as _update_step_xla, gru_cell_layer_call_fn, gru_cell_layer_call_and_return_conditional_losses while saving (showing 3 of 3). These functions will not be directly callable after loading.\n"
     ]
    },
    {
     "name": "stdout",
     "output_type": "stream",
     "text": [
      "INFO:tensorflow:Assets written to: model3\\assets\n"
     ]
    },
    {
     "name": "stderr",
     "output_type": "stream",
     "text": [
      "INFO:tensorflow:Assets written to: model3\\assets\n"
     ]
    },
    {
     "name": "stdout",
     "output_type": "stream",
     "text": [
      "1875/1875 [==============================] - 16s 8ms/step - loss: 5.2370 - root_mean_squared_error: 2.2885 - val_loss: 1.2476 - val_root_mean_squared_error: 1.1170\n",
      "Epoch 6/100\n",
      "1870/1875 [============================>.] - ETA: 0s - loss: 3.3193 - root_mean_squared_error: 1.8219"
     ]
    },
    {
     "name": "stderr",
     "output_type": "stream",
     "text": [
      "WARNING:absl:Found untraced functions such as _update_step_xla, gru_cell_layer_call_fn, gru_cell_layer_call_and_return_conditional_losses while saving (showing 3 of 3). These functions will not be directly callable after loading.\n"
     ]
    },
    {
     "name": "stdout",
     "output_type": "stream",
     "text": [
      "INFO:tensorflow:Assets written to: model3\\assets\n"
     ]
    },
    {
     "name": "stderr",
     "output_type": "stream",
     "text": [
      "INFO:tensorflow:Assets written to: model3\\assets\n"
     ]
    },
    {
     "name": "stdout",
     "output_type": "stream",
     "text": [
      "1875/1875 [==============================] - 14s 8ms/step - loss: 3.3183 - root_mean_squared_error: 1.8216 - val_loss: 1.0325 - val_root_mean_squared_error: 1.0161\n",
      "Epoch 7/100\n",
      "1863/1875 [============================>.] - ETA: 0s - loss: 2.3580 - root_mean_squared_error: 1.5356"
     ]
    },
    {
     "name": "stderr",
     "output_type": "stream",
     "text": [
      "WARNING:absl:Found untraced functions such as _update_step_xla, gru_cell_layer_call_fn, gru_cell_layer_call_and_return_conditional_losses while saving (showing 3 of 3). These functions will not be directly callable after loading.\n"
     ]
    },
    {
     "name": "stdout",
     "output_type": "stream",
     "text": [
      "INFO:tensorflow:Assets written to: model3\\assets\n"
     ]
    },
    {
     "name": "stderr",
     "output_type": "stream",
     "text": [
      "INFO:tensorflow:Assets written to: model3\\assets\n"
     ]
    },
    {
     "name": "stdout",
     "output_type": "stream",
     "text": [
      "1875/1875 [==============================] - 16s 9ms/step - loss: 2.3570 - root_mean_squared_error: 1.5352 - val_loss: 0.9044 - val_root_mean_squared_error: 0.9510\n",
      "Epoch 8/100\n",
      "1861/1875 [============================>.] - ETA: 0s - loss: 1.8585 - root_mean_squared_error: 1.3633"
     ]
    },
    {
     "name": "stderr",
     "output_type": "stream",
     "text": [
      "WARNING:absl:Found untraced functions such as _update_step_xla, gru_cell_layer_call_fn, gru_cell_layer_call_and_return_conditional_losses while saving (showing 3 of 3). These functions will not be directly callable after loading.\n"
     ]
    },
    {
     "name": "stdout",
     "output_type": "stream",
     "text": [
      "INFO:tensorflow:Assets written to: model3\\assets\n"
     ]
    },
    {
     "name": "stderr",
     "output_type": "stream",
     "text": [
      "INFO:tensorflow:Assets written to: model3\\assets\n"
     ]
    },
    {
     "name": "stdout",
     "output_type": "stream",
     "text": [
      "1875/1875 [==============================] - 15s 8ms/step - loss: 1.8540 - root_mean_squared_error: 1.3616 - val_loss: 0.8229 - val_root_mean_squared_error: 0.9071\n",
      "Epoch 9/100\n",
      "1856/1875 [============================>.] - ETA: 0s - loss: 1.5648 - root_mean_squared_error: 1.2509"
     ]
    },
    {
     "name": "stderr",
     "output_type": "stream",
     "text": [
      "WARNING:absl:Found untraced functions such as _update_step_xla, gru_cell_layer_call_fn, gru_cell_layer_call_and_return_conditional_losses while saving (showing 3 of 3). These functions will not be directly callable after loading.\n"
     ]
    },
    {
     "name": "stdout",
     "output_type": "stream",
     "text": [
      "INFO:tensorflow:Assets written to: model3\\assets\n"
     ]
    },
    {
     "name": "stderr",
     "output_type": "stream",
     "text": [
      "INFO:tensorflow:Assets written to: model3\\assets\n"
     ]
    },
    {
     "name": "stdout",
     "output_type": "stream",
     "text": [
      "1875/1875 [==============================] - 15s 8ms/step - loss: 1.5619 - root_mean_squared_error: 1.2498 - val_loss: 0.7497 - val_root_mean_squared_error: 0.8658\n",
      "Epoch 10/100\n",
      "1864/1875 [============================>.] - ETA: 0s - loss: 1.3723 - root_mean_squared_error: 1.1715"
     ]
    },
    {
     "name": "stderr",
     "output_type": "stream",
     "text": [
      "WARNING:absl:Found untraced functions such as _update_step_xla, gru_cell_layer_call_fn, gru_cell_layer_call_and_return_conditional_losses while saving (showing 3 of 3). These functions will not be directly callable after loading.\n"
     ]
    },
    {
     "name": "stdout",
     "output_type": "stream",
     "text": [
      "INFO:tensorflow:Assets written to: model3\\assets\n"
     ]
    },
    {
     "name": "stderr",
     "output_type": "stream",
     "text": [
      "INFO:tensorflow:Assets written to: model3\\assets\n"
     ]
    },
    {
     "name": "stdout",
     "output_type": "stream",
     "text": [
      "1875/1875 [==============================] - 14s 8ms/step - loss: 1.3711 - root_mean_squared_error: 1.1709 - val_loss: 0.6972 - val_root_mean_squared_error: 0.8350\n",
      "Epoch 11/100\n",
      "1871/1875 [============================>.] - ETA: 0s - loss: 1.2342 - root_mean_squared_error: 1.1110"
     ]
    },
    {
     "name": "stderr",
     "output_type": "stream",
     "text": [
      "WARNING:absl:Found untraced functions such as _update_step_xla, gru_cell_layer_call_fn, gru_cell_layer_call_and_return_conditional_losses while saving (showing 3 of 3). These functions will not be directly callable after loading.\n"
     ]
    },
    {
     "name": "stdout",
     "output_type": "stream",
     "text": [
      "INFO:tensorflow:Assets written to: model3\\assets\n"
     ]
    },
    {
     "name": "stderr",
     "output_type": "stream",
     "text": [
      "INFO:tensorflow:Assets written to: model3\\assets\n"
     ]
    },
    {
     "name": "stdout",
     "output_type": "stream",
     "text": [
      "1875/1875 [==============================] - 15s 8ms/step - loss: 1.2327 - root_mean_squared_error: 1.1103 - val_loss: 0.6542 - val_root_mean_squared_error: 0.8088\n",
      "Epoch 12/100\n",
      "1867/1875 [============================>.] - ETA: 0s - loss: 1.1277 - root_mean_squared_error: 1.0619"
     ]
    },
    {
     "name": "stderr",
     "output_type": "stream",
     "text": [
      "WARNING:absl:Found untraced functions such as _update_step_xla, gru_cell_layer_call_fn, gru_cell_layer_call_and_return_conditional_losses while saving (showing 3 of 3). These functions will not be directly callable after loading.\n"
     ]
    },
    {
     "name": "stdout",
     "output_type": "stream",
     "text": [
      "INFO:tensorflow:Assets written to: model3\\assets\n"
     ]
    },
    {
     "name": "stderr",
     "output_type": "stream",
     "text": [
      "INFO:tensorflow:Assets written to: model3\\assets\n"
     ]
    },
    {
     "name": "stdout",
     "output_type": "stream",
     "text": [
      "1875/1875 [==============================] - 16s 9ms/step - loss: 1.1274 - root_mean_squared_error: 1.0618 - val_loss: 0.6178 - val_root_mean_squared_error: 0.7860\n",
      "Epoch 13/100\n",
      "1853/1875 [============================>.] - ETA: 0s - loss: 1.0457 - root_mean_squared_error: 1.0226"
     ]
    },
    {
     "name": "stderr",
     "output_type": "stream",
     "text": [
      "WARNING:absl:Found untraced functions such as _update_step_xla, gru_cell_layer_call_fn, gru_cell_layer_call_and_return_conditional_losses while saving (showing 3 of 3). These functions will not be directly callable after loading.\n"
     ]
    },
    {
     "name": "stdout",
     "output_type": "stream",
     "text": [
      "INFO:tensorflow:Assets written to: model3\\assets\n"
     ]
    },
    {
     "name": "stderr",
     "output_type": "stream",
     "text": [
      "INFO:tensorflow:Assets written to: model3\\assets\n"
     ]
    },
    {
     "name": "stdout",
     "output_type": "stream",
     "text": [
      "1875/1875 [==============================] - 11s 6ms/step - loss: 1.0445 - root_mean_squared_error: 1.0220 - val_loss: 0.5947 - val_root_mean_squared_error: 0.7711\n",
      "Epoch 14/100\n",
      "1869/1875 [============================>.] - ETA: 0s - loss: 0.9776 - root_mean_squared_error: 0.9887"
     ]
    },
    {
     "name": "stderr",
     "output_type": "stream",
     "text": [
      "WARNING:absl:Found untraced functions such as _update_step_xla, gru_cell_layer_call_fn, gru_cell_layer_call_and_return_conditional_losses while saving (showing 3 of 3). These functions will not be directly callable after loading.\n"
     ]
    },
    {
     "name": "stdout",
     "output_type": "stream",
     "text": [
      "INFO:tensorflow:Assets written to: model3\\assets\n"
     ]
    },
    {
     "name": "stderr",
     "output_type": "stream",
     "text": [
      "INFO:tensorflow:Assets written to: model3\\assets\n"
     ]
    },
    {
     "name": "stdout",
     "output_type": "stream",
     "text": [
      "1875/1875 [==============================] - 11s 6ms/step - loss: 0.9771 - root_mean_squared_error: 0.9885 - val_loss: 0.5683 - val_root_mean_squared_error: 0.7538\n",
      "Epoch 15/100\n",
      "1852/1875 [============================>.] - ETA: 0s - loss: 0.9220 - root_mean_squared_error: 0.9602"
     ]
    },
    {
     "name": "stderr",
     "output_type": "stream",
     "text": [
      "WARNING:absl:Found untraced functions such as _update_step_xla, gru_cell_layer_call_fn, gru_cell_layer_call_and_return_conditional_losses while saving (showing 3 of 3). These functions will not be directly callable after loading.\n"
     ]
    },
    {
     "name": "stdout",
     "output_type": "stream",
     "text": [
      "INFO:tensorflow:Assets written to: model3\\assets\n"
     ]
    },
    {
     "name": "stderr",
     "output_type": "stream",
     "text": [
      "INFO:tensorflow:Assets written to: model3\\assets\n"
     ]
    },
    {
     "name": "stdout",
     "output_type": "stream",
     "text": [
      "1875/1875 [==============================] - 11s 6ms/step - loss: 0.9232 - root_mean_squared_error: 0.9608 - val_loss: 0.5556 - val_root_mean_squared_error: 0.7454\n",
      "Epoch 16/100\n",
      "1864/1875 [============================>.] - ETA: 0s - loss: 0.8805 - root_mean_squared_error: 0.9384"
     ]
    },
    {
     "name": "stderr",
     "output_type": "stream",
     "text": [
      "WARNING:absl:Found untraced functions such as _update_step_xla, gru_cell_layer_call_fn, gru_cell_layer_call_and_return_conditional_losses while saving (showing 3 of 3). These functions will not be directly callable after loading.\n"
     ]
    },
    {
     "name": "stdout",
     "output_type": "stream",
     "text": [
      "INFO:tensorflow:Assets written to: model3\\assets\n"
     ]
    },
    {
     "name": "stderr",
     "output_type": "stream",
     "text": [
      "INFO:tensorflow:Assets written to: model3\\assets\n"
     ]
    },
    {
     "name": "stdout",
     "output_type": "stream",
     "text": [
      "1875/1875 [==============================] - 11s 6ms/step - loss: 0.8797 - root_mean_squared_error: 0.9379 - val_loss: 0.5407 - val_root_mean_squared_error: 0.7353\n",
      "Epoch 17/100\n",
      "1870/1875 [============================>.] - ETA: 0s - loss: 0.8450 - root_mean_squared_error: 0.9192"
     ]
    },
    {
     "name": "stderr",
     "output_type": "stream",
     "text": [
      "WARNING:absl:Found untraced functions such as _update_step_xla, gru_cell_layer_call_fn, gru_cell_layer_call_and_return_conditional_losses while saving (showing 3 of 3). These functions will not be directly callable after loading.\n"
     ]
    },
    {
     "name": "stdout",
     "output_type": "stream",
     "text": [
      "INFO:tensorflow:Assets written to: model3\\assets\n"
     ]
    },
    {
     "name": "stderr",
     "output_type": "stream",
     "text": [
      "INFO:tensorflow:Assets written to: model3\\assets\n"
     ]
    },
    {
     "name": "stdout",
     "output_type": "stream",
     "text": [
      "1875/1875 [==============================] - 13s 7ms/step - loss: 0.8444 - root_mean_squared_error: 0.9189 - val_loss: 0.5338 - val_root_mean_squared_error: 0.7306\n",
      "Epoch 18/100\n",
      "1854/1875 [============================>.] - ETA: 0s - loss: 0.8156 - root_mean_squared_error: 0.9031"
     ]
    },
    {
     "name": "stderr",
     "output_type": "stream",
     "text": [
      "WARNING:absl:Found untraced functions such as _update_step_xla, gru_cell_layer_call_fn, gru_cell_layer_call_and_return_conditional_losses while saving (showing 3 of 3). These functions will not be directly callable after loading.\n"
     ]
    },
    {
     "name": "stdout",
     "output_type": "stream",
     "text": [
      "INFO:tensorflow:Assets written to: model3\\assets\n"
     ]
    },
    {
     "name": "stderr",
     "output_type": "stream",
     "text": [
      "INFO:tensorflow:Assets written to: model3\\assets\n"
     ]
    },
    {
     "name": "stdout",
     "output_type": "stream",
     "text": [
      "1875/1875 [==============================] - 11s 6ms/step - loss: 0.8156 - root_mean_squared_error: 0.9031 - val_loss: 0.5264 - val_root_mean_squared_error: 0.7255\n",
      "Epoch 19/100\n",
      "1860/1875 [============================>.] - ETA: 0s - loss: 0.7929 - root_mean_squared_error: 0.8904"
     ]
    },
    {
     "name": "stderr",
     "output_type": "stream",
     "text": [
      "WARNING:absl:Found untraced functions such as _update_step_xla, gru_cell_layer_call_fn, gru_cell_layer_call_and_return_conditional_losses while saving (showing 3 of 3). These functions will not be directly callable after loading.\n"
     ]
    },
    {
     "name": "stdout",
     "output_type": "stream",
     "text": [
      "INFO:tensorflow:Assets written to: model3\\assets\n"
     ]
    },
    {
     "name": "stderr",
     "output_type": "stream",
     "text": [
      "INFO:tensorflow:Assets written to: model3\\assets\n"
     ]
    },
    {
     "name": "stdout",
     "output_type": "stream",
     "text": [
      "1875/1875 [==============================] - 10s 5ms/step - loss: 0.7916 - root_mean_squared_error: 0.8897 - val_loss: 0.5243 - val_root_mean_squared_error: 0.7241\n",
      "Epoch 20/100\n",
      "1853/1875 [============================>.] - ETA: 0s - loss: 0.7709 - root_mean_squared_error: 0.8780"
     ]
    },
    {
     "name": "stderr",
     "output_type": "stream",
     "text": [
      "WARNING:absl:Found untraced functions such as _update_step_xla, gru_cell_layer_call_fn, gru_cell_layer_call_and_return_conditional_losses while saving (showing 3 of 3). These functions will not be directly callable after loading.\n"
     ]
    },
    {
     "name": "stdout",
     "output_type": "stream",
     "text": [
      "INFO:tensorflow:Assets written to: model3\\assets\n"
     ]
    },
    {
     "name": "stderr",
     "output_type": "stream",
     "text": [
      "INFO:tensorflow:Assets written to: model3\\assets\n"
     ]
    },
    {
     "name": "stdout",
     "output_type": "stream",
     "text": [
      "1875/1875 [==============================] - 11s 6ms/step - loss: 0.7718 - root_mean_squared_error: 0.8785 - val_loss: 0.5197 - val_root_mean_squared_error: 0.7209\n",
      "Epoch 21/100\n",
      "1875/1875 [==============================] - 4s 2ms/step - loss: 0.7558 - root_mean_squared_error: 0.8693 - val_loss: 0.5243 - val_root_mean_squared_error: 0.7241\n",
      "Epoch 22/100\n",
      "1874/1875 [============================>.] - ETA: 0s - loss: 0.7424 - root_mean_squared_error: 0.8616"
     ]
    },
    {
     "name": "stderr",
     "output_type": "stream",
     "text": [
      "WARNING:absl:Found untraced functions such as _update_step_xla, gru_cell_layer_call_fn, gru_cell_layer_call_and_return_conditional_losses while saving (showing 3 of 3). These functions will not be directly callable after loading.\n"
     ]
    },
    {
     "name": "stdout",
     "output_type": "stream",
     "text": [
      "INFO:tensorflow:Assets written to: model3\\assets\n"
     ]
    },
    {
     "name": "stderr",
     "output_type": "stream",
     "text": [
      "INFO:tensorflow:Assets written to: model3\\assets\n"
     ]
    },
    {
     "name": "stdout",
     "output_type": "stream",
     "text": [
      "1875/1875 [==============================] - 10s 5ms/step - loss: 0.7422 - root_mean_squared_error: 0.8615 - val_loss: 0.5157 - val_root_mean_squared_error: 0.7181\n",
      "Epoch 23/100\n",
      "1868/1875 [============================>.] - ETA: 0s - loss: 0.7308 - root_mean_squared_error: 0.8549"
     ]
    },
    {
     "name": "stderr",
     "output_type": "stream",
     "text": [
      "WARNING:absl:Found untraced functions such as _update_step_xla, gru_cell_layer_call_fn, gru_cell_layer_call_and_return_conditional_losses while saving (showing 3 of 3). These functions will not be directly callable after loading.\n"
     ]
    },
    {
     "name": "stdout",
     "output_type": "stream",
     "text": [
      "INFO:tensorflow:Assets written to: model3\\assets\n"
     ]
    },
    {
     "name": "stderr",
     "output_type": "stream",
     "text": [
      "INFO:tensorflow:Assets written to: model3\\assets\n"
     ]
    },
    {
     "name": "stdout",
     "output_type": "stream",
     "text": [
      "1875/1875 [==============================] - 11s 6ms/step - loss: 0.7306 - root_mean_squared_error: 0.8548 - val_loss: 0.5080 - val_root_mean_squared_error: 0.7127\n",
      "Epoch 24/100\n",
      "1875/1875 [==============================] - 4s 2ms/step - loss: 0.7208 - root_mean_squared_error: 0.8490 - val_loss: 0.5093 - val_root_mean_squared_error: 0.7136\n",
      "Epoch 25/100\n",
      "1875/1875 [==============================] - 4s 2ms/step - loss: 0.7124 - root_mean_squared_error: 0.8440 - val_loss: 0.5101 - val_root_mean_squared_error: 0.7142\n",
      "Epoch 26/100\n",
      "1875/1875 [==============================] - 5s 2ms/step - loss: 0.7047 - root_mean_squared_error: 0.8394 - val_loss: 0.5095 - val_root_mean_squared_error: 0.7138\n",
      "Epoch 27/100\n",
      "1875/1875 [==============================] - 4s 2ms/step - loss: 0.6984 - root_mean_squared_error: 0.8357 - val_loss: 0.5084 - val_root_mean_squared_error: 0.7130\n",
      "Epoch 28/100\n",
      "1875/1875 [==============================] - 4s 2ms/step - loss: 0.6926 - root_mean_squared_error: 0.8322 - val_loss: 0.5086 - val_root_mean_squared_error: 0.7131\n",
      "Epoch 29/100\n",
      "1851/1875 [============================>.] - ETA: 0s - loss: 0.6878 - root_mean_squared_error: 0.8293"
     ]
    },
    {
     "name": "stderr",
     "output_type": "stream",
     "text": [
      "WARNING:absl:Found untraced functions such as _update_step_xla, gru_cell_layer_call_fn, gru_cell_layer_call_and_return_conditional_losses while saving (showing 3 of 3). These functions will not be directly callable after loading.\n"
     ]
    },
    {
     "name": "stdout",
     "output_type": "stream",
     "text": [
      "INFO:tensorflow:Assets written to: model3\\assets\n"
     ]
    },
    {
     "name": "stderr",
     "output_type": "stream",
     "text": [
      "INFO:tensorflow:Assets written to: model3\\assets\n"
     ]
    },
    {
     "name": "stdout",
     "output_type": "stream",
     "text": [
      "1875/1875 [==============================] - 10s 5ms/step - loss: 0.6877 - root_mean_squared_error: 0.8293 - val_loss: 0.5040 - val_root_mean_squared_error: 0.7099\n",
      "Epoch 30/100\n",
      "1875/1875 [==============================] - 4s 2ms/step - loss: 0.6830 - root_mean_squared_error: 0.8265 - val_loss: 0.5059 - val_root_mean_squared_error: 0.7113\n",
      "Epoch 31/100\n",
      "1875/1875 [==============================] - 4s 2ms/step - loss: 0.6793 - root_mean_squared_error: 0.8242 - val_loss: 0.5111 - val_root_mean_squared_error: 0.7149\n",
      "Epoch 32/100\n",
      "1875/1875 [==============================] - 4s 2ms/step - loss: 0.6758 - root_mean_squared_error: 0.8220 - val_loss: 0.5065 - val_root_mean_squared_error: 0.7117\n",
      "Epoch 33/100\n",
      "1869/1875 [============================>.] - ETA: 0s - loss: 0.6732 - root_mean_squared_error: 0.8205"
     ]
    },
    {
     "name": "stderr",
     "output_type": "stream",
     "text": [
      "WARNING:absl:Found untraced functions such as _update_step_xla, gru_cell_layer_call_fn, gru_cell_layer_call_and_return_conditional_losses while saving (showing 3 of 3). These functions will not be directly callable after loading.\n"
     ]
    },
    {
     "name": "stdout",
     "output_type": "stream",
     "text": [
      "INFO:tensorflow:Assets written to: model3\\assets\n"
     ]
    },
    {
     "name": "stderr",
     "output_type": "stream",
     "text": [
      "INFO:tensorflow:Assets written to: model3\\assets\n"
     ]
    },
    {
     "name": "stdout",
     "output_type": "stream",
     "text": [
      "1875/1875 [==============================] - 10s 6ms/step - loss: 0.6728 - root_mean_squared_error: 0.8202 - val_loss: 0.5026 - val_root_mean_squared_error: 0.7090\n",
      "Epoch 34/100\n",
      "1859/1875 [============================>.] - ETA: 0s - loss: 0.6690 - root_mean_squared_error: 0.8180"
     ]
    },
    {
     "name": "stderr",
     "output_type": "stream",
     "text": [
      "WARNING:absl:Found untraced functions such as _update_step_xla, gru_cell_layer_call_fn, gru_cell_layer_call_and_return_conditional_losses while saving (showing 3 of 3). These functions will not be directly callable after loading.\n"
     ]
    },
    {
     "name": "stdout",
     "output_type": "stream",
     "text": [
      "INFO:tensorflow:Assets written to: model3\\assets\n"
     ]
    },
    {
     "name": "stderr",
     "output_type": "stream",
     "text": [
      "INFO:tensorflow:Assets written to: model3\\assets\n"
     ]
    },
    {
     "name": "stdout",
     "output_type": "stream",
     "text": [
      "1875/1875 [==============================] - 10s 5ms/step - loss: 0.6699 - root_mean_squared_error: 0.8185 - val_loss: 0.5026 - val_root_mean_squared_error: 0.7090\n",
      "Epoch 35/100\n",
      "1875/1875 [==============================] - 4s 2ms/step - loss: 0.6676 - root_mean_squared_error: 0.8170 - val_loss: 0.5029 - val_root_mean_squared_error: 0.7092\n",
      "Epoch 36/100\n",
      "1862/1875 [============================>.] - ETA: 0s - loss: 0.6644 - root_mean_squared_error: 0.8151"
     ]
    },
    {
     "name": "stderr",
     "output_type": "stream",
     "text": [
      "WARNING:absl:Found untraced functions such as _update_step_xla, gru_cell_layer_call_fn, gru_cell_layer_call_and_return_conditional_losses while saving (showing 3 of 3). These functions will not be directly callable after loading.\n"
     ]
    },
    {
     "name": "stdout",
     "output_type": "stream",
     "text": [
      "INFO:tensorflow:Assets written to: model3\\assets\n"
     ]
    },
    {
     "name": "stderr",
     "output_type": "stream",
     "text": [
      "INFO:tensorflow:Assets written to: model3\\assets\n"
     ]
    },
    {
     "name": "stdout",
     "output_type": "stream",
     "text": [
      "1875/1875 [==============================] - 11s 6ms/step - loss: 0.6653 - root_mean_squared_error: 0.8157 - val_loss: 0.4979 - val_root_mean_squared_error: 0.7056\n",
      "Epoch 37/100\n",
      "1875/1875 [==============================] - 4s 2ms/step - loss: 0.6632 - root_mean_squared_error: 0.8144 - val_loss: 0.5008 - val_root_mean_squared_error: 0.7077\n",
      "Epoch 38/100\n",
      "1875/1875 [==============================] - 4s 2ms/step - loss: 0.6613 - root_mean_squared_error: 0.8132 - val_loss: 0.5010 - val_root_mean_squared_error: 0.7078\n",
      "Epoch 39/100\n",
      "1873/1875 [============================>.] - ETA: 0s - loss: 0.6601 - root_mean_squared_error: 0.8125"
     ]
    },
    {
     "name": "stderr",
     "output_type": "stream",
     "text": [
      "WARNING:absl:Found untraced functions such as _update_step_xla, gru_cell_layer_call_fn, gru_cell_layer_call_and_return_conditional_losses while saving (showing 3 of 3). These functions will not be directly callable after loading.\n"
     ]
    },
    {
     "name": "stdout",
     "output_type": "stream",
     "text": [
      "INFO:tensorflow:Assets written to: model3\\assets\n"
     ]
    },
    {
     "name": "stderr",
     "output_type": "stream",
     "text": [
      "INFO:tensorflow:Assets written to: model3\\assets\n"
     ]
    },
    {
     "name": "stdout",
     "output_type": "stream",
     "text": [
      "1875/1875 [==============================] - 10s 5ms/step - loss: 0.6600 - root_mean_squared_error: 0.8124 - val_loss: 0.4961 - val_root_mean_squared_error: 0.7044\n",
      "Epoch 40/100\n",
      "1875/1875 [==============================] - 4s 2ms/step - loss: 0.6584 - root_mean_squared_error: 0.8114 - val_loss: 0.5009 - val_root_mean_squared_error: 0.7078\n",
      "Epoch 41/100\n",
      "1875/1875 [==============================] - 4s 2ms/step - loss: 0.6572 - root_mean_squared_error: 0.8107 - val_loss: 0.5042 - val_root_mean_squared_error: 0.7101\n",
      "Epoch 42/100\n",
      "1859/1875 [============================>.] - ETA: 0s - loss: 0.6563 - root_mean_squared_error: 0.8101"
     ]
    },
    {
     "name": "stderr",
     "output_type": "stream",
     "text": [
      "WARNING:absl:Found untraced functions such as _update_step_xla, gru_cell_layer_call_fn, gru_cell_layer_call_and_return_conditional_losses while saving (showing 3 of 3). These functions will not be directly callable after loading.\n"
     ]
    },
    {
     "name": "stdout",
     "output_type": "stream",
     "text": [
      "INFO:tensorflow:Assets written to: model3\\assets\n"
     ]
    },
    {
     "name": "stderr",
     "output_type": "stream",
     "text": [
      "INFO:tensorflow:Assets written to: model3\\assets\n"
     ]
    },
    {
     "name": "stdout",
     "output_type": "stream",
     "text": [
      "1875/1875 [==============================] - 10s 5ms/step - loss: 0.6560 - root_mean_squared_error: 0.8100 - val_loss: 0.4954 - val_root_mean_squared_error: 0.7039\n",
      "Epoch 43/100\n",
      "1875/1875 [==============================] - 4s 2ms/step - loss: 0.6546 - root_mean_squared_error: 0.8091 - val_loss: 0.4968 - val_root_mean_squared_error: 0.7049\n",
      "Epoch 44/100\n",
      "1875/1875 [==============================] - 4s 2ms/step - loss: 0.6537 - root_mean_squared_error: 0.8085 - val_loss: 0.4958 - val_root_mean_squared_error: 0.7041\n",
      "Epoch 45/100\n",
      "1875/1875 [==============================] - 4s 2ms/step - loss: 0.6526 - root_mean_squared_error: 0.8078 - val_loss: 0.4998 - val_root_mean_squared_error: 0.7069\n",
      "Epoch 46/100\n",
      "1850/1875 [============================>.] - ETA: 0s - loss: 0.6515 - root_mean_squared_error: 0.8072"
     ]
    },
    {
     "name": "stderr",
     "output_type": "stream",
     "text": [
      "WARNING:absl:Found untraced functions such as _update_step_xla, gru_cell_layer_call_fn, gru_cell_layer_call_and_return_conditional_losses while saving (showing 3 of 3). These functions will not be directly callable after loading.\n"
     ]
    },
    {
     "name": "stdout",
     "output_type": "stream",
     "text": [
      "INFO:tensorflow:Assets written to: model3\\assets\n"
     ]
    },
    {
     "name": "stderr",
     "output_type": "stream",
     "text": [
      "INFO:tensorflow:Assets written to: model3\\assets\n"
     ]
    },
    {
     "name": "stdout",
     "output_type": "stream",
     "text": [
      "1875/1875 [==============================] - 10s 6ms/step - loss: 0.6520 - root_mean_squared_error: 0.8075 - val_loss: 0.4952 - val_root_mean_squared_error: 0.7037\n",
      "Epoch 47/100\n",
      "1875/1875 [==============================] - 4s 2ms/step - loss: 0.6510 - root_mean_squared_error: 0.8069 - val_loss: 0.4956 - val_root_mean_squared_error: 0.7040\n",
      "Epoch 48/100\n",
      "1860/1875 [============================>.] - ETA: 0s - loss: 0.6499 - root_mean_squared_error: 0.8061"
     ]
    },
    {
     "name": "stderr",
     "output_type": "stream",
     "text": [
      "WARNING:absl:Found untraced functions such as _update_step_xla, gru_cell_layer_call_fn, gru_cell_layer_call_and_return_conditional_losses while saving (showing 3 of 3). These functions will not be directly callable after loading.\n"
     ]
    },
    {
     "name": "stdout",
     "output_type": "stream",
     "text": [
      "INFO:tensorflow:Assets written to: model3\\assets\n"
     ]
    },
    {
     "name": "stderr",
     "output_type": "stream",
     "text": [
      "INFO:tensorflow:Assets written to: model3\\assets\n"
     ]
    },
    {
     "name": "stdout",
     "output_type": "stream",
     "text": [
      "1875/1875 [==============================] - 10s 5ms/step - loss: 0.6504 - root_mean_squared_error: 0.8065 - val_loss: 0.4939 - val_root_mean_squared_error: 0.7027\n",
      "Epoch 49/100\n",
      "1875/1875 [==============================] - 4s 2ms/step - loss: 0.6496 - root_mean_squared_error: 0.8059 - val_loss: 0.4946 - val_root_mean_squared_error: 0.7033\n",
      "Epoch 50/100\n",
      "1875/1875 [==============================] - 4s 2ms/step - loss: 0.6490 - root_mean_squared_error: 0.8056 - val_loss: 0.5002 - val_root_mean_squared_error: 0.7073\n",
      "Epoch 51/100\n",
      "1875/1875 [==============================] - 4s 2ms/step - loss: 0.6486 - root_mean_squared_error: 0.8053 - val_loss: 0.4978 - val_root_mean_squared_error: 0.7056\n",
      "Epoch 52/100\n",
      "1875/1875 [==============================] - 4s 2ms/step - loss: 0.6478 - root_mean_squared_error: 0.8049 - val_loss: 0.5010 - val_root_mean_squared_error: 0.7078\n",
      "Epoch 53/100\n",
      "1875/1875 [==============================] - 4s 2ms/step - loss: 0.6471 - root_mean_squared_error: 0.8044 - val_loss: 0.4949 - val_root_mean_squared_error: 0.7035\n",
      "Epoch 54/100\n",
      "1875/1875 [==============================] - 4s 2ms/step - loss: 0.6468 - root_mean_squared_error: 0.8042 - val_loss: 0.4994 - val_root_mean_squared_error: 0.7067\n",
      "Epoch 55/100\n",
      "1874/1875 [============================>.] - ETA: 0s - loss: 0.6463 - root_mean_squared_error: 0.8039"
     ]
    },
    {
     "name": "stderr",
     "output_type": "stream",
     "text": [
      "WARNING:absl:Found untraced functions such as _update_step_xla, gru_cell_layer_call_fn, gru_cell_layer_call_and_return_conditional_losses while saving (showing 3 of 3). These functions will not be directly callable after loading.\n"
     ]
    },
    {
     "name": "stdout",
     "output_type": "stream",
     "text": [
      "INFO:tensorflow:Assets written to: model3\\assets\n"
     ]
    },
    {
     "name": "stderr",
     "output_type": "stream",
     "text": [
      "INFO:tensorflow:Assets written to: model3\\assets\n"
     ]
    },
    {
     "name": "stdout",
     "output_type": "stream",
     "text": [
      "1875/1875 [==============================] - 12s 6ms/step - loss: 0.6462 - root_mean_squared_error: 0.8039 - val_loss: 0.4932 - val_root_mean_squared_error: 0.7023\n",
      "Epoch 56/100\n",
      "1875/1875 [==============================] - 6s 3ms/step - loss: 0.6457 - root_mean_squared_error: 0.8035 - val_loss: 0.4974 - val_root_mean_squared_error: 0.7052\n",
      "Epoch 57/100\n",
      "1872/1875 [============================>.] - ETA: 0s - loss: 0.6446 - root_mean_squared_error: 0.8029"
     ]
    },
    {
     "name": "stderr",
     "output_type": "stream",
     "text": [
      "WARNING:absl:Found untraced functions such as _update_step_xla, gru_cell_layer_call_fn, gru_cell_layer_call_and_return_conditional_losses while saving (showing 3 of 3). These functions will not be directly callable after loading.\n"
     ]
    },
    {
     "name": "stdout",
     "output_type": "stream",
     "text": [
      "INFO:tensorflow:Assets written to: model3\\assets\n"
     ]
    },
    {
     "name": "stderr",
     "output_type": "stream",
     "text": [
      "INFO:tensorflow:Assets written to: model3\\assets\n"
     ]
    },
    {
     "name": "stdout",
     "output_type": "stream",
     "text": [
      "1875/1875 [==============================] - 15s 8ms/step - loss: 0.6452 - root_mean_squared_error: 0.8033 - val_loss: 0.4911 - val_root_mean_squared_error: 0.7008\n",
      "Epoch 58/100\n",
      "1875/1875 [==============================] - 4s 2ms/step - loss: 0.6446 - root_mean_squared_error: 0.8029 - val_loss: 0.4933 - val_root_mean_squared_error: 0.7024\n",
      "Epoch 59/100\n",
      "1875/1875 [==============================] - 4s 2ms/step - loss: 0.6446 - root_mean_squared_error: 0.8028 - val_loss: 0.4964 - val_root_mean_squared_error: 0.7045\n",
      "Epoch 60/100\n",
      "1875/1875 [==============================] - 4s 2ms/step - loss: 0.6438 - root_mean_squared_error: 0.8024 - val_loss: 0.4959 - val_root_mean_squared_error: 0.7042\n",
      "Epoch 61/100\n",
      "1875/1875 [==============================] - 4s 2ms/step - loss: 0.6438 - root_mean_squared_error: 0.8024 - val_loss: 0.4959 - val_root_mean_squared_error: 0.7042\n",
      "Epoch 62/100\n",
      "1875/1875 [==============================] - 4s 2ms/step - loss: 0.6435 - root_mean_squared_error: 0.8022 - val_loss: 0.4953 - val_root_mean_squared_error: 0.7037\n",
      "Epoch 63/100\n",
      "1875/1875 [==============================] - 4s 2ms/step - loss: 0.6430 - root_mean_squared_error: 0.8019 - val_loss: 0.4923 - val_root_mean_squared_error: 0.7016\n",
      "Epoch 64/100\n",
      "1875/1875 [==============================] - 4s 2ms/step - loss: 0.6426 - root_mean_squared_error: 0.8016 - val_loss: 0.4912 - val_root_mean_squared_error: 0.7009\n",
      "Epoch 65/100\n",
      "1875/1875 [==============================] - 4s 2ms/step - loss: 0.6424 - root_mean_squared_error: 0.8015 - val_loss: 0.4951 - val_root_mean_squared_error: 0.7037\n",
      "Epoch 66/100\n",
      "1875/1875 [==============================] - 4s 2ms/step - loss: 0.6420 - root_mean_squared_error: 0.8013 - val_loss: 0.5000 - val_root_mean_squared_error: 0.7071\n",
      "Epoch 67/100\n",
      "1875/1875 [==============================] - 4s 2ms/step - loss: 0.6416 - root_mean_squared_error: 0.8010 - val_loss: 0.4994 - val_root_mean_squared_error: 0.7067\n",
      "Epoch 68/100\n",
      "1864/1875 [============================>.] - ETA: 0s - loss: 0.6420 - root_mean_squared_error: 0.8012"
     ]
    },
    {
     "name": "stderr",
     "output_type": "stream",
     "text": [
      "WARNING:absl:Found untraced functions such as _update_step_xla, gru_cell_layer_call_fn, gru_cell_layer_call_and_return_conditional_losses while saving (showing 3 of 3). These functions will not be directly callable after loading.\n"
     ]
    },
    {
     "name": "stdout",
     "output_type": "stream",
     "text": [
      "INFO:tensorflow:Assets written to: model3\\assets\n"
     ]
    },
    {
     "name": "stderr",
     "output_type": "stream",
     "text": [
      "INFO:tensorflow:Assets written to: model3\\assets\n"
     ]
    },
    {
     "name": "stdout",
     "output_type": "stream",
     "text": [
      "1875/1875 [==============================] - 11s 6ms/step - loss: 0.6414 - root_mean_squared_error: 0.8009 - val_loss: 0.4888 - val_root_mean_squared_error: 0.6991\n",
      "Epoch 69/100\n",
      "1875/1875 [==============================] - 4s 2ms/step - loss: 0.6412 - root_mean_squared_error: 0.8007 - val_loss: 0.5006 - val_root_mean_squared_error: 0.7075\n",
      "Epoch 70/100\n",
      "1875/1875 [==============================] - 4s 2ms/step - loss: 0.6409 - root_mean_squared_error: 0.8006 - val_loss: 0.4916 - val_root_mean_squared_error: 0.7012\n",
      "Epoch 71/100\n",
      "1855/1875 [============================>.] - ETA: 0s - loss: 0.6410 - root_mean_squared_error: 0.8007"
     ]
    },
    {
     "name": "stderr",
     "output_type": "stream",
     "text": [
      "WARNING:absl:Found untraced functions such as _update_step_xla, gru_cell_layer_call_fn, gru_cell_layer_call_and_return_conditional_losses while saving (showing 3 of 3). These functions will not be directly callable after loading.\n"
     ]
    },
    {
     "name": "stdout",
     "output_type": "stream",
     "text": [
      "INFO:tensorflow:Assets written to: model3\\assets\n"
     ]
    },
    {
     "name": "stderr",
     "output_type": "stream",
     "text": [
      "INFO:tensorflow:Assets written to: model3\\assets\n"
     ]
    },
    {
     "name": "stdout",
     "output_type": "stream",
     "text": [
      "1875/1875 [==============================] - 10s 6ms/step - loss: 0.6406 - root_mean_squared_error: 0.8004 - val_loss: 0.4882 - val_root_mean_squared_error: 0.6987\n",
      "Epoch 72/100\n",
      "1875/1875 [==============================] - 4s 2ms/step - loss: 0.6406 - root_mean_squared_error: 0.8004 - val_loss: 0.4894 - val_root_mean_squared_error: 0.6996\n",
      "Epoch 73/100\n",
      "1875/1875 [==============================] - 4s 2ms/step - loss: 0.6400 - root_mean_squared_error: 0.8000 - val_loss: 0.5005 - val_root_mean_squared_error: 0.7075\n",
      "Epoch 74/100\n",
      "1875/1875 [==============================] - 4s 2ms/step - loss: 0.6400 - root_mean_squared_error: 0.8000 - val_loss: 0.4921 - val_root_mean_squared_error: 0.7015\n",
      "Epoch 75/100\n",
      "1875/1875 [==============================] - 4s 2ms/step - loss: 0.6397 - root_mean_squared_error: 0.7998 - val_loss: 0.4921 - val_root_mean_squared_error: 0.7015\n",
      "Epoch 76/100\n",
      "1867/1875 [============================>.] - ETA: 0s - loss: 0.6373 - root_mean_squared_error: 0.7983"
     ]
    },
    {
     "name": "stderr",
     "output_type": "stream",
     "text": [
      "WARNING:absl:Found untraced functions such as _update_step_xla, gru_cell_layer_call_fn, gru_cell_layer_call_and_return_conditional_losses while saving (showing 3 of 3). These functions will not be directly callable after loading.\n"
     ]
    },
    {
     "name": "stdout",
     "output_type": "stream",
     "text": [
      "INFO:tensorflow:Assets written to: model3\\assets\n"
     ]
    },
    {
     "name": "stderr",
     "output_type": "stream",
     "text": [
      "INFO:tensorflow:Assets written to: model3\\assets\n"
     ]
    },
    {
     "name": "stdout",
     "output_type": "stream",
     "text": [
      "1875/1875 [==============================] - 11s 6ms/step - loss: 0.6392 - root_mean_squared_error: 0.7995 - val_loss: 0.4870 - val_root_mean_squared_error: 0.6978\n",
      "Epoch 77/100\n",
      "1875/1875 [==============================] - 5s 3ms/step - loss: 0.6393 - root_mean_squared_error: 0.7996 - val_loss: 0.4898 - val_root_mean_squared_error: 0.6998\n",
      "Epoch 78/100\n",
      "1875/1875 [==============================] - 4s 2ms/step - loss: 0.6389 - root_mean_squared_error: 0.7993 - val_loss: 0.4891 - val_root_mean_squared_error: 0.6993\n",
      "Epoch 79/100\n",
      "1875/1875 [==============================] - 4s 2ms/step - loss: 0.6389 - root_mean_squared_error: 0.7993 - val_loss: 0.4969 - val_root_mean_squared_error: 0.7049\n",
      "Epoch 80/100\n",
      "1875/1875 [==============================] - 4s 2ms/step - loss: 0.6386 - root_mean_squared_error: 0.7991 - val_loss: 0.4953 - val_root_mean_squared_error: 0.7037\n",
      "Epoch 81/100\n",
      "1875/1875 [==============================] - 4s 2ms/step - loss: 0.6387 - root_mean_squared_error: 0.7992 - val_loss: 0.4953 - val_root_mean_squared_error: 0.7038\n",
      "Epoch 82/100\n",
      "1875/1875 [==============================] - 4s 2ms/step - loss: 0.6382 - root_mean_squared_error: 0.7989 - val_loss: 0.4930 - val_root_mean_squared_error: 0.7021\n",
      "Epoch 83/100\n",
      "1875/1875 [==============================] - 4s 2ms/step - loss: 0.6381 - root_mean_squared_error: 0.7988 - val_loss: 0.4919 - val_root_mean_squared_error: 0.7013\n",
      "Epoch 84/100\n",
      "1875/1875 [==============================] - 4s 2ms/step - loss: 0.6379 - root_mean_squared_error: 0.7987 - val_loss: 0.4907 - val_root_mean_squared_error: 0.7005\n",
      "Epoch 85/100\n",
      "1875/1875 [==============================] - 4s 2ms/step - loss: 0.6376 - root_mean_squared_error: 0.7985 - val_loss: 0.4891 - val_root_mean_squared_error: 0.6993\n",
      "Epoch 86/100\n",
      "1875/1875 [==============================] - 4s 2ms/step - loss: 0.6375 - root_mean_squared_error: 0.7985 - val_loss: 0.4905 - val_root_mean_squared_error: 0.7004\n",
      "Epoch 87/100\n",
      "1875/1875 [==============================] - 4s 2ms/step - loss: 0.6372 - root_mean_squared_error: 0.7982 - val_loss: 0.4903 - val_root_mean_squared_error: 0.7002\n",
      "Epoch 88/100\n",
      "1875/1875 [==============================] - 4s 2ms/step - loss: 0.6373 - root_mean_squared_error: 0.7983 - val_loss: 0.4914 - val_root_mean_squared_error: 0.7010\n",
      "Epoch 89/100\n",
      "1875/1875 [==============================] - 4s 2ms/step - loss: 0.6372 - root_mean_squared_error: 0.7982 - val_loss: 0.4939 - val_root_mean_squared_error: 0.7028\n",
      "Epoch 90/100\n",
      "1875/1875 [==============================] - 4s 2ms/step - loss: 0.6370 - root_mean_squared_error: 0.7981 - val_loss: 0.4887 - val_root_mean_squared_error: 0.6991\n",
      "Epoch 91/100\n",
      "1875/1875 [==============================] - 4s 2ms/step - loss: 0.6367 - root_mean_squared_error: 0.7979 - val_loss: 0.4917 - val_root_mean_squared_error: 0.7012\n",
      "Epoch 92/100\n",
      "1873/1875 [============================>.] - ETA: 0s - loss: 0.6365 - root_mean_squared_error: 0.7978"
     ]
    },
    {
     "name": "stderr",
     "output_type": "stream",
     "text": [
      "WARNING:absl:Found untraced functions such as _update_step_xla, gru_cell_layer_call_fn, gru_cell_layer_call_and_return_conditional_losses while saving (showing 3 of 3). These functions will not be directly callable after loading.\n"
     ]
    },
    {
     "name": "stdout",
     "output_type": "stream",
     "text": [
      "INFO:tensorflow:Assets written to: model3\\assets\n"
     ]
    },
    {
     "name": "stderr",
     "output_type": "stream",
     "text": [
      "INFO:tensorflow:Assets written to: model3\\assets\n"
     ]
    },
    {
     "name": "stdout",
     "output_type": "stream",
     "text": [
      "1875/1875 [==============================] - 11s 6ms/step - loss: 0.6365 - root_mean_squared_error: 0.7978 - val_loss: 0.4868 - val_root_mean_squared_error: 0.6977\n",
      "Epoch 93/100\n",
      "1875/1875 [==============================] - 4s 2ms/step - loss: 0.6365 - root_mean_squared_error: 0.7978 - val_loss: 0.4917 - val_root_mean_squared_error: 0.7012\n",
      "Epoch 94/100\n",
      "1875/1875 [==============================] - 4s 2ms/step - loss: 0.6364 - root_mean_squared_error: 0.7977 - val_loss: 0.4943 - val_root_mean_squared_error: 0.7031\n",
      "Epoch 95/100\n",
      "1875/1875 [==============================] - 4s 2ms/step - loss: 0.6362 - root_mean_squared_error: 0.7976 - val_loss: 0.4878 - val_root_mean_squared_error: 0.6984\n",
      "Epoch 96/100\n",
      "1875/1875 [==============================] - 4s 2ms/step - loss: 0.6361 - root_mean_squared_error: 0.7976 - val_loss: 0.4899 - val_root_mean_squared_error: 0.6999\n",
      "Epoch 97/100\n",
      "1875/1875 [==============================] - 4s 2ms/step - loss: 0.6360 - root_mean_squared_error: 0.7975 - val_loss: 0.4880 - val_root_mean_squared_error: 0.6986\n",
      "Epoch 98/100\n",
      "1875/1875 [==============================] - 4s 2ms/step - loss: 0.6358 - root_mean_squared_error: 0.7974 - val_loss: 0.4923 - val_root_mean_squared_error: 0.7017\n",
      "Epoch 99/100\n",
      "1870/1875 [============================>.] - ETA: 0s - loss: 0.6355 - root_mean_squared_error: 0.7972"
     ]
    },
    {
     "name": "stderr",
     "output_type": "stream",
     "text": [
      "WARNING:absl:Found untraced functions such as _update_step_xla, gru_cell_layer_call_fn, gru_cell_layer_call_and_return_conditional_losses while saving (showing 3 of 3). These functions will not be directly callable after loading.\n"
     ]
    },
    {
     "name": "stdout",
     "output_type": "stream",
     "text": [
      "INFO:tensorflow:Assets written to: model3\\assets\n"
     ]
    },
    {
     "name": "stderr",
     "output_type": "stream",
     "text": [
      "INFO:tensorflow:Assets written to: model3\\assets\n"
     ]
    },
    {
     "name": "stdout",
     "output_type": "stream",
     "text": [
      "1875/1875 [==============================] - 10s 6ms/step - loss: 0.6356 - root_mean_squared_error: 0.7972 - val_loss: 0.4854 - val_root_mean_squared_error: 0.6967\n",
      "Epoch 100/100\n",
      "1875/1875 [==============================] - 4s 2ms/step - loss: 0.6354 - root_mean_squared_error: 0.7971 - val_loss: 0.4930 - val_root_mean_squared_error: 0.7021\n"
     ]
    },
    {
     "data": {
      "text/plain": [
       "<keras.callbacks.History at 0x1b91b236610>"
      ]
     },
     "execution_count": 52,
     "metadata": {},
     "output_type": "execute_result"
    }
   ],
   "source": [
    "model3.fit(X_train, y_train, validation_data = (X_val, y_val), epochs=100, callbacks=[cp3])"
   ]
  },
  {
   "cell_type": "code",
   "execution_count": 53,
   "id": "aa75b14d",
   "metadata": {},
   "outputs": [
    {
     "name": "stdout",
     "output_type": "stream",
     "text": [
      "159/159 [==============================] - 1s 1ms/step\n"
     ]
    },
    {
     "data": {
      "text/plain": [
       "(      Predictions  Actuals\n",
       " 0       14.507630    13.99\n",
       " 1       13.349512    13.46\n",
       " 2       12.996770    12.93\n",
       " 3       12.573119    12.43\n",
       " 4       12.132231    12.17\n",
       " ...           ...      ...\n",
       " 5081    -1.033861    -0.98\n",
       " 5082    -1.460614    -1.40\n",
       " 5083    -1.623617    -2.75\n",
       " 5084    -3.296676    -2.89\n",
       " 5085    -3.232847    -3.93\n",
       " \n",
       " [5086 rows x 2 columns],\n",
       " 0.6030084594371447)"
      ]
     },
     "execution_count": 53,
     "metadata": {},
     "output_type": "execute_result"
    },
    {
     "data": {
      "image/png": "[encoded data removed]",
      "text/plain": [
       "<Figure size 432x288 with 1 Axes>"
      ]
     },
     "metadata": {
      "needs_background": "light"
     },
     "output_type": "display_data"
    }
   ],
   "source": [
    "plot_predictions1(model3, X_test, y_test)"
   ]
  },
  {
   "cell_type": "code",
   "execution_count": 56,
   "id": "ce3f7de4",
   "metadata": {},
   "outputs": [
    {
     "data": {
      "text/html": [
       "<div>\n",
       "<style scoped>\n",
       "    .dataframe tbody tr th:only-of-type {\n",
       "        vertical-align: middle;\n",
       "    }\n",
       "\n",
       "    .dataframe tbody tr th {\n",
       "        vertical-align: top;\n",
       "    }\n",
       "\n",
       "    .dataframe thead th {\n",
       "        text-align: right;\n",
       "    }\n",
       "</style>\n",
       "<table border=\"1\" class=\"dataframe\">\n",
       "  <thead>\n",
       "    <tr style=\"text-align: right;\">\n",
       "      <th></th>\n",
       "      <th>Temperature</th>\n",
       "      <th>Seconds</th>\n",
       "    </tr>\n",
       "    <tr>\n",
       "      <th>Date Time</th>\n",
       "      <th></th>\n",
       "      <th></th>\n",
       "    </tr>\n",
       "  </thead>\n",
       "  <tbody>\n",
       "    <tr>\n",
       "      <th>2009-01-01 01:00:00</th>\n",
       "      <td>-8.05</td>\n",
       "      <td>1.230772e+09</td>\n",
       "    </tr>\n",
       "    <tr>\n",
       "      <th>2009-01-01 02:00:00</th>\n",
       "      <td>-8.88</td>\n",
       "      <td>1.230775e+09</td>\n",
       "    </tr>\n",
       "    <tr>\n",
       "      <th>2009-01-01 03:00:00</th>\n",
       "      <td>-8.81</td>\n",
       "      <td>1.230779e+09</td>\n",
       "    </tr>\n",
       "    <tr>\n",
       "      <th>2009-01-01 04:00:00</th>\n",
       "      <td>-9.05</td>\n",
       "      <td>1.230782e+09</td>\n",
       "    </tr>\n",
       "    <tr>\n",
       "      <th>2009-01-01 05:00:00</th>\n",
       "      <td>-9.63</td>\n",
       "      <td>1.230786e+09</td>\n",
       "    </tr>\n",
       "    <tr>\n",
       "      <th>...</th>\n",
       "      <td>...</td>\n",
       "      <td>...</td>\n",
       "    </tr>\n",
       "    <tr>\n",
       "      <th>2016-12-31 19:10:00</th>\n",
       "      <td>-0.98</td>\n",
       "      <td>1.483211e+09</td>\n",
       "    </tr>\n",
       "    <tr>\n",
       "      <th>2016-12-31 20:10:00</th>\n",
       "      <td>-1.40</td>\n",
       "      <td>1.483215e+09</td>\n",
       "    </tr>\n",
       "    <tr>\n",
       "      <th>2016-12-31 21:10:00</th>\n",
       "      <td>-2.75</td>\n",
       "      <td>1.483219e+09</td>\n",
       "    </tr>\n",
       "    <tr>\n",
       "      <th>2016-12-31 22:10:00</th>\n",
       "      <td>-2.89</td>\n",
       "      <td>1.483222e+09</td>\n",
       "    </tr>\n",
       "    <tr>\n",
       "      <th>2016-12-31 23:10:00</th>\n",
       "      <td>-3.93</td>\n",
       "      <td>1.483226e+09</td>\n",
       "    </tr>\n",
       "  </tbody>\n",
       "</table>\n",
       "<p>70091 rows × 2 columns</p>\n",
       "</div>"
      ],
      "text/plain": [
       "                     Temperature       Seconds\n",
       "Date Time                                     \n",
       "2009-01-01 01:00:00        -8.05  1.230772e+09\n",
       "2009-01-01 02:00:00        -8.88  1.230775e+09\n",
       "2009-01-01 03:00:00        -8.81  1.230779e+09\n",
       "2009-01-01 04:00:00        -9.05  1.230782e+09\n",
       "2009-01-01 05:00:00        -9.63  1.230786e+09\n",
       "...                          ...           ...\n",
       "2016-12-31 19:10:00        -0.98  1.483211e+09\n",
       "2016-12-31 20:10:00        -1.40  1.483215e+09\n",
       "2016-12-31 21:10:00        -2.75  1.483219e+09\n",
       "2016-12-31 22:10:00        -2.89  1.483222e+09\n",
       "2016-12-31 23:10:00        -3.93  1.483226e+09\n",
       "\n",
       "[70091 rows x 2 columns]"
      ]
     },
     "execution_count": 56,
     "metadata": {},
     "output_type": "execute_result"
    }
   ],
   "source": [
    "temp_df = pd.DataFrame(data = {\"Temperature\": temp})\n",
    "temp_df['Seconds'] = temp_df.index.map(pd.Timestamp.timestamp)\n",
    "temp_df"
   ]
  },
  {
   "cell_type": "code",
   "execution_count": 57,
   "id": "d3f0e8a1",
   "metadata": {},
   "outputs": [
    {
     "data": {
      "text/html": [
       "<div>\n",
       "<style scoped>\n",
       "    .dataframe tbody tr th:only-of-type {\n",
       "        vertical-align: middle;\n",
       "    }\n",
       "\n",
       "    .dataframe tbody tr th {\n",
       "        vertical-align: top;\n",
       "    }\n",
       "\n",
       "    .dataframe thead th {\n",
       "        text-align: right;\n",
       "    }\n",
       "</style>\n",
       "<table border=\"1\" class=\"dataframe\">\n",
       "  <thead>\n",
       "    <tr style=\"text-align: right;\">\n",
       "      <th></th>\n",
       "      <th>Temperature</th>\n",
       "      <th>Seconds</th>\n",
       "      <th>Day sin</th>\n",
       "    </tr>\n",
       "    <tr>\n",
       "      <th>Date Time</th>\n",
       "      <th></th>\n",
       "      <th></th>\n",
       "      <th></th>\n",
       "    </tr>\n",
       "  </thead>\n",
       "  <tbody>\n",
       "    <tr>\n",
       "      <th>2009-01-01 01:00:00</th>\n",
       "      <td>-8.05</td>\n",
       "      <td>1.230772e+09</td>\n",
       "      <td>0.258819</td>\n",
       "    </tr>\n",
       "    <tr>\n",
       "      <th>2009-01-01 02:00:00</th>\n",
       "      <td>-8.88</td>\n",
       "      <td>1.230775e+09</td>\n",
       "      <td>0.500000</td>\n",
       "    </tr>\n",
       "    <tr>\n",
       "      <th>2009-01-01 03:00:00</th>\n",
       "      <td>-8.81</td>\n",
       "      <td>1.230779e+09</td>\n",
       "      <td>0.707107</td>\n",
       "    </tr>\n",
       "    <tr>\n",
       "      <th>2009-01-01 04:00:00</th>\n",
       "      <td>-9.05</td>\n",
       "      <td>1.230782e+09</td>\n",
       "      <td>0.866025</td>\n",
       "    </tr>\n",
       "    <tr>\n",
       "      <th>2009-01-01 05:00:00</th>\n",
       "      <td>-9.63</td>\n",
       "      <td>1.230786e+09</td>\n",
       "      <td>0.965926</td>\n",
       "    </tr>\n",
       "    <tr>\n",
       "      <th>...</th>\n",
       "      <td>...</td>\n",
       "      <td>...</td>\n",
       "      <td>...</td>\n",
       "    </tr>\n",
       "    <tr>\n",
       "      <th>2016-12-31 19:10:00</th>\n",
       "      <td>-0.98</td>\n",
       "      <td>1.483211e+09</td>\n",
       "      <td>-0.953717</td>\n",
       "    </tr>\n",
       "    <tr>\n",
       "      <th>2016-12-31 20:10:00</th>\n",
       "      <td>-1.40</td>\n",
       "      <td>1.483215e+09</td>\n",
       "      <td>-0.843391</td>\n",
       "    </tr>\n",
       "    <tr>\n",
       "      <th>2016-12-31 21:10:00</th>\n",
       "      <td>-2.75</td>\n",
       "      <td>1.483219e+09</td>\n",
       "      <td>-0.675590</td>\n",
       "    </tr>\n",
       "    <tr>\n",
       "      <th>2016-12-31 22:10:00</th>\n",
       "      <td>-2.89</td>\n",
       "      <td>1.483222e+09</td>\n",
       "      <td>-0.461749</td>\n",
       "    </tr>\n",
       "    <tr>\n",
       "      <th>2016-12-31 23:10:00</th>\n",
       "      <td>-3.93</td>\n",
       "      <td>1.483226e+09</td>\n",
       "      <td>-0.216440</td>\n",
       "    </tr>\n",
       "  </tbody>\n",
       "</table>\n",
       "<p>70091 rows × 3 columns</p>\n",
       "</div>"
      ],
      "text/plain": [
       "                     Temperature       Seconds   Day sin\n",
       "Date Time                                               \n",
       "2009-01-01 01:00:00        -8.05  1.230772e+09  0.258819\n",
       "2009-01-01 02:00:00        -8.88  1.230775e+09  0.500000\n",
       "2009-01-01 03:00:00        -8.81  1.230779e+09  0.707107\n",
       "2009-01-01 04:00:00        -9.05  1.230782e+09  0.866025\n",
       "2009-01-01 05:00:00        -9.63  1.230786e+09  0.965926\n",
       "...                          ...           ...       ...\n",
       "2016-12-31 19:10:00        -0.98  1.483211e+09 -0.953717\n",
       "2016-12-31 20:10:00        -1.40  1.483215e+09 -0.843391\n",
       "2016-12-31 21:10:00        -2.75  1.483219e+09 -0.675590\n",
       "2016-12-31 22:10:00        -2.89  1.483222e+09 -0.461749\n",
       "2016-12-31 23:10:00        -3.93  1.483226e+09 -0.216440\n",
       "\n",
       "[70091 rows x 3 columns]"
      ]
     },
     "execution_count": 57,
     "metadata": {},
     "output_type": "execute_result"
    }
   ],
   "source": [
    "day = 60*60*24\n",
    "year = day*365.2425\n",
    "\n",
    "temp_df['Day sin'] = np.sin(temp_df['Seconds'] * (2* np.pi / day))\n",
    "temp_df"
   ]
  },
  {
   "cell_type": "code",
   "execution_count": 58,
   "id": "718fce76",
   "metadata": {},
   "outputs": [
    {
     "data": {
      "text/html": [
       "<div>\n",
       "<style scoped>\n",
       "    .dataframe tbody tr th:only-of-type {\n",
       "        vertical-align: middle;\n",
       "    }\n",
       "\n",
       "    .dataframe tbody tr th {\n",
       "        vertical-align: top;\n",
       "    }\n",
       "\n",
       "    .dataframe thead th {\n",
       "        text-align: right;\n",
       "    }\n",
       "</style>\n",
       "<table border=\"1\" class=\"dataframe\">\n",
       "  <thead>\n",
       "    <tr style=\"text-align: right;\">\n",
       "      <th></th>\n",
       "      <th>Temperature</th>\n",
       "      <th>Seconds</th>\n",
       "      <th>Day sin</th>\n",
       "      <th>Day cos</th>\n",
       "      <th>Year sin</th>\n",
       "      <th>Year cos</th>\n",
       "    </tr>\n",
       "    <tr>\n",
       "      <th>Date Time</th>\n",
       "      <th></th>\n",
       "      <th></th>\n",
       "      <th></th>\n",
       "      <th></th>\n",
       "      <th></th>\n",
       "      <th></th>\n",
       "    </tr>\n",
       "  </thead>\n",
       "  <tbody>\n",
       "    <tr>\n",
       "      <th>2009-01-01 01:00:00</th>\n",
       "      <td>-8.05</td>\n",
       "      <td>1.230772e+09</td>\n",
       "      <td>0.258819</td>\n",
       "      <td>0.965926</td>\n",
       "      <td>0.010049</td>\n",
       "      <td>0.999950</td>\n",
       "    </tr>\n",
       "    <tr>\n",
       "      <th>2009-01-01 02:00:00</th>\n",
       "      <td>-8.88</td>\n",
       "      <td>1.230775e+09</td>\n",
       "      <td>0.500000</td>\n",
       "      <td>0.866025</td>\n",
       "      <td>0.010766</td>\n",
       "      <td>0.999942</td>\n",
       "    </tr>\n",
       "    <tr>\n",
       "      <th>2009-01-01 03:00:00</th>\n",
       "      <td>-8.81</td>\n",
       "      <td>1.230779e+09</td>\n",
       "      <td>0.707107</td>\n",
       "      <td>0.707107</td>\n",
       "      <td>0.011483</td>\n",
       "      <td>0.999934</td>\n",
       "    </tr>\n",
       "    <tr>\n",
       "      <th>2009-01-01 04:00:00</th>\n",
       "      <td>-9.05</td>\n",
       "      <td>1.230782e+09</td>\n",
       "      <td>0.866025</td>\n",
       "      <td>0.500000</td>\n",
       "      <td>0.012199</td>\n",
       "      <td>0.999926</td>\n",
       "    </tr>\n",
       "    <tr>\n",
       "      <th>2009-01-01 05:00:00</th>\n",
       "      <td>-9.63</td>\n",
       "      <td>1.230786e+09</td>\n",
       "      <td>0.965926</td>\n",
       "      <td>0.258819</td>\n",
       "      <td>0.012916</td>\n",
       "      <td>0.999917</td>\n",
       "    </tr>\n",
       "    <tr>\n",
       "      <th>...</th>\n",
       "      <td>...</td>\n",
       "      <td>...</td>\n",
       "      <td>...</td>\n",
       "      <td>...</td>\n",
       "      <td>...</td>\n",
       "      <td>...</td>\n",
       "    </tr>\n",
       "    <tr>\n",
       "      <th>2016-12-31 19:10:00</th>\n",
       "      <td>-0.98</td>\n",
       "      <td>1.483211e+09</td>\n",
       "      <td>-0.953717</td>\n",
       "      <td>0.300706</td>\n",
       "      <td>0.006900</td>\n",
       "      <td>0.999976</td>\n",
       "    </tr>\n",
       "    <tr>\n",
       "      <th>2016-12-31 20:10:00</th>\n",
       "      <td>-1.40</td>\n",
       "      <td>1.483215e+09</td>\n",
       "      <td>-0.843391</td>\n",
       "      <td>0.537300</td>\n",
       "      <td>0.007617</td>\n",
       "      <td>0.999971</td>\n",
       "    </tr>\n",
       "    <tr>\n",
       "      <th>2016-12-31 21:10:00</th>\n",
       "      <td>-2.75</td>\n",
       "      <td>1.483219e+09</td>\n",
       "      <td>-0.675590</td>\n",
       "      <td>0.737277</td>\n",
       "      <td>0.008334</td>\n",
       "      <td>0.999965</td>\n",
       "    </tr>\n",
       "    <tr>\n",
       "      <th>2016-12-31 22:10:00</th>\n",
       "      <td>-2.89</td>\n",
       "      <td>1.483222e+09</td>\n",
       "      <td>-0.461749</td>\n",
       "      <td>0.887011</td>\n",
       "      <td>0.009050</td>\n",
       "      <td>0.999959</td>\n",
       "    </tr>\n",
       "    <tr>\n",
       "      <th>2016-12-31 23:10:00</th>\n",
       "      <td>-3.93</td>\n",
       "      <td>1.483226e+09</td>\n",
       "      <td>-0.216440</td>\n",
       "      <td>0.976296</td>\n",
       "      <td>0.009767</td>\n",
       "      <td>0.999952</td>\n",
       "    </tr>\n",
       "  </tbody>\n",
       "</table>\n",
       "<p>70091 rows × 6 columns</p>\n",
       "</div>"
      ],
      "text/plain": [
       "                     Temperature       Seconds   Day sin   Day cos  Year sin  \\\n",
       "Date Time                                                                      \n",
       "2009-01-01 01:00:00        -8.05  1.230772e+09  0.258819  0.965926  0.010049   \n",
       "2009-01-01 02:00:00        -8.88  1.230775e+09  0.500000  0.866025  0.010766   \n",
       "2009-01-01 03:00:00        -8.81  1.230779e+09  0.707107  0.707107  0.011483   \n",
       "2009-01-01 04:00:00        -9.05  1.230782e+09  0.866025  0.500000  0.012199   \n",
       "2009-01-01 05:00:00        -9.63  1.230786e+09  0.965926  0.258819  0.012916   \n",
       "...                          ...           ...       ...       ...       ...   \n",
       "2016-12-31 19:10:00        -0.98  1.483211e+09 -0.953717  0.300706  0.006900   \n",
       "2016-12-31 20:10:00        -1.40  1.483215e+09 -0.843391  0.537300  0.007617   \n",
       "2016-12-31 21:10:00        -2.75  1.483219e+09 -0.675590  0.737277  0.008334   \n",
       "2016-12-31 22:10:00        -2.89  1.483222e+09 -0.461749  0.887011  0.009050   \n",
       "2016-12-31 23:10:00        -3.93  1.483226e+09 -0.216440  0.976296  0.009767   \n",
       "\n",
       "                     Year cos  \n",
       "Date Time                      \n",
       "2009-01-01 01:00:00  0.999950  \n",
       "2009-01-01 02:00:00  0.999942  \n",
       "2009-01-01 03:00:00  0.999934  \n",
       "2009-01-01 04:00:00  0.999926  \n",
       "2009-01-01 05:00:00  0.999917  \n",
       "...                       ...  \n",
       "2016-12-31 19:10:00  0.999976  \n",
       "2016-12-31 20:10:00  0.999971  \n",
       "2016-12-31 21:10:00  0.999965  \n",
       "2016-12-31 22:10:00  0.999959  \n",
       "2016-12-31 23:10:00  0.999952  \n",
       "\n",
       "[70091 rows x 6 columns]"
      ]
     },
     "execution_count": 58,
     "metadata": {},
     "output_type": "execute_result"
    }
   ],
   "source": [
    "temp_df['Day cos'] = np.cos(temp_df['Seconds'] * (2* np.pi / day))\n",
    "temp_df['Year sin'] = np.sin(temp_df['Seconds'] * (2* np.pi / year))\n",
    "temp_df['Year cos'] = np.cos(temp_df['Seconds'] * (2* np.pi / year))\n",
    "temp_df"
   ]
  },
  {
   "cell_type": "code",
   "execution_count": 66,
   "id": "0732a2fe",
   "metadata": {},
   "outputs": [
    {
     "data": {
      "text/plain": [
       "[<matplotlib.lines.Line2D at 0x1b9455f4eb0>]"
      ]
     },
     "execution_count": 66,
     "metadata": {},
     "output_type": "execute_result"
    },
    {
     "data": {
      "image/png": "[encoded data removed]",
      "text/plain": [
       "<Figure size 432x288 with 1 Axes>"
      ]
     },
     "metadata": {
      "needs_background": "light"
     },
     "output_type": "display_data"
    }
   ],
   "source": [
    "plt.plot(temp_df['Day sin'][:24])"
   ]
  },
  {
   "cell_type": "code",
   "execution_count": 65,
   "id": "8e17e659",
   "metadata": {},
   "outputs": [
    {
     "data": {
      "text/plain": [
       "[<matplotlib.lines.Line2D at 0x1b91e071640>]"
      ]
     },
     "execution_count": 65,
     "metadata": {},
     "output_type": "execute_result"
    },
    {
     "data": {
      "image/png": "[encoded data removed]",
      "text/plain": [
       "<Figure size 432x288 with 1 Axes>"
      ]
     },
     "metadata": {
      "needs_background": "light"
     },
     "output_type": "display_data"
    }
   ],
   "source": [
    "plt.plot(temp_df['Year sin'])"
   ]
  },
  {
   "cell_type": "code",
   "execution_count": 64,
   "id": "43838ca6",
   "metadata": {},
   "outputs": [
    {
     "data": {
      "text/html": [
       "<div>\n",
       "<style scoped>\n",
       "    .dataframe tbody tr th:only-of-type {\n",
       "        vertical-align: middle;\n",
       "    }\n",
       "\n",
       "    .dataframe tbody tr th {\n",
       "        vertical-align: top;\n",
       "    }\n",
       "\n",
       "    .dataframe thead th {\n",
       "        text-align: right;\n",
       "    }\n",
       "</style>\n",
       "<table border=\"1\" class=\"dataframe\">\n",
       "  <thead>\n",
       "    <tr style=\"text-align: right;\">\n",
       "      <th></th>\n",
       "      <th>Temperature</th>\n",
       "      <th>Day sin</th>\n",
       "      <th>Day cos</th>\n",
       "      <th>Year sin</th>\n",
       "      <th>Year cos</th>\n",
       "    </tr>\n",
       "    <tr>\n",
       "      <th>Date Time</th>\n",
       "      <th></th>\n",
       "      <th></th>\n",
       "      <th></th>\n",
       "      <th></th>\n",
       "      <th></th>\n",
       "    </tr>\n",
       "  </thead>\n",
       "  <tbody>\n",
       "    <tr>\n",
       "      <th>2009-01-01 01:00:00</th>\n",
       "      <td>-8.05</td>\n",
       "      <td>0.258819</td>\n",
       "      <td>0.965926</td>\n",
       "      <td>0.010049</td>\n",
       "      <td>0.999950</td>\n",
       "    </tr>\n",
       "    <tr>\n",
       "      <th>2009-01-01 02:00:00</th>\n",
       "      <td>-8.88</td>\n",
       "      <td>0.500000</td>\n",
       "      <td>0.866025</td>\n",
       "      <td>0.010766</td>\n",
       "      <td>0.999942</td>\n",
       "    </tr>\n",
       "    <tr>\n",
       "      <th>2009-01-01 03:00:00</th>\n",
       "      <td>-8.81</td>\n",
       "      <td>0.707107</td>\n",
       "      <td>0.707107</td>\n",
       "      <td>0.011483</td>\n",
       "      <td>0.999934</td>\n",
       "    </tr>\n",
       "    <tr>\n",
       "      <th>2009-01-01 04:00:00</th>\n",
       "      <td>-9.05</td>\n",
       "      <td>0.866025</td>\n",
       "      <td>0.500000</td>\n",
       "      <td>0.012199</td>\n",
       "      <td>0.999926</td>\n",
       "    </tr>\n",
       "    <tr>\n",
       "      <th>2009-01-01 05:00:00</th>\n",
       "      <td>-9.63</td>\n",
       "      <td>0.965926</td>\n",
       "      <td>0.258819</td>\n",
       "      <td>0.012916</td>\n",
       "      <td>0.999917</td>\n",
       "    </tr>\n",
       "  </tbody>\n",
       "</table>\n",
       "</div>"
      ],
      "text/plain": [
       "                     Temperature   Day sin   Day cos  Year sin  Year cos\n",
       "Date Time                                                               \n",
       "2009-01-01 01:00:00        -8.05  0.258819  0.965926  0.010049  0.999950\n",
       "2009-01-01 02:00:00        -8.88  0.500000  0.866025  0.010766  0.999942\n",
       "2009-01-01 03:00:00        -8.81  0.707107  0.707107  0.011483  0.999934\n",
       "2009-01-01 04:00:00        -9.05  0.866025  0.500000  0.012199  0.999926\n",
       "2009-01-01 05:00:00        -9.63  0.965926  0.258819  0.012916  0.999917"
      ]
     },
     "execution_count": 64,
     "metadata": {},
     "output_type": "execute_result"
    }
   ],
   "source": [
    "temp_df = temp_df.drop('Seconds', axis=1)\n",
    "temp_df.head()"
   ]
  },
  {
   "cell_type": "markdown",
   "id": "f193f497",
   "metadata": {},
   "source": [
    "### making a new function with 6 window size for multivariate analysis"
   ]
  },
  {
   "cell_type": "code",
   "execution_count": 80,
   "id": "700b774f",
   "metadata": {},
   "outputs": [],
   "source": [
    "# [[[t1, ds1], [t2, ds2], [t3, ds3], [t4, ds4], [t5, ds5]]] [t6]\n",
    "# [[[t2, ds2], [t3, ds3], [t4, ds4], [t5, ds5], [t6, ds6]]] [t7]\n",
    "# [[[t3, ds3], [t4, ds4], [t5, ds5], [t6, ds6], [t7, ds7]]] [t8]\n",
    "\n",
    "def df_to_X_y2(df, window_size = 6):\n",
    "    df_np = df.to_numpy()\n",
    "    #(X shape = num of training sample * no. of time steps * no. of variables)\n",
    "    X = [] # first five values\n",
    "    y = [] # output (the next 7th value)\n",
    "    for i in range(len(df_np)-window_size):\n",
    "        row = [r for r in df_np[i:i+window_size]]\n",
    "        X.append(row)\n",
    "        label = df_np[i+window_size][0]\n",
    "        y.append(label)\n",
    "    return np.array(X), np.array(y)"
   ]
  },
  {
   "cell_type": "code",
   "execution_count": 68,
   "id": "012f3425",
   "metadata": {},
   "outputs": [
    {
     "data": {
      "text/plain": [
       "((70085, 6, 5), (70085,))"
      ]
     },
     "execution_count": 68,
     "metadata": {},
     "output_type": "execute_result"
    }
   ],
   "source": [
    "X2, y2 = df_to_X_y2(temp_df)\n",
    "X2.shape, y2.shape"
   ]
  },
  {
   "cell_type": "code",
   "execution_count": 69,
   "id": "00d34837",
   "metadata": {},
   "outputs": [
    {
     "data": {
      "text/plain": [
       "((60000, 6, 5), (5085, 6, 5), (5000, 6, 5), (60000,), (5085,), (5000,))"
      ]
     },
     "execution_count": 69,
     "metadata": {},
     "output_type": "execute_result"
    }
   ],
   "source": [
    "X2_train, y2_train = X2[:60000], y2[:60000]\n",
    "X2_val, y2_val = X2[60000:65000], y2[60000:65000]\n",
    "X2_test, y2_test = X2[65000:], y2[65000:]\n",
    "X2_train.shape, X2_test.shape, X2_val.shape, y2_train.shape, y2_test.shape, y2_val.shape"
   ]
  },
  {
   "cell_type": "markdown",
   "id": "bfee34c2",
   "metadata": {},
   "source": [
    "# Preprocessing"
   ]
  },
  {
   "cell_type": "code",
   "execution_count": 70,
   "id": "0c48c2cb",
   "metadata": {},
   "outputs": [],
   "source": [
    "temp_training_mean = np.mean(X2_train[: ,: ,0])\n",
    "temp_traing_std = np.std(X2_train[:, :, 0])\n",
    "\n",
    "def preprocessing(X):\n",
    "    X[:, :, 0] = (X[:, :, 0] - temp_training_mean / temp_traing_std)\n",
    "    return X"
   ]
  },
  {
   "cell_type": "code",
   "execution_count": 71,
   "id": "729c3622",
   "metadata": {},
   "outputs": [
    {
     "data": {
      "text/plain": [
       "array([[[ 1.71627514e+01, -9.65925826e-01,  2.58819045e-01,\n",
       "          5.22877889e-01, -8.52407598e-01],\n",
       "        [ 1.67427514e+01, -8.66025404e-01,  5.00000000e-01,\n",
       "          5.22266764e-01, -8.52782169e-01],\n",
       "        [ 1.55427514e+01, -7.07106781e-01,  7.07106781e-01,\n",
       "          5.21655371e-01, -8.53156301e-01],\n",
       "        [ 1.47427514e+01, -5.00000000e-01,  8.66025404e-01,\n",
       "          5.21043709e-01, -8.53529995e-01],\n",
       "        [ 1.39827514e+01, -2.58819045e-01,  9.65925826e-01,\n",
       "          5.20431780e-01, -8.53903251e-01],\n",
       "        [ 1.28827514e+01, -7.16474371e-12,  1.00000000e+00,\n",
       "          5.19819584e-01, -8.54276068e-01]],\n",
       "\n",
       "       [[ 1.67427514e+01, -8.66025404e-01,  5.00000000e-01,\n",
       "          5.22266764e-01, -8.52782169e-01],\n",
       "        [ 1.55427514e+01, -7.07106781e-01,  7.07106781e-01,\n",
       "          5.21655371e-01, -8.53156301e-01],\n",
       "        [ 1.47427514e+01, -5.00000000e-01,  8.66025404e-01,\n",
       "          5.21043709e-01, -8.53529995e-01],\n",
       "        [ 1.39827514e+01, -2.58819045e-01,  9.65925826e-01,\n",
       "          5.20431780e-01, -8.53903251e-01],\n",
       "        [ 1.28827514e+01, -7.16474371e-12,  1.00000000e+00,\n",
       "          5.19819584e-01, -8.54276068e-01],\n",
       "        [ 1.23527514e+01,  2.58819045e-01,  9.65925826e-01,\n",
       "          5.19207120e-01, -8.54648446e-01]],\n",
       "\n",
       "       [[ 1.55427514e+01, -7.07106781e-01,  7.07106781e-01,\n",
       "          5.21655371e-01, -8.53156301e-01],\n",
       "        [ 1.47427514e+01, -5.00000000e-01,  8.66025404e-01,\n",
       "          5.21043709e-01, -8.53529995e-01],\n",
       "        [ 1.39827514e+01, -2.58819045e-01,  9.65925826e-01,\n",
       "          5.20431780e-01, -8.53903251e-01],\n",
       "        [ 1.28827514e+01, -7.16474371e-12,  1.00000000e+00,\n",
       "          5.19819584e-01, -8.54276068e-01],\n",
       "        [ 1.23527514e+01,  2.58819045e-01,  9.65925826e-01,\n",
       "          5.19207120e-01, -8.54648446e-01],\n",
       "        [ 1.18227514e+01,  5.00000000e-01,  8.66025404e-01,\n",
       "          5.18594390e-01, -8.55020385e-01]],\n",
       "\n",
       "       ...,\n",
       "\n",
       "       [[ 3.86275140e+00, -7.37277337e-01, -6.75590208e-01,\n",
       "          4.03308458e-03,  9.99991867e-01],\n",
       "        [ 1.33275140e+00, -8.87010833e-01, -4.61748613e-01,\n",
       "          4.74986003e-03,  9.99988719e-01],\n",
       "        [ 1.82751398e-01, -9.76296007e-01, -2.16439614e-01,\n",
       "          5.46663304e-03,  9.99985058e-01],\n",
       "        [-1.52724860e+00, -9.99048222e-01,  4.36193874e-02,\n",
       "          6.18340325e-03,  9.99980883e-01],\n",
       "        [-2.08724860e+00, -9.53716951e-01,  3.00705799e-01,\n",
       "          6.90017027e-03,  9.99976194e-01],\n",
       "        [-2.50724860e+00, -8.43391446e-01,  5.37299608e-01,\n",
       "          7.61693375e-03,  9.99970991e-01]],\n",
       "\n",
       "       [[ 1.33275140e+00, -8.87010833e-01, -4.61748613e-01,\n",
       "          4.74986003e-03,  9.99988719e-01],\n",
       "        [ 1.82751398e-01, -9.76296007e-01, -2.16439614e-01,\n",
       "          5.46663304e-03,  9.99985058e-01],\n",
       "        [-1.52724860e+00, -9.99048222e-01,  4.36193874e-02,\n",
       "          6.18340325e-03,  9.99980883e-01],\n",
       "        [-2.08724860e+00, -9.53716951e-01,  3.00705799e-01,\n",
       "          6.90017027e-03,  9.99976194e-01],\n",
       "        [-2.50724860e+00, -8.43391446e-01,  5.37299608e-01,\n",
       "          7.61693375e-03,  9.99970991e-01],\n",
       "        [-3.85724860e+00, -6.75590208e-01,  7.37277337e-01,\n",
       "          8.33369332e-03,  9.99965274e-01]],\n",
       "\n",
       "       [[ 1.82751398e-01, -9.76296007e-01, -2.16439614e-01,\n",
       "          5.46663304e-03,  9.99985058e-01],\n",
       "        [-1.52724860e+00, -9.99048222e-01,  4.36193874e-02,\n",
       "          6.18340325e-03,  9.99980883e-01],\n",
       "        [-2.08724860e+00, -9.53716951e-01,  3.00705799e-01,\n",
       "          6.90017027e-03,  9.99976194e-01],\n",
       "        [-2.50724860e+00, -8.43391446e-01,  5.37299608e-01,\n",
       "          7.61693375e-03,  9.99970991e-01],\n",
       "        [-3.85724860e+00, -6.75590208e-01,  7.37277337e-01,\n",
       "          8.33369332e-03,  9.99965274e-01],\n",
       "        [-3.99724860e+00, -4.61748613e-01,  8.87010833e-01,\n",
       "          9.05044860e-03,  9.99959044e-01]]])"
      ]
     },
     "execution_count": 71,
     "metadata": {},
     "output_type": "execute_result"
    }
   ],
   "source": [
    "preprocessing(X2_train)\n",
    "preprocessing(X2_val)\n",
    "preprocessing(X2_test)"
   ]
  },
  {
   "cell_type": "code",
   "execution_count": 72,
   "id": "6eb8c74a",
   "metadata": {},
   "outputs": [
    {
     "name": "stdout",
     "output_type": "stream",
     "text": [
      "Model: \"sequential_3\"\n",
      "_________________________________________________________________\n",
      " Layer (type)                Output Shape              Param #   \n",
      "=================================================================\n",
      " lstm_1 (LSTM)               (None, 64)                17920     \n",
      "                                                                 \n",
      " dense_6 (Dense)             (None, 8)                 520       \n",
      "                                                                 \n",
      " dense_7 (Dense)             (None, 1)                 9         \n",
      "                                                                 \n",
      "=================================================================\n",
      "Total params: 18,449\n",
      "Trainable params: 18,449\n",
      "Non-trainable params: 0\n",
      "_________________________________________________________________\n"
     ]
    }
   ],
   "source": [
    "model4 = Sequential()\n",
    "model4.add(InputLayer((6,5))) # a batch of 6 and 5 variables\n",
    "model4.add(LSTM(64))\n",
    "model4.add(Dense(8, 'relu'))\n",
    "model4.add(Dense(1, 'linear')) # output\n",
    "\n",
    "model4.summary()"
   ]
  },
  {
   "cell_type": "code",
   "execution_count": 73,
   "id": "6cc4eb48",
   "metadata": {},
   "outputs": [],
   "source": [
    "cp4 = ModelCheckpoint('model4/', save_best_only=True)\n",
    "model4.compile(loss = MeanSquaredError(), optimizer = Adam(learning_rate=0.00001), metrics=[RootMeanSquaredError()])"
   ]
  },
  {
   "cell_type": "code",
   "execution_count": 74,
   "id": "1f7cfc25",
   "metadata": {},
   "outputs": [
    {
     "name": "stdout",
     "output_type": "stream",
     "text": [
      "Epoch 1/100\n",
      "1859/1875 [============================>.] - ETA: 0s - loss: 150.9196 - root_mean_squared_error: 12.2849"
     ]
    },
    {
     "name": "stderr",
     "output_type": "stream",
     "text": [
      "WARNING:absl:Found untraced functions such as _update_step_xla, lstm_cell_2_layer_call_fn, lstm_cell_2_layer_call_and_return_conditional_losses while saving (showing 3 of 3). These functions will not be directly callable after loading.\n"
     ]
    },
    {
     "name": "stdout",
     "output_type": "stream",
     "text": [
      "INFO:tensorflow:Assets written to: model4\\assets\n"
     ]
    },
    {
     "name": "stderr",
     "output_type": "stream",
     "text": [
      "INFO:tensorflow:Assets written to: model4\\assets\n"
     ]
    },
    {
     "name": "stdout",
     "output_type": "stream",
     "text": [
      "1875/1875 [==============================] - 25s 12ms/step - loss: 150.6010 - root_mean_squared_error: 12.2720 - val_loss: 57.1023 - val_root_mean_squared_error: 7.5566\n",
      "Epoch 2/100\n",
      "1869/1875 [============================>.] - ETA: 0s - loss: 99.2140 - root_mean_squared_error: 9.9606"
     ]
    },
    {
     "name": "stderr",
     "output_type": "stream",
     "text": [
      "WARNING:absl:Found untraced functions such as _update_step_xla, lstm_cell_2_layer_call_fn, lstm_cell_2_layer_call_and_return_conditional_losses while saving (showing 3 of 3). These functions will not be directly callable after loading.\n"
     ]
    },
    {
     "name": "stdout",
     "output_type": "stream",
     "text": [
      "INFO:tensorflow:Assets written to: model4\\assets\n"
     ]
    },
    {
     "name": "stderr",
     "output_type": "stream",
     "text": [
      "INFO:tensorflow:Assets written to: model4\\assets\n"
     ]
    },
    {
     "name": "stdout",
     "output_type": "stream",
     "text": [
      "1875/1875 [==============================] - 16s 8ms/step - loss: 99.2083 - root_mean_squared_error: 9.9603 - val_loss: 26.4409 - val_root_mean_squared_error: 5.1421\n",
      "Epoch 3/100\n",
      "1869/1875 [============================>.] - ETA: 0s - loss: 57.3817 - root_mean_squared_error: 7.5751"
     ]
    },
    {
     "name": "stderr",
     "output_type": "stream",
     "text": [
      "WARNING:absl:Found untraced functions such as _update_step_xla, lstm_cell_2_layer_call_fn, lstm_cell_2_layer_call_and_return_conditional_losses while saving (showing 3 of 3). These functions will not be directly callable after loading.\n"
     ]
    },
    {
     "name": "stdout",
     "output_type": "stream",
     "text": [
      "INFO:tensorflow:Assets written to: model4\\assets\n"
     ]
    },
    {
     "name": "stderr",
     "output_type": "stream",
     "text": [
      "INFO:tensorflow:Assets written to: model4\\assets\n"
     ]
    },
    {
     "name": "stdout",
     "output_type": "stream",
     "text": [
      "1875/1875 [==============================] - 27s 14ms/step - loss: 57.3197 - root_mean_squared_error: 7.5710 - val_loss: 14.0781 - val_root_mean_squared_error: 3.7521\n",
      "Epoch 4/100\n",
      "1871/1875 [============================>.] - ETA: 0s - loss: 34.5744 - root_mean_squared_error: 5.8800"
     ]
    },
    {
     "name": "stderr",
     "output_type": "stream",
     "text": [
      "WARNING:absl:Found untraced functions such as _update_step_xla, lstm_cell_2_layer_call_fn, lstm_cell_2_layer_call_and_return_conditional_losses while saving (showing 3 of 3). These functions will not be directly callable after loading.\n"
     ]
    },
    {
     "name": "stdout",
     "output_type": "stream",
     "text": [
      "INFO:tensorflow:Assets written to: model4\\assets\n"
     ]
    },
    {
     "name": "stderr",
     "output_type": "stream",
     "text": [
      "INFO:tensorflow:Assets written to: model4\\assets\n"
     ]
    },
    {
     "name": "stdout",
     "output_type": "stream",
     "text": [
      "1875/1875 [==============================] - 36s 19ms/step - loss: 34.5816 - root_mean_squared_error: 5.8806 - val_loss: 7.0984 - val_root_mean_squared_error: 2.6643\n",
      "Epoch 5/100\n",
      "1872/1875 [============================>.] - ETA: 0s - loss: 21.5687 - root_mean_squared_error: 4.6442"
     ]
    },
    {
     "name": "stderr",
     "output_type": "stream",
     "text": [
      "WARNING:absl:Found untraced functions such as _update_step_xla, lstm_cell_2_layer_call_fn, lstm_cell_2_layer_call_and_return_conditional_losses while saving (showing 3 of 3). These functions will not be directly callable after loading.\n"
     ]
    },
    {
     "name": "stdout",
     "output_type": "stream",
     "text": [
      "INFO:tensorflow:Assets written to: model4\\assets\n"
     ]
    },
    {
     "name": "stderr",
     "output_type": "stream",
     "text": [
      "INFO:tensorflow:Assets written to: model4\\assets\n"
     ]
    },
    {
     "name": "stdout",
     "output_type": "stream",
     "text": [
      "1875/1875 [==============================] - 28s 15ms/step - loss: 21.5584 - root_mean_squared_error: 4.6431 - val_loss: 4.2842 - val_root_mean_squared_error: 2.0698\n",
      "Epoch 6/100\n",
      "1867/1875 [============================>.] - ETA: 0s - loss: 14.2022 - root_mean_squared_error: 3.7686"
     ]
    },
    {
     "name": "stderr",
     "output_type": "stream",
     "text": [
      "WARNING:absl:Found untraced functions such as _update_step_xla, lstm_cell_2_layer_call_fn, lstm_cell_2_layer_call_and_return_conditional_losses while saving (showing 3 of 3). These functions will not be directly callable after loading.\n"
     ]
    },
    {
     "name": "stdout",
     "output_type": "stream",
     "text": [
      "INFO:tensorflow:Assets written to: model4\\assets\n"
     ]
    },
    {
     "name": "stderr",
     "output_type": "stream",
     "text": [
      "INFO:tensorflow:Assets written to: model4\\assets\n"
     ]
    },
    {
     "name": "stdout",
     "output_type": "stream",
     "text": [
      "1875/1875 [==============================] - 29s 15ms/step - loss: 14.1873 - root_mean_squared_error: 3.7666 - val_loss: 2.7705 - val_root_mean_squared_error: 1.6645\n",
      "Epoch 7/100\n",
      "1870/1875 [============================>.] - ETA: 0s - loss: 9.3525 - root_mean_squared_error: 3.0582"
     ]
    },
    {
     "name": "stderr",
     "output_type": "stream",
     "text": [
      "WARNING:absl:Found untraced functions such as _update_step_xla, lstm_cell_2_layer_call_fn, lstm_cell_2_layer_call_and_return_conditional_losses while saving (showing 3 of 3). These functions will not be directly callable after loading.\n"
     ]
    },
    {
     "name": "stdout",
     "output_type": "stream",
     "text": [
      "INFO:tensorflow:Assets written to: model4\\assets\n"
     ]
    },
    {
     "name": "stderr",
     "output_type": "stream",
     "text": [
      "INFO:tensorflow:Assets written to: model4\\assets\n"
     ]
    },
    {
     "name": "stdout",
     "output_type": "stream",
     "text": [
      "1875/1875 [==============================] - 24s 13ms/step - loss: 9.3372 - root_mean_squared_error: 3.0557 - val_loss: 1.8309 - val_root_mean_squared_error: 1.3531\n",
      "Epoch 8/100\n",
      "1869/1875 [============================>.] - ETA: 0s - loss: 6.1199 - root_mean_squared_error: 2.4738"
     ]
    },
    {
     "name": "stderr",
     "output_type": "stream",
     "text": [
      "WARNING:absl:Found untraced functions such as _update_step_xla, lstm_cell_2_layer_call_fn, lstm_cell_2_layer_call_and_return_conditional_losses while saving (showing 3 of 3). These functions will not be directly callable after loading.\n"
     ]
    },
    {
     "name": "stdout",
     "output_type": "stream",
     "text": [
      "INFO:tensorflow:Assets written to: model4\\assets\n"
     ]
    },
    {
     "name": "stderr",
     "output_type": "stream",
     "text": [
      "INFO:tensorflow:Assets written to: model4\\assets\n"
     ]
    },
    {
     "name": "stdout",
     "output_type": "stream",
     "text": [
      "1875/1875 [==============================] - 30s 16ms/step - loss: 6.1145 - root_mean_squared_error: 2.4728 - val_loss: 1.2646 - val_root_mean_squared_error: 1.1245\n",
      "Epoch 9/100\n",
      "1875/1875 [==============================] - ETA: 0s - loss: 4.0351 - root_mean_squared_error: 2.0088"
     ]
    },
    {
     "name": "stderr",
     "output_type": "stream",
     "text": [
      "WARNING:absl:Found untraced functions such as _update_step_xla, lstm_cell_2_layer_call_fn, lstm_cell_2_layer_call_and_return_conditional_losses while saving (showing 3 of 3). These functions will not be directly callable after loading.\n"
     ]
    },
    {
     "name": "stdout",
     "output_type": "stream",
     "text": [
      "INFO:tensorflow:Assets written to: model4\\assets\n"
     ]
    },
    {
     "name": "stderr",
     "output_type": "stream",
     "text": [
      "INFO:tensorflow:Assets written to: model4\\assets\n"
     ]
    },
    {
     "name": "stdout",
     "output_type": "stream",
     "text": [
      "1875/1875 [==============================] - 33s 17ms/step - loss: 4.0351 - root_mean_squared_error: 2.0088 - val_loss: 0.9361 - val_root_mean_squared_error: 0.9675\n",
      "Epoch 10/100\n",
      "1867/1875 [============================>.] - ETA: 0s - loss: 2.7294 - root_mean_squared_error: 1.6521"
     ]
    },
    {
     "name": "stderr",
     "output_type": "stream",
     "text": [
      "WARNING:absl:Found untraced functions such as _update_step_xla, lstm_cell_2_layer_call_fn, lstm_cell_2_layer_call_and_return_conditional_losses while saving (showing 3 of 3). These functions will not be directly callable after loading.\n"
     ]
    },
    {
     "name": "stdout",
     "output_type": "stream",
     "text": [
      "INFO:tensorflow:Assets written to: model4\\assets\n"
     ]
    },
    {
     "name": "stderr",
     "output_type": "stream",
     "text": [
      "INFO:tensorflow:Assets written to: model4\\assets\n"
     ]
    },
    {
     "name": "stdout",
     "output_type": "stream",
     "text": [
      "1875/1875 [==============================] - 32s 17ms/step - loss: 2.7231 - root_mean_squared_error: 1.6502 - val_loss: 0.7337 - val_root_mean_squared_error: 0.8566\n",
      "Epoch 11/100\n",
      "1873/1875 [============================>.] - ETA: 0s - loss: 1.9025 - root_mean_squared_error: 1.3793"
     ]
    },
    {
     "name": "stderr",
     "output_type": "stream",
     "text": [
      "WARNING:absl:Found untraced functions such as _update_step_xla, lstm_cell_2_layer_call_fn, lstm_cell_2_layer_call_and_return_conditional_losses while saving (showing 3 of 3). These functions will not be directly callable after loading.\n"
     ]
    },
    {
     "name": "stdout",
     "output_type": "stream",
     "text": [
      "INFO:tensorflow:Assets written to: model4\\assets\n"
     ]
    },
    {
     "name": "stderr",
     "output_type": "stream",
     "text": [
      "INFO:tensorflow:Assets written to: model4\\assets\n"
     ]
    },
    {
     "name": "stdout",
     "output_type": "stream",
     "text": [
      "1875/1875 [==============================] - 31s 17ms/step - loss: 1.9010 - root_mean_squared_error: 1.3788 - val_loss: 0.6135 - val_root_mean_squared_error: 0.7833\n",
      "Epoch 12/100\n",
      "1871/1875 [============================>.] - ETA: 0s - loss: 1.4072 - root_mean_squared_error: 1.1863"
     ]
    },
    {
     "name": "stderr",
     "output_type": "stream",
     "text": [
      "WARNING:absl:Found untraced functions such as _update_step_xla, lstm_cell_2_layer_call_fn, lstm_cell_2_layer_call_and_return_conditional_losses while saving (showing 3 of 3). These functions will not be directly callable after loading.\n"
     ]
    },
    {
     "name": "stdout",
     "output_type": "stream",
     "text": [
      "INFO:tensorflow:Assets written to: model4\\assets\n"
     ]
    },
    {
     "name": "stderr",
     "output_type": "stream",
     "text": [
      "INFO:tensorflow:Assets written to: model4\\assets\n"
     ]
    },
    {
     "name": "stdout",
     "output_type": "stream",
     "text": [
      "1875/1875 [==============================] - 31s 16ms/step - loss: 1.4070 - root_mean_squared_error: 1.1862 - val_loss: 0.5433 - val_root_mean_squared_error: 0.7371\n",
      "Epoch 13/100\n",
      "1865/1875 [============================>.] - ETA: 0s - loss: 1.1122 - root_mean_squared_error: 1.0546"
     ]
    },
    {
     "name": "stderr",
     "output_type": "stream",
     "text": [
      "WARNING:absl:Found untraced functions such as _update_step_xla, lstm_cell_2_layer_call_fn, lstm_cell_2_layer_call_and_return_conditional_losses while saving (showing 3 of 3). These functions will not be directly callable after loading.\n"
     ]
    },
    {
     "name": "stdout",
     "output_type": "stream",
     "text": [
      "INFO:tensorflow:Assets written to: model4\\assets\n"
     ]
    },
    {
     "name": "stderr",
     "output_type": "stream",
     "text": [
      "INFO:tensorflow:Assets written to: model4\\assets\n"
     ]
    },
    {
     "name": "stdout",
     "output_type": "stream",
     "text": [
      "1875/1875 [==============================] - 32s 17ms/step - loss: 1.1106 - root_mean_squared_error: 1.0538 - val_loss: 0.5010 - val_root_mean_squared_error: 0.7078\n",
      "Epoch 14/100\n",
      "1862/1875 [============================>.] - ETA: 0s - loss: 0.9298 - root_mean_squared_error: 0.9643"
     ]
    },
    {
     "name": "stderr",
     "output_type": "stream",
     "text": [
      "WARNING:absl:Found untraced functions such as _update_step_xla, lstm_cell_2_layer_call_fn, lstm_cell_2_layer_call_and_return_conditional_losses while saving (showing 3 of 3). These functions will not be directly callable after loading.\n"
     ]
    },
    {
     "name": "stdout",
     "output_type": "stream",
     "text": [
      "INFO:tensorflow:Assets written to: model4\\assets\n"
     ]
    },
    {
     "name": "stderr",
     "output_type": "stream",
     "text": [
      "INFO:tensorflow:Assets written to: model4\\assets\n"
     ]
    },
    {
     "name": "stdout",
     "output_type": "stream",
     "text": [
      "1875/1875 [==============================] - 25s 14ms/step - loss: 0.9302 - root_mean_squared_error: 0.9645 - val_loss: 0.4769 - val_root_mean_squared_error: 0.6906\n",
      "Epoch 15/100\n",
      "1868/1875 [============================>.] - ETA: 0s - loss: 0.8196 - root_mean_squared_error: 0.9053"
     ]
    },
    {
     "name": "stderr",
     "output_type": "stream",
     "text": [
      "WARNING:absl:Found untraced functions such as _update_step_xla, lstm_cell_2_layer_call_fn, lstm_cell_2_layer_call_and_return_conditional_losses while saving (showing 3 of 3). These functions will not be directly callable after loading.\n"
     ]
    },
    {
     "name": "stdout",
     "output_type": "stream",
     "text": [
      "INFO:tensorflow:Assets written to: model4\\assets\n"
     ]
    },
    {
     "name": "stderr",
     "output_type": "stream",
     "text": [
      "INFO:tensorflow:Assets written to: model4\\assets\n"
     ]
    },
    {
     "name": "stdout",
     "output_type": "stream",
     "text": [
      "1875/1875 [==============================] - 37s 20ms/step - loss: 0.8191 - root_mean_squared_error: 0.9050 - val_loss: 0.4619 - val_root_mean_squared_error: 0.6797\n",
      "Epoch 16/100\n",
      "1866/1875 [============================>.] - ETA: 0s - loss: 0.7467 - root_mean_squared_error: 0.8641"
     ]
    },
    {
     "name": "stderr",
     "output_type": "stream",
     "text": [
      "WARNING:absl:Found untraced functions such as _update_step_xla, lstm_cell_2_layer_call_fn, lstm_cell_2_layer_call_and_return_conditional_losses while saving (showing 3 of 3). These functions will not be directly callable after loading.\n"
     ]
    },
    {
     "name": "stdout",
     "output_type": "stream",
     "text": [
      "INFO:tensorflow:Assets written to: model4\\assets\n"
     ]
    },
    {
     "name": "stderr",
     "output_type": "stream",
     "text": [
      "INFO:tensorflow:Assets written to: model4\\assets\n"
     ]
    },
    {
     "name": "stdout",
     "output_type": "stream",
     "text": [
      "1875/1875 [==============================] - 32s 17ms/step - loss: 0.7466 - root_mean_squared_error: 0.8641 - val_loss: 0.4520 - val_root_mean_squared_error: 0.6723\n",
      "Epoch 17/100\n",
      "1865/1875 [============================>.] - ETA: 0s - loss: 0.6982 - root_mean_squared_error: 0.8356"
     ]
    },
    {
     "name": "stderr",
     "output_type": "stream",
     "text": [
      "WARNING:absl:Found untraced functions such as _update_step_xla, lstm_cell_2_layer_call_fn, lstm_cell_2_layer_call_and_return_conditional_losses while saving (showing 3 of 3). These functions will not be directly callable after loading.\n"
     ]
    },
    {
     "name": "stdout",
     "output_type": "stream",
     "text": [
      "INFO:tensorflow:Assets written to: model4\\assets\n"
     ]
    },
    {
     "name": "stderr",
     "output_type": "stream",
     "text": [
      "INFO:tensorflow:Assets written to: model4\\assets\n"
     ]
    },
    {
     "name": "stdout",
     "output_type": "stream",
     "text": [
      "1875/1875 [==============================] - 16s 8ms/step - loss: 0.6981 - root_mean_squared_error: 0.8355 - val_loss: 0.4452 - val_root_mean_squared_error: 0.6672\n",
      "Epoch 18/100\n",
      "1874/1875 [============================>.] - ETA: 0s - loss: 0.6646 - root_mean_squared_error: 0.8152"
     ]
    },
    {
     "name": "stderr",
     "output_type": "stream",
     "text": [
      "WARNING:absl:Found untraced functions such as _update_step_xla, lstm_cell_2_layer_call_fn, lstm_cell_2_layer_call_and_return_conditional_losses while saving (showing 3 of 3). These functions will not be directly callable after loading.\n"
     ]
    },
    {
     "name": "stdout",
     "output_type": "stream",
     "text": [
      "INFO:tensorflow:Assets written to: model4\\assets\n"
     ]
    },
    {
     "name": "stderr",
     "output_type": "stream",
     "text": [
      "INFO:tensorflow:Assets written to: model4\\assets\n"
     ]
    },
    {
     "name": "stdout",
     "output_type": "stream",
     "text": [
      "1875/1875 [==============================] - 32s 17ms/step - loss: 0.6644 - root_mean_squared_error: 0.8151 - val_loss: 0.4417 - val_root_mean_squared_error: 0.6646\n",
      "Epoch 19/100\n",
      "1868/1875 [============================>.] - ETA: 0s - loss: 0.6397 - root_mean_squared_error: 0.7998"
     ]
    },
    {
     "name": "stderr",
     "output_type": "stream",
     "text": [
      "WARNING:absl:Found untraced functions such as _update_step_xla, lstm_cell_2_layer_call_fn, lstm_cell_2_layer_call_and_return_conditional_losses while saving (showing 3 of 3). These functions will not be directly callable after loading.\n"
     ]
    },
    {
     "name": "stdout",
     "output_type": "stream",
     "text": [
      "INFO:tensorflow:Assets written to: model4\\assets\n"
     ]
    },
    {
     "name": "stderr",
     "output_type": "stream",
     "text": [
      "INFO:tensorflow:Assets written to: model4\\assets\n"
     ]
    },
    {
     "name": "stdout",
     "output_type": "stream",
     "text": [
      "1875/1875 [==============================] - 37s 20ms/step - loss: 0.6403 - root_mean_squared_error: 0.8002 - val_loss: 0.4381 - val_root_mean_squared_error: 0.6619\n",
      "Epoch 20/100\n",
      "1869/1875 [============================>.] - ETA: 0s - loss: 0.6229 - root_mean_squared_error: 0.7893"
     ]
    },
    {
     "name": "stderr",
     "output_type": "stream",
     "text": [
      "WARNING:absl:Found untraced functions such as _update_step_xla, lstm_cell_2_layer_call_fn, lstm_cell_2_layer_call_and_return_conditional_losses while saving (showing 3 of 3). These functions will not be directly callable after loading.\n"
     ]
    },
    {
     "name": "stdout",
     "output_type": "stream",
     "text": [
      "INFO:tensorflow:Assets written to: model4\\assets\n"
     ]
    },
    {
     "name": "stderr",
     "output_type": "stream",
     "text": [
      "INFO:tensorflow:Assets written to: model4\\assets\n"
     ]
    },
    {
     "name": "stdout",
     "output_type": "stream",
     "text": [
      "1875/1875 [==============================] - 30s 16ms/step - loss: 0.6224 - root_mean_squared_error: 0.7889 - val_loss: 0.4354 - val_root_mean_squared_error: 0.6598\n",
      "Epoch 21/100\n",
      "1866/1875 [============================>.] - ETA: 0s - loss: 0.6091 - root_mean_squared_error: 0.7805"
     ]
    },
    {
     "name": "stderr",
     "output_type": "stream",
     "text": [
      "WARNING:absl:Found untraced functions such as _update_step_xla, lstm_cell_2_layer_call_fn, lstm_cell_2_layer_call_and_return_conditional_losses while saving (showing 3 of 3). These functions will not be directly callable after loading.\n"
     ]
    },
    {
     "name": "stdout",
     "output_type": "stream",
     "text": [
      "INFO:tensorflow:Assets written to: model4\\assets\n"
     ]
    },
    {
     "name": "stderr",
     "output_type": "stream",
     "text": [
      "INFO:tensorflow:Assets written to: model4\\assets\n"
     ]
    },
    {
     "name": "stdout",
     "output_type": "stream",
     "text": [
      "1875/1875 [==============================] - 29s 16ms/step - loss: 0.6087 - root_mean_squared_error: 0.7802 - val_loss: 0.4319 - val_root_mean_squared_error: 0.6572\n",
      "Epoch 22/100\n",
      "1873/1875 [============================>.] - ETA: 0s - loss: 0.5978 - root_mean_squared_error: 0.7732"
     ]
    },
    {
     "name": "stderr",
     "output_type": "stream",
     "text": [
      "WARNING:absl:Found untraced functions such as _update_step_xla, lstm_cell_2_layer_call_fn, lstm_cell_2_layer_call_and_return_conditional_losses while saving (showing 3 of 3). These functions will not be directly callable after loading.\n"
     ]
    },
    {
     "name": "stdout",
     "output_type": "stream",
     "text": [
      "INFO:tensorflow:Assets written to: model4\\assets\n"
     ]
    },
    {
     "name": "stderr",
     "output_type": "stream",
     "text": [
      "INFO:tensorflow:Assets written to: model4\\assets\n"
     ]
    },
    {
     "name": "stdout",
     "output_type": "stream",
     "text": [
      "1875/1875 [==============================] - 31s 16ms/step - loss: 0.5977 - root_mean_squared_error: 0.7731 - val_loss: 0.4302 - val_root_mean_squared_error: 0.6559\n",
      "Epoch 23/100\n",
      "1869/1875 [============================>.] - ETA: 0s - loss: 0.5894 - root_mean_squared_error: 0.7677"
     ]
    },
    {
     "name": "stderr",
     "output_type": "stream",
     "text": [
      "WARNING:absl:Found untraced functions such as _update_step_xla, lstm_cell_2_layer_call_fn, lstm_cell_2_layer_call_and_return_conditional_losses while saving (showing 3 of 3). These functions will not be directly callable after loading.\n"
     ]
    },
    {
     "name": "stdout",
     "output_type": "stream",
     "text": [
      "INFO:tensorflow:Assets written to: model4\\assets\n"
     ]
    },
    {
     "name": "stderr",
     "output_type": "stream",
     "text": [
      "INFO:tensorflow:Assets written to: model4\\assets\n"
     ]
    },
    {
     "name": "stdout",
     "output_type": "stream",
     "text": [
      "1875/1875 [==============================] - 28s 15ms/step - loss: 0.5888 - root_mean_squared_error: 0.7673 - val_loss: 0.4281 - val_root_mean_squared_error: 0.6543\n",
      "Epoch 24/100\n",
      "1867/1875 [============================>.] - ETA: 0s - loss: 0.5821 - root_mean_squared_error: 0.7630"
     ]
    },
    {
     "name": "stderr",
     "output_type": "stream",
     "text": [
      "WARNING:absl:Found untraced functions such as _update_step_xla, lstm_cell_2_layer_call_fn, lstm_cell_2_layer_call_and_return_conditional_losses while saving (showing 3 of 3). These functions will not be directly callable after loading.\n"
     ]
    },
    {
     "name": "stdout",
     "output_type": "stream",
     "text": [
      "INFO:tensorflow:Assets written to: model4\\assets\n"
     ]
    },
    {
     "name": "stderr",
     "output_type": "stream",
     "text": [
      "INFO:tensorflow:Assets written to: model4\\assets\n"
     ]
    },
    {
     "name": "stdout",
     "output_type": "stream",
     "text": [
      "1875/1875 [==============================] - 27s 14ms/step - loss: 0.5814 - root_mean_squared_error: 0.7625 - val_loss: 0.4273 - val_root_mean_squared_error: 0.6536\n",
      "Epoch 25/100\n",
      "1870/1875 [============================>.] - ETA: 0s - loss: 0.5759 - root_mean_squared_error: 0.7589"
     ]
    },
    {
     "name": "stderr",
     "output_type": "stream",
     "text": [
      "WARNING:absl:Found untraced functions such as _update_step_xla, lstm_cell_2_layer_call_fn, lstm_cell_2_layer_call_and_return_conditional_losses while saving (showing 3 of 3). These functions will not be directly callable after loading.\n"
     ]
    },
    {
     "name": "stdout",
     "output_type": "stream",
     "text": [
      "INFO:tensorflow:Assets written to: model4\\assets\n"
     ]
    },
    {
     "name": "stderr",
     "output_type": "stream",
     "text": [
      "INFO:tensorflow:Assets written to: model4\\assets\n"
     ]
    },
    {
     "name": "stdout",
     "output_type": "stream",
     "text": [
      "1875/1875 [==============================] - 26s 14ms/step - loss: 0.5753 - root_mean_squared_error: 0.7585 - val_loss: 0.4259 - val_root_mean_squared_error: 0.6526\n",
      "Epoch 26/100\n",
      "1870/1875 [============================>.] - ETA: 0s - loss: 0.5693 - root_mean_squared_error: 0.7545"
     ]
    },
    {
     "name": "stderr",
     "output_type": "stream",
     "text": [
      "WARNING:absl:Found untraced functions such as _update_step_xla, lstm_cell_2_layer_call_fn, lstm_cell_2_layer_call_and_return_conditional_losses while saving (showing 3 of 3). These functions will not be directly callable after loading.\n"
     ]
    },
    {
     "name": "stdout",
     "output_type": "stream",
     "text": [
      "INFO:tensorflow:Assets written to: model4\\assets\n"
     ]
    },
    {
     "name": "stderr",
     "output_type": "stream",
     "text": [
      "INFO:tensorflow:Assets written to: model4\\assets\n"
     ]
    },
    {
     "name": "stdout",
     "output_type": "stream",
     "text": [
      "1875/1875 [==============================] - 15s 8ms/step - loss: 0.5699 - root_mean_squared_error: 0.7549 - val_loss: 0.4248 - val_root_mean_squared_error: 0.6517\n",
      "Epoch 27/100\n",
      "1870/1875 [============================>.] - ETA: 0s - loss: 0.5653 - root_mean_squared_error: 0.7519"
     ]
    },
    {
     "name": "stderr",
     "output_type": "stream",
     "text": [
      "WARNING:absl:Found untraced functions such as _update_step_xla, lstm_cell_2_layer_call_fn, lstm_cell_2_layer_call_and_return_conditional_losses while saving (showing 3 of 3). These functions will not be directly callable after loading.\n"
     ]
    },
    {
     "name": "stdout",
     "output_type": "stream",
     "text": [
      "INFO:tensorflow:Assets written to: model4\\assets\n"
     ]
    },
    {
     "name": "stderr",
     "output_type": "stream",
     "text": [
      "INFO:tensorflow:Assets written to: model4\\assets\n"
     ]
    },
    {
     "name": "stdout",
     "output_type": "stream",
     "text": [
      "1875/1875 [==============================] - 15s 8ms/step - loss: 0.5650 - root_mean_squared_error: 0.7517 - val_loss: 0.4226 - val_root_mean_squared_error: 0.6501\n",
      "Epoch 28/100\n",
      "1870/1875 [============================>.] - ETA: 0s - loss: 0.5612 - root_mean_squared_error: 0.7492"
     ]
    },
    {
     "name": "stderr",
     "output_type": "stream",
     "text": [
      "WARNING:absl:Found untraced functions such as _update_step_xla, lstm_cell_2_layer_call_fn, lstm_cell_2_layer_call_and_return_conditional_losses while saving (showing 3 of 3). These functions will not be directly callable after loading.\n"
     ]
    },
    {
     "name": "stdout",
     "output_type": "stream",
     "text": [
      "INFO:tensorflow:Assets written to: model4\\assets\n"
     ]
    },
    {
     "name": "stderr",
     "output_type": "stream",
     "text": [
      "INFO:tensorflow:Assets written to: model4\\assets\n"
     ]
    },
    {
     "name": "stdout",
     "output_type": "stream",
     "text": [
      "1875/1875 [==============================] - 25s 13ms/step - loss: 0.5610 - root_mean_squared_error: 0.7490 - val_loss: 0.4215 - val_root_mean_squared_error: 0.6492\n",
      "Epoch 29/100\n",
      "1875/1875 [==============================] - ETA: 0s - loss: 0.5572 - root_mean_squared_error: 0.7465"
     ]
    },
    {
     "name": "stderr",
     "output_type": "stream",
     "text": [
      "WARNING:absl:Found untraced functions such as _update_step_xla, lstm_cell_2_layer_call_fn, lstm_cell_2_layer_call_and_return_conditional_losses while saving (showing 3 of 3). These functions will not be directly callable after loading.\n"
     ]
    },
    {
     "name": "stdout",
     "output_type": "stream",
     "text": [
      "INFO:tensorflow:Assets written to: model4\\assets\n"
     ]
    },
    {
     "name": "stderr",
     "output_type": "stream",
     "text": [
      "INFO:tensorflow:Assets written to: model4\\assets\n"
     ]
    },
    {
     "name": "stdout",
     "output_type": "stream",
     "text": [
      "1875/1875 [==============================] - 30s 16ms/step - loss: 0.5572 - root_mean_squared_error: 0.7465 - val_loss: 0.4209 - val_root_mean_squared_error: 0.6488\n",
      "Epoch 30/100\n",
      "1864/1875 [============================>.] - ETA: 0s - loss: 0.5539 - root_mean_squared_error: 0.7442"
     ]
    },
    {
     "name": "stderr",
     "output_type": "stream",
     "text": [
      "WARNING:absl:Found untraced functions such as _update_step_xla, lstm_cell_2_layer_call_fn, lstm_cell_2_layer_call_and_return_conditional_losses while saving (showing 3 of 3). These functions will not be directly callable after loading.\n"
     ]
    },
    {
     "name": "stdout",
     "output_type": "stream",
     "text": [
      "INFO:tensorflow:Assets written to: model4\\assets\n"
     ]
    },
    {
     "name": "stderr",
     "output_type": "stream",
     "text": [
      "INFO:tensorflow:Assets written to: model4\\assets\n"
     ]
    },
    {
     "name": "stdout",
     "output_type": "stream",
     "text": [
      "1875/1875 [==============================] - 30s 16ms/step - loss: 0.5538 - root_mean_squared_error: 0.7442 - val_loss: 0.4195 - val_root_mean_squared_error: 0.6477\n",
      "Epoch 31/100\n",
      "1874/1875 [============================>.] - ETA: 0s - loss: 0.5510 - root_mean_squared_error: 0.7423"
     ]
    },
    {
     "name": "stderr",
     "output_type": "stream",
     "text": [
      "WARNING:absl:Found untraced functions such as _update_step_xla, lstm_cell_2_layer_call_fn, lstm_cell_2_layer_call_and_return_conditional_losses while saving (showing 3 of 3). These functions will not be directly callable after loading.\n"
     ]
    },
    {
     "name": "stdout",
     "output_type": "stream",
     "text": [
      "INFO:tensorflow:Assets written to: model4\\assets\n"
     ]
    },
    {
     "name": "stderr",
     "output_type": "stream",
     "text": [
      "INFO:tensorflow:Assets written to: model4\\assets\n"
     ]
    },
    {
     "name": "stdout",
     "output_type": "stream",
     "text": [
      "1875/1875 [==============================] - 30s 16ms/step - loss: 0.5508 - root_mean_squared_error: 0.7422 - val_loss: 0.4188 - val_root_mean_squared_error: 0.6472\n",
      "Epoch 32/100\n",
      "1867/1875 [============================>.] - ETA: 0s - loss: 0.5483 - root_mean_squared_error: 0.7405"
     ]
    },
    {
     "name": "stderr",
     "output_type": "stream",
     "text": [
      "WARNING:absl:Found untraced functions such as _update_step_xla, lstm_cell_2_layer_call_fn, lstm_cell_2_layer_call_and_return_conditional_losses while saving (showing 3 of 3). These functions will not be directly callable after loading.\n"
     ]
    },
    {
     "name": "stdout",
     "output_type": "stream",
     "text": [
      "INFO:tensorflow:Assets written to: model4\\assets\n"
     ]
    },
    {
     "name": "stderr",
     "output_type": "stream",
     "text": [
      "INFO:tensorflow:Assets written to: model4\\assets\n"
     ]
    },
    {
     "name": "stdout",
     "output_type": "stream",
     "text": [
      "1875/1875 [==============================] - 31s 16ms/step - loss: 0.5480 - root_mean_squared_error: 0.7402 - val_loss: 0.4183 - val_root_mean_squared_error: 0.6468\n",
      "Epoch 33/100\n",
      "1874/1875 [============================>.] - ETA: 0s - loss: 0.5454 - root_mean_squared_error: 0.7385"
     ]
    },
    {
     "name": "stderr",
     "output_type": "stream",
     "text": [
      "WARNING:absl:Found untraced functions such as _update_step_xla, lstm_cell_2_layer_call_fn, lstm_cell_2_layer_call_and_return_conditional_losses while saving (showing 3 of 3). These functions will not be directly callable after loading.\n"
     ]
    },
    {
     "name": "stdout",
     "output_type": "stream",
     "text": [
      "INFO:tensorflow:Assets written to: model4\\assets\n"
     ]
    },
    {
     "name": "stderr",
     "output_type": "stream",
     "text": [
      "INFO:tensorflow:Assets written to: model4\\assets\n"
     ]
    },
    {
     "name": "stdout",
     "output_type": "stream",
     "text": [
      "1875/1875 [==============================] - 31s 17ms/step - loss: 0.5453 - root_mean_squared_error: 0.7384 - val_loss: 0.4175 - val_root_mean_squared_error: 0.6462\n",
      "Epoch 34/100\n",
      "1864/1875 [============================>.] - ETA: 0s - loss: 0.5433 - root_mean_squared_error: 0.7371"
     ]
    },
    {
     "name": "stderr",
     "output_type": "stream",
     "text": [
      "WARNING:absl:Found untraced functions such as _update_step_xla, lstm_cell_2_layer_call_fn, lstm_cell_2_layer_call_and_return_conditional_losses while saving (showing 3 of 3). These functions will not be directly callable after loading.\n"
     ]
    },
    {
     "name": "stdout",
     "output_type": "stream",
     "text": [
      "INFO:tensorflow:Assets written to: model4\\assets\n"
     ]
    },
    {
     "name": "stderr",
     "output_type": "stream",
     "text": [
      "INFO:tensorflow:Assets written to: model4\\assets\n"
     ]
    },
    {
     "name": "stdout",
     "output_type": "stream",
     "text": [
      "1875/1875 [==============================] - 31s 17ms/step - loss: 0.5431 - root_mean_squared_error: 0.7370 - val_loss: 0.4168 - val_root_mean_squared_error: 0.6456\n",
      "Epoch 35/100\n",
      "1875/1875 [==============================] - 16s 8ms/step - loss: 0.5409 - root_mean_squared_error: 0.7354 - val_loss: 0.4170 - val_root_mean_squared_error: 0.6458\n",
      "Epoch 36/100\n",
      "1875/1875 [==============================] - ETA: 0s - loss: 0.5387 - root_mean_squared_error: 0.7340"
     ]
    },
    {
     "name": "stderr",
     "output_type": "stream",
     "text": [
      "WARNING:absl:Found untraced functions such as _update_step_xla, lstm_cell_2_layer_call_fn, lstm_cell_2_layer_call_and_return_conditional_losses while saving (showing 3 of 3). These functions will not be directly callable after loading.\n"
     ]
    },
    {
     "name": "stdout",
     "output_type": "stream",
     "text": [
      "INFO:tensorflow:Assets written to: model4\\assets\n"
     ]
    },
    {
     "name": "stderr",
     "output_type": "stream",
     "text": [
      "INFO:tensorflow:Assets written to: model4\\assets\n"
     ]
    },
    {
     "name": "stdout",
     "output_type": "stream",
     "text": [
      "1875/1875 [==============================] - 34s 18ms/step - loss: 0.5387 - root_mean_squared_error: 0.7340 - val_loss: 0.4162 - val_root_mean_squared_error: 0.6451\n",
      "Epoch 37/100\n",
      "1868/1875 [============================>.] - ETA: 0s - loss: 0.5371 - root_mean_squared_error: 0.7329"
     ]
    },
    {
     "name": "stderr",
     "output_type": "stream",
     "text": [
      "WARNING:absl:Found untraced functions such as _update_step_xla, lstm_cell_2_layer_call_fn, lstm_cell_2_layer_call_and_return_conditional_losses while saving (showing 3 of 3). These functions will not be directly callable after loading.\n"
     ]
    },
    {
     "name": "stdout",
     "output_type": "stream",
     "text": [
      "INFO:tensorflow:Assets written to: model4\\assets\n"
     ]
    },
    {
     "name": "stderr",
     "output_type": "stream",
     "text": [
      "INFO:tensorflow:Assets written to: model4\\assets\n"
     ]
    },
    {
     "name": "stdout",
     "output_type": "stream",
     "text": [
      "1875/1875 [==============================] - 28s 15ms/step - loss: 0.5369 - root_mean_squared_error: 0.7328 - val_loss: 0.4145 - val_root_mean_squared_error: 0.6438\n",
      "Epoch 38/100\n",
      "1875/1875 [==============================] - 11s 6ms/step - loss: 0.5352 - root_mean_squared_error: 0.7316 - val_loss: 0.4152 - val_root_mean_squared_error: 0.6444\n",
      "Epoch 39/100\n",
      "1875/1875 [==============================] - 12s 6ms/step - loss: 0.5335 - root_mean_squared_error: 0.7304 - val_loss: 0.4150 - val_root_mean_squared_error: 0.6442\n",
      "Epoch 40/100\n",
      "1865/1875 [============================>.] - ETA: 0s - loss: 0.5320 - root_mean_squared_error: 0.7294"
     ]
    },
    {
     "name": "stderr",
     "output_type": "stream",
     "text": [
      "WARNING:absl:Found untraced functions such as _update_step_xla, lstm_cell_2_layer_call_fn, lstm_cell_2_layer_call_and_return_conditional_losses while saving (showing 3 of 3). These functions will not be directly callable after loading.\n"
     ]
    },
    {
     "name": "stdout",
     "output_type": "stream",
     "text": [
      "INFO:tensorflow:Assets written to: model4\\assets\n"
     ]
    },
    {
     "name": "stderr",
     "output_type": "stream",
     "text": [
      "INFO:tensorflow:Assets written to: model4\\assets\n"
     ]
    },
    {
     "name": "stdout",
     "output_type": "stream",
     "text": [
      "1875/1875 [==============================] - 28s 15ms/step - loss: 0.5321 - root_mean_squared_error: 0.7294 - val_loss: 0.4142 - val_root_mean_squared_error: 0.6436\n",
      "Epoch 41/100\n",
      "1875/1875 [==============================] - 11s 6ms/step - loss: 0.5307 - root_mean_squared_error: 0.7285 - val_loss: 0.4143 - val_root_mean_squared_error: 0.6437\n",
      "Epoch 42/100\n",
      "1869/1875 [============================>.] - ETA: 0s - loss: 0.5290 - root_mean_squared_error: 0.7273"
     ]
    },
    {
     "name": "stderr",
     "output_type": "stream",
     "text": [
      "WARNING:absl:Found untraced functions such as _update_step_xla, lstm_cell_2_layer_call_fn, lstm_cell_2_layer_call_and_return_conditional_losses while saving (showing 3 of 3). These functions will not be directly callable after loading.\n"
     ]
    },
    {
     "name": "stdout",
     "output_type": "stream",
     "text": [
      "INFO:tensorflow:Assets written to: model4\\assets\n"
     ]
    },
    {
     "name": "stderr",
     "output_type": "stream",
     "text": [
      "INFO:tensorflow:Assets written to: model4\\assets\n"
     ]
    },
    {
     "name": "stdout",
     "output_type": "stream",
     "text": [
      "1875/1875 [==============================] - 29s 15ms/step - loss: 0.5295 - root_mean_squared_error: 0.7276 - val_loss: 0.4128 - val_root_mean_squared_error: 0.6425\n",
      "Epoch 43/100\n",
      "1875/1875 [==============================] - 11s 6ms/step - loss: 0.5281 - root_mean_squared_error: 0.7267 - val_loss: 0.4133 - val_root_mean_squared_error: 0.6429\n",
      "Epoch 44/100\n",
      "1875/1875 [==============================] - 10s 6ms/step - loss: 0.5269 - root_mean_squared_error: 0.7259 - val_loss: 0.4141 - val_root_mean_squared_error: 0.6435\n",
      "Epoch 45/100\n",
      "1865/1875 [============================>.] - ETA: 0s - loss: 0.5258 - root_mean_squared_error: 0.7251"
     ]
    },
    {
     "name": "stderr",
     "output_type": "stream",
     "text": [
      "WARNING:absl:Found untraced functions such as _update_step_xla, lstm_cell_2_layer_call_fn, lstm_cell_2_layer_call_and_return_conditional_losses while saving (showing 3 of 3). These functions will not be directly callable after loading.\n"
     ]
    },
    {
     "name": "stdout",
     "output_type": "stream",
     "text": [
      "INFO:tensorflow:Assets written to: model4\\assets\n"
     ]
    },
    {
     "name": "stderr",
     "output_type": "stream",
     "text": [
      "INFO:tensorflow:Assets written to: model4\\assets\n"
     ]
    },
    {
     "name": "stdout",
     "output_type": "stream",
     "text": [
      "1875/1875 [==============================] - 23s 12ms/step - loss: 0.5260 - root_mean_squared_error: 0.7252 - val_loss: 0.4116 - val_root_mean_squared_error: 0.6416\n",
      "Epoch 46/100\n",
      "1875/1875 [==============================] - 11s 6ms/step - loss: 0.5248 - root_mean_squared_error: 0.7244 - val_loss: 0.4121 - val_root_mean_squared_error: 0.6419\n",
      "Epoch 47/100\n",
      "1874/1875 [============================>.] - ETA: 0s - loss: 0.5239 - root_mean_squared_error: 0.7238"
     ]
    },
    {
     "name": "stderr",
     "output_type": "stream",
     "text": [
      "WARNING:absl:Found untraced functions such as _update_step_xla, lstm_cell_2_layer_call_fn, lstm_cell_2_layer_call_and_return_conditional_losses while saving (showing 3 of 3). These functions will not be directly callable after loading.\n"
     ]
    },
    {
     "name": "stdout",
     "output_type": "stream",
     "text": [
      "INFO:tensorflow:Assets written to: model4\\assets\n"
     ]
    },
    {
     "name": "stderr",
     "output_type": "stream",
     "text": [
      "INFO:tensorflow:Assets written to: model4\\assets\n"
     ]
    },
    {
     "name": "stdout",
     "output_type": "stream",
     "text": [
      "1875/1875 [==============================] - 31s 16ms/step - loss: 0.5239 - root_mean_squared_error: 0.7238 - val_loss: 0.4113 - val_root_mean_squared_error: 0.6413\n",
      "Epoch 48/100\n",
      "1875/1875 [==============================] - 16s 8ms/step - loss: 0.5230 - root_mean_squared_error: 0.7232 - val_loss: 0.4113 - val_root_mean_squared_error: 0.6414\n",
      "Epoch 49/100\n",
      "1868/1875 [============================>.] - ETA: 0s - loss: 0.5225 - root_mean_squared_error: 0.7228"
     ]
    },
    {
     "name": "stderr",
     "output_type": "stream",
     "text": [
      "WARNING:absl:Found untraced functions such as _update_step_xla, lstm_cell_2_layer_call_fn, lstm_cell_2_layer_call_and_return_conditional_losses while saving (showing 3 of 3). These functions will not be directly callable after loading.\n"
     ]
    },
    {
     "name": "stdout",
     "output_type": "stream",
     "text": [
      "INFO:tensorflow:Assets written to: model4\\assets\n"
     ]
    },
    {
     "name": "stderr",
     "output_type": "stream",
     "text": [
      "INFO:tensorflow:Assets written to: model4\\assets\n"
     ]
    },
    {
     "name": "stdout",
     "output_type": "stream",
     "text": [
      "1875/1875 [==============================] - 25s 13ms/step - loss: 0.5218 - root_mean_squared_error: 0.7224 - val_loss: 0.4111 - val_root_mean_squared_error: 0.6412\n",
      "Epoch 50/100\n",
      "1874/1875 [============================>.] - ETA: 0s - loss: 0.5210 - root_mean_squared_error: 0.7218"
     ]
    },
    {
     "name": "stderr",
     "output_type": "stream",
     "text": [
      "WARNING:absl:Found untraced functions such as _update_step_xla, lstm_cell_2_layer_call_fn, lstm_cell_2_layer_call_and_return_conditional_losses while saving (showing 3 of 3). These functions will not be directly callable after loading.\n"
     ]
    },
    {
     "name": "stdout",
     "output_type": "stream",
     "text": [
      "INFO:tensorflow:Assets written to: model4\\assets\n"
     ]
    },
    {
     "name": "stderr",
     "output_type": "stream",
     "text": [
      "INFO:tensorflow:Assets written to: model4\\assets\n"
     ]
    },
    {
     "name": "stdout",
     "output_type": "stream",
     "text": [
      "1875/1875 [==============================] - 28s 15ms/step - loss: 0.5210 - root_mean_squared_error: 0.7218 - val_loss: 0.4089 - val_root_mean_squared_error: 0.6395\n",
      "Epoch 51/100\n",
      "1875/1875 [==============================] - 11s 6ms/step - loss: 0.5202 - root_mean_squared_error: 0.7212 - val_loss: 0.4103 - val_root_mean_squared_error: 0.6405\n",
      "Epoch 52/100\n",
      "1875/1875 [==============================] - 11s 6ms/step - loss: 0.5194 - root_mean_squared_error: 0.7207 - val_loss: 0.4092 - val_root_mean_squared_error: 0.6397\n",
      "Epoch 53/100\n",
      "1867/1875 [============================>.] - ETA: 0s - loss: 0.5185 - root_mean_squared_error: 0.7201"
     ]
    },
    {
     "name": "stderr",
     "output_type": "stream",
     "text": [
      "WARNING:absl:Found untraced functions such as _update_step_xla, lstm_cell_2_layer_call_fn, lstm_cell_2_layer_call_and_return_conditional_losses while saving (showing 3 of 3). These functions will not be directly callable after loading.\n"
     ]
    },
    {
     "name": "stdout",
     "output_type": "stream",
     "text": [
      "INFO:tensorflow:Assets written to: model4\\assets\n"
     ]
    },
    {
     "name": "stderr",
     "output_type": "stream",
     "text": [
      "INFO:tensorflow:Assets written to: model4\\assets\n"
     ]
    },
    {
     "name": "stdout",
     "output_type": "stream",
     "text": [
      "1875/1875 [==============================] - 27s 14ms/step - loss: 0.5186 - root_mean_squared_error: 0.7201 - val_loss: 0.4082 - val_root_mean_squared_error: 0.6389\n",
      "Epoch 54/100\n",
      "1875/1875 [==============================] - 11s 6ms/step - loss: 0.5179 - root_mean_squared_error: 0.7196 - val_loss: 0.4091 - val_root_mean_squared_error: 0.6396\n",
      "Epoch 55/100\n",
      "1869/1875 [============================>.] - ETA: 0s - loss: 0.5164 - root_mean_squared_error: 0.7186"
     ]
    },
    {
     "name": "stderr",
     "output_type": "stream",
     "text": [
      "WARNING:absl:Found untraced functions such as _update_step_xla, lstm_cell_2_layer_call_fn, lstm_cell_2_layer_call_and_return_conditional_losses while saving (showing 3 of 3). These functions will not be directly callable after loading.\n"
     ]
    },
    {
     "name": "stdout",
     "output_type": "stream",
     "text": [
      "INFO:tensorflow:Assets written to: model4\\assets\n"
     ]
    },
    {
     "name": "stderr",
     "output_type": "stream",
     "text": [
      "INFO:tensorflow:Assets written to: model4\\assets\n"
     ]
    },
    {
     "name": "stdout",
     "output_type": "stream",
     "text": [
      "1875/1875 [==============================] - 26s 14ms/step - loss: 0.5172 - root_mean_squared_error: 0.7191 - val_loss: 0.4082 - val_root_mean_squared_error: 0.6389\n",
      "Epoch 56/100\n",
      "1875/1875 [==============================] - 12s 6ms/step - loss: 0.5166 - root_mean_squared_error: 0.7187 - val_loss: 0.4089 - val_root_mean_squared_error: 0.6394\n",
      "Epoch 57/100\n",
      "1875/1875 [==============================] - 12s 6ms/step - loss: 0.5157 - root_mean_squared_error: 0.7181 - val_loss: 0.4109 - val_root_mean_squared_error: 0.6410\n",
      "Epoch 58/100\n",
      "1864/1875 [============================>.] - ETA: 0s - loss: 0.5155 - root_mean_squared_error: 0.7180"
     ]
    },
    {
     "name": "stderr",
     "output_type": "stream",
     "text": [
      "WARNING:absl:Found untraced functions such as _update_step_xla, lstm_cell_2_layer_call_fn, lstm_cell_2_layer_call_and_return_conditional_losses while saving (showing 3 of 3). These functions will not be directly callable after loading.\n"
     ]
    },
    {
     "name": "stdout",
     "output_type": "stream",
     "text": [
      "INFO:tensorflow:Assets written to: model4\\assets\n"
     ]
    },
    {
     "name": "stderr",
     "output_type": "stream",
     "text": [
      "INFO:tensorflow:Assets written to: model4\\assets\n"
     ]
    },
    {
     "name": "stdout",
     "output_type": "stream",
     "text": [
      "1875/1875 [==============================] - 25s 13ms/step - loss: 0.5153 - root_mean_squared_error: 0.7178 - val_loss: 0.4067 - val_root_mean_squared_error: 0.6377\n",
      "Epoch 59/100\n",
      "1875/1875 [==============================] - 11s 6ms/step - loss: 0.5145 - root_mean_squared_error: 0.7173 - val_loss: 0.4084 - val_root_mean_squared_error: 0.6391\n",
      "Epoch 60/100\n",
      "1875/1875 [==============================] - ETA: 0s - loss: 0.5139 - root_mean_squared_error: 0.7169"
     ]
    },
    {
     "name": "stderr",
     "output_type": "stream",
     "text": [
      "WARNING:absl:Found untraced functions such as _update_step_xla, lstm_cell_2_layer_call_fn, lstm_cell_2_layer_call_and_return_conditional_losses while saving (showing 3 of 3). These functions will not be directly callable after loading.\n"
     ]
    },
    {
     "name": "stdout",
     "output_type": "stream",
     "text": [
      "INFO:tensorflow:Assets written to: model4\\assets\n"
     ]
    },
    {
     "name": "stderr",
     "output_type": "stream",
     "text": [
      "INFO:tensorflow:Assets written to: model4\\assets\n"
     ]
    },
    {
     "name": "stdout",
     "output_type": "stream",
     "text": [
      "1875/1875 [==============================] - 28s 15ms/step - loss: 0.5139 - root_mean_squared_error: 0.7169 - val_loss: 0.4066 - val_root_mean_squared_error: 0.6377\n",
      "Epoch 61/100\n",
      "1875/1875 [==============================] - 9s 5ms/step - loss: 0.5136 - root_mean_squared_error: 0.7167 - val_loss: 0.4075 - val_root_mean_squared_error: 0.6384\n",
      "Epoch 62/100\n",
      "1873/1875 [============================>.] - ETA: 0s - loss: 0.5127 - root_mean_squared_error: 0.7161"
     ]
    },
    {
     "name": "stderr",
     "output_type": "stream",
     "text": [
      "WARNING:absl:Found untraced functions such as _update_step_xla, lstm_cell_2_layer_call_fn, lstm_cell_2_layer_call_and_return_conditional_losses while saving (showing 3 of 3). These functions will not be directly callable after loading.\n"
     ]
    },
    {
     "name": "stdout",
     "output_type": "stream",
     "text": [
      "INFO:tensorflow:Assets written to: model4\\assets\n"
     ]
    },
    {
     "name": "stderr",
     "output_type": "stream",
     "text": [
      "INFO:tensorflow:Assets written to: model4\\assets\n"
     ]
    },
    {
     "name": "stdout",
     "output_type": "stream",
     "text": [
      "1875/1875 [==============================] - 32s 17ms/step - loss: 0.5128 - root_mean_squared_error: 0.7161 - val_loss: 0.4058 - val_root_mean_squared_error: 0.6371\n",
      "Epoch 63/100\n",
      "1865/1875 [============================>.] - ETA: 0s - loss: 0.5122 - root_mean_squared_error: 0.7157"
     ]
    },
    {
     "name": "stderr",
     "output_type": "stream",
     "text": [
      "WARNING:absl:Found untraced functions such as _update_step_xla, lstm_cell_2_layer_call_fn, lstm_cell_2_layer_call_and_return_conditional_losses while saving (showing 3 of 3). These functions will not be directly callable after loading.\n"
     ]
    },
    {
     "name": "stdout",
     "output_type": "stream",
     "text": [
      "INFO:tensorflow:Assets written to: model4\\assets\n"
     ]
    },
    {
     "name": "stderr",
     "output_type": "stream",
     "text": [
      "INFO:tensorflow:Assets written to: model4\\assets\n"
     ]
    },
    {
     "name": "stdout",
     "output_type": "stream",
     "text": [
      "1875/1875 [==============================] - 31s 16ms/step - loss: 0.5125 - root_mean_squared_error: 0.7159 - val_loss: 0.4053 - val_root_mean_squared_error: 0.6366\n",
      "Epoch 64/100\n",
      "1875/1875 [==============================] - 17s 9ms/step - loss: 0.5119 - root_mean_squared_error: 0.7155 - val_loss: 0.4058 - val_root_mean_squared_error: 0.6370\n",
      "Epoch 65/100\n",
      "1875/1875 [==============================] - 12s 6ms/step - loss: 0.5112 - root_mean_squared_error: 0.7150 - val_loss: 0.4062 - val_root_mean_squared_error: 0.6374\n",
      "Epoch 66/100\n",
      "1875/1875 [==============================] - 12s 6ms/step - loss: 0.5110 - root_mean_squared_error: 0.7148 - val_loss: 0.4087 - val_root_mean_squared_error: 0.6393\n",
      "Epoch 67/100\n",
      "1875/1875 [==============================] - 12s 6ms/step - loss: 0.5105 - root_mean_squared_error: 0.7145 - val_loss: 0.4059 - val_root_mean_squared_error: 0.6371\n",
      "Epoch 68/100\n",
      "1875/1875 [==============================] - 15s 8ms/step - loss: 0.5100 - root_mean_squared_error: 0.7142 - val_loss: 0.4065 - val_root_mean_squared_error: 0.6376\n",
      "Epoch 69/100\n",
      "1875/1875 [==============================] - 15s 8ms/step - loss: 0.5095 - root_mean_squared_error: 0.7138 - val_loss: 0.4068 - val_root_mean_squared_error: 0.6378\n",
      "Epoch 70/100\n",
      "1874/1875 [============================>.] - ETA: 0s - loss: 0.5091 - root_mean_squared_error: 0.7135"
     ]
    },
    {
     "name": "stderr",
     "output_type": "stream",
     "text": [
      "WARNING:absl:Found untraced functions such as _update_step_xla, lstm_cell_2_layer_call_fn, lstm_cell_2_layer_call_and_return_conditional_losses while saving (showing 3 of 3). These functions will not be directly callable after loading.\n"
     ]
    },
    {
     "name": "stdout",
     "output_type": "stream",
     "text": [
      "INFO:tensorflow:Assets written to: model4\\assets\n"
     ]
    },
    {
     "name": "stderr",
     "output_type": "stream",
     "text": [
      "INFO:tensorflow:Assets written to: model4\\assets\n"
     ]
    },
    {
     "name": "stdout",
     "output_type": "stream",
     "text": [
      "1875/1875 [==============================] - 90s 48ms/step - loss: 0.5092 - root_mean_squared_error: 0.7136 - val_loss: 0.4032 - val_root_mean_squared_error: 0.6350\n",
      "Epoch 71/100\n",
      "1875/1875 [==============================] - 30s 16ms/step - loss: 0.5086 - root_mean_squared_error: 0.7131 - val_loss: 0.4039 - val_root_mean_squared_error: 0.6355\n",
      "Epoch 72/100\n",
      "1875/1875 [==============================] - 13s 7ms/step - loss: 0.5084 - root_mean_squared_error: 0.7131 - val_loss: 0.4033 - val_root_mean_squared_error: 0.6351\n",
      "Epoch 73/100\n",
      "1875/1875 [==============================] - 7s 4ms/step - loss: 0.5082 - root_mean_squared_error: 0.7128 - val_loss: 0.4045 - val_root_mean_squared_error: 0.6360\n",
      "Epoch 74/100\n",
      "1875/1875 [==============================] - 8s 4ms/step - loss: 0.5076 - root_mean_squared_error: 0.7125 - val_loss: 0.4077 - val_root_mean_squared_error: 0.6385\n",
      "Epoch 75/100\n",
      "1862/1875 [============================>.] - ETA: 0s - loss: 0.5069 - root_mean_squared_error: 0.7120"
     ]
    },
    {
     "name": "stderr",
     "output_type": "stream",
     "text": [
      "WARNING:absl:Found untraced functions such as _update_step_xla, lstm_cell_2_layer_call_fn, lstm_cell_2_layer_call_and_return_conditional_losses while saving (showing 3 of 3). These functions will not be directly callable after loading.\n"
     ]
    },
    {
     "name": "stdout",
     "output_type": "stream",
     "text": [
      "INFO:tensorflow:Assets written to: model4\\assets\n"
     ]
    },
    {
     "name": "stderr",
     "output_type": "stream",
     "text": [
      "INFO:tensorflow:Assets written to: model4\\assets\n"
     ]
    },
    {
     "name": "stdout",
     "output_type": "stream",
     "text": [
      "1875/1875 [==============================] - 16s 9ms/step - loss: 0.5072 - root_mean_squared_error: 0.7122 - val_loss: 0.4030 - val_root_mean_squared_error: 0.6348\n",
      "Epoch 76/100\n",
      "1875/1875 [==============================] - 7s 4ms/step - loss: 0.5069 - root_mean_squared_error: 0.7120 - val_loss: 0.4032 - val_root_mean_squared_error: 0.6350\n",
      "Epoch 77/100\n",
      "1875/1875 [==============================] - 8s 4ms/step - loss: 0.5064 - root_mean_squared_error: 0.7116 - val_loss: 0.4041 - val_root_mean_squared_error: 0.6357\n",
      "Epoch 78/100\n",
      "1875/1875 [==============================] - 7s 4ms/step - loss: 0.5060 - root_mean_squared_error: 0.7113 - val_loss: 0.4042 - val_root_mean_squared_error: 0.6358\n",
      "Epoch 79/100\n",
      "1875/1875 [==============================] - ETA: 0s - loss: 0.5058 - root_mean_squared_error: 0.7112"
     ]
    },
    {
     "name": "stderr",
     "output_type": "stream",
     "text": [
      "WARNING:absl:Found untraced functions such as _update_step_xla, lstm_cell_2_layer_call_fn, lstm_cell_2_layer_call_and_return_conditional_losses while saving (showing 3 of 3). These functions will not be directly callable after loading.\n"
     ]
    },
    {
     "name": "stdout",
     "output_type": "stream",
     "text": [
      "INFO:tensorflow:Assets written to: model4\\assets\n"
     ]
    },
    {
     "name": "stderr",
     "output_type": "stream",
     "text": [
      "INFO:tensorflow:Assets written to: model4\\assets\n"
     ]
    },
    {
     "name": "stdout",
     "output_type": "stream",
     "text": [
      "1875/1875 [==============================] - 17s 9ms/step - loss: 0.5058 - root_mean_squared_error: 0.7112 - val_loss: 0.4025 - val_root_mean_squared_error: 0.6344\n",
      "Epoch 80/100\n",
      "1875/1875 [==============================] - 8s 4ms/step - loss: 0.5055 - root_mean_squared_error: 0.7110 - val_loss: 0.4037 - val_root_mean_squared_error: 0.6353\n",
      "Epoch 81/100\n",
      "1869/1875 [============================>.] - ETA: 0s - loss: 0.5053 - root_mean_squared_error: 0.7108"
     ]
    },
    {
     "name": "stderr",
     "output_type": "stream",
     "text": [
      "WARNING:absl:Found untraced functions such as _update_step_xla, lstm_cell_2_layer_call_fn, lstm_cell_2_layer_call_and_return_conditional_losses while saving (showing 3 of 3). These functions will not be directly callable after loading.\n"
     ]
    },
    {
     "name": "stdout",
     "output_type": "stream",
     "text": [
      "INFO:tensorflow:Assets written to: model4\\assets\n"
     ]
    },
    {
     "name": "stderr",
     "output_type": "stream",
     "text": [
      "INFO:tensorflow:Assets written to: model4\\assets\n"
     ]
    },
    {
     "name": "stdout",
     "output_type": "stream",
     "text": [
      "1875/1875 [==============================] - 17s 9ms/step - loss: 0.5052 - root_mean_squared_error: 0.7108 - val_loss: 0.4014 - val_root_mean_squared_error: 0.6335\n",
      "Epoch 82/100\n",
      "1875/1875 [==============================] - 7s 4ms/step - loss: 0.5047 - root_mean_squared_error: 0.7104 - val_loss: 0.4018 - val_root_mean_squared_error: 0.6338\n",
      "Epoch 83/100\n",
      "1875/1875 [==============================] - 8s 4ms/step - loss: 0.5043 - root_mean_squared_error: 0.7101 - val_loss: 0.4031 - val_root_mean_squared_error: 0.6349\n",
      "Epoch 84/100\n",
      "1873/1875 [============================>.] - ETA: 0s - loss: 0.5041 - root_mean_squared_error: 0.7100"
     ]
    },
    {
     "name": "stderr",
     "output_type": "stream",
     "text": [
      "WARNING:absl:Found untraced functions such as _update_step_xla, lstm_cell_2_layer_call_fn, lstm_cell_2_layer_call_and_return_conditional_losses while saving (showing 3 of 3). These functions will not be directly callable after loading.\n"
     ]
    },
    {
     "name": "stdout",
     "output_type": "stream",
     "text": [
      "INFO:tensorflow:Assets written to: model4\\assets\n"
     ]
    },
    {
     "name": "stderr",
     "output_type": "stream",
     "text": [
      "INFO:tensorflow:Assets written to: model4\\assets\n"
     ]
    },
    {
     "name": "stdout",
     "output_type": "stream",
     "text": [
      "1875/1875 [==============================] - 22s 12ms/step - loss: 0.5041 - root_mean_squared_error: 0.7100 - val_loss: 0.3999 - val_root_mean_squared_error: 0.6324\n",
      "Epoch 85/100\n",
      "1875/1875 [==============================] - 12s 6ms/step - loss: 0.5039 - root_mean_squared_error: 0.7099 - val_loss: 0.4024 - val_root_mean_squared_error: 0.6343\n",
      "Epoch 86/100\n",
      "1875/1875 [==============================] - 9s 5ms/step - loss: 0.5035 - root_mean_squared_error: 0.7096 - val_loss: 0.4024 - val_root_mean_squared_error: 0.6344\n",
      "Epoch 87/100\n",
      "1868/1875 [============================>.] - ETA: 0s - loss: 0.5035 - root_mean_squared_error: 0.7096"
     ]
    },
    {
     "name": "stderr",
     "output_type": "stream",
     "text": [
      "WARNING:absl:Found untraced functions such as _update_step_xla, lstm_cell_2_layer_call_fn, lstm_cell_2_layer_call_and_return_conditional_losses while saving (showing 3 of 3). These functions will not be directly callable after loading.\n"
     ]
    },
    {
     "name": "stdout",
     "output_type": "stream",
     "text": [
      "INFO:tensorflow:Assets written to: model4\\assets\n"
     ]
    },
    {
     "name": "stderr",
     "output_type": "stream",
     "text": [
      "INFO:tensorflow:Assets written to: model4\\assets\n"
     ]
    },
    {
     "name": "stdout",
     "output_type": "stream",
     "text": [
      "1875/1875 [==============================] - 18s 10ms/step - loss: 0.5034 - root_mean_squared_error: 0.7095 - val_loss: 0.3999 - val_root_mean_squared_error: 0.6324\n",
      "Epoch 88/100\n",
      "1875/1875 [==============================] - 7s 4ms/step - loss: 0.5030 - root_mean_squared_error: 0.7092 - val_loss: 0.4016 - val_root_mean_squared_error: 0.6337\n",
      "Epoch 89/100\n",
      "1875/1875 [==============================] - 7s 4ms/step - loss: 0.5027 - root_mean_squared_error: 0.7090 - val_loss: 0.4010 - val_root_mean_squared_error: 0.6332\n",
      "Epoch 90/100\n",
      "1875/1875 [==============================] - 7s 4ms/step - loss: 0.5023 - root_mean_squared_error: 0.7087 - val_loss: 0.4058 - val_root_mean_squared_error: 0.6370\n",
      "Epoch 91/100\n",
      "1875/1875 [==============================] - 7s 4ms/step - loss: 0.5021 - root_mean_squared_error: 0.7086 - val_loss: 0.4000 - val_root_mean_squared_error: 0.6325\n",
      "Epoch 92/100\n",
      "1875/1875 [==============================] - 7s 4ms/step - loss: 0.5019 - root_mean_squared_error: 0.7084 - val_loss: 0.4025 - val_root_mean_squared_error: 0.6344\n",
      "Epoch 93/100\n",
      "1875/1875 [==============================] - 8s 4ms/step - loss: 0.5015 - root_mean_squared_error: 0.7082 - val_loss: 0.4015 - val_root_mean_squared_error: 0.6337\n",
      "Epoch 94/100\n",
      "1875/1875 [==============================] - ETA: 0s - loss: 0.5013 - root_mean_squared_error: 0.7080"
     ]
    },
    {
     "name": "stderr",
     "output_type": "stream",
     "text": [
      "WARNING:absl:Found untraced functions such as _update_step_xla, lstm_cell_2_layer_call_fn, lstm_cell_2_layer_call_and_return_conditional_losses while saving (showing 3 of 3). These functions will not be directly callable after loading.\n"
     ]
    },
    {
     "name": "stdout",
     "output_type": "stream",
     "text": [
      "INFO:tensorflow:Assets written to: model4\\assets\n"
     ]
    },
    {
     "name": "stderr",
     "output_type": "stream",
     "text": [
      "INFO:tensorflow:Assets written to: model4\\assets\n"
     ]
    },
    {
     "name": "stdout",
     "output_type": "stream",
     "text": [
      "1875/1875 [==============================] - 16s 9ms/step - loss: 0.5013 - root_mean_squared_error: 0.7080 - val_loss: 0.3989 - val_root_mean_squared_error: 0.6316\n",
      "Epoch 95/100\n",
      "1875/1875 [==============================] - 7s 4ms/step - loss: 0.5010 - root_mean_squared_error: 0.7078 - val_loss: 0.3992 - val_root_mean_squared_error: 0.6318\n",
      "Epoch 96/100\n",
      "1875/1875 [==============================] - 7s 4ms/step - loss: 0.5007 - root_mean_squared_error: 0.7076 - val_loss: 0.4007 - val_root_mean_squared_error: 0.6330\n",
      "Epoch 97/100\n",
      "1875/1875 [==============================] - 7s 4ms/step - loss: 0.5004 - root_mean_squared_error: 0.7074 - val_loss: 0.4001 - val_root_mean_squared_error: 0.6325\n",
      "Epoch 98/100\n",
      "1865/1875 [============================>.] - ETA: 0s - loss: 0.5003 - root_mean_squared_error: 0.7073"
     ]
    },
    {
     "name": "stderr",
     "output_type": "stream",
     "text": [
      "WARNING:absl:Found untraced functions such as _update_step_xla, lstm_cell_2_layer_call_fn, lstm_cell_2_layer_call_and_return_conditional_losses while saving (showing 3 of 3). These functions will not be directly callable after loading.\n"
     ]
    },
    {
     "name": "stdout",
     "output_type": "stream",
     "text": [
      "INFO:tensorflow:Assets written to: model4\\assets\n"
     ]
    },
    {
     "name": "stderr",
     "output_type": "stream",
     "text": [
      "INFO:tensorflow:Assets written to: model4\\assets\n"
     ]
    },
    {
     "name": "stdout",
     "output_type": "stream",
     "text": [
      "1875/1875 [==============================] - 16s 8ms/step - loss: 0.5003 - root_mean_squared_error: 0.7073 - val_loss: 0.3989 - val_root_mean_squared_error: 0.6315\n",
      "Epoch 99/100\n",
      "1875/1875 [==============================] - 8s 4ms/step - loss: 0.4998 - root_mean_squared_error: 0.7070 - val_loss: 0.4025 - val_root_mean_squared_error: 0.6344\n",
      "Epoch 100/100\n",
      "1867/1875 [============================>.] - ETA: 0s - loss: 0.4999 - root_mean_squared_error: 0.7070"
     ]
    },
    {
     "name": "stderr",
     "output_type": "stream",
     "text": [
      "WARNING:absl:Found untraced functions such as _update_step_xla, lstm_cell_2_layer_call_fn, lstm_cell_2_layer_call_and_return_conditional_losses while saving (showing 3 of 3). These functions will not be directly callable after loading.\n"
     ]
    },
    {
     "name": "stdout",
     "output_type": "stream",
     "text": [
      "INFO:tensorflow:Assets written to: model4\\assets\n"
     ]
    },
    {
     "name": "stderr",
     "output_type": "stream",
     "text": [
      "INFO:tensorflow:Assets written to: model4\\assets\n"
     ]
    },
    {
     "name": "stdout",
     "output_type": "stream",
     "text": [
      "\b\b\b\b\b\b\b\b\b\b\b\b\b\b\b\b\b\b\b\b\b\b\b\b\b\b\b\b\b\b\b\b\b\b\b\b\b\b\b\b\b\b\b\b\b\b\b\b\b\b\b\b\b\b\b\b\b\b\b\b\b\b\b\b\b\b\b\b\b\b\b\b\b\b\b\b\b\b\b\b\b\b\b\b\b\b\b\b\b\b\b\b\b\b\b\b\b\b\b\b\b\r",
      "1875/1875 [==============================] - 16s 9ms/step - loss: 0.5000 - root_mean_squared_error: 0.7071 - val_loss: 0.3988 - val_root_mean_squared_error: 0.6315\n"
     ]
    },
    {
     "data": {
      "text/plain": [
       "<keras.callbacks.History at 0x1b940170370>"
      ]
     },
     "execution_count": 74,
     "metadata": {},
     "output_type": "execute_result"
    }
   ],
   "source": [
    "model4.fit(X2_train, y2_train, validation_data = (X2_val, y2_val), epochs=100, callbacks=[cp4])"
   ]
  },
  {
   "cell_type": "code",
   "execution_count": 75,
   "id": "47476787",
   "metadata": {},
   "outputs": [
    {
     "name": "stdout",
     "output_type": "stream",
     "text": [
      "159/159 [==============================] - 2s 3ms/step\n"
     ]
    },
    {
     "data": {
      "text/plain": [
       "(      Predictions  Actuals\n",
       " 0       13.277949    13.46\n",
       " 1       12.871652    12.93\n",
       " 2       12.396085    12.43\n",
       " 3       12.061140    12.17\n",
       " 4       12.253438    11.55\n",
       " ...           ...      ...\n",
       " 5080    -1.033504    -0.98\n",
       " 5081    -1.413181    -1.40\n",
       " 5082    -1.700899    -2.75\n",
       " 5083    -3.161933    -2.89\n",
       " 5084    -3.158471    -3.93\n",
       " \n",
       " [5085 rows x 2 columns],\n",
       " 0.4624518420204784)"
      ]
     },
     "execution_count": 75,
     "metadata": {},
     "output_type": "execute_result"
    },
    {
     "data": {
      "image/png": "[encoded data removed]",
      "text/plain": [
       "<Figure size 432x288 with 1 Axes>"
      ]
     },
     "metadata": {
      "needs_background": "light"
     },
     "output_type": "display_data"
    }
   ],
   "source": [
    "plot_predictions1(model4, X2_test, y2_test)"
   ]
  },
  {
   "cell_type": "markdown",
   "id": "6e4392a0",
   "metadata": {},
   "source": [
    "#### Adding 'pressure' to the dataframe"
   ]
  },
  {
   "cell_type": "code",
   "execution_count": 77,
   "id": "1679a3fe",
   "metadata": {},
   "outputs": [
    {
     "data": {
      "text/html": [
       "<div>\n",
       "<style scoped>\n",
       "    .dataframe tbody tr th:only-of-type {\n",
       "        vertical-align: middle;\n",
       "    }\n",
       "\n",
       "    .dataframe tbody tr th {\n",
       "        vertical-align: top;\n",
       "    }\n",
       "\n",
       "    .dataframe thead th {\n",
       "        text-align: right;\n",
       "    }\n",
       "</style>\n",
       "<table border=\"1\" class=\"dataframe\">\n",
       "  <thead>\n",
       "    <tr style=\"text-align: right;\">\n",
       "      <th></th>\n",
       "      <th>p (mbar)</th>\n",
       "      <th>Temperature</th>\n",
       "      <th>Day sin</th>\n",
       "      <th>Day cos</th>\n",
       "      <th>Year sin</th>\n",
       "      <th>Year cos</th>\n",
       "    </tr>\n",
       "    <tr>\n",
       "      <th>Date Time</th>\n",
       "      <th></th>\n",
       "      <th></th>\n",
       "      <th></th>\n",
       "      <th></th>\n",
       "      <th></th>\n",
       "      <th></th>\n",
       "    </tr>\n",
       "  </thead>\n",
       "  <tbody>\n",
       "    <tr>\n",
       "      <th>2009-01-01 01:00:00</th>\n",
       "      <td>996.50</td>\n",
       "      <td>-8.05</td>\n",
       "      <td>0.258819</td>\n",
       "      <td>0.965926</td>\n",
       "      <td>0.010049</td>\n",
       "      <td>0.999950</td>\n",
       "    </tr>\n",
       "    <tr>\n",
       "      <th>2009-01-01 02:00:00</th>\n",
       "      <td>996.62</td>\n",
       "      <td>-8.88</td>\n",
       "      <td>0.500000</td>\n",
       "      <td>0.866025</td>\n",
       "      <td>0.010766</td>\n",
       "      <td>0.999942</td>\n",
       "    </tr>\n",
       "    <tr>\n",
       "      <th>2009-01-01 03:00:00</th>\n",
       "      <td>996.84</td>\n",
       "      <td>-8.81</td>\n",
       "      <td>0.707107</td>\n",
       "      <td>0.707107</td>\n",
       "      <td>0.011483</td>\n",
       "      <td>0.999934</td>\n",
       "    </tr>\n",
       "    <tr>\n",
       "      <th>2009-01-01 04:00:00</th>\n",
       "      <td>996.99</td>\n",
       "      <td>-9.05</td>\n",
       "      <td>0.866025</td>\n",
       "      <td>0.500000</td>\n",
       "      <td>0.012199</td>\n",
       "      <td>0.999926</td>\n",
       "    </tr>\n",
       "    <tr>\n",
       "      <th>2009-01-01 05:00:00</th>\n",
       "      <td>997.46</td>\n",
       "      <td>-9.63</td>\n",
       "      <td>0.965926</td>\n",
       "      <td>0.258819</td>\n",
       "      <td>0.012916</td>\n",
       "      <td>0.999917</td>\n",
       "    </tr>\n",
       "    <tr>\n",
       "      <th>...</th>\n",
       "      <td>...</td>\n",
       "      <td>...</td>\n",
       "      <td>...</td>\n",
       "      <td>...</td>\n",
       "      <td>...</td>\n",
       "      <td>...</td>\n",
       "    </tr>\n",
       "    <tr>\n",
       "      <th>2016-12-31 19:10:00</th>\n",
       "      <td>1002.18</td>\n",
       "      <td>-0.98</td>\n",
       "      <td>-0.953717</td>\n",
       "      <td>0.300706</td>\n",
       "      <td>0.006900</td>\n",
       "      <td>0.999976</td>\n",
       "    </tr>\n",
       "    <tr>\n",
       "      <th>2016-12-31 20:10:00</th>\n",
       "      <td>1001.40</td>\n",
       "      <td>-1.40</td>\n",
       "      <td>-0.843391</td>\n",
       "      <td>0.537300</td>\n",
       "      <td>0.007617</td>\n",
       "      <td>0.999971</td>\n",
       "    </tr>\n",
       "    <tr>\n",
       "      <th>2016-12-31 21:10:00</th>\n",
       "      <td>1001.19</td>\n",
       "      <td>-2.75</td>\n",
       "      <td>-0.675590</td>\n",
       "      <td>0.737277</td>\n",
       "      <td>0.008334</td>\n",
       "      <td>0.999965</td>\n",
       "    </tr>\n",
       "    <tr>\n",
       "      <th>2016-12-31 22:10:00</th>\n",
       "      <td>1000.65</td>\n",
       "      <td>-2.89</td>\n",
       "      <td>-0.461749</td>\n",
       "      <td>0.887011</td>\n",
       "      <td>0.009050</td>\n",
       "      <td>0.999959</td>\n",
       "    </tr>\n",
       "    <tr>\n",
       "      <th>2016-12-31 23:10:00</th>\n",
       "      <td>1000.11</td>\n",
       "      <td>-3.93</td>\n",
       "      <td>-0.216440</td>\n",
       "      <td>0.976296</td>\n",
       "      <td>0.009767</td>\n",
       "      <td>0.999952</td>\n",
       "    </tr>\n",
       "  </tbody>\n",
       "</table>\n",
       "<p>70091 rows × 6 columns</p>\n",
       "</div>"
      ],
      "text/plain": [
       "                     p (mbar)  Temperature   Day sin   Day cos  Year sin  \\\n",
       "Date Time                                                                  \n",
       "2009-01-01 01:00:00    996.50        -8.05  0.258819  0.965926  0.010049   \n",
       "2009-01-01 02:00:00    996.62        -8.88  0.500000  0.866025  0.010766   \n",
       "2009-01-01 03:00:00    996.84        -8.81  0.707107  0.707107  0.011483   \n",
       "2009-01-01 04:00:00    996.99        -9.05  0.866025  0.500000  0.012199   \n",
       "2009-01-01 05:00:00    997.46        -9.63  0.965926  0.258819  0.012916   \n",
       "...                       ...          ...       ...       ...       ...   \n",
       "2016-12-31 19:10:00   1002.18        -0.98 -0.953717  0.300706  0.006900   \n",
       "2016-12-31 20:10:00   1001.40        -1.40 -0.843391  0.537300  0.007617   \n",
       "2016-12-31 21:10:00   1001.19        -2.75 -0.675590  0.737277  0.008334   \n",
       "2016-12-31 22:10:00   1000.65        -2.89 -0.461749  0.887011  0.009050   \n",
       "2016-12-31 23:10:00   1000.11        -3.93 -0.216440  0.976296  0.009767   \n",
       "\n",
       "                     Year cos  \n",
       "Date Time                      \n",
       "2009-01-01 01:00:00  0.999950  \n",
       "2009-01-01 02:00:00  0.999942  \n",
       "2009-01-01 03:00:00  0.999934  \n",
       "2009-01-01 04:00:00  0.999926  \n",
       "2009-01-01 05:00:00  0.999917  \n",
       "...                       ...  \n",
       "2016-12-31 19:10:00  0.999976  \n",
       "2016-12-31 20:10:00  0.999971  \n",
       "2016-12-31 21:10:00  0.999965  \n",
       "2016-12-31 22:10:00  0.999959  \n",
       "2016-12-31 23:10:00  0.999952  \n",
       "\n",
       "[70091 rows x 6 columns]"
      ]
     },
     "execution_count": 77,
     "metadata": {},
     "output_type": "execute_result"
    }
   ],
   "source": [
    "p_temp_df = pd.concat([df['p (mbar)'], temp_df], axis=1)\n",
    "p_temp_df"
   ]
  },
  {
   "cell_type": "markdown",
   "id": "818dc814",
   "metadata": {},
   "source": [
    "Making a new function again..."
   ]
  },
  {
   "cell_type": "code",
   "execution_count": 86,
   "id": "c2a8bab9",
   "metadata": {},
   "outputs": [],
   "source": [
    "# [[[t1, ds1], [t2, ds2], [t3, ds3], [t4, ds4], [t5, ds5]]] [t6]\n",
    "# [[[t2, ds2], [t3, ds3], [t4, ds4], [t5, ds5], [t6, ds6]]] [t7]\n",
    "# [[[t3, ds3], [t4, ds4], [t5, ds5], [t6, ds6], [t7, ds7]]] [t8]\n",
    "\n",
    "def df_to_X_y3(df, window_size = 7):\n",
    "    df_np = df.to_numpy()\n",
    "    #(X shape = num of training sample * no. of time steps * no. of variables)\n",
    "    X = [] # first five values\n",
    "    y = [] # output (the next 7th value)\n",
    "    for i in range(len(df_np)-window_size):\n",
    "        row = [r for r in df_np[i:i+window_size]]\n",
    "        X.append(row)\n",
    "        label = [df_np[i+window_size][0],df_np[i+window_size][1]]\n",
    "        y.append(label)\n",
    "    return np.array(X), np.array(y)"
   ]
  },
  {
   "cell_type": "code",
   "execution_count": 87,
   "id": "0e4c1201",
   "metadata": {},
   "outputs": [
    {
     "data": {
      "text/plain": [
       "((70084, 7, 6), (70084, 2))"
      ]
     },
     "execution_count": 87,
     "metadata": {},
     "output_type": "execute_result"
    }
   ],
   "source": [
    "X3, y3 = df_to_X_y3(p_temp_df)\n",
    "X3.shape, y3.shape"
   ]
  },
  {
   "cell_type": "code",
   "execution_count": 88,
   "id": "43672e17",
   "metadata": {},
   "outputs": [
    {
     "data": {
      "text/plain": [
       "((60000, 7, 6), (5084, 7, 6), (5000, 7, 6), (60000, 2), (5084, 2), (5000,))"
      ]
     },
     "execution_count": 88,
     "metadata": {},
     "output_type": "execute_result"
    }
   ],
   "source": [
    "X3_train, y3_train = X3[:60000], y3[:60000]\n",
    "X3_val, y3_val = X3[60000:65000], y3[60000:65000]\n",
    "X3_test, y3_test = X3[65000:], y3[65000:]\n",
    "X3_train.shape, X3_test.shape, X3_val.shape, y3_train.shape, y3_test.shape, y2_val.shape"
   ]
  },
  {
   "cell_type": "code",
   "execution_count": 93,
   "id": "a1af9857",
   "metadata": {},
   "outputs": [],
   "source": [
    "p_training_mean = np.mean(X3_train[:,:,0])\n",
    "p_training_std = np.std(X3_train[:,:,0])\n",
    "temp_training_mean = np.mean(X3_train[:,:,1])\n",
    "temp_training_std = np.std(X3_train[:,:,1])\n",
    "\n",
    "def preprocess3(X):\n",
    "    X[:,:,0] = (X[:,:,0] - p_training_mean / p_training_std)\n",
    "    X[:,:,1] = (X[:,:,1] - temp_training_mean / temp_training_std)\n",
    "    return X\n",
    "    \n",
    "def preprocess_output3(y):\n",
    "    y[:,0] = (y[:,0] - p_training_mean / p_training_std)\n",
    "    y[:,1] = (y[:,1] - temp_training_mean / temp_training_std)\n",
    "    return y"
   ]
  },
  {
   "cell_type": "code",
   "execution_count": 94,
   "id": "a9e66ff3",
   "metadata": {},
   "outputs": [
    {
     "data": {
      "text/plain": [
       "array([[796.39235761,  10.43055979],\n",
       "       [796.66235761,   9.35055979],\n",
       "       [796.61235761,   9.01055979],\n",
       "       ...,\n",
       "       [783.72235761,  13.25055979],\n",
       "       [784.14235761,  12.15055979],\n",
       "       [784.37235761,  11.62055979]])"
      ]
     },
     "execution_count": 94,
     "metadata": {},
     "output_type": "execute_result"
    }
   ],
   "source": [
    "preprocess3(X3_train)\n",
    "preprocess3(X3_test)\n",
    "preprocess3(X3_val)\n",
    "\n",
    "preprocess_output3(y3_test)\n",
    "preprocess_output(y3_train)\n",
    "preprocess_output(y3_val)"
   ]
  },
  {
   "cell_type": "code",
   "execution_count": 95,
   "id": "f2eeeec2",
   "metadata": {},
   "outputs": [
    {
     "name": "stdout",
     "output_type": "stream",
     "text": [
      "Model: \"sequential_4\"\n",
      "_________________________________________________________________\n",
      " Layer (type)                Output Shape              Param #   \n",
      "=================================================================\n",
      " lstm_2 (LSTM)               (None, 64)                18176     \n",
      "                                                                 \n",
      " dense_8 (Dense)             (None, 8)                 520       \n",
      "                                                                 \n",
      " dense_9 (Dense)             (None, 2)                 18        \n",
      "                                                                 \n",
      "=================================================================\n",
      "Total params: 18,714\n",
      "Trainable params: 18,714\n",
      "Non-trainable params: 0\n",
      "_________________________________________________________________\n"
     ]
    }
   ],
   "source": [
    "model5 = Sequential()\n",
    "model5.add(InputLayer((7,6))) # a batch of 7 and 6 variables\n",
    "model5.add(LSTM(64))\n",
    "model5.add(Dense(8, 'relu'))\n",
    "model5.add(Dense(2, 'linear')) # 2 outputs\n",
    "\n",
    "model5.summary()"
   ]
  },
  {
   "cell_type": "code",
   "execution_count": 96,
   "id": "a6b3fa85",
   "metadata": {},
   "outputs": [],
   "source": [
    "cp5 = ModelCheckpoint('model5/', save_best_only=True)\n",
    "model5.compile(loss = MeanSquaredError(), optimizer = Adam(learning_rate=0.00001), metrics=[RootMeanSquaredError()])"
   ]
  },
  {
   "cell_type": "code",
   "execution_count": 97,
   "id": "a8468798",
   "metadata": {},
   "outputs": [
    {
     "name": "stdout",
     "output_type": "stream",
     "text": [
      "Epoch 1/100\n",
      "1861/1875 [============================>.] - ETA: 0s - loss: 312367.2812 - root_mean_squared_error: 558.8983"
     ]
    },
    {
     "name": "stderr",
     "output_type": "stream",
     "text": [
      "WARNING:absl:Found untraced functions such as _update_step_xla, lstm_cell_3_layer_call_fn, lstm_cell_3_layer_call_and_return_conditional_losses while saving (showing 3 of 3). These functions will not be directly callable after loading.\n"
     ]
    },
    {
     "name": "stdout",
     "output_type": "stream",
     "text": [
      "INFO:tensorflow:Assets written to: model5\\assets\n"
     ]
    },
    {
     "name": "stderr",
     "output_type": "stream",
     "text": [
      "INFO:tensorflow:Assets written to: model5\\assets\n"
     ]
    },
    {
     "name": "stdout",
     "output_type": "stream",
     "text": [
      "1875/1875 [==============================] - 23s 11ms/step - loss: 312362.9062 - root_mean_squared_error: 558.8944 - val_loss: 311776.9062 - val_root_mean_squared_error: 558.3699\n",
      "Epoch 2/100\n",
      "1873/1875 [============================>.] - ETA: 0s - loss: 311753.0312 - root_mean_squared_error: 558.3485"
     ]
    },
    {
     "name": "stderr",
     "output_type": "stream",
     "text": [
      "WARNING:absl:Found untraced functions such as _update_step_xla, lstm_cell_3_layer_call_fn, lstm_cell_3_layer_call_and_return_conditional_losses while saving (showing 3 of 3). These functions will not be directly callable after loading.\n"
     ]
    },
    {
     "name": "stdout",
     "output_type": "stream",
     "text": [
      "INFO:tensorflow:Assets written to: model5\\assets\n"
     ]
    },
    {
     "name": "stderr",
     "output_type": "stream",
     "text": [
      "INFO:tensorflow:Assets written to: model5\\assets\n"
     ]
    },
    {
     "name": "stdout",
     "output_type": "stream",
     "text": [
      "1875/1875 [==============================] - 20s 10ms/step - loss: 311752.7500 - root_mean_squared_error: 558.3482 - val_loss: 311357.5312 - val_root_mean_squared_error: 557.9942\n",
      "Epoch 3/100\n",
      "1860/1875 [============================>.] - ETA: 0s - loss: 311319.2188 - root_mean_squared_error: 557.9598"
     ]
    },
    {
     "name": "stderr",
     "output_type": "stream",
     "text": [
      "WARNING:absl:Found untraced functions such as _update_step_xla, lstm_cell_3_layer_call_fn, lstm_cell_3_layer_call_and_return_conditional_losses while saving (showing 3 of 3). These functions will not be directly callable after loading.\n"
     ]
    },
    {
     "name": "stdout",
     "output_type": "stream",
     "text": [
      "INFO:tensorflow:Assets written to: model5\\assets\n"
     ]
    },
    {
     "name": "stderr",
     "output_type": "stream",
     "text": [
      "INFO:tensorflow:Assets written to: model5\\assets\n"
     ]
    },
    {
     "name": "stdout",
     "output_type": "stream",
     "text": [
      "1875/1875 [==============================] - 20s 10ms/step - loss: 311321.4375 - root_mean_squared_error: 557.9619 - val_loss: 310918.5625 - val_root_mean_squared_error: 557.6008\n",
      "Epoch 4/100\n",
      "1865/1875 [============================>.] - ETA: 0s - loss: 310877.0625 - root_mean_squared_error: 557.5635"
     ]
    },
    {
     "name": "stderr",
     "output_type": "stream",
     "text": [
      "WARNING:absl:Found untraced functions such as _update_step_xla, lstm_cell_3_layer_call_fn, lstm_cell_3_layer_call_and_return_conditional_losses while saving (showing 3 of 3). These functions will not be directly callable after loading.\n"
     ]
    },
    {
     "name": "stdout",
     "output_type": "stream",
     "text": [
      "INFO:tensorflow:Assets written to: model5\\assets\n"
     ]
    },
    {
     "name": "stderr",
     "output_type": "stream",
     "text": [
      "INFO:tensorflow:Assets written to: model5\\assets\n"
     ]
    },
    {
     "name": "stdout",
     "output_type": "stream",
     "text": [
      "1875/1875 [==============================] - 19s 10ms/step - loss: 310874.5312 - root_mean_squared_error: 557.5612 - val_loss: 310454.7812 - val_root_mean_squared_error: 557.1846\n",
      "Epoch 5/100\n",
      "1863/1875 [============================>.] - ETA: 0s - loss: 310388.2500 - root_mean_squared_error: 557.1250"
     ]
    },
    {
     "name": "stderr",
     "output_type": "stream",
     "text": [
      "WARNING:absl:Found untraced functions such as _update_step_xla, lstm_cell_3_layer_call_fn, lstm_cell_3_layer_call_and_return_conditional_losses while saving (showing 3 of 3). These functions will not be directly callable after loading.\n"
     ]
    },
    {
     "name": "stdout",
     "output_type": "stream",
     "text": [
      "INFO:tensorflow:Assets written to: model5\\assets\n"
     ]
    },
    {
     "name": "stderr",
     "output_type": "stream",
     "text": [
      "INFO:tensorflow:Assets written to: model5\\assets\n"
     ]
    },
    {
     "name": "stdout",
     "output_type": "stream",
     "text": [
      "1875/1875 [==============================] - 18s 10ms/step - loss: 310387.7812 - root_mean_squared_error: 557.1246 - val_loss: 309948.2500 - val_root_mean_squared_error: 556.7300\n",
      "Epoch 6/100\n",
      "1874/1875 [============================>.] - ETA: 0s - loss: 309849.5312 - root_mean_squared_error: 556.6413"
     ]
    },
    {
     "name": "stderr",
     "output_type": "stream",
     "text": [
      "WARNING:absl:Found untraced functions such as _update_step_xla, lstm_cell_3_layer_call_fn, lstm_cell_3_layer_call_and_return_conditional_losses while saving (showing 3 of 3). These functions will not be directly callable after loading.\n"
     ]
    },
    {
     "name": "stdout",
     "output_type": "stream",
     "text": [
      "INFO:tensorflow:Assets written to: model5\\assets\n"
     ]
    },
    {
     "name": "stderr",
     "output_type": "stream",
     "text": [
      "INFO:tensorflow:Assets written to: model5\\assets\n"
     ]
    },
    {
     "name": "stdout",
     "output_type": "stream",
     "text": [
      "1875/1875 [==============================] - 21s 11ms/step - loss: 309848.8750 - root_mean_squared_error: 556.6407 - val_loss: 309369.3438 - val_root_mean_squared_error: 556.2098\n",
      "Epoch 7/100\n",
      "1872/1875 [============================>.] - ETA: 0s - loss: 309243.8750 - root_mean_squared_error: 556.0970"
     ]
    },
    {
     "name": "stderr",
     "output_type": "stream",
     "text": [
      "WARNING:absl:Found untraced functions such as _update_step_xla, lstm_cell_3_layer_call_fn, lstm_cell_3_layer_call_and_return_conditional_losses while saving (showing 3 of 3). These functions will not be directly callable after loading.\n"
     ]
    },
    {
     "name": "stdout",
     "output_type": "stream",
     "text": [
      "INFO:tensorflow:Assets written to: model5\\assets\n"
     ]
    },
    {
     "name": "stderr",
     "output_type": "stream",
     "text": [
      "INFO:tensorflow:Assets written to: model5\\assets\n"
     ]
    },
    {
     "name": "stdout",
     "output_type": "stream",
     "text": [
      "1875/1875 [==============================] - 18s 10ms/step - loss: 309241.2188 - root_mean_squared_error: 556.0946 - val_loss: 308750.6562 - val_root_mean_squared_error: 555.6534\n",
      "Epoch 8/100\n",
      "1875/1875 [==============================] - ETA: 0s - loss: 308599.7500 - root_mean_squared_error: 555.5176"
     ]
    },
    {
     "name": "stderr",
     "output_type": "stream",
     "text": [
      "WARNING:absl:Found untraced functions such as _update_step_xla, lstm_cell_3_layer_call_fn, lstm_cell_3_layer_call_and_return_conditional_losses while saving (showing 3 of 3). These functions will not be directly callable after loading.\n"
     ]
    },
    {
     "name": "stdout",
     "output_type": "stream",
     "text": [
      "INFO:tensorflow:Assets written to: model5\\assets\n"
     ]
    },
    {
     "name": "stderr",
     "output_type": "stream",
     "text": [
      "INFO:tensorflow:Assets written to: model5\\assets\n"
     ]
    },
    {
     "name": "stdout",
     "output_type": "stream",
     "text": [
      "1875/1875 [==============================] - 18s 10ms/step - loss: 308599.7500 - root_mean_squared_error: 555.5176 - val_loss: 308083.7500 - val_root_mean_squared_error: 555.0530\n",
      "Epoch 9/100\n",
      "1872/1875 [============================>.] - ETA: 0s - loss: 307838.3125 - root_mean_squared_error: 554.8317"
     ]
    },
    {
     "name": "stderr",
     "output_type": "stream",
     "text": [
      "WARNING:absl:Found untraced functions such as _update_step_xla, lstm_cell_3_layer_call_fn, lstm_cell_3_layer_call_and_return_conditional_losses while saving (showing 3 of 3). These functions will not be directly callable after loading.\n"
     ]
    },
    {
     "name": "stdout",
     "output_type": "stream",
     "text": [
      "INFO:tensorflow:Assets written to: model5\\assets\n"
     ]
    },
    {
     "name": "stderr",
     "output_type": "stream",
     "text": [
      "INFO:tensorflow:Assets written to: model5\\assets\n"
     ]
    },
    {
     "name": "stdout",
     "output_type": "stream",
     "text": [
      "1875/1875 [==============================] - 21s 11ms/step - loss: 307838.2812 - root_mean_squared_error: 554.8317 - val_loss: 307267.8438 - val_root_mean_squared_error: 554.3174\n",
      "Epoch 10/100\n",
      "1873/1875 [============================>.] - ETA: 0s - loss: 307044.0938 - root_mean_squared_error: 554.1155"
     ]
    },
    {
     "name": "stderr",
     "output_type": "stream",
     "text": [
      "WARNING:absl:Found untraced functions such as _update_step_xla, lstm_cell_3_layer_call_fn, lstm_cell_3_layer_call_and_return_conditional_losses while saving (showing 3 of 3). These functions will not be directly callable after loading.\n"
     ]
    },
    {
     "name": "stdout",
     "output_type": "stream",
     "text": [
      "INFO:tensorflow:Assets written to: model5\\assets\n"
     ]
    },
    {
     "name": "stderr",
     "output_type": "stream",
     "text": [
      "INFO:tensorflow:Assets written to: model5\\assets\n"
     ]
    },
    {
     "name": "stdout",
     "output_type": "stream",
     "text": [
      "1875/1875 [==============================] - 21s 11ms/step - loss: 307043.6250 - root_mean_squared_error: 554.1152 - val_loss: 306471.1562 - val_root_mean_squared_error: 553.5984\n",
      "Epoch 11/100\n",
      "1863/1875 [============================>.] - ETA: 0s - loss: 306229.2812 - root_mean_squared_error: 553.3799"
     ]
    },
    {
     "name": "stderr",
     "output_type": "stream",
     "text": [
      "WARNING:absl:Found untraced functions such as _update_step_xla, lstm_cell_3_layer_call_fn, lstm_cell_3_layer_call_and_return_conditional_losses while saving (showing 3 of 3). These functions will not be directly callable after loading.\n"
     ]
    },
    {
     "name": "stdout",
     "output_type": "stream",
     "text": [
      "INFO:tensorflow:Assets written to: model5\\assets\n"
     ]
    },
    {
     "name": "stderr",
     "output_type": "stream",
     "text": [
      "INFO:tensorflow:Assets written to: model5\\assets\n"
     ]
    },
    {
     "name": "stdout",
     "output_type": "stream",
     "text": [
      "1875/1875 [==============================] - 19s 10ms/step - loss: 306223.8125 - root_mean_squared_error: 553.3749 - val_loss: 305631.1250 - val_root_mean_squared_error: 552.8392\n",
      "Epoch 12/100\n",
      "1872/1875 [============================>.] - ETA: 0s - loss: 305358.6250 - root_mean_squared_error: 552.5927"
     ]
    },
    {
     "name": "stderr",
     "output_type": "stream",
     "text": [
      "WARNING:absl:Found untraced functions such as _update_step_xla, lstm_cell_3_layer_call_fn, lstm_cell_3_layer_call_and_return_conditional_losses while saving (showing 3 of 3). These functions will not be directly callable after loading.\n"
     ]
    },
    {
     "name": "stdout",
     "output_type": "stream",
     "text": [
      "INFO:tensorflow:Assets written to: model5\\assets\n"
     ]
    },
    {
     "name": "stderr",
     "output_type": "stream",
     "text": [
      "INFO:tensorflow:Assets written to: model5\\assets\n"
     ]
    },
    {
     "name": "stdout",
     "output_type": "stream",
     "text": [
      "1875/1875 [==============================] - 19s 10ms/step - loss: 305358.5938 - root_mean_squared_error: 552.5926 - val_loss: 304745.3750 - val_root_mean_squared_error: 552.0375\n",
      "Epoch 13/100\n",
      "1866/1875 [============================>.] - ETA: 0s - loss: 304452.4375 - root_mean_squared_error: 551.7720"
     ]
    },
    {
     "name": "stderr",
     "output_type": "stream",
     "text": [
      "WARNING:absl:Found untraced functions such as _update_step_xla, lstm_cell_3_layer_call_fn, lstm_cell_3_layer_call_and_return_conditional_losses while saving (showing 3 of 3). These functions will not be directly callable after loading.\n"
     ]
    },
    {
     "name": "stdout",
     "output_type": "stream",
     "text": [
      "INFO:tensorflow:Assets written to: model5\\assets\n"
     ]
    },
    {
     "name": "stderr",
     "output_type": "stream",
     "text": [
      "INFO:tensorflow:Assets written to: model5\\assets\n"
     ]
    },
    {
     "name": "stdout",
     "output_type": "stream",
     "text": [
      "1875/1875 [==============================] - 14s 8ms/step - loss: 304448.4062 - root_mean_squared_error: 551.7684 - val_loss: 303813.6250 - val_root_mean_squared_error: 551.1929\n",
      "Epoch 14/100\n",
      "1871/1875 [============================>.] - ETA: 0s - loss: 303495.6562 - root_mean_squared_error: 550.9044"
     ]
    },
    {
     "name": "stderr",
     "output_type": "stream",
     "text": [
      "WARNING:absl:Found untraced functions such as _update_step_xla, lstm_cell_3_layer_call_fn, lstm_cell_3_layer_call_and_return_conditional_losses while saving (showing 3 of 3). These functions will not be directly callable after loading.\n"
     ]
    },
    {
     "name": "stdout",
     "output_type": "stream",
     "text": [
      "INFO:tensorflow:Assets written to: model5\\assets\n"
     ]
    },
    {
     "name": "stderr",
     "output_type": "stream",
     "text": [
      "INFO:tensorflow:Assets written to: model5\\assets\n"
     ]
    },
    {
     "name": "stdout",
     "output_type": "stream",
     "text": [
      "1875/1875 [==============================] - 17s 9ms/step - loss: 303492.5938 - root_mean_squared_error: 550.9016 - val_loss: 302836.0000 - val_root_mean_squared_error: 550.3054\n",
      "Epoch 15/100\n",
      "1872/1875 [============================>.] - ETA: 0s - loss: 302491.6875 - root_mean_squared_error: 549.9924"
     ]
    },
    {
     "name": "stderr",
     "output_type": "stream",
     "text": [
      "WARNING:absl:Found untraced functions such as _update_step_xla, lstm_cell_3_layer_call_fn, lstm_cell_3_layer_call_and_return_conditional_losses while saving (showing 3 of 3). These functions will not be directly callable after loading.\n"
     ]
    },
    {
     "name": "stdout",
     "output_type": "stream",
     "text": [
      "INFO:tensorflow:Assets written to: model5\\assets\n"
     ]
    },
    {
     "name": "stderr",
     "output_type": "stream",
     "text": [
      "INFO:tensorflow:Assets written to: model5\\assets\n"
     ]
    },
    {
     "name": "stdout",
     "output_type": "stream",
     "text": [
      "1875/1875 [==============================] - 18s 10ms/step - loss: 302491.7812 - root_mean_squared_error: 549.9926 - val_loss: 301813.2500 - val_root_mean_squared_error: 549.3753\n",
      "Epoch 16/100\n",
      "1875/1875 [==============================] - ETA: 0s - loss: 301445.6875 - root_mean_squared_error: 549.0407"
     ]
    },
    {
     "name": "stderr",
     "output_type": "stream",
     "text": [
      "WARNING:absl:Found untraced functions such as _update_step_xla, lstm_cell_3_layer_call_fn, lstm_cell_3_layer_call_and_return_conditional_losses while saving (showing 3 of 3). These functions will not be directly callable after loading.\n"
     ]
    },
    {
     "name": "stdout",
     "output_type": "stream",
     "text": [
      "INFO:tensorflow:Assets written to: model5\\assets\n"
     ]
    },
    {
     "name": "stderr",
     "output_type": "stream",
     "text": [
      "INFO:tensorflow:Assets written to: model5\\assets\n"
     ]
    },
    {
     "name": "stdout",
     "output_type": "stream",
     "text": [
      "1875/1875 [==============================] - 37s 20ms/step - loss: 301445.6875 - root_mean_squared_error: 549.0407 - val_loss: 300745.1250 - val_root_mean_squared_error: 548.4023\n",
      "Epoch 17/100\n",
      "1871/1875 [============================>.] - ETA: 0s - loss: 300357.0000 - root_mean_squared_error: 548.0483"
     ]
    },
    {
     "name": "stderr",
     "output_type": "stream",
     "text": [
      "WARNING:absl:Found untraced functions such as _update_step_xla, lstm_cell_3_layer_call_fn, lstm_cell_3_layer_call_and_return_conditional_losses while saving (showing 3 of 3). These functions will not be directly callable after loading.\n"
     ]
    },
    {
     "name": "stdout",
     "output_type": "stream",
     "text": [
      "INFO:tensorflow:Assets written to: model5\\assets\n"
     ]
    },
    {
     "name": "stderr",
     "output_type": "stream",
     "text": [
      "INFO:tensorflow:Assets written to: model5\\assets\n"
     ]
    },
    {
     "name": "stdout",
     "output_type": "stream",
     "text": [
      "1875/1875 [==============================] - 41s 22ms/step - loss: 300354.6562 - root_mean_squared_error: 548.0462 - val_loss: 299632.5000 - val_root_mean_squared_error: 547.3870\n",
      "Epoch 18/100\n",
      "1869/1875 [============================>.] - ETA: 0s - loss: 299220.7812 - root_mean_squared_error: 547.0107"
     ]
    },
    {
     "name": "stderr",
     "output_type": "stream",
     "text": [
      "WARNING:absl:Found untraced functions such as _update_step_xla, lstm_cell_3_layer_call_fn, lstm_cell_3_layer_call_and_return_conditional_losses while saving (showing 3 of 3). These functions will not be directly callable after loading.\n"
     ]
    },
    {
     "name": "stdout",
     "output_type": "stream",
     "text": [
      "INFO:tensorflow:Assets written to: model5\\assets\n"
     ]
    },
    {
     "name": "stderr",
     "output_type": "stream",
     "text": [
      "INFO:tensorflow:Assets written to: model5\\assets\n"
     ]
    },
    {
     "name": "stdout",
     "output_type": "stream",
     "text": [
      "1875/1875 [==============================] - 24s 13ms/step - loss: 299219.4062 - root_mean_squared_error: 547.0095 - val_loss: 298475.5625 - val_root_mean_squared_error: 546.3292\n",
      "Epoch 19/100\n",
      "1875/1875 [==============================] - ETA: 0s - loss: 297904.1875 - root_mean_squared_error: 545.8060"
     ]
    },
    {
     "name": "stderr",
     "output_type": "stream",
     "text": [
      "WARNING:absl:Found untraced functions such as _update_step_xla, lstm_cell_3_layer_call_fn, lstm_cell_3_layer_call_and_return_conditional_losses while saving (showing 3 of 3). These functions will not be directly callable after loading.\n"
     ]
    },
    {
     "name": "stdout",
     "output_type": "stream",
     "text": [
      "INFO:tensorflow:Assets written to: model5\\assets\n"
     ]
    },
    {
     "name": "stderr",
     "output_type": "stream",
     "text": [
      "INFO:tensorflow:Assets written to: model5\\assets\n"
     ]
    },
    {
     "name": "stdout",
     "output_type": "stream",
     "text": [
      "1875/1875 [==============================] - 28s 15ms/step - loss: 297904.1875 - root_mean_squared_error: 545.8060 - val_loss: 297098.1562 - val_root_mean_squared_error: 545.0671\n",
      "Epoch 20/100\n",
      "1861/1875 [============================>.] - ETA: 0s - loss: 296637.7500 - root_mean_squared_error: 544.6446"
     ]
    },
    {
     "name": "stderr",
     "output_type": "stream",
     "text": [
      "WARNING:absl:Found untraced functions such as _update_step_xla, lstm_cell_3_layer_call_fn, lstm_cell_3_layer_call_and_return_conditional_losses while saving (showing 3 of 3). These functions will not be directly callable after loading.\n"
     ]
    },
    {
     "name": "stdout",
     "output_type": "stream",
     "text": [
      "INFO:tensorflow:Assets written to: model5\\assets\n"
     ]
    },
    {
     "name": "stderr",
     "output_type": "stream",
     "text": [
      "INFO:tensorflow:Assets written to: model5\\assets\n"
     ]
    },
    {
     "name": "stdout",
     "output_type": "stream",
     "text": [
      "1875/1875 [==============================] - 26s 14ms/step - loss: 296633.0000 - root_mean_squared_error: 544.6403 - val_loss: 295838.5000 - val_root_mean_squared_error: 543.9104\n",
      "Epoch 21/100\n",
      "1865/1875 [============================>.] - ETA: 0s - loss: 295356.0938 - root_mean_squared_error: 543.4667"
     ]
    },
    {
     "name": "stderr",
     "output_type": "stream",
     "text": [
      "WARNING:absl:Found untraced functions such as _update_step_xla, lstm_cell_3_layer_call_fn, lstm_cell_3_layer_call_and_return_conditional_losses while saving (showing 3 of 3). These functions will not be directly callable after loading.\n"
     ]
    },
    {
     "name": "stdout",
     "output_type": "stream",
     "text": [
      "INFO:tensorflow:Assets written to: model5\\assets\n"
     ]
    },
    {
     "name": "stderr",
     "output_type": "stream",
     "text": [
      "INFO:tensorflow:Assets written to: model5\\assets\n"
     ]
    },
    {
     "name": "stdout",
     "output_type": "stream",
     "text": [
      "1875/1875 [==============================] - 24s 13ms/step - loss: 295352.1875 - root_mean_squared_error: 543.4631 - val_loss: 294536.2500 - val_root_mean_squared_error: 542.7119\n",
      "Epoch 22/100\n",
      "1868/1875 [============================>.] - ETA: 0s - loss: 294030.3125 - root_mean_squared_error: 542.2456"
     ]
    },
    {
     "name": "stderr",
     "output_type": "stream",
     "text": [
      "WARNING:absl:Found untraced functions such as _update_step_xla, lstm_cell_3_layer_call_fn, lstm_cell_3_layer_call_and_return_conditional_losses while saving (showing 3 of 3). These functions will not be directly callable after loading.\n"
     ]
    },
    {
     "name": "stdout",
     "output_type": "stream",
     "text": [
      "INFO:tensorflow:Assets written to: model5\\assets\n"
     ]
    },
    {
     "name": "stderr",
     "output_type": "stream",
     "text": [
      "INFO:tensorflow:Assets written to: model5\\assets\n"
     ]
    },
    {
     "name": "stdout",
     "output_type": "stream",
     "text": [
      "1875/1875 [==============================] - 29s 15ms/step - loss: 294028.0000 - root_mean_squared_error: 542.2435 - val_loss: 293191.3750 - val_root_mean_squared_error: 541.4715\n",
      "Epoch 23/100\n",
      "1869/1875 [============================>.] - ETA: 0s - loss: 292663.6875 - root_mean_squared_error: 540.9840"
     ]
    },
    {
     "name": "stderr",
     "output_type": "stream",
     "text": [
      "WARNING:absl:Found untraced functions such as _update_step_xla, lstm_cell_3_layer_call_fn, lstm_cell_3_layer_call_and_return_conditional_losses while saving (showing 3 of 3). These functions will not be directly callable after loading.\n"
     ]
    },
    {
     "name": "stdout",
     "output_type": "stream",
     "text": [
      "INFO:tensorflow:Assets written to: model5\\assets\n"
     ]
    },
    {
     "name": "stderr",
     "output_type": "stream",
     "text": [
      "INFO:tensorflow:Assets written to: model5\\assets\n"
     ]
    },
    {
     "name": "stdout",
     "output_type": "stream",
     "text": [
      "1875/1875 [==============================] - 23s 12ms/step - loss: 292662.0938 - root_mean_squared_error: 540.9825 - val_loss: 291803.4688 - val_root_mean_squared_error: 540.1884\n",
      "Epoch 24/100\n",
      "1866/1875 [============================>.] - ETA: 0s - loss: 291254.7500 - root_mean_squared_error: 539.6802"
     ]
    },
    {
     "name": "stderr",
     "output_type": "stream",
     "text": [
      "WARNING:absl:Found untraced functions such as _update_step_xla, lstm_cell_3_layer_call_fn, lstm_cell_3_layer_call_and_return_conditional_losses while saving (showing 3 of 3). These functions will not be directly callable after loading.\n"
     ]
    },
    {
     "name": "stdout",
     "output_type": "stream",
     "text": [
      "INFO:tensorflow:Assets written to: model5\\assets\n"
     ]
    },
    {
     "name": "stderr",
     "output_type": "stream",
     "text": [
      "INFO:tensorflow:Assets written to: model5\\assets\n"
     ]
    },
    {
     "name": "stdout",
     "output_type": "stream",
     "text": [
      "1875/1875 [==============================] - 30s 16ms/step - loss: 291251.8438 - root_mean_squared_error: 539.6776 - val_loss: 290372.1875 - val_root_mean_squared_error: 538.8619\n",
      "Epoch 25/100\n",
      "1868/1875 [============================>.] - ETA: 0s - loss: 289792.0312 - root_mean_squared_error: 538.3234"
     ]
    },
    {
     "name": "stderr",
     "output_type": "stream",
     "text": [
      "WARNING:absl:Found untraced functions such as _update_step_xla, lstm_cell_3_layer_call_fn, lstm_cell_3_layer_call_and_return_conditional_losses while saving (showing 3 of 3). These functions will not be directly callable after loading.\n"
     ]
    },
    {
     "name": "stdout",
     "output_type": "stream",
     "text": [
      "INFO:tensorflow:Assets written to: model5\\assets\n"
     ]
    },
    {
     "name": "stderr",
     "output_type": "stream",
     "text": [
      "INFO:tensorflow:Assets written to: model5\\assets\n"
     ]
    },
    {
     "name": "stdout",
     "output_type": "stream",
     "text": [
      "1875/1875 [==============================] - 25s 14ms/step - loss: 289786.0000 - root_mean_squared_error: 538.3177 - val_loss: 288619.4062 - val_root_mean_squared_error: 537.2331\n",
      "Epoch 26/100\n",
      "1874/1875 [============================>.] - ETA: 0s - loss: 288010.0000 - root_mean_squared_error: 536.6656"
     ]
    },
    {
     "name": "stderr",
     "output_type": "stream",
     "text": [
      "WARNING:absl:Found untraced functions such as _update_step_xla, lstm_cell_3_layer_call_fn, lstm_cell_3_layer_call_and_return_conditional_losses while saving (showing 3 of 3). These functions will not be directly callable after loading.\n"
     ]
    },
    {
     "name": "stdout",
     "output_type": "stream",
     "text": [
      "INFO:tensorflow:Assets written to: model5\\assets\n"
     ]
    },
    {
     "name": "stderr",
     "output_type": "stream",
     "text": [
      "INFO:tensorflow:Assets written to: model5\\assets\n"
     ]
    },
    {
     "name": "stdout",
     "output_type": "stream",
     "text": [
      "1875/1875 [==============================] - 24s 13ms/step - loss: 288009.6250 - root_mean_squared_error: 536.6653 - val_loss: 287077.0000 - val_root_mean_squared_error: 535.7957\n",
      "Epoch 27/100\n",
      "1874/1875 [============================>.] - ETA: 0s - loss: 286452.6562 - root_mean_squared_error: 535.2127"
     ]
    },
    {
     "name": "stderr",
     "output_type": "stream",
     "text": [
      "WARNING:absl:Found untraced functions such as _update_step_xla, lstm_cell_3_layer_call_fn, lstm_cell_3_layer_call_and_return_conditional_losses while saving (showing 3 of 3). These functions will not be directly callable after loading.\n"
     ]
    },
    {
     "name": "stdout",
     "output_type": "stream",
     "text": [
      "INFO:tensorflow:Assets written to: model5\\assets\n"
     ]
    },
    {
     "name": "stderr",
     "output_type": "stream",
     "text": [
      "INFO:tensorflow:Assets written to: model5\\assets\n"
     ]
    },
    {
     "name": "stdout",
     "output_type": "stream",
     "text": [
      "1875/1875 [==============================] - 26s 14ms/step - loss: 286453.7500 - root_mean_squared_error: 535.2137 - val_loss: 285503.2188 - val_root_mean_squared_error: 534.3250\n",
      "Epoch 28/100\n",
      "1871/1875 [============================>.] - ETA: 0s - loss: 284861.7500 - root_mean_squared_error: 533.7244"
     ]
    },
    {
     "name": "stderr",
     "output_type": "stream",
     "text": [
      "WARNING:absl:Found untraced functions such as _update_step_xla, lstm_cell_3_layer_call_fn, lstm_cell_3_layer_call_and_return_conditional_losses while saving (showing 3 of 3). These functions will not be directly callable after loading.\n"
     ]
    },
    {
     "name": "stdout",
     "output_type": "stream",
     "text": [
      "INFO:tensorflow:Assets written to: model5\\assets\n"
     ]
    },
    {
     "name": "stderr",
     "output_type": "stream",
     "text": [
      "INFO:tensorflow:Assets written to: model5\\assets\n"
     ]
    },
    {
     "name": "stdout",
     "output_type": "stream",
     "text": [
      "1875/1875 [==============================] - 25s 14ms/step - loss: 284859.7188 - root_mean_squared_error: 533.7225 - val_loss: 283889.4375 - val_root_mean_squared_error: 532.8127\n",
      "Epoch 29/100\n",
      "1871/1875 [============================>.] - ETA: 0s - loss: 283226.6562 - root_mean_squared_error: 532.1904"
     ]
    },
    {
     "name": "stderr",
     "output_type": "stream",
     "text": [
      "WARNING:absl:Found untraced functions such as _update_step_xla, lstm_cell_3_layer_call_fn, lstm_cell_3_layer_call_and_return_conditional_losses while saving (showing 3 of 3). These functions will not be directly callable after loading.\n"
     ]
    },
    {
     "name": "stdout",
     "output_type": "stream",
     "text": [
      "INFO:tensorflow:Assets written to: model5\\assets\n"
     ]
    },
    {
     "name": "stderr",
     "output_type": "stream",
     "text": [
      "INFO:tensorflow:Assets written to: model5\\assets\n"
     ]
    },
    {
     "name": "stdout",
     "output_type": "stream",
     "text": [
      "1875/1875 [==============================] - 27s 14ms/step - loss: 283225.6250 - root_mean_squared_error: 532.1895 - val_loss: 282235.0312 - val_root_mean_squared_error: 531.2580\n",
      "Epoch 30/100\n",
      "1863/1875 [============================>.] - ETA: 0s - loss: 281556.2500 - root_mean_squared_error: 530.6188"
     ]
    },
    {
     "name": "stderr",
     "output_type": "stream",
     "text": [
      "WARNING:absl:Found untraced functions such as _update_step_xla, lstm_cell_3_layer_call_fn, lstm_cell_3_layer_call_and_return_conditional_losses while saving (showing 3 of 3). These functions will not be directly callable after loading.\n"
     ]
    },
    {
     "name": "stdout",
     "output_type": "stream",
     "text": [
      "INFO:tensorflow:Assets written to: model5\\assets\n"
     ]
    },
    {
     "name": "stderr",
     "output_type": "stream",
     "text": [
      "INFO:tensorflow:Assets written to: model5\\assets\n"
     ]
    },
    {
     "name": "stdout",
     "output_type": "stream",
     "text": [
      "1875/1875 [==============================] - 23s 12ms/step - loss: 281550.6250 - root_mean_squared_error: 530.6135 - val_loss: 280540.1875 - val_root_mean_squared_error: 529.6605\n",
      "Epoch 31/100\n",
      "1870/1875 [============================>.] - ETA: 0s - loss: 279838.5312 - root_mean_squared_error: 528.9977"
     ]
    },
    {
     "name": "stderr",
     "output_type": "stream",
     "text": [
      "WARNING:absl:Found untraced functions such as _update_step_xla, lstm_cell_3_layer_call_fn, lstm_cell_3_layer_call_and_return_conditional_losses while saving (showing 3 of 3). These functions will not be directly callable after loading.\n"
     ]
    },
    {
     "name": "stdout",
     "output_type": "stream",
     "text": [
      "INFO:tensorflow:Assets written to: model5\\assets\n"
     ]
    },
    {
     "name": "stderr",
     "output_type": "stream",
     "text": [
      "INFO:tensorflow:Assets written to: model5\\assets\n"
     ]
    },
    {
     "name": "stdout",
     "output_type": "stream",
     "text": [
      "1875/1875 [==============================] - 33s 18ms/step - loss: 279835.2500 - root_mean_squared_error: 528.9946 - val_loss: 278805.0625 - val_root_mean_squared_error: 528.0200\n",
      "Epoch 32/100\n",
      "1873/1875 [============================>.] - ETA: 0s - loss: 278080.1250 - root_mean_squared_error: 527.3330"
     ]
    },
    {
     "name": "stderr",
     "output_type": "stream",
     "text": [
      "WARNING:absl:Found untraced functions such as _update_step_xla, lstm_cell_3_layer_call_fn, lstm_cell_3_layer_call_and_return_conditional_losses while saving (showing 3 of 3). These functions will not be directly callable after loading.\n"
     ]
    },
    {
     "name": "stdout",
     "output_type": "stream",
     "text": [
      "INFO:tensorflow:Assets written to: model5\\assets\n"
     ]
    },
    {
     "name": "stderr",
     "output_type": "stream",
     "text": [
      "INFO:tensorflow:Assets written to: model5\\assets\n"
     ]
    },
    {
     "name": "stdout",
     "output_type": "stream",
     "text": [
      "1875/1875 [==============================] - 26s 14ms/step - loss: 278079.5938 - root_mean_squared_error: 527.3325 - val_loss: 277029.5938 - val_root_mean_squared_error: 526.3360\n",
      "Epoch 33/100\n",
      "1871/1875 [============================>.] - ETA: 0s - loss: 276284.6875 - root_mean_squared_error: 525.6279"
     ]
    },
    {
     "name": "stderr",
     "output_type": "stream",
     "text": [
      "WARNING:absl:Found untraced functions such as _update_step_xla, lstm_cell_3_layer_call_fn, lstm_cell_3_layer_call_and_return_conditional_losses while saving (showing 3 of 3). These functions will not be directly callable after loading.\n"
     ]
    },
    {
     "name": "stdout",
     "output_type": "stream",
     "text": [
      "INFO:tensorflow:Assets written to: model5\\assets\n"
     ]
    },
    {
     "name": "stderr",
     "output_type": "stream",
     "text": [
      "INFO:tensorflow:Assets written to: model5\\assets\n"
     ]
    },
    {
     "name": "stdout",
     "output_type": "stream",
     "text": [
      "1875/1875 [==============================] - 24s 13ms/step - loss: 276283.9688 - root_mean_squared_error: 525.6272 - val_loss: 275214.3750 - val_root_mean_squared_error: 524.6088\n",
      "Epoch 34/100\n",
      "1872/1875 [============================>.] - ETA: 0s - loss: 274449.0625 - root_mean_squared_error: 523.8788"
     ]
    },
    {
     "name": "stderr",
     "output_type": "stream",
     "text": [
      "WARNING:absl:Found untraced functions such as _update_step_xla, lstm_cell_3_layer_call_fn, lstm_cell_3_layer_call_and_return_conditional_losses while saving (showing 3 of 3). These functions will not be directly callable after loading.\n"
     ]
    },
    {
     "name": "stdout",
     "output_type": "stream",
     "text": [
      "INFO:tensorflow:Assets written to: model5\\assets\n"
     ]
    },
    {
     "name": "stderr",
     "output_type": "stream",
     "text": [
      "INFO:tensorflow:Assets written to: model5\\assets\n"
     ]
    },
    {
     "name": "stdout",
     "output_type": "stream",
     "text": [
      "1875/1875 [==============================] - 27s 15ms/step - loss: 274448.4062 - root_mean_squared_error: 523.8782 - val_loss: 273359.7500 - val_root_mean_squared_error: 522.8382\n",
      "Epoch 35/100\n",
      "1861/1875 [============================>.] - ETA: 0s - loss: 272576.1250 - root_mean_squared_error: 522.0883"
     ]
    },
    {
     "name": "stderr",
     "output_type": "stream",
     "text": [
      "WARNING:absl:Found untraced functions such as _update_step_xla, lstm_cell_3_layer_call_fn, lstm_cell_3_layer_call_and_return_conditional_losses while saving (showing 3 of 3). These functions will not be directly callable after loading.\n"
     ]
    },
    {
     "name": "stdout",
     "output_type": "stream",
     "text": [
      "INFO:tensorflow:Assets written to: model5\\assets\n"
     ]
    },
    {
     "name": "stderr",
     "output_type": "stream",
     "text": [
      "INFO:tensorflow:Assets written to: model5\\assets\n"
     ]
    },
    {
     "name": "stdout",
     "output_type": "stream",
     "text": [
      "1875/1875 [==============================] - 24s 13ms/step - loss: 272573.8750 - root_mean_squared_error: 522.0861 - val_loss: 271466.4062 - val_root_mean_squared_error: 521.0244\n",
      "Epoch 36/100\n",
      "1872/1875 [============================>.] - ETA: 0s - loss: 270663.4688 - root_mean_squared_error: 520.2532"
     ]
    },
    {
     "name": "stderr",
     "output_type": "stream",
     "text": [
      "WARNING:absl:Found untraced functions such as _update_step_xla, lstm_cell_3_layer_call_fn, lstm_cell_3_layer_call_and_return_conditional_losses while saving (showing 3 of 3). These functions will not be directly callable after loading.\n"
     ]
    },
    {
     "name": "stdout",
     "output_type": "stream",
     "text": [
      "INFO:tensorflow:Assets written to: model5\\assets\n"
     ]
    },
    {
     "name": "stderr",
     "output_type": "stream",
     "text": [
      "INFO:tensorflow:Assets written to: model5\\assets\n"
     ]
    },
    {
     "name": "stdout",
     "output_type": "stream",
     "text": [
      "1875/1875 [==============================] - 25s 13ms/step - loss: 270661.0312 - root_mean_squared_error: 520.2509 - val_loss: 269534.8438 - val_root_mean_squared_error: 519.1675\n",
      "Epoch 37/100\n",
      "1862/1875 [============================>.] - ETA: 0s - loss: 268717.4062 - root_mean_squared_error: 518.3796"
     ]
    },
    {
     "name": "stderr",
     "output_type": "stream",
     "text": [
      "WARNING:absl:Found untraced functions such as _update_step_xla, lstm_cell_3_layer_call_fn, lstm_cell_3_layer_call_and_return_conditional_losses while saving (showing 3 of 3). These functions will not be directly callable after loading.\n"
     ]
    },
    {
     "name": "stdout",
     "output_type": "stream",
     "text": [
      "INFO:tensorflow:Assets written to: model5\\assets\n"
     ]
    },
    {
     "name": "stderr",
     "output_type": "stream",
     "text": [
      "INFO:tensorflow:Assets written to: model5\\assets\n"
     ]
    },
    {
     "name": "stdout",
     "output_type": "stream",
     "text": [
      "1875/1875 [==============================] - 23s 12ms/step - loss: 268710.0000 - root_mean_squared_error: 518.3724 - val_loss: 267565.6562 - val_root_mean_squared_error: 517.2675\n",
      "Epoch 38/100\n",
      "1873/1875 [============================>.] - ETA: 0s - loss: 266723.6250 - root_mean_squared_error: 516.4529"
     ]
    },
    {
     "name": "stderr",
     "output_type": "stream",
     "text": [
      "WARNING:absl:Found untraced functions such as _update_step_xla, lstm_cell_3_layer_call_fn, lstm_cell_3_layer_call_and_return_conditional_losses while saving (showing 3 of 3). These functions will not be directly callable after loading.\n"
     ]
    },
    {
     "name": "stdout",
     "output_type": "stream",
     "text": [
      "INFO:tensorflow:Assets written to: model5\\assets\n"
     ]
    },
    {
     "name": "stderr",
     "output_type": "stream",
     "text": [
      "INFO:tensorflow:Assets written to: model5\\assets\n"
     ]
    },
    {
     "name": "stdout",
     "output_type": "stream",
     "text": [
      "1875/1875 [==============================] - 29s 15ms/step - loss: 266722.0625 - root_mean_squared_error: 516.4514 - val_loss: 265559.7812 - val_root_mean_squared_error: 515.3250\n",
      "Epoch 39/100\n",
      "1870/1875 [============================>.] - ETA: 0s - loss: 264698.5312 - root_mean_squared_error: 514.4886"
     ]
    },
    {
     "name": "stderr",
     "output_type": "stream",
     "text": [
      "WARNING:absl:Found untraced functions such as _update_step_xla, lstm_cell_3_layer_call_fn, lstm_cell_3_layer_call_and_return_conditional_losses while saving (showing 3 of 3). These functions will not be directly callable after loading.\n"
     ]
    },
    {
     "name": "stdout",
     "output_type": "stream",
     "text": [
      "INFO:tensorflow:Assets written to: model5\\assets\n"
     ]
    },
    {
     "name": "stderr",
     "output_type": "stream",
     "text": [
      "INFO:tensorflow:Assets written to: model5\\assets\n"
     ]
    },
    {
     "name": "stdout",
     "output_type": "stream",
     "text": [
      "1875/1875 [==============================] - 23s 12ms/step - loss: 264696.9062 - root_mean_squared_error: 514.4871 - val_loss: 263517.8750 - val_root_mean_squared_error: 513.3399\n",
      "Epoch 40/100\n",
      "1875/1875 [==============================] - ETA: 0s - loss: 262637.0312 - root_mean_squared_error: 512.4812"
     ]
    },
    {
     "name": "stderr",
     "output_type": "stream",
     "text": [
      "WARNING:absl:Found untraced functions such as _update_step_xla, lstm_cell_3_layer_call_fn, lstm_cell_3_layer_call_and_return_conditional_losses while saving (showing 3 of 3). These functions will not be directly callable after loading.\n"
     ]
    },
    {
     "name": "stdout",
     "output_type": "stream",
     "text": [
      "INFO:tensorflow:Assets written to: model5\\assets\n"
     ]
    },
    {
     "name": "stderr",
     "output_type": "stream",
     "text": [
      "INFO:tensorflow:Assets written to: model5\\assets\n"
     ]
    },
    {
     "name": "stdout",
     "output_type": "stream",
     "text": [
      "1875/1875 [==============================] - 29s 15ms/step - loss: 262637.0312 - root_mean_squared_error: 512.4812 - val_loss: 261440.9531 - val_root_mean_squared_error: 511.3130\n",
      "Epoch 41/100\n",
      "1871/1875 [============================>.] - ETA: 0s - loss: 260543.8906 - root_mean_squared_error: 510.4350"
     ]
    },
    {
     "name": "stderr",
     "output_type": "stream",
     "text": [
      "WARNING:absl:Found untraced functions such as _update_step_xla, lstm_cell_3_layer_call_fn, lstm_cell_3_layer_call_and_return_conditional_losses while saving (showing 3 of 3). These functions will not be directly callable after loading.\n"
     ]
    },
    {
     "name": "stdout",
     "output_type": "stream",
     "text": [
      "INFO:tensorflow:Assets written to: model5\\assets\n"
     ]
    },
    {
     "name": "stderr",
     "output_type": "stream",
     "text": [
      "INFO:tensorflow:Assets written to: model5\\assets\n"
     ]
    },
    {
     "name": "stdout",
     "output_type": "stream",
     "text": [
      "1875/1875 [==============================] - 27s 14ms/step - loss: 260542.1875 - root_mean_squared_error: 510.4333 - val_loss: 259329.8125 - val_root_mean_squared_error: 509.2444\n",
      "Epoch 42/100\n",
      "1864/1875 [============================>.] - ETA: 0s - loss: 258421.7969 - root_mean_squared_error: 508.3521"
     ]
    },
    {
     "name": "stderr",
     "output_type": "stream",
     "text": [
      "WARNING:absl:Found untraced functions such as _update_step_xla, lstm_cell_3_layer_call_fn, lstm_cell_3_layer_call_and_return_conditional_losses while saving (showing 3 of 3). These functions will not be directly callable after loading.\n"
     ]
    },
    {
     "name": "stdout",
     "output_type": "stream",
     "text": [
      "INFO:tensorflow:Assets written to: model5\\assets\n"
     ]
    },
    {
     "name": "stderr",
     "output_type": "stream",
     "text": [
      "INFO:tensorflow:Assets written to: model5\\assets\n"
     ]
    },
    {
     "name": "stdout",
     "output_type": "stream",
     "text": [
      "1875/1875 [==============================] - 24s 13ms/step - loss: 258413.2031 - root_mean_squared_error: 508.3436 - val_loss: 257183.7969 - val_root_mean_squared_error: 507.1329\n",
      "Epoch 43/100\n",
      "1861/1875 [============================>.] - ETA: 0s - loss: 256257.9219 - root_mean_squared_error: 506.2192"
     ]
    },
    {
     "name": "stderr",
     "output_type": "stream",
     "text": [
      "WARNING:absl:Found untraced functions such as _update_step_xla, lstm_cell_3_layer_call_fn, lstm_cell_3_layer_call_and_return_conditional_losses while saving (showing 3 of 3). These functions will not be directly callable after loading.\n"
     ]
    },
    {
     "name": "stdout",
     "output_type": "stream",
     "text": [
      "INFO:tensorflow:Assets written to: model5\\assets\n"
     ]
    },
    {
     "name": "stderr",
     "output_type": "stream",
     "text": [
      "INFO:tensorflow:Assets written to: model5\\assets\n"
     ]
    },
    {
     "name": "stdout",
     "output_type": "stream",
     "text": [
      "1875/1875 [==============================] - 28s 15ms/step - loss: 256250.0156 - root_mean_squared_error: 506.2114 - val_loss: 255004.3125 - val_root_mean_squared_error: 504.9795\n",
      "Epoch 44/100\n",
      "1870/1875 [============================>.] - ETA: 0s - loss: 254057.0312 - root_mean_squared_error: 504.0407"
     ]
    },
    {
     "name": "stderr",
     "output_type": "stream",
     "text": [
      "WARNING:absl:Found untraced functions such as _update_step_xla, lstm_cell_3_layer_call_fn, lstm_cell_3_layer_call_and_return_conditional_losses while saving (showing 3 of 3). These functions will not be directly callable after loading.\n"
     ]
    },
    {
     "name": "stdout",
     "output_type": "stream",
     "text": [
      "INFO:tensorflow:Assets written to: model5\\assets\n"
     ]
    },
    {
     "name": "stderr",
     "output_type": "stream",
     "text": [
      "INFO:tensorflow:Assets written to: model5\\assets\n"
     ]
    },
    {
     "name": "stdout",
     "output_type": "stream",
     "text": [
      "1875/1875 [==============================] - 23s 12ms/step - loss: 254052.8750 - root_mean_squared_error: 504.0366 - val_loss: 252791.0625 - val_root_mean_squared_error: 502.7833\n",
      "Epoch 45/100\n",
      "1874/1875 [============================>.] - ETA: 0s - loss: 251821.9688 - root_mean_squared_error: 501.8186"
     ]
    },
    {
     "name": "stderr",
     "output_type": "stream",
     "text": [
      "WARNING:absl:Found untraced functions such as _update_step_xla, lstm_cell_3_layer_call_fn, lstm_cell_3_layer_call_and_return_conditional_losses while saving (showing 3 of 3). These functions will not be directly callable after loading.\n"
     ]
    },
    {
     "name": "stdout",
     "output_type": "stream",
     "text": [
      "INFO:tensorflow:Assets written to: model5\\assets\n"
     ]
    },
    {
     "name": "stderr",
     "output_type": "stream",
     "text": [
      "INFO:tensorflow:Assets written to: model5\\assets\n"
     ]
    },
    {
     "name": "stdout",
     "output_type": "stream",
     "text": [
      "1875/1875 [==============================] - 28s 15ms/step - loss: 251822.1094 - root_mean_squared_error: 501.8188 - val_loss: 250543.3281 - val_root_mean_squared_error: 500.5430\n",
      "Epoch 46/100\n",
      "1873/1875 [============================>.] - ETA: 0s - loss: 249556.6094 - root_mean_squared_error: 499.5564"
     ]
    },
    {
     "name": "stderr",
     "output_type": "stream",
     "text": [
      "WARNING:absl:Found untraced functions such as _update_step_xla, lstm_cell_3_layer_call_fn, lstm_cell_3_layer_call_and_return_conditional_losses while saving (showing 3 of 3). These functions will not be directly callable after loading.\n"
     ]
    },
    {
     "name": "stdout",
     "output_type": "stream",
     "text": [
      "INFO:tensorflow:Assets written to: model5\\assets\n"
     ]
    },
    {
     "name": "stderr",
     "output_type": "stream",
     "text": [
      "INFO:tensorflow:Assets written to: model5\\assets\n"
     ]
    },
    {
     "name": "stdout",
     "output_type": "stream",
     "text": [
      "1875/1875 [==============================] - 25s 13ms/step - loss: 249557.1406 - root_mean_squared_error: 499.5569 - val_loss: 248262.5781 - val_root_mean_squared_error: 498.2596\n",
      "Epoch 47/100\n",
      "1874/1875 [============================>.] - ETA: 0s - loss: 247260.4688 - root_mean_squared_error: 497.2529"
     ]
    },
    {
     "name": "stderr",
     "output_type": "stream",
     "text": [
      "WARNING:absl:Found untraced functions such as _update_step_xla, lstm_cell_3_layer_call_fn, lstm_cell_3_layer_call_and_return_conditional_losses while saving (showing 3 of 3). These functions will not be directly callable after loading.\n"
     ]
    },
    {
     "name": "stdout",
     "output_type": "stream",
     "text": [
      "INFO:tensorflow:Assets written to: model5\\assets\n"
     ]
    },
    {
     "name": "stderr",
     "output_type": "stream",
     "text": [
      "INFO:tensorflow:Assets written to: model5\\assets\n"
     ]
    },
    {
     "name": "stdout",
     "output_type": "stream",
     "text": [
      "1875/1875 [==============================] - 26s 14ms/step - loss: 247259.5625 - root_mean_squared_error: 497.2520 - val_loss: 245950.0312 - val_root_mean_squared_error: 495.9335\n",
      "Epoch 48/100\n",
      "1873/1875 [============================>.] - ETA: 0s - loss: 244932.0312 - root_mean_squared_error: 494.9061"
     ]
    },
    {
     "name": "stderr",
     "output_type": "stream",
     "text": [
      "WARNING:absl:Found untraced functions such as _update_step_xla, lstm_cell_3_layer_call_fn, lstm_cell_3_layer_call_and_return_conditional_losses while saving (showing 3 of 3). These functions will not be directly callable after loading.\n"
     ]
    },
    {
     "name": "stdout",
     "output_type": "stream",
     "text": [
      "INFO:tensorflow:Assets written to: model5\\assets\n"
     ]
    },
    {
     "name": "stderr",
     "output_type": "stream",
     "text": [
      "INFO:tensorflow:Assets written to: model5\\assets\n"
     ]
    },
    {
     "name": "stdout",
     "output_type": "stream",
     "text": [
      "1875/1875 [==============================] - 24s 13ms/step - loss: 244930.6250 - root_mean_squared_error: 494.9047 - val_loss: 243606.7031 - val_root_mean_squared_error: 493.5653\n",
      "Epoch 49/100\n",
      "1875/1875 [==============================] - ETA: 0s - loss: 242571.1406 - root_mean_squared_error: 492.5151"
     ]
    },
    {
     "name": "stderr",
     "output_type": "stream",
     "text": [
      "WARNING:absl:Found untraced functions such as _update_step_xla, lstm_cell_3_layer_call_fn, lstm_cell_3_layer_call_and_return_conditional_losses while saving (showing 3 of 3). These functions will not be directly callable after loading.\n"
     ]
    },
    {
     "name": "stdout",
     "output_type": "stream",
     "text": [
      "INFO:tensorflow:Assets written to: model5\\assets\n"
     ]
    },
    {
     "name": "stderr",
     "output_type": "stream",
     "text": [
      "INFO:tensorflow:Assets written to: model5\\assets\n"
     ]
    },
    {
     "name": "stdout",
     "output_type": "stream",
     "text": [
      "1875/1875 [==============================] - 28s 15ms/step - loss: 242571.1406 - root_mean_squared_error: 492.5151 - val_loss: 241232.6406 - val_root_mean_squared_error: 491.1544\n",
      "Epoch 50/100\n",
      "1869/1875 [============================>.] - ETA: 0s - loss: 240187.8281 - root_mean_squared_error: 490.0896"
     ]
    },
    {
     "name": "stderr",
     "output_type": "stream",
     "text": [
      "WARNING:absl:Found untraced functions such as _update_step_xla, lstm_cell_3_layer_call_fn, lstm_cell_3_layer_call_and_return_conditional_losses while saving (showing 3 of 3). These functions will not be directly callable after loading.\n"
     ]
    },
    {
     "name": "stdout",
     "output_type": "stream",
     "text": [
      "INFO:tensorflow:Assets written to: model5\\assets\n"
     ]
    },
    {
     "name": "stderr",
     "output_type": "stream",
     "text": [
      "INFO:tensorflow:Assets written to: model5\\assets\n"
     ]
    },
    {
     "name": "stdout",
     "output_type": "stream",
     "text": [
      "1875/1875 [==============================] - 26s 14ms/step - loss: 240182.7031 - root_mean_squared_error: 490.0844 - val_loss: 238830.6875 - val_root_mean_squared_error: 488.7031\n",
      "Epoch 51/100\n",
      "1874/1875 [============================>.] - ETA: 0s - loss: 237767.1562 - root_mean_squared_error: 487.6137"
     ]
    },
    {
     "name": "stderr",
     "output_type": "stream",
     "text": [
      "WARNING:absl:Found untraced functions such as _update_step_xla, lstm_cell_3_layer_call_fn, lstm_cell_3_layer_call_and_return_conditional_losses while saving (showing 3 of 3). These functions will not be directly callable after loading.\n"
     ]
    },
    {
     "name": "stdout",
     "output_type": "stream",
     "text": [
      "INFO:tensorflow:Assets written to: model5\\assets\n"
     ]
    },
    {
     "name": "stderr",
     "output_type": "stream",
     "text": [
      "INFO:tensorflow:Assets written to: model5\\assets\n"
     ]
    },
    {
     "name": "stdout",
     "output_type": "stream",
     "text": [
      "1875/1875 [==============================] - 23s 12ms/step - loss: 237765.9219 - root_mean_squared_error: 487.6125 - val_loss: 236401.3125 - val_root_mean_squared_error: 486.2112\n",
      "Epoch 52/100\n",
      "1862/1875 [============================>.] - ETA: 0s - loss: 235329.4219 - root_mean_squared_error: 485.1076"
     ]
    },
    {
     "name": "stderr",
     "output_type": "stream",
     "text": [
      "WARNING:absl:Found untraced functions such as _update_step_xla, lstm_cell_3_layer_call_fn, lstm_cell_3_layer_call_and_return_conditional_losses while saving (showing 3 of 3). These functions will not be directly callable after loading.\n"
     ]
    },
    {
     "name": "stdout",
     "output_type": "stream",
     "text": [
      "INFO:tensorflow:Assets written to: model5\\assets\n"
     ]
    },
    {
     "name": "stderr",
     "output_type": "stream",
     "text": [
      "INFO:tensorflow:Assets written to: model5\\assets\n"
     ]
    },
    {
     "name": "stdout",
     "output_type": "stream",
     "text": [
      "1875/1875 [==============================] - 25s 13ms/step - loss: 235322.8906 - root_mean_squared_error: 485.1009 - val_loss: 233945.8750 - val_root_mean_squared_error: 483.6795\n",
      "Epoch 53/100\n",
      "1873/1875 [============================>.] - ETA: 0s - loss: 232855.7969 - root_mean_squared_error: 482.5513"
     ]
    },
    {
     "name": "stderr",
     "output_type": "stream",
     "text": [
      "WARNING:absl:Found untraced functions such as _update_step_xla, lstm_cell_3_layer_call_fn, lstm_cell_3_layer_call_and_return_conditional_losses while saving (showing 3 of 3). These functions will not be directly callable after loading.\n"
     ]
    },
    {
     "name": "stdout",
     "output_type": "stream",
     "text": [
      "INFO:tensorflow:Assets written to: model5\\assets\n"
     ]
    },
    {
     "name": "stderr",
     "output_type": "stream",
     "text": [
      "INFO:tensorflow:Assets written to: model5\\assets\n"
     ]
    },
    {
     "name": "stdout",
     "output_type": "stream",
     "text": [
      "1875/1875 [==============================] - 24s 13ms/step - loss: 232853.4844 - root_mean_squared_error: 482.5490 - val_loss: 231464.6562 - val_root_mean_squared_error: 481.1077\n",
      "Epoch 54/100\n",
      "1866/1875 [============================>.] - ETA: 0s - loss: 230365.0000 - root_mean_squared_error: 479.9636"
     ]
    },
    {
     "name": "stderr",
     "output_type": "stream",
     "text": [
      "WARNING:absl:Found untraced functions such as _update_step_xla, lstm_cell_3_layer_call_fn, lstm_cell_3_layer_call_and_return_conditional_losses while saving (showing 3 of 3). These functions will not be directly callable after loading.\n"
     ]
    },
    {
     "name": "stdout",
     "output_type": "stream",
     "text": [
      "INFO:tensorflow:Assets written to: model5\\assets\n"
     ]
    },
    {
     "name": "stderr",
     "output_type": "stream",
     "text": [
      "INFO:tensorflow:Assets written to: model5\\assets\n"
     ]
    },
    {
     "name": "stdout",
     "output_type": "stream",
     "text": [
      "1875/1875 [==============================] - 28s 15ms/step - loss: 230359.0469 - root_mean_squared_error: 479.9574 - val_loss: 228957.4375 - val_root_mean_squared_error: 478.4950\n",
      "Epoch 55/100\n",
      "1865/1875 [============================>.] - ETA: 0s - loss: 227844.3281 - root_mean_squared_error: 477.3304"
     ]
    },
    {
     "name": "stderr",
     "output_type": "stream",
     "text": [
      "WARNING:absl:Found untraced functions such as _update_step_xla, lstm_cell_3_layer_call_fn, lstm_cell_3_layer_call_and_return_conditional_losses while saving (showing 3 of 3). These functions will not be directly callable after loading.\n"
     ]
    },
    {
     "name": "stdout",
     "output_type": "stream",
     "text": [
      "INFO:tensorflow:Assets written to: model5\\assets\n"
     ]
    },
    {
     "name": "stderr",
     "output_type": "stream",
     "text": [
      "INFO:tensorflow:Assets written to: model5\\assets\n"
     ]
    },
    {
     "name": "stdout",
     "output_type": "stream",
     "text": [
      "1875/1875 [==============================] - 23s 12ms/step - loss: 227837.8125 - root_mean_squared_error: 477.3236 - val_loss: 226424.5000 - val_root_mean_squared_error: 475.8408\n",
      "Epoch 56/100\n",
      "1865/1875 [============================>.] - ETA: 0s - loss: 225297.5625 - root_mean_squared_error: 474.6552"
     ]
    },
    {
     "name": "stderr",
     "output_type": "stream",
     "text": [
      "WARNING:absl:Found untraced functions such as _update_step_xla, lstm_cell_3_layer_call_fn, lstm_cell_3_layer_call_and_return_conditional_losses while saving (showing 3 of 3). These functions will not be directly callable after loading.\n"
     ]
    },
    {
     "name": "stdout",
     "output_type": "stream",
     "text": [
      "INFO:tensorflow:Assets written to: model5\\assets\n"
     ]
    },
    {
     "name": "stderr",
     "output_type": "stream",
     "text": [
      "INFO:tensorflow:Assets written to: model5\\assets\n"
     ]
    },
    {
     "name": "stdout",
     "output_type": "stream",
     "text": [
      "1875/1875 [==============================] - 25s 14ms/step - loss: 225291.3125 - root_mean_squared_error: 474.6486 - val_loss: 223865.9531 - val_root_mean_squared_error: 473.1447\n",
      "Epoch 57/100\n",
      "1861/1875 [============================>.] - ETA: 0s - loss: 222728.4062 - root_mean_squared_error: 471.9411"
     ]
    },
    {
     "name": "stderr",
     "output_type": "stream",
     "text": [
      "WARNING:absl:Found untraced functions such as _update_step_xla, lstm_cell_3_layer_call_fn, lstm_cell_3_layer_call_and_return_conditional_losses while saving (showing 3 of 3). These functions will not be directly callable after loading.\n"
     ]
    },
    {
     "name": "stdout",
     "output_type": "stream",
     "text": [
      "INFO:tensorflow:Assets written to: model5\\assets\n"
     ]
    },
    {
     "name": "stderr",
     "output_type": "stream",
     "text": [
      "INFO:tensorflow:Assets written to: model5\\assets\n"
     ]
    },
    {
     "name": "stdout",
     "output_type": "stream",
     "text": [
      "1875/1875 [==============================] - 25s 13ms/step - loss: 222719.1250 - root_mean_squared_error: 471.9313 - val_loss: 221282.2344 - val_root_mean_squared_error: 470.4065\n",
      "Epoch 58/100\n",
      "1870/1875 [============================>.] - ETA: 0s - loss: 220124.8281 - root_mean_squared_error: 469.1747"
     ]
    },
    {
     "name": "stderr",
     "output_type": "stream",
     "text": [
      "WARNING:absl:Found untraced functions such as _update_step_xla, lstm_cell_3_layer_call_fn, lstm_cell_3_layer_call_and_return_conditional_losses while saving (showing 3 of 3). These functions will not be directly callable after loading.\n"
     ]
    },
    {
     "name": "stdout",
     "output_type": "stream",
     "text": [
      "INFO:tensorflow:Assets written to: model5\\assets\n"
     ]
    },
    {
     "name": "stderr",
     "output_type": "stream",
     "text": [
      "INFO:tensorflow:Assets written to: model5\\assets\n"
     ]
    },
    {
     "name": "stdout",
     "output_type": "stream",
     "text": [
      "1875/1875 [==============================] - 19s 10ms/step - loss: 220122.1875 - root_mean_squared_error: 469.1718 - val_loss: 218673.8750 - val_root_mean_squared_error: 467.6258\n",
      "Epoch 59/100\n",
      "1874/1875 [============================>.] - ETA: 0s - loss: 217502.2969 - root_mean_squared_error: 466.3714"
     ]
    },
    {
     "name": "stderr",
     "output_type": "stream",
     "text": [
      "WARNING:absl:Found untraced functions such as _update_step_xla, lstm_cell_3_layer_call_fn, lstm_cell_3_layer_call_and_return_conditional_losses while saving (showing 3 of 3). These functions will not be directly callable after loading.\n"
     ]
    },
    {
     "name": "stdout",
     "output_type": "stream",
     "text": [
      "INFO:tensorflow:Assets written to: model5\\assets\n"
     ]
    },
    {
     "name": "stderr",
     "output_type": "stream",
     "text": [
      "INFO:tensorflow:Assets written to: model5\\assets\n"
     ]
    },
    {
     "name": "stdout",
     "output_type": "stream",
     "text": [
      "1875/1875 [==============================] - 27s 15ms/step - loss: 217501.2188 - root_mean_squared_error: 466.3703 - val_loss: 216041.5781 - val_root_mean_squared_error: 464.8027\n",
      "Epoch 60/100\n",
      "1874/1875 [============================>.] - ETA: 0s - loss: 214858.2188 - root_mean_squared_error: 463.5280"
     ]
    },
    {
     "name": "stderr",
     "output_type": "stream",
     "text": [
      "WARNING:absl:Found untraced functions such as _update_step_xla, lstm_cell_3_layer_call_fn, lstm_cell_3_layer_call_and_return_conditional_losses while saving (showing 3 of 3). These functions will not be directly callable after loading.\n"
     ]
    },
    {
     "name": "stdout",
     "output_type": "stream",
     "text": [
      "INFO:tensorflow:Assets written to: model5\\assets\n"
     ]
    },
    {
     "name": "stderr",
     "output_type": "stream",
     "text": [
      "INFO:tensorflow:Assets written to: model5\\assets\n"
     ]
    },
    {
     "name": "stdout",
     "output_type": "stream",
     "text": [
      "1875/1875 [==============================] - 24s 13ms/step - loss: 214856.5469 - root_mean_squared_error: 463.5262 - val_loss: 213386.1875 - val_root_mean_squared_error: 461.9375\n",
      "Epoch 61/100\n",
      "1874/1875 [============================>.] - ETA: 0s - loss: 212189.8750 - root_mean_squared_error: 460.6407"
     ]
    },
    {
     "name": "stderr",
     "output_type": "stream",
     "text": [
      "WARNING:absl:Found untraced functions such as _update_step_xla, lstm_cell_3_layer_call_fn, lstm_cell_3_layer_call_and_return_conditional_losses while saving (showing 3 of 3). These functions will not be directly callable after loading.\n"
     ]
    },
    {
     "name": "stdout",
     "output_type": "stream",
     "text": [
      "INFO:tensorflow:Assets written to: model5\\assets\n"
     ]
    },
    {
     "name": "stderr",
     "output_type": "stream",
     "text": [
      "INFO:tensorflow:Assets written to: model5\\assets\n"
     ]
    },
    {
     "name": "stdout",
     "output_type": "stream",
     "text": [
      "1875/1875 [==============================] - 24s 13ms/step - loss: 212189.0625 - root_mean_squared_error: 460.6398 - val_loss: 210708.2500 - val_root_mean_squared_error: 459.0297\n",
      "Epoch 62/100\n",
      "1868/1875 [============================>.] - ETA: 0s - loss: 209504.6719 - root_mean_squared_error: 457.7168"
     ]
    },
    {
     "name": "stderr",
     "output_type": "stream",
     "text": [
      "WARNING:absl:Found untraced functions such as _update_step_xla, lstm_cell_3_layer_call_fn, lstm_cell_3_layer_call_and_return_conditional_losses while saving (showing 3 of 3). These functions will not be directly callable after loading.\n"
     ]
    },
    {
     "name": "stdout",
     "output_type": "stream",
     "text": [
      "INFO:tensorflow:Assets written to: model5\\assets\n"
     ]
    },
    {
     "name": "stderr",
     "output_type": "stream",
     "text": [
      "INFO:tensorflow:Assets written to: model5\\assets\n"
     ]
    },
    {
     "name": "stdout",
     "output_type": "stream",
     "text": [
      "1875/1875 [==============================] - 27s 14ms/step - loss: 209499.0000 - root_mean_squared_error: 457.7106 - val_loss: 208008.7344 - val_root_mean_squared_error: 456.0797\n",
      "Epoch 63/100\n",
      "1875/1875 [==============================] - ETA: 0s - loss: 206787.9531 - root_mean_squared_error: 454.7394"
     ]
    },
    {
     "name": "stderr",
     "output_type": "stream",
     "text": [
      "WARNING:absl:Found untraced functions such as _update_step_xla, lstm_cell_3_layer_call_fn, lstm_cell_3_layer_call_and_return_conditional_losses while saving (showing 3 of 3). These functions will not be directly callable after loading.\n"
     ]
    },
    {
     "name": "stdout",
     "output_type": "stream",
     "text": [
      "INFO:tensorflow:Assets written to: model5\\assets\n"
     ]
    },
    {
     "name": "stderr",
     "output_type": "stream",
     "text": [
      "INFO:tensorflow:Assets written to: model5\\assets\n"
     ]
    },
    {
     "name": "stdout",
     "output_type": "stream",
     "text": [
      "1875/1875 [==============================] - 26s 14ms/step - loss: 206787.9531 - root_mean_squared_error: 454.7394 - val_loss: 205288.1250 - val_root_mean_squared_error: 453.0873\n",
      "Epoch 64/100\n",
      "1864/1875 [============================>.] - ETA: 0s - loss: 204067.4219 - root_mean_squared_error: 451.7382"
     ]
    },
    {
     "name": "stderr",
     "output_type": "stream",
     "text": [
      "WARNING:absl:Found untraced functions such as _update_step_xla, lstm_cell_3_layer_call_fn, lstm_cell_3_layer_call_and_return_conditional_losses while saving (showing 3 of 3). These functions will not be directly callable after loading.\n"
     ]
    },
    {
     "name": "stdout",
     "output_type": "stream",
     "text": [
      "INFO:tensorflow:Assets written to: model5\\assets\n"
     ]
    },
    {
     "name": "stderr",
     "output_type": "stream",
     "text": [
      "INFO:tensorflow:Assets written to: model5\\assets\n"
     ]
    },
    {
     "name": "stdout",
     "output_type": "stream",
     "text": [
      "1875/1875 [==============================] - 25s 13ms/step - loss: 204056.6250 - root_mean_squared_error: 451.7263 - val_loss: 202547.3125 - val_root_mean_squared_error: 450.0526\n",
      "Epoch 65/100\n",
      "1869/1875 [============================>.] - ETA: 0s - loss: 201309.6094 - root_mean_squared_error: 448.6754"
     ]
    },
    {
     "name": "stderr",
     "output_type": "stream",
     "text": [
      "WARNING:absl:Found untraced functions such as _update_step_xla, lstm_cell_3_layer_call_fn, lstm_cell_3_layer_call_and_return_conditional_losses while saving (showing 3 of 3). These functions will not be directly callable after loading.\n"
     ]
    },
    {
     "name": "stdout",
     "output_type": "stream",
     "text": [
      "INFO:tensorflow:Assets written to: model5\\assets\n"
     ]
    },
    {
     "name": "stderr",
     "output_type": "stream",
     "text": [
      "INFO:tensorflow:Assets written to: model5\\assets\n"
     ]
    },
    {
     "name": "stdout",
     "output_type": "stream",
     "text": [
      "1875/1875 [==============================] - 25s 13ms/step - loss: 201304.9219 - root_mean_squared_error: 448.6702 - val_loss: 199787.1094 - val_root_mean_squared_error: 446.9755\n",
      "Epoch 66/100\n",
      "1866/1875 [============================>.] - ETA: 0s - loss: 198542.0781 - root_mean_squared_error: 445.5806"
     ]
    },
    {
     "name": "stderr",
     "output_type": "stream",
     "text": [
      "WARNING:absl:Found untraced functions such as _update_step_xla, lstm_cell_3_layer_call_fn, lstm_cell_3_layer_call_and_return_conditional_losses while saving (showing 3 of 3). These functions will not be directly callable after loading.\n"
     ]
    },
    {
     "name": "stdout",
     "output_type": "stream",
     "text": [
      "INFO:tensorflow:Assets written to: model5\\assets\n"
     ]
    },
    {
     "name": "stderr",
     "output_type": "stream",
     "text": [
      "INFO:tensorflow:Assets written to: model5\\assets\n"
     ]
    },
    {
     "name": "stdout",
     "output_type": "stream",
     "text": [
      "1875/1875 [==============================] - 25s 13ms/step - loss: 198534.4844 - root_mean_squared_error: 445.5721 - val_loss: 197008.0156 - val_root_mean_squared_error: 443.8558\n",
      "Epoch 67/100\n",
      "1868/1875 [============================>.] - ETA: 0s - loss: 195750.5156 - root_mean_squared_error: 442.4370"
     ]
    },
    {
     "name": "stderr",
     "output_type": "stream",
     "text": [
      "WARNING:absl:Found untraced functions such as _update_step_xla, lstm_cell_3_layer_call_fn, lstm_cell_3_layer_call_and_return_conditional_losses while saving (showing 3 of 3). These functions will not be directly callable after loading.\n"
     ]
    },
    {
     "name": "stdout",
     "output_type": "stream",
     "text": [
      "INFO:tensorflow:Assets written to: model5\\assets\n"
     ]
    },
    {
     "name": "stderr",
     "output_type": "stream",
     "text": [
      "INFO:tensorflow:Assets written to: model5\\assets\n"
     ]
    },
    {
     "name": "stdout",
     "output_type": "stream",
     "text": [
      "1875/1875 [==============================] - 26s 14ms/step - loss: 195745.1562 - root_mean_squared_error: 442.4309 - val_loss: 194210.9531 - val_root_mean_squared_error: 440.6937\n",
      "Epoch 68/100\n",
      "1870/1875 [============================>.] - ETA: 0s - loss: 192941.1406 - root_mean_squared_error: 439.2506"
     ]
    },
    {
     "name": "stderr",
     "output_type": "stream",
     "text": [
      "WARNING:absl:Found untraced functions such as _update_step_xla, lstm_cell_3_layer_call_fn, lstm_cell_3_layer_call_and_return_conditional_losses while saving (showing 3 of 3). These functions will not be directly callable after loading.\n"
     ]
    },
    {
     "name": "stdout",
     "output_type": "stream",
     "text": [
      "INFO:tensorflow:Assets written to: model5\\assets\n"
     ]
    },
    {
     "name": "stderr",
     "output_type": "stream",
     "text": [
      "INFO:tensorflow:Assets written to: model5\\assets\n"
     ]
    },
    {
     "name": "stdout",
     "output_type": "stream",
     "text": [
      "1875/1875 [==============================] - 15s 8ms/step - loss: 192938.7031 - root_mean_squared_error: 439.2478 - val_loss: 191396.6875 - val_root_mean_squared_error: 437.4891\n",
      "Epoch 69/100\n",
      "1862/1875 [============================>.] - ETA: 0s - loss: 190124.5469 - root_mean_squared_error: 436.0327"
     ]
    },
    {
     "name": "stderr",
     "output_type": "stream",
     "text": [
      "WARNING:absl:Found untraced functions such as _update_step_xla, lstm_cell_3_layer_call_fn, lstm_cell_3_layer_call_and_return_conditional_losses while saving (showing 3 of 3). These functions will not be directly callable after loading.\n"
     ]
    },
    {
     "name": "stdout",
     "output_type": "stream",
     "text": [
      "INFO:tensorflow:Assets written to: model5\\assets\n"
     ]
    },
    {
     "name": "stderr",
     "output_type": "stream",
     "text": [
      "INFO:tensorflow:Assets written to: model5\\assets\n"
     ]
    },
    {
     "name": "stdout",
     "output_type": "stream",
     "text": [
      "1875/1875 [==============================] - 20s 11ms/step - loss: 190115.2500 - root_mean_squared_error: 436.0221 - val_loss: 188565.9844 - val_root_mean_squared_error: 434.2419\n",
      "Epoch 70/100\n",
      "1862/1875 [============================>.] - ETA: 0s - loss: 187282.6875 - root_mean_squared_error: 432.7617"
     ]
    },
    {
     "name": "stderr",
     "output_type": "stream",
     "text": [
      "WARNING:absl:Found untraced functions such as _update_step_xla, lstm_cell_3_layer_call_fn, lstm_cell_3_layer_call_and_return_conditional_losses while saving (showing 3 of 3). These functions will not be directly callable after loading.\n"
     ]
    },
    {
     "name": "stdout",
     "output_type": "stream",
     "text": [
      "INFO:tensorflow:Assets written to: model5\\assets\n"
     ]
    },
    {
     "name": "stderr",
     "output_type": "stream",
     "text": [
      "INFO:tensorflow:Assets written to: model5\\assets\n"
     ]
    },
    {
     "name": "stdout",
     "output_type": "stream",
     "text": [
      "1875/1875 [==============================] - 25s 13ms/step - loss: 187275.8438 - root_mean_squared_error: 432.7538 - val_loss: 185719.8438 - val_root_mean_squared_error: 430.9523\n",
      "Epoch 71/100\n",
      "1870/1875 [============================>.] - ETA: 0s - loss: 184424.6250 - root_mean_squared_error: 429.4469"
     ]
    },
    {
     "name": "stderr",
     "output_type": "stream",
     "text": [
      "WARNING:absl:Found untraced functions such as _update_step_xla, lstm_cell_3_layer_call_fn, lstm_cell_3_layer_call_and_return_conditional_losses while saving (showing 3 of 3). These functions will not be directly callable after loading.\n"
     ]
    },
    {
     "name": "stdout",
     "output_type": "stream",
     "text": [
      "INFO:tensorflow:Assets written to: model5\\assets\n"
     ]
    },
    {
     "name": "stderr",
     "output_type": "stream",
     "text": [
      "INFO:tensorflow:Assets written to: model5\\assets\n"
     ]
    },
    {
     "name": "stdout",
     "output_type": "stream",
     "text": [
      "1875/1875 [==============================] - 25s 13ms/step - loss: 184421.1094 - root_mean_squared_error: 429.4428 - val_loss: 182858.9688 - val_root_mean_squared_error: 427.6201\n",
      "Epoch 72/100\n",
      "1871/1875 [============================>.] - ETA: 0s - loss: 181554.6094 - root_mean_squared_error: 426.0923"
     ]
    },
    {
     "name": "stderr",
     "output_type": "stream",
     "text": [
      "WARNING:absl:Found untraced functions such as _update_step_xla, lstm_cell_3_layer_call_fn, lstm_cell_3_layer_call_and_return_conditional_losses while saving (showing 3 of 3). These functions will not be directly callable after loading.\n"
     ]
    },
    {
     "name": "stdout",
     "output_type": "stream",
     "text": [
      "INFO:tensorflow:Assets written to: model5\\assets\n"
     ]
    },
    {
     "name": "stderr",
     "output_type": "stream",
     "text": [
      "INFO:tensorflow:Assets written to: model5\\assets\n"
     ]
    },
    {
     "name": "stdout",
     "output_type": "stream",
     "text": [
      "1875/1875 [==============================] - 24s 13ms/step - loss: 181552.0625 - root_mean_squared_error: 426.0893 - val_loss: 179984.1719 - val_root_mean_squared_error: 424.2454\n",
      "Epoch 73/100\n",
      "1873/1875 [============================>.] - ETA: 0s - loss: 178670.1875 - root_mean_squared_error: 422.6939"
     ]
    },
    {
     "name": "stderr",
     "output_type": "stream",
     "text": [
      "WARNING:absl:Found untraced functions such as _update_step_xla, lstm_cell_3_layer_call_fn, lstm_cell_3_layer_call_and_return_conditional_losses while saving (showing 3 of 3). These functions will not be directly callable after loading.\n"
     ]
    },
    {
     "name": "stdout",
     "output_type": "stream",
     "text": [
      "INFO:tensorflow:Assets written to: model5\\assets\n"
     ]
    },
    {
     "name": "stderr",
     "output_type": "stream",
     "text": [
      "INFO:tensorflow:Assets written to: model5\\assets\n"
     ]
    },
    {
     "name": "stdout",
     "output_type": "stream",
     "text": [
      "1875/1875 [==============================] - 25s 13ms/step - loss: 178669.7656 - root_mean_squared_error: 422.6934 - val_loss: 177096.3125 - val_root_mean_squared_error: 420.8281\n",
      "Epoch 74/100\n",
      "1868/1875 [============================>.] - ETA: 0s - loss: 175781.1250 - root_mean_squared_error: 419.2626"
     ]
    },
    {
     "name": "stderr",
     "output_type": "stream",
     "text": [
      "WARNING:absl:Found untraced functions such as _update_step_xla, lstm_cell_3_layer_call_fn, lstm_cell_3_layer_call_and_return_conditional_losses while saving (showing 3 of 3). These functions will not be directly callable after loading.\n"
     ]
    },
    {
     "name": "stdout",
     "output_type": "stream",
     "text": [
      "INFO:tensorflow:Assets written to: model5\\assets\n"
     ]
    },
    {
     "name": "stderr",
     "output_type": "stream",
     "text": [
      "INFO:tensorflow:Assets written to: model5\\assets\n"
     ]
    },
    {
     "name": "stdout",
     "output_type": "stream",
     "text": [
      "1875/1875 [==============================] - 26s 14ms/step - loss: 175774.8906 - root_mean_squared_error: 419.2552 - val_loss: 174196.5312 - val_root_mean_squared_error: 417.3686\n",
      "Epoch 75/100\n",
      "1864/1875 [============================>.] - ETA: 0s - loss: 172875.8125 - root_mean_squared_error: 415.7834"
     ]
    },
    {
     "name": "stderr",
     "output_type": "stream",
     "text": [
      "WARNING:absl:Found untraced functions such as _update_step_xla, lstm_cell_3_layer_call_fn, lstm_cell_3_layer_call_and_return_conditional_losses while saving (showing 3 of 3). These functions will not be directly callable after loading.\n"
     ]
    },
    {
     "name": "stdout",
     "output_type": "stream",
     "text": [
      "INFO:tensorflow:Assets written to: model5\\assets\n"
     ]
    },
    {
     "name": "stderr",
     "output_type": "stream",
     "text": [
      "INFO:tensorflow:Assets written to: model5\\assets\n"
     ]
    },
    {
     "name": "stdout",
     "output_type": "stream",
     "text": [
      "1875/1875 [==============================] - 21s 11ms/step - loss: 172868.0781 - root_mean_squared_error: 415.7741 - val_loss: 171285.2500 - val_root_mean_squared_error: 413.8662\n",
      "Epoch 76/100\n",
      "1864/1875 [============================>.] - ETA: 0s - loss: 169961.3906 - root_mean_squared_error: 412.2638"
     ]
    },
    {
     "name": "stderr",
     "output_type": "stream",
     "text": [
      "WARNING:absl:Found untraced functions such as _update_step_xla, lstm_cell_3_layer_call_fn, lstm_cell_3_layer_call_and_return_conditional_losses while saving (showing 3 of 3). These functions will not be directly callable after loading.\n"
     ]
    },
    {
     "name": "stdout",
     "output_type": "stream",
     "text": [
      "INFO:tensorflow:Assets written to: model5\\assets\n"
     ]
    },
    {
     "name": "stderr",
     "output_type": "stream",
     "text": [
      "INFO:tensorflow:Assets written to: model5\\assets\n"
     ]
    },
    {
     "name": "stdout",
     "output_type": "stream",
     "text": [
      "1875/1875 [==============================] - 13s 7ms/step - loss: 169950.7188 - root_mean_squared_error: 412.2508 - val_loss: 168363.8281 - val_root_mean_squared_error: 410.3216\n",
      "Epoch 77/100\n",
      "1861/1875 [============================>.] - ETA: 0s - loss: 167036.5000 - root_mean_squared_error: 408.7010"
     ]
    },
    {
     "name": "stderr",
     "output_type": "stream",
     "text": [
      "WARNING:absl:Found untraced functions such as _update_step_xla, lstm_cell_3_layer_call_fn, lstm_cell_3_layer_call_and_return_conditional_losses while saving (showing 3 of 3). These functions will not be directly callable after loading.\n"
     ]
    },
    {
     "name": "stdout",
     "output_type": "stream",
     "text": [
      "INFO:tensorflow:Assets written to: model5\\assets\n"
     ]
    },
    {
     "name": "stderr",
     "output_type": "stream",
     "text": [
      "INFO:tensorflow:Assets written to: model5\\assets\n"
     ]
    },
    {
     "name": "stdout",
     "output_type": "stream",
     "text": [
      "1875/1875 [==============================] - 15s 8ms/step - loss: 167023.2188 - root_mean_squared_error: 408.6848 - val_loss: 165432.8281 - val_root_mean_squared_error: 406.7343\n",
      "Epoch 78/100\n",
      "1870/1875 [============================>.] - ETA: 0s - loss: 164091.4688 - root_mean_squared_error: 405.0820"
     ]
    },
    {
     "name": "stderr",
     "output_type": "stream",
     "text": [
      "WARNING:absl:Found untraced functions such as _update_step_xla, lstm_cell_3_layer_call_fn, lstm_cell_3_layer_call_and_return_conditional_losses while saving (showing 3 of 3). These functions will not be directly callable after loading.\n"
     ]
    },
    {
     "name": "stdout",
     "output_type": "stream",
     "text": [
      "INFO:tensorflow:Assets written to: model5\\assets\n"
     ]
    },
    {
     "name": "stderr",
     "output_type": "stream",
     "text": [
      "INFO:tensorflow:Assets written to: model5\\assets\n"
     ]
    },
    {
     "name": "stdout",
     "output_type": "stream",
     "text": [
      "1875/1875 [==============================] - 13s 7ms/step - loss: 164086.8750 - root_mean_squared_error: 405.0764 - val_loss: 162493.2812 - val_root_mean_squared_error: 403.1046\n",
      "Epoch 79/100\n",
      "1860/1875 [============================>.] - ETA: 0s - loss: 161155.7031 - root_mean_squared_error: 401.4420"
     ]
    },
    {
     "name": "stderr",
     "output_type": "stream",
     "text": [
      "WARNING:absl:Found untraced functions such as _update_step_xla, lstm_cell_3_layer_call_fn, lstm_cell_3_layer_call_and_return_conditional_losses while saving (showing 3 of 3). These functions will not be directly callable after loading.\n"
     ]
    },
    {
     "name": "stdout",
     "output_type": "stream",
     "text": [
      "INFO:tensorflow:Assets written to: model5\\assets\n"
     ]
    },
    {
     "name": "stderr",
     "output_type": "stream",
     "text": [
      "INFO:tensorflow:Assets written to: model5\\assets\n"
     ]
    },
    {
     "name": "stdout",
     "output_type": "stream",
     "text": [
      "1875/1875 [==============================] - 14s 7ms/step - loss: 161142.6094 - root_mean_squared_error: 401.4257 - val_loss: 159546.1094 - val_root_mean_squared_error: 399.4322\n",
      "Epoch 80/100\n",
      "1865/1875 [============================>.] - ETA: 0s - loss: 158200.0938 - root_mean_squared_error: 397.7437"
     ]
    },
    {
     "name": "stderr",
     "output_type": "stream",
     "text": [
      "WARNING:absl:Found untraced functions such as _update_step_xla, lstm_cell_3_layer_call_fn, lstm_cell_3_layer_call_and_return_conditional_losses while saving (showing 3 of 3). These functions will not be directly callable after loading.\n"
     ]
    },
    {
     "name": "stdout",
     "output_type": "stream",
     "text": [
      "INFO:tensorflow:Assets written to: model5\\assets\n"
     ]
    },
    {
     "name": "stderr",
     "output_type": "stream",
     "text": [
      "INFO:tensorflow:Assets written to: model5\\assets\n"
     ]
    },
    {
     "name": "stdout",
     "output_type": "stream",
     "text": [
      "1875/1875 [==============================] - 13s 7ms/step - loss: 158190.9062 - root_mean_squared_error: 397.7322 - val_loss: 156592.3594 - val_root_mean_squared_error: 395.7175\n",
      "Epoch 81/100\n",
      "1863/1875 [============================>.] - ETA: 0s - loss: 155244.1250 - root_mean_squared_error: 394.0103"
     ]
    },
    {
     "name": "stderr",
     "output_type": "stream",
     "text": [
      "WARNING:absl:Found untraced functions such as _update_step_xla, lstm_cell_3_layer_call_fn, lstm_cell_3_layer_call_and_return_conditional_losses while saving (showing 3 of 3). These functions will not be directly callable after loading.\n"
     ]
    },
    {
     "name": "stdout",
     "output_type": "stream",
     "text": [
      "INFO:tensorflow:Assets written to: model5\\assets\n"
     ]
    },
    {
     "name": "stderr",
     "output_type": "stream",
     "text": [
      "INFO:tensorflow:Assets written to: model5\\assets\n"
     ]
    },
    {
     "name": "stdout",
     "output_type": "stream",
     "text": [
      "1875/1875 [==============================] - 17s 9ms/step - loss: 155232.9375 - root_mean_squared_error: 393.9961 - val_loss: 153632.8594 - val_root_mean_squared_error: 391.9603\n",
      "Epoch 82/100\n",
      "1873/1875 [============================>.] - ETA: 0s - loss: 152271.9688 - root_mean_squared_error: 390.2204"
     ]
    },
    {
     "name": "stderr",
     "output_type": "stream",
     "text": [
      "WARNING:absl:Found untraced functions such as _update_step_xla, lstm_cell_3_layer_call_fn, lstm_cell_3_layer_call_and_return_conditional_losses while saving (showing 3 of 3). These functions will not be directly callable after loading.\n"
     ]
    },
    {
     "name": "stdout",
     "output_type": "stream",
     "text": [
      "INFO:tensorflow:Assets written to: model5\\assets\n"
     ]
    },
    {
     "name": "stderr",
     "output_type": "stream",
     "text": [
      "INFO:tensorflow:Assets written to: model5\\assets\n"
     ]
    },
    {
     "name": "stdout",
     "output_type": "stream",
     "text": [
      "1875/1875 [==============================] - 14s 7ms/step - loss: 152270.0000 - root_mean_squared_error: 390.2179 - val_loss: 150668.5938 - val_root_mean_squared_error: 388.1606\n",
      "Epoch 83/100\n",
      "1868/1875 [============================>.] - ETA: 0s - loss: 149308.0781 - root_mean_squared_error: 386.4040"
     ]
    },
    {
     "name": "stderr",
     "output_type": "stream",
     "text": [
      "WARNING:absl:Found untraced functions such as _update_step_xla, lstm_cell_3_layer_call_fn, lstm_cell_3_layer_call_and_return_conditional_losses while saving (showing 3 of 3). These functions will not be directly callable after loading.\n"
     ]
    },
    {
     "name": "stdout",
     "output_type": "stream",
     "text": [
      "INFO:tensorflow:Assets written to: model5\\assets\n"
     ]
    },
    {
     "name": "stderr",
     "output_type": "stream",
     "text": [
      "INFO:tensorflow:Assets written to: model5\\assets\n"
     ]
    },
    {
     "name": "stdout",
     "output_type": "stream",
     "text": [
      "1875/1875 [==============================] - 13s 7ms/step - loss: 149302.4375 - root_mean_squared_error: 386.3967 - val_loss: 147700.5469 - val_root_mean_squared_error: 384.3183\n",
      "Epoch 84/100\n",
      "1871/1875 [============================>.] - ETA: 0s - loss: 146333.6406 - root_mean_squared_error: 382.5358"
     ]
    },
    {
     "name": "stderr",
     "output_type": "stream",
     "text": [
      "WARNING:absl:Found untraced functions such as _update_step_xla, lstm_cell_3_layer_call_fn, lstm_cell_3_layer_call_and_return_conditional_losses while saving (showing 3 of 3). These functions will not be directly callable after loading.\n"
     ]
    },
    {
     "name": "stdout",
     "output_type": "stream",
     "text": [
      "INFO:tensorflow:Assets written to: model5\\assets\n"
     ]
    },
    {
     "name": "stderr",
     "output_type": "stream",
     "text": [
      "INFO:tensorflow:Assets written to: model5\\assets\n"
     ]
    },
    {
     "name": "stdout",
     "output_type": "stream",
     "text": [
      "1875/1875 [==============================] - 13s 7ms/step - loss: 146331.8750 - root_mean_squared_error: 382.5335 - val_loss: 144729.6406 - val_root_mean_squared_error: 380.4335\n",
      "Epoch 85/100\n",
      "1873/1875 [============================>.] - ETA: 0s - loss: 143359.7500 - root_mean_squared_error: 378.6288"
     ]
    },
    {
     "name": "stderr",
     "output_type": "stream",
     "text": [
      "WARNING:absl:Found untraced functions such as _update_step_xla, lstm_cell_3_layer_call_fn, lstm_cell_3_layer_call_and_return_conditional_losses while saving (showing 3 of 3). These functions will not be directly callable after loading.\n"
     ]
    },
    {
     "name": "stdout",
     "output_type": "stream",
     "text": [
      "INFO:tensorflow:Assets written to: model5\\assets\n"
     ]
    },
    {
     "name": "stderr",
     "output_type": "stream",
     "text": [
      "INFO:tensorflow:Assets written to: model5\\assets\n"
     ]
    },
    {
     "name": "stdout",
     "output_type": "stream",
     "text": [
      "1875/1875 [==============================] - 13s 7ms/step - loss: 143358.7812 - root_mean_squared_error: 378.6275 - val_loss: 141756.9688 - val_root_mean_squared_error: 376.5063\n",
      "Epoch 86/100\n",
      "1873/1875 [============================>.] - ETA: 0s - loss: 140386.4375 - root_mean_squared_error: 374.6818"
     ]
    },
    {
     "name": "stderr",
     "output_type": "stream",
     "text": [
      "WARNING:absl:Found untraced functions such as _update_step_xla, lstm_cell_3_layer_call_fn, lstm_cell_3_layer_call_and_return_conditional_losses while saving (showing 3 of 3). These functions will not be directly callable after loading.\n"
     ]
    },
    {
     "name": "stdout",
     "output_type": "stream",
     "text": [
      "INFO:tensorflow:Assets written to: model5\\assets\n"
     ]
    },
    {
     "name": "stderr",
     "output_type": "stream",
     "text": [
      "INFO:tensorflow:Assets written to: model5\\assets\n"
     ]
    },
    {
     "name": "stdout",
     "output_type": "stream",
     "text": [
      "1875/1875 [==============================] - 14s 8ms/step - loss: 140384.4531 - root_mean_squared_error: 374.6791 - val_loss: 138783.3906 - val_root_mean_squared_error: 372.5364\n",
      "Epoch 87/100\n",
      "1875/1875 [==============================] - ETA: 0s - loss: 137409.7969 - root_mean_squared_error: 370.6883"
     ]
    },
    {
     "name": "stderr",
     "output_type": "stream",
     "text": [
      "WARNING:absl:Found untraced functions such as _update_step_xla, lstm_cell_3_layer_call_fn, lstm_cell_3_layer_call_and_return_conditional_losses while saving (showing 3 of 3). These functions will not be directly callable after loading.\n"
     ]
    },
    {
     "name": "stdout",
     "output_type": "stream",
     "text": [
      "INFO:tensorflow:Assets written to: model5\\assets\n"
     ]
    },
    {
     "name": "stderr",
     "output_type": "stream",
     "text": [
      "INFO:tensorflow:Assets written to: model5\\assets\n"
     ]
    },
    {
     "name": "stdout",
     "output_type": "stream",
     "text": [
      "1875/1875 [==============================] - 13s 7ms/step - loss: 137409.7969 - root_mean_squared_error: 370.6883 - val_loss: 135810.0156 - val_root_mean_squared_error: 368.5241\n",
      "Epoch 88/100\n",
      "1875/1875 [==============================] - ETA: 0s - loss: 134435.6562 - root_mean_squared_error: 366.6547"
     ]
    },
    {
     "name": "stderr",
     "output_type": "stream",
     "text": [
      "WARNING:absl:Found untraced functions such as _update_step_xla, lstm_cell_3_layer_call_fn, lstm_cell_3_layer_call_and_return_conditional_losses while saving (showing 3 of 3). These functions will not be directly callable after loading.\n"
     ]
    },
    {
     "name": "stdout",
     "output_type": "stream",
     "text": [
      "INFO:tensorflow:Assets written to: model5\\assets\n"
     ]
    },
    {
     "name": "stderr",
     "output_type": "stream",
     "text": [
      "INFO:tensorflow:Assets written to: model5\\assets\n"
     ]
    },
    {
     "name": "stdout",
     "output_type": "stream",
     "text": [
      "1875/1875 [==============================] - 13s 7ms/step - loss: 134435.6562 - root_mean_squared_error: 366.6547 - val_loss: 132837.9844 - val_root_mean_squared_error: 364.4694\n",
      "Epoch 89/100\n",
      "1866/1875 [============================>.] - ETA: 0s - loss: 131471.0625 - root_mean_squared_error: 362.5894"
     ]
    },
    {
     "name": "stderr",
     "output_type": "stream",
     "text": [
      "WARNING:absl:Found untraced functions such as _update_step_xla, lstm_cell_3_layer_call_fn, lstm_cell_3_layer_call_and_return_conditional_losses while saving (showing 3 of 3). These functions will not be directly callable after loading.\n"
     ]
    },
    {
     "name": "stdout",
     "output_type": "stream",
     "text": [
      "INFO:tensorflow:Assets written to: model5\\assets\n"
     ]
    },
    {
     "name": "stderr",
     "output_type": "stream",
     "text": [
      "INFO:tensorflow:Assets written to: model5\\assets\n"
     ]
    },
    {
     "name": "stdout",
     "output_type": "stream",
     "text": [
      "1875/1875 [==============================] - 13s 7ms/step - loss: 131463.3906 - root_mean_squared_error: 362.5788 - val_loss: 129868.0859 - val_root_mean_squared_error: 360.3721\n",
      "Epoch 90/100\n",
      "1865/1875 [============================>.] - ETA: 0s - loss: 128502.4062 - root_mean_squared_error: 358.4723"
     ]
    },
    {
     "name": "stderr",
     "output_type": "stream",
     "text": [
      "WARNING:absl:Found untraced functions such as _update_step_xla, lstm_cell_3_layer_call_fn, lstm_cell_3_layer_call_and_return_conditional_losses while saving (showing 3 of 3). These functions will not be directly callable after loading.\n"
     ]
    },
    {
     "name": "stdout",
     "output_type": "stream",
     "text": [
      "INFO:tensorflow:Assets written to: model5\\assets\n"
     ]
    },
    {
     "name": "stderr",
     "output_type": "stream",
     "text": [
      "INFO:tensorflow:Assets written to: model5\\assets\n"
     ]
    },
    {
     "name": "stdout",
     "output_type": "stream",
     "text": [
      "1875/1875 [==============================] - 13s 7ms/step - loss: 128493.9844 - root_mean_squared_error: 358.4606 - val_loss: 126901.5703 - val_root_mean_squared_error: 356.2325\n",
      "Epoch 91/100\n",
      "1875/1875 [==============================] - ETA: 0s - loss: 125528.1719 - root_mean_squared_error: 354.2996"
     ]
    },
    {
     "name": "stderr",
     "output_type": "stream",
     "text": [
      "WARNING:absl:Found untraced functions such as _update_step_xla, lstm_cell_3_layer_call_fn, lstm_cell_3_layer_call_and_return_conditional_losses while saving (showing 3 of 3). These functions will not be directly callable after loading.\n"
     ]
    },
    {
     "name": "stdout",
     "output_type": "stream",
     "text": [
      "INFO:tensorflow:Assets written to: model5\\assets\n"
     ]
    },
    {
     "name": "stderr",
     "output_type": "stream",
     "text": [
      "INFO:tensorflow:Assets written to: model5\\assets\n"
     ]
    },
    {
     "name": "stdout",
     "output_type": "stream",
     "text": [
      "1875/1875 [==============================] - 13s 7ms/step - loss: 125528.1719 - root_mean_squared_error: 354.2996 - val_loss: 123939.3828 - val_root_mean_squared_error: 352.0503\n",
      "Epoch 92/100\n",
      "1868/1875 [============================>.] - ETA: 0s - loss: 122574.4141 - root_mean_squared_error: 350.1063"
     ]
    },
    {
     "name": "stderr",
     "output_type": "stream",
     "text": [
      "WARNING:absl:Found untraced functions such as _update_step_xla, lstm_cell_3_layer_call_fn, lstm_cell_3_layer_call_and_return_conditional_losses while saving (showing 3 of 3). These functions will not be directly callable after loading.\n"
     ]
    },
    {
     "name": "stdout",
     "output_type": "stream",
     "text": [
      "INFO:tensorflow:Assets written to: model5\\assets\n"
     ]
    },
    {
     "name": "stderr",
     "output_type": "stream",
     "text": [
      "INFO:tensorflow:Assets written to: model5\\assets\n"
     ]
    },
    {
     "name": "stdout",
     "output_type": "stream",
     "text": [
      "1875/1875 [==============================] - 13s 7ms/step - loss: 122567.3438 - root_mean_squared_error: 350.0962 - val_loss: 120982.4922 - val_root_mean_squared_error: 347.8254\n",
      "Epoch 93/100\n",
      "1867/1875 [============================>.] - ETA: 0s - loss: 119619.8984 - root_mean_squared_error: 345.8611"
     ]
    },
    {
     "name": "stderr",
     "output_type": "stream",
     "text": [
      "WARNING:absl:Found untraced functions such as _update_step_xla, lstm_cell_3_layer_call_fn, lstm_cell_3_layer_call_and_return_conditional_losses while saving (showing 3 of 3). These functions will not be directly callable after loading.\n"
     ]
    },
    {
     "name": "stdout",
     "output_type": "stream",
     "text": [
      "INFO:tensorflow:Assets written to: model5\\assets\n"
     ]
    },
    {
     "name": "stderr",
     "output_type": "stream",
     "text": [
      "INFO:tensorflow:Assets written to: model5\\assets\n"
     ]
    },
    {
     "name": "stdout",
     "output_type": "stream",
     "text": [
      "1875/1875 [==============================] - 13s 7ms/step - loss: 119612.3984 - root_mean_squared_error: 345.8503 - val_loss: 118032.1953 - val_root_mean_squared_error: 343.5581\n",
      "Epoch 94/100\n",
      "1858/1875 [============================>.] - ETA: 0s - loss: 116675.1641 - root_mean_squared_error: 341.5775"
     ]
    },
    {
     "name": "stderr",
     "output_type": "stream",
     "text": [
      "WARNING:absl:Found untraced functions such as _update_step_xla, lstm_cell_3_layer_call_fn, lstm_cell_3_layer_call_and_return_conditional_losses while saving (showing 3 of 3). These functions will not be directly callable after loading.\n"
     ]
    },
    {
     "name": "stdout",
     "output_type": "stream",
     "text": [
      "INFO:tensorflow:Assets written to: model5\\assets\n"
     ]
    },
    {
     "name": "stderr",
     "output_type": "stream",
     "text": [
      "INFO:tensorflow:Assets written to: model5\\assets\n"
     ]
    },
    {
     "name": "stdout",
     "output_type": "stream",
     "text": [
      "1875/1875 [==============================] - 13s 7ms/step - loss: 116664.4766 - root_mean_squared_error: 341.5618 - val_loss: 115089.4844 - val_root_mean_squared_error: 339.2484\n",
      "Epoch 95/100\n",
      "1870/1875 [============================>.] - ETA: 0s - loss: 113727.4609 - root_mean_squared_error: 337.2350"
     ]
    },
    {
     "name": "stderr",
     "output_type": "stream",
     "text": [
      "WARNING:absl:Found untraced functions such as _update_step_xla, lstm_cell_3_layer_call_fn, lstm_cell_3_layer_call_and_return_conditional_losses while saving (showing 3 of 3). These functions will not be directly callable after loading.\n"
     ]
    },
    {
     "name": "stdout",
     "output_type": "stream",
     "text": [
      "INFO:tensorflow:Assets written to: model5\\assets\n"
     ]
    },
    {
     "name": "stderr",
     "output_type": "stream",
     "text": [
      "INFO:tensorflow:Assets written to: model5\\assets\n"
     ]
    },
    {
     "name": "stdout",
     "output_type": "stream",
     "text": [
      "1875/1875 [==============================] - 13s 7ms/step - loss: 113724.7344 - root_mean_squared_error: 337.2310 - val_loss: 112155.5547 - val_root_mean_squared_error: 334.8963\n",
      "Epoch 96/100\n",
      "1862/1875 [============================>.] - ETA: 0s - loss: 110802.7344 - root_mean_squared_error: 332.8705"
     ]
    },
    {
     "name": "stderr",
     "output_type": "stream",
     "text": [
      "WARNING:absl:Found untraced functions such as _update_step_xla, lstm_cell_3_layer_call_fn, lstm_cell_3_layer_call_and_return_conditional_losses while saving (showing 3 of 3). These functions will not be directly callable after loading.\n"
     ]
    },
    {
     "name": "stdout",
     "output_type": "stream",
     "text": [
      "INFO:tensorflow:Assets written to: model5\\assets\n"
     ]
    },
    {
     "name": "stderr",
     "output_type": "stream",
     "text": [
      "INFO:tensorflow:Assets written to: model5\\assets\n"
     ]
    },
    {
     "name": "stdout",
     "output_type": "stream",
     "text": [
      "1875/1875 [==============================] - 13s 7ms/step - loss: 110794.1328 - root_mean_squared_error: 332.8575 - val_loss: 109231.2734 - val_root_mean_squared_error: 330.5016\n",
      "Epoch 97/100\n",
      "1875/1875 [==============================] - ETA: 0s - loss: 107873.7578 - root_mean_squared_error: 328.4414"
     ]
    },
    {
     "name": "stderr",
     "output_type": "stream",
     "text": [
      "WARNING:absl:Found untraced functions such as _update_step_xla, lstm_cell_3_layer_call_fn, lstm_cell_3_layer_call_and_return_conditional_losses while saving (showing 3 of 3). These functions will not be directly callable after loading.\n"
     ]
    },
    {
     "name": "stdout",
     "output_type": "stream",
     "text": [
      "INFO:tensorflow:Assets written to: model5\\assets\n"
     ]
    },
    {
     "name": "stderr",
     "output_type": "stream",
     "text": [
      "INFO:tensorflow:Assets written to: model5\\assets\n"
     ]
    },
    {
     "name": "stdout",
     "output_type": "stream",
     "text": [
      "1875/1875 [==============================] - 13s 7ms/step - loss: 107873.7578 - root_mean_squared_error: 328.4414 - val_loss: 106317.9609 - val_root_mean_squared_error: 326.0644\n",
      "Epoch 98/100\n",
      "1865/1875 [============================>.] - ETA: 0s - loss: 104972.0547 - root_mean_squared_error: 323.9939"
     ]
    },
    {
     "name": "stderr",
     "output_type": "stream",
     "text": [
      "WARNING:absl:Found untraced functions such as _update_step_xla, lstm_cell_3_layer_call_fn, lstm_cell_3_layer_call_and_return_conditional_losses while saving (showing 3 of 3). These functions will not be directly callable after loading.\n"
     ]
    },
    {
     "name": "stdout",
     "output_type": "stream",
     "text": [
      "INFO:tensorflow:Assets written to: model5\\assets\n"
     ]
    },
    {
     "name": "stderr",
     "output_type": "stream",
     "text": [
      "INFO:tensorflow:Assets written to: model5\\assets\n"
     ]
    },
    {
     "name": "stdout",
     "output_type": "stream",
     "text": [
      "1875/1875 [==============================] - 13s 7ms/step - loss: 104965.1406 - root_mean_squared_error: 323.9832 - val_loss: 103416.7656 - val_root_mean_squared_error: 321.5848\n",
      "Epoch 99/100\n",
      "1872/1875 [============================>.] - ETA: 0s - loss: 102071.9922 - root_mean_squared_error: 319.4871"
     ]
    },
    {
     "name": "stderr",
     "output_type": "stream",
     "text": [
      "WARNING:absl:Found untraced functions such as _update_step_xla, lstm_cell_3_layer_call_fn, lstm_cell_3_layer_call_and_return_conditional_losses while saving (showing 3 of 3). These functions will not be directly callable after loading.\n"
     ]
    },
    {
     "name": "stdout",
     "output_type": "stream",
     "text": [
      "INFO:tensorflow:Assets written to: model5\\assets\n"
     ]
    },
    {
     "name": "stderr",
     "output_type": "stream",
     "text": [
      "INFO:tensorflow:Assets written to: model5\\assets\n"
     ]
    },
    {
     "name": "stdout",
     "output_type": "stream",
     "text": [
      "1875/1875 [==============================] - 13s 7ms/step - loss: 102069.2656 - root_mean_squared_error: 319.4828 - val_loss: 100528.7891 - val_root_mean_squared_error: 317.0627\n",
      "Epoch 100/100\n",
      "1864/1875 [============================>.] - ETA: 0s - loss: 99195.7188 - root_mean_squared_error: 314.9535"
     ]
    },
    {
     "name": "stderr",
     "output_type": "stream",
     "text": [
      "WARNING:absl:Found untraced functions such as _update_step_xla, lstm_cell_3_layer_call_fn, lstm_cell_3_layer_call_and_return_conditional_losses while saving (showing 3 of 3). These functions will not be directly callable after loading.\n"
     ]
    },
    {
     "name": "stdout",
     "output_type": "stream",
     "text": [
      "INFO:tensorflow:Assets written to: model5\\assets\n"
     ]
    },
    {
     "name": "stderr",
     "output_type": "stream",
     "text": [
      "INFO:tensorflow:Assets written to: model5\\assets\n"
     ]
    },
    {
     "name": "stdout",
     "output_type": "stream",
     "text": [
      "\b\b\b\b\b\b\b\b\b\b\b\b\b\b\b\b\b\b\b\b\b\b\b\b\b\b\b\b\b\b\b\b\b\b\b\b\b\b\b\b\b\b\b\b\b\b\b\b\b\b\b\b\b\b\b\b\b\b\b\b\b\b\b\b\b\b\b\b\b\b\b\b\b\b\b\b\b\b\b\b\b\b\b\b\b\b\b\b\b\b\b\b\b\b\b\b\b\b\b\b\b\b\b\b\b\b\b\r",
      "1875/1875 [==============================] - 20s 11ms/step - loss: 99186.8828 - root_mean_squared_error: 314.9395 - val_loss: 97655.3281 - val_root_mean_squared_error: 312.4985\n"
     ]
    },
    {
     "data": {
      "text/plain": [
       "<keras.callbacks.History at 0x1b97d34daf0>"
      ]
     },
     "execution_count": 97,
     "metadata": {},
     "output_type": "execute_result"
    }
   ],
   "source": [
    "model5.fit(X3_train, y3_train, validation_data = (X3_val, y3_val), epochs=100, callbacks=[cp5])"
   ]
  },
  {
   "cell_type": "code",
   "execution_count": 107,
   "id": "6375f185",
   "metadata": {},
   "outputs": [],
   "source": [
    "def plot_predictions2(model, X, y, start=0, end=100):\n",
    "    predictions = model.predict(X)\n",
    "    p_preds, temp_preds = predictions[:, 0], predictions[:, 1]\n",
    "    p_actuals, temp_actuals = y[:, 0], y[:, 1]\n",
    "    df = pd.DataFrame(data={'Temperature Predictions': temp_preds,\n",
    "                            'Temperature Actuals':temp_actuals,\n",
    "                            'Pressure Predictions': p_preds,\n",
    "                            'Pressure Actuals': p_actuals\n",
    "                            })\n",
    "    plt.plot(df['Temperature Predictions'][start:end])\n",
    "    plt.plot(df['Temperature Actuals'][start:end])\n",
    "    plt.plot(df['Pressure Predictions'][start:end])\n",
    "    plt.plot(df['Pressure Actuals'][start:end])\n",
    "    plt.legend(['temp pred', 'temp actuals', 'pressure pred', 'pressure actuals'])\n",
    "    return df[start:end]"
   ]
  },
  {
   "cell_type": "code",
   "execution_count": 109,
   "id": "0587707a",
   "metadata": {},
   "outputs": [],
   "source": [
    "model5 = load_model('model5/')"
   ]
  },
  {
   "cell_type": "code",
   "execution_count": 111,
   "id": "ad2d01f6",
   "metadata": {},
   "outputs": [
    {
     "name": "stdout",
     "output_type": "stream",
     "text": [
      "159/159 [==============================] - 1s 3ms/step\n"
     ]
    },
    {
     "data": {
      "text/html": [
       "<div>\n",
       "<style scoped>\n",
       "    .dataframe tbody tr th:only-of-type {\n",
       "        vertical-align: middle;\n",
       "    }\n",
       "\n",
       "    .dataframe tbody tr th {\n",
       "        vertical-align: top;\n",
       "    }\n",
       "\n",
       "    .dataframe thead th {\n",
       "        text-align: right;\n",
       "    }\n",
       "</style>\n",
       "<table border=\"1\" class=\"dataframe\">\n",
       "  <thead>\n",
       "    <tr style=\"text-align: right;\">\n",
       "      <th></th>\n",
       "      <th>Temperature Predictions</th>\n",
       "      <th>Temperature Actuals</th>\n",
       "      <th>Pressure Predictions</th>\n",
       "      <th>Pressure Actuals</th>\n",
       "    </tr>\n",
       "  </thead>\n",
       "  <tbody>\n",
       "    <tr>\n",
       "      <th>0</th>\n",
       "      <td>7.621724</td>\n",
       "      <td>11.09056</td>\n",
       "      <td>348.990021</td>\n",
       "      <td>784.442358</td>\n",
       "    </tr>\n",
       "    <tr>\n",
       "      <th>1</th>\n",
       "      <td>7.621724</td>\n",
       "      <td>10.59056</td>\n",
       "      <td>348.990021</td>\n",
       "      <td>784.692358</td>\n",
       "    </tr>\n",
       "    <tr>\n",
       "      <th>2</th>\n",
       "      <td>7.621724</td>\n",
       "      <td>10.33056</td>\n",
       "      <td>348.990021</td>\n",
       "      <td>785.032358</td>\n",
       "    </tr>\n",
       "    <tr>\n",
       "      <th>3</th>\n",
       "      <td>7.621724</td>\n",
       "      <td>9.71056</td>\n",
       "      <td>348.990021</td>\n",
       "      <td>785.602358</td>\n",
       "    </tr>\n",
       "    <tr>\n",
       "      <th>4</th>\n",
       "      <td>7.621724</td>\n",
       "      <td>9.75056</td>\n",
       "      <td>348.990021</td>\n",
       "      <td>785.602358</td>\n",
       "    </tr>\n",
       "    <tr>\n",
       "      <th>...</th>\n",
       "      <td>...</td>\n",
       "      <td>...</td>\n",
       "      <td>...</td>\n",
       "      <td>...</td>\n",
       "    </tr>\n",
       "    <tr>\n",
       "      <th>95</th>\n",
       "      <td>7.621726</td>\n",
       "      <td>13.68056</td>\n",
       "      <td>348.990021</td>\n",
       "      <td>787.552358</td>\n",
       "    </tr>\n",
       "    <tr>\n",
       "      <th>96</th>\n",
       "      <td>7.621724</td>\n",
       "      <td>13.43056</td>\n",
       "      <td>348.990021</td>\n",
       "      <td>787.692358</td>\n",
       "    </tr>\n",
       "    <tr>\n",
       "      <th>97</th>\n",
       "      <td>7.621724</td>\n",
       "      <td>13.23056</td>\n",
       "      <td>348.990021</td>\n",
       "      <td>787.692358</td>\n",
       "    </tr>\n",
       "    <tr>\n",
       "      <th>98</th>\n",
       "      <td>7.621724</td>\n",
       "      <td>13.04056</td>\n",
       "      <td>348.990021</td>\n",
       "      <td>787.682358</td>\n",
       "    </tr>\n",
       "    <tr>\n",
       "      <th>99</th>\n",
       "      <td>7.621724</td>\n",
       "      <td>13.14056</td>\n",
       "      <td>348.990021</td>\n",
       "      <td>787.942358</td>\n",
       "    </tr>\n",
       "  </tbody>\n",
       "</table>\n",
       "<p>100 rows × 4 columns</p>\n",
       "</div>"
      ],
      "text/plain": [
       "    Temperature Predictions  Temperature Actuals  Pressure Predictions  \\\n",
       "0                  7.621724             11.09056            348.990021   \n",
       "1                  7.621724             10.59056            348.990021   \n",
       "2                  7.621724             10.33056            348.990021   \n",
       "3                  7.621724              9.71056            348.990021   \n",
       "4                  7.621724              9.75056            348.990021   \n",
       "..                      ...                  ...                   ...   \n",
       "95                 7.621726             13.68056            348.990021   \n",
       "96                 7.621724             13.43056            348.990021   \n",
       "97                 7.621724             13.23056            348.990021   \n",
       "98                 7.621724             13.04056            348.990021   \n",
       "99                 7.621724             13.14056            348.990021   \n",
       "\n",
       "    Pressure Actuals  \n",
       "0         784.442358  \n",
       "1         784.692358  \n",
       "2         785.032358  \n",
       "3         785.602358  \n",
       "4         785.602358  \n",
       "..               ...  \n",
       "95        787.552358  \n",
       "96        787.692358  \n",
       "97        787.692358  \n",
       "98        787.682358  \n",
       "99        787.942358  \n",
       "\n",
       "[100 rows x 4 columns]"
      ]
     },
     "execution_count": 111,
     "metadata": {},
     "output_type": "execute_result"
    },
    {
     "data": {
      "image/png": "[encoded data removed]",
      "text/plain": [
       "<Figure size 432x288 with 1 Axes>"
      ]
     },
     "metadata": {
      "needs_background": "light"
     },
     "output_type": "display_data"
    }
   ],
   "source": [
    "plot_predictions2(model5, X3_test, y3_test,end=100)"
   ]
  },
  {
   "cell_type": "code",
   "execution_count": null,
   "id": "1a9b23bd",
   "metadata": {},
   "outputs": [],
   "source": []
  },
  {
   "cell_type": "code",
   "execution_count": null,
   "id": "8a45d562",
   "metadata": {},
   "outputs": [],
   "source": []
  }
 ],
 "metadata": {
  "kernelspec": {
   "display_name": "Python 3 (ipykernel)",
   "language": "python",
   "name": "python3"
  },
  "language_info": {
   "codemirror_mode": {
    "name": "ipython",
    "version": 3
   },
   "file_extension": ".py",
   "mimetype": "text/x-python",
   "name": "python",
   "nbconvert_exporter": "python",
   "pygments_lexer": "ipython3",
   "version": "3.9.12"
  }
 },
 "nbformat": 4,
 "nbformat_minor": 5
}
