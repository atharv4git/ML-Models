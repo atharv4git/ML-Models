{
 "cells": [
  {
   "cell_type": "code",
   "execution_count": 13,
   "id": "1acaad5d",
   "metadata": {},
   "outputs": [],
   "source": [
    "from sklearn.cluster import KMeans\n",
    "import numpy as np\n",
    "import seaborn as sns\n",
    "import warnings\n",
    "warnings.simplefilter('ignore')"
   ]
  },
  {
   "cell_type": "code",
   "execution_count": 47,
   "id": "196a010f",
   "metadata": {},
   "outputs": [],
   "source": [
    "x = np.array([[1,2],[1,0],[10,2],[10,4],[10,0]])\n",
    "km = KMeans(n_clusters=2, random_state=0).fit(x)"
   ]
  },
  {
   "cell_type": "code",
   "execution_count": 48,
   "id": "08efe380",
   "metadata": {},
   "outputs": [
    {
     "data": {
      "text/plain": [
       "array([[ 1,  2],\n",
       "       [ 1,  0],\n",
       "       [10,  2],\n",
       "       [10,  4],\n",
       "       [10,  0]])"
      ]
     },
     "execution_count": 48,
     "metadata": {},
     "output_type": "execute_result"
    }
   ],
   "source": [
    "x"
   ]
  },
  {
   "cell_type": "code",
   "execution_count": 49,
   "id": "ca4e1602",
   "metadata": {},
   "outputs": [
    {
     "data": {
      "text/plain": [
       "array([1, 1, 0, 0, 0])"
      ]
     },
     "execution_count": 49,
     "metadata": {},
     "output_type": "execute_result"
    }
   ],
   "source": [
    "km.labels_"
   ]
  },
  {
   "cell_type": "code",
   "execution_count": 50,
   "id": "bf782d20",
   "metadata": {},
   "outputs": [
    {
     "data": {
      "text/plain": [
       "array([1, 1])"
      ]
     },
     "execution_count": 50,
     "metadata": {},
     "output_type": "execute_result"
    }
   ],
   "source": [
    "km.predict([[0,0],[1,1]])"
   ]
  },
  {
   "cell_type": "code",
   "execution_count": 51,
   "id": "afb36eaa",
   "metadata": {},
   "outputs": [
    {
     "data": {
      "text/plain": [
       "array([[10.,  2.],\n",
       "       [ 1.,  1.]])"
      ]
     },
     "execution_count": 51,
     "metadata": {},
     "output_type": "execute_result"
    }
   ],
   "source": [
    "km.cluster_centers_"
   ]
  },
  {
   "cell_type": "code",
   "execution_count": 52,
   "id": "941327e5",
   "metadata": {},
   "outputs": [],
   "source": [
    "from sklearn.metrics import silhouette_score as sc"
   ]
  },
  {
   "cell_type": "code",
   "execution_count": 53,
   "id": "dcb2f1ed",
   "metadata": {},
   "outputs": [
    {
     "data": {
      "text/plain": [
       "0.7408105057433673"
      ]
     },
     "execution_count": 53,
     "metadata": {},
     "output_type": "execute_result"
    }
   ],
   "source": [
    "sc(x,km.labels_)"
   ]
  },
  {
   "cell_type": "code",
   "execution_count": 56,
   "id": "49496f1e",
   "metadata": {},
   "outputs": [],
   "source": [
    "# https://colab.research.google.com/drive/1ltoSbXXIPZ6nzyxZMXxzghnmlTXCfMpy"
   ]
  },
  {
   "cell_type": "code",
   "execution_count": null,
   "id": "7edbbc60",
   "metadata": {},
   "outputs": [],
   "source": []
  }
 ],
 "metadata": {
  "kernelspec": {
   "display_name": "Python 3 (ipykernel)",
   "language": "python",
   "name": "python3"
  },
  "language_info": {
   "codemirror_mode": {
    "name": "ipython",
    "version": 3
   },
   "file_extension": ".py",
   "mimetype": "text/x-python",
   "name": "python",
   "nbconvert_exporter": "python",
   "pygments_lexer": "ipython3",
   "version": "3.9.12"
  }
 },
 "nbformat": 4,
 "nbformat_minor": 5
}
