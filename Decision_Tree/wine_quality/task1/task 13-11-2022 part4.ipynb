{
 "cells": [
  {
   "cell_type": "code",
   "execution_count": 1,
   "id": "b8fd12dd",
   "metadata": {},
   "outputs": [],
   "source": [
    "import pandas as pd\n",
    "import seaborn as sns\n",
    "import missingno as msno\n",
    "import matplotlib.pyplot as plt\n",
    "import warnings\n",
    "warnings.simplefilter('ignore')"
   ]
  },
  {
   "cell_type": "code",
   "execution_count": 8,
   "id": "7500eee1",
   "metadata": {},
   "outputs": [
    {
     "data": {
      "text/html": [
       "<div>\n",
       "<style scoped>\n",
       "    .dataframe tbody tr th:only-of-type {\n",
       "        vertical-align: middle;\n",
       "    }\n",
       "\n",
       "    .dataframe tbody tr th {\n",
       "        vertical-align: top;\n",
       "    }\n",
       "\n",
       "    .dataframe thead th {\n",
       "        text-align: right;\n",
       "    }\n",
       "</style>\n",
       "<table border=\"1\" class=\"dataframe\">\n",
       "  <thead>\n",
       "    <tr style=\"text-align: right;\">\n",
       "      <th></th>\n",
       "      <th>Global_active_power</th>\n",
       "      <th>Global_reactive_power</th>\n",
       "      <th>Voltage</th>\n",
       "      <th>Global_intensity</th>\n",
       "      <th>date_time</th>\n",
       "      <th>meterings</th>\n",
       "    </tr>\n",
       "  </thead>\n",
       "  <tbody>\n",
       "    <tr>\n",
       "      <th>0</th>\n",
       "      <td>3.322</td>\n",
       "      <td>0.204</td>\n",
       "      <td>238.70</td>\n",
       "      <td>14.2</td>\n",
       "      <td>2009-04-13 21:18:00</td>\n",
       "      <td>35.0</td>\n",
       "    </tr>\n",
       "    <tr>\n",
       "      <th>1</th>\n",
       "      <td>0.328</td>\n",
       "      <td>0.232</td>\n",
       "      <td>241.38</td>\n",
       "      <td>1.6</td>\n",
       "      <td>2008-05-17 03:59:00</td>\n",
       "      <td>1.0</td>\n",
       "    </tr>\n",
       "    <tr>\n",
       "      <th>2</th>\n",
       "      <td>0.298</td>\n",
       "      <td>0.112</td>\n",
       "      <td>245.59</td>\n",
       "      <td>1.2</td>\n",
       "      <td>2007-01-24 01:41:00</td>\n",
       "      <td>0.0</td>\n",
       "    </tr>\n",
       "    <tr>\n",
       "      <th>3</th>\n",
       "      <td>0.082</td>\n",
       "      <td>0.000</td>\n",
       "      <td>241.01</td>\n",
       "      <td>0.2</td>\n",
       "      <td>2008-08-25 23:04:00</td>\n",
       "      <td>1.0</td>\n",
       "    </tr>\n",
       "    <tr>\n",
       "      <th>4</th>\n",
       "      <td>0.336</td>\n",
       "      <td>0.078</td>\n",
       "      <td>245.62</td>\n",
       "      <td>1.4</td>\n",
       "      <td>2008-12-18 04:44:00</td>\n",
       "      <td>1.0</td>\n",
       "    </tr>\n",
       "  </tbody>\n",
       "</table>\n",
       "</div>"
      ],
      "text/plain": [
       "   Global_active_power  Global_reactive_power  Voltage  Global_intensity  \\\n",
       "0                3.322                  0.204   238.70              14.2   \n",
       "1                0.328                  0.232   241.38               1.6   \n",
       "2                0.298                  0.112   245.59               1.2   \n",
       "3                0.082                  0.000   241.01               0.2   \n",
       "4                0.336                  0.078   245.62               1.4   \n",
       "\n",
       "             date_time  meterings  \n",
       "0  2009-04-13 21:18:00       35.0  \n",
       "1  2008-05-17 03:59:00        1.0  \n",
       "2  2007-01-24 01:41:00        0.0  \n",
       "3  2008-08-25 23:04:00        1.0  \n",
       "4  2008-12-18 04:44:00        1.0  "
      ]
     },
     "execution_count": 8,
     "metadata": {},
     "output_type": "execute_result"
    }
   ],
   "source": [
    "data = pd.read_csv('pow_cons_new1.csv')\n",
    "data.drop(columns='Unnamed: 0',axis=1,inplace=True)\n",
    "data.head()"
   ]
  },
  {
   "cell_type": "code",
   "execution_count": 9,
   "id": "52c9a956",
   "metadata": {},
   "outputs": [
    {
     "data": {
      "text/html": [
       "<div>\n",
       "<style scoped>\n",
       "    .dataframe tbody tr th:only-of-type {\n",
       "        vertical-align: middle;\n",
       "    }\n",
       "\n",
       "    .dataframe tbody tr th {\n",
       "        vertical-align: top;\n",
       "    }\n",
       "\n",
       "    .dataframe thead th {\n",
       "        text-align: right;\n",
       "    }\n",
       "</style>\n",
       "<table border=\"1\" class=\"dataframe\">\n",
       "  <thead>\n",
       "    <tr style=\"text-align: right;\">\n",
       "      <th></th>\n",
       "      <th>Global_active_power</th>\n",
       "      <th>Global_reactive_power</th>\n",
       "      <th>Voltage</th>\n",
       "      <th>Global_intensity</th>\n",
       "      <th>meterings</th>\n",
       "    </tr>\n",
       "  </thead>\n",
       "  <tbody>\n",
       "    <tr>\n",
       "      <th>count</th>\n",
       "      <td>14397.000000</td>\n",
       "      <td>14397.000000</td>\n",
       "      <td>14397.000000</td>\n",
       "      <td>14397.000000</td>\n",
       "      <td>14397.000000</td>\n",
       "    </tr>\n",
       "    <tr>\n",
       "      <th>mean</th>\n",
       "      <td>0.995290</td>\n",
       "      <td>0.122642</td>\n",
       "      <td>240.981193</td>\n",
       "      <td>4.217031</td>\n",
       "      <td>7.315899</td>\n",
       "    </tr>\n",
       "    <tr>\n",
       "      <th>std</th>\n",
       "      <td>0.887389</td>\n",
       "      <td>0.111059</td>\n",
       "      <td>3.142006</td>\n",
       "      <td>3.710276</td>\n",
       "      <td>9.513796</td>\n",
       "    </tr>\n",
       "    <tr>\n",
       "      <th>min</th>\n",
       "      <td>0.078000</td>\n",
       "      <td>0.000000</td>\n",
       "      <td>226.180000</td>\n",
       "      <td>0.200000</td>\n",
       "      <td>0.000000</td>\n",
       "    </tr>\n",
       "    <tr>\n",
       "      <th>25%</th>\n",
       "      <td>0.304000</td>\n",
       "      <td>0.048000</td>\n",
       "      <td>239.200000</td>\n",
       "      <td>1.400000</td>\n",
       "      <td>0.000000</td>\n",
       "    </tr>\n",
       "    <tr>\n",
       "      <th>50%</th>\n",
       "      <td>0.556000</td>\n",
       "      <td>0.100000</td>\n",
       "      <td>241.080000</td>\n",
       "      <td>2.400000</td>\n",
       "      <td>1.000000</td>\n",
       "    </tr>\n",
       "    <tr>\n",
       "      <th>75%</th>\n",
       "      <td>1.474000</td>\n",
       "      <td>0.192000</td>\n",
       "      <td>242.970000</td>\n",
       "      <td>6.200000</td>\n",
       "      <td>18.000000</td>\n",
       "    </tr>\n",
       "    <tr>\n",
       "      <th>max</th>\n",
       "      <td>6.704000</td>\n",
       "      <td>1.108000</td>\n",
       "      <td>253.070000</td>\n",
       "      <td>29.000000</td>\n",
       "      <td>44.000000</td>\n",
       "    </tr>\n",
       "  </tbody>\n",
       "</table>\n",
       "</div>"
      ],
      "text/plain": [
       "       Global_active_power  Global_reactive_power       Voltage  \\\n",
       "count         14397.000000           14397.000000  14397.000000   \n",
       "mean              0.995290               0.122642    240.981193   \n",
       "std               0.887389               0.111059      3.142006   \n",
       "min               0.078000               0.000000    226.180000   \n",
       "25%               0.304000               0.048000    239.200000   \n",
       "50%               0.556000               0.100000    241.080000   \n",
       "75%               1.474000               0.192000    242.970000   \n",
       "max               6.704000               1.108000    253.070000   \n",
       "\n",
       "       Global_intensity     meterings  \n",
       "count      14397.000000  14397.000000  \n",
       "mean           4.217031      7.315899  \n",
       "std            3.710276      9.513796  \n",
       "min            0.200000      0.000000  \n",
       "25%            1.400000      0.000000  \n",
       "50%            2.400000      1.000000  \n",
       "75%            6.200000     18.000000  \n",
       "max           29.000000     44.000000  "
      ]
     },
     "execution_count": 9,
     "metadata": {},
     "output_type": "execute_result"
    }
   ],
   "source": [
    "data.describe()"
   ]
  },
  {
   "cell_type": "code",
   "execution_count": 12,
   "id": "e9e3e2c7",
   "metadata": {},
   "outputs": [
    {
     "data": {
      "text/plain": [
       "<AxesSubplot:>"
      ]
     },
     "execution_count": 12,
     "metadata": {},
     "output_type": "execute_result"
    },
    {
     "data": {
      "image/png": "[encoded data removed]",
      "text/plain": [
       "<Figure size 432x288 with 2 Axes>"
      ]
     },
     "metadata": {
      "needs_background": "light"
     },
     "output_type": "display_data"
    }
   ],
   "source": [
    "sns.heatmap(data.corr(),annot=True)"
   ]
  },
  {
   "cell_type": "code",
   "execution_count": 13,
   "id": "9d1abb9d",
   "metadata": {},
   "outputs": [
    {
     "data": {
      "text/plain": [
       "<AxesSubplot:>"
      ]
     },
     "execution_count": 13,
     "metadata": {},
     "output_type": "execute_result"
    },
    {
     "data": {
      "image/png": "[encoded data removed]",
      "text/plain": [
       "<Figure size 432x288 with 2 Axes>"
      ]
     },
     "metadata": {
      "needs_background": "light"
     },
     "output_type": "display_data"
    }
   ],
   "source": [
    "sns.heatmap(data.cov(),annot=True)"
   ]
  },
  {
   "cell_type": "code",
   "execution_count": 14,
   "id": "df2293a1",
   "metadata": {},
   "outputs": [],
   "source": [
    "x = data.drop(columns=['date_time','meterings'])\n",
    "y = data['meterings']"
   ]
  },
  {
   "cell_type": "code",
   "execution_count": 15,
   "id": "7b46737f",
   "metadata": {},
   "outputs": [],
   "source": [
    "from sklearn.model_selection import train_test_split\n",
    "xtrain,xtest,ytrain,ytest = train_test_split(x,y,test_size=0.30,random_state=42)"
   ]
  },
  {
   "cell_type": "code",
   "execution_count": 17,
   "id": "ee9daffb",
   "metadata": {},
   "outputs": [],
   "source": [
    "from sklearn import preprocessing\n",
    "scaler = preprocessing.StandardScaler().fit(xtrain)\n",
    "xscaled = scaler.transform(xtrain)"
   ]
  },
  {
   "cell_type": "code",
   "execution_count": 24,
   "id": "6c83c8d3",
   "metadata": {},
   "outputs": [],
   "source": [
    "from sklearn.linear_model import LinearRegression\n",
    "reg = LinearRegression().fit(xscaled, ytrain)\n",
    "ypred_lin = reg.predict(xtest)"
   ]
  },
  {
   "cell_type": "code",
   "execution_count": 25,
   "id": "65f79a58",
   "metadata": {},
   "outputs": [
    {
     "data": {
      "text/plain": [
       "162.060868170606"
      ]
     },
     "execution_count": 25,
     "metadata": {},
     "output_type": "execute_result"
    }
   ],
   "source": [
    "from sklearn.metrics import mean_absolute_error as mae\n",
    "mae(ytest,ypred_lin)"
   ]
  },
  {
   "cell_type": "code",
   "execution_count": 28,
   "id": "2b3f2c0b",
   "metadata": {},
   "outputs": [
    {
     "data": {
      "text/plain": [
       "0.6104325031262091"
      ]
     },
     "execution_count": 28,
     "metadata": {},
     "output_type": "execute_result"
    }
   ],
   "source": [
    "reg.score(xscaled,ytrain)"
   ]
  },
  {
   "cell_type": "code",
   "execution_count": 31,
   "id": "ce26947d",
   "metadata": {},
   "outputs": [
    {
     "data": {
      "text/plain": [
       "13.228310185185185"
      ]
     },
     "execution_count": 31,
     "metadata": {},
     "output_type": "execute_result"
    }
   ],
   "source": [
    "from sklearn.ensemble import BaggingRegressor\n",
    "bagg_reg = BaggingRegressor(n_estimators=10, random_state=42).fit(xscaled,ytrain)\n",
    "ypred_bagg = bgg_reg.predict(xtest)\n",
    "bagg_reg.score(xscaled,ytrain)\n",
    "mae(ytest,ypred_bagg)"
   ]
  },
  {
   "cell_type": "code",
   "execution_count": 32,
   "id": "d08b7353",
   "metadata": {},
   "outputs": [
    {
     "data": {
      "text/plain": [
       "8.358564814814814"
      ]
     },
     "execution_count": 32,
     "metadata": {},
     "output_type": "execute_result"
    }
   ],
   "source": [
    "from sklearn.tree import DecisionTreeRegressor\n",
    "dt_reg = DecisionTreeRegressor(random_state=42).fit(xscaled,ytrain)\n",
    "ypred_dt = dt_reg.predict(xtest)\n",
    "dt_reg.score(xscaled,ytrain)\n",
    "mae(ytest,ypred_dt)"
   ]
  },
  {
   "cell_type": "code",
   "execution_count": 33,
   "id": "612ec79a",
   "metadata": {},
   "outputs": [
    {
     "data": {
      "text/plain": [
       "11.323377314814817"
      ]
     },
     "execution_count": 33,
     "metadata": {},
     "output_type": "execute_result"
    }
   ],
   "source": [
    "from sklearn.ensemble import RandomForestRegressor\n",
    "rf_reg = RandomForestRegressor(random_state=42).fit(xscaled,ytrain)\n",
    "ypred_rf = rf_reg.predict(xtest)\n",
    "dt_reg.score(xscaled,ytrain)\n",
    "mae(ytest,ypred_rf)"
   ]
  },
  {
   "cell_type": "code",
   "execution_count": 34,
   "id": "ec057811",
   "metadata": {},
   "outputs": [
    {
     "name": "stdout",
     "output_type": "stream",
     "text": [
      "0.938718800534948\n",
      "34.64715859357744\n"
     ]
    }
   ],
   "source": [
    "from sklearn.ensemble import VotingRegressor\n",
    "vr = VotingRegressor([('lr', reg), ('rf', bagg_reg), ('r3', dt_reg), ('r4', rf_reg)])\n",
    "vr.fit(xscaled, ytrain)\n",
    "ypred_vr = vr.predict(xtest)\n",
    "print(vr.score(xscaled,ytrain))\n",
    "print(mae(ytest,ypred_vr))"
   ]
  },
  {
   "cell_type": "code",
   "execution_count": null,
   "id": "cc009320",
   "metadata": {},
   "outputs": [],
   "source": []
  }
 ],
 "metadata": {
  "kernelspec": {
   "display_name": "Python 3 (ipykernel)",
   "language": "python",
   "name": "python3"
  },
  "language_info": {
   "codemirror_mode": {
    "name": "ipython",
    "version": 3
   },
   "file_extension": ".py",
   "mimetype": "text/x-python",
   "name": "python",
   "nbconvert_exporter": "python",
   "pygments_lexer": "ipython3",
   "version": "3.9.12"
  }
 },
 "nbformat": 4,
 "nbformat_minor": 5
}
