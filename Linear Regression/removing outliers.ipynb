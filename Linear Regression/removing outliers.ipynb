{
 "cells": [
  {
   "cell_type": "code",
   "execution_count": 1,
   "id": "402921cc",
   "metadata": {},
   "outputs": [],
   "source": [
    "import pandas as pd\n",
    "import numpy as np\n",
    "import missingno as msno\n",
    "import seaborn as sns\n",
    "import matplotlib.pyplot as plt\n",
    "%matplotlib inline\n",
    "import warnings\n",
    "warnings.simplefilter('ignore')\n",
    "import statistics as stats"
   ]
  },
  {
   "cell_type": "code",
   "execution_count": 2,
   "id": "f7d8a8c0",
   "metadata": {},
   "outputs": [
    {
     "data": {
      "text/html": [
       "<div>\n",
       "<style scoped>\n",
       "    .dataframe tbody tr th:only-of-type {\n",
       "        vertical-align: middle;\n",
       "    }\n",
       "\n",
       "    .dataframe tbody tr th {\n",
       "        vertical-align: top;\n",
       "    }\n",
       "\n",
       "    .dataframe thead th {\n",
       "        text-align: right;\n",
       "    }\n",
       "</style>\n",
       "<table border=\"1\" class=\"dataframe\">\n",
       "  <thead>\n",
       "    <tr style=\"text-align: right;\">\n",
       "      <th></th>\n",
       "      <th>Global_active_power</th>\n",
       "      <th>Global_reactive_power</th>\n",
       "      <th>Voltage</th>\n",
       "      <th>Global_intensity</th>\n",
       "      <th>date_time</th>\n",
       "      <th>meterings</th>\n",
       "    </tr>\n",
       "  </thead>\n",
       "  <tbody>\n",
       "    <tr>\n",
       "      <th>0</th>\n",
       "      <td>3.322</td>\n",
       "      <td>0.204</td>\n",
       "      <td>238.70</td>\n",
       "      <td>14.2</td>\n",
       "      <td>2009-04-13 21:18:00</td>\n",
       "      <td>35.0</td>\n",
       "    </tr>\n",
       "    <tr>\n",
       "      <th>1</th>\n",
       "      <td>0.328</td>\n",
       "      <td>0.232</td>\n",
       "      <td>241.38</td>\n",
       "      <td>1.6</td>\n",
       "      <td>2008-05-17 03:59:00</td>\n",
       "      <td>1.0</td>\n",
       "    </tr>\n",
       "    <tr>\n",
       "      <th>2</th>\n",
       "      <td>0.298</td>\n",
       "      <td>0.112</td>\n",
       "      <td>245.59</td>\n",
       "      <td>1.2</td>\n",
       "      <td>2007-01-24 01:41:00</td>\n",
       "      <td>0.0</td>\n",
       "    </tr>\n",
       "    <tr>\n",
       "      <th>3</th>\n",
       "      <td>0.082</td>\n",
       "      <td>0.000</td>\n",
       "      <td>241.01</td>\n",
       "      <td>0.2</td>\n",
       "      <td>2008-08-25 23:04:00</td>\n",
       "      <td>1.0</td>\n",
       "    </tr>\n",
       "    <tr>\n",
       "      <th>4</th>\n",
       "      <td>0.336</td>\n",
       "      <td>0.078</td>\n",
       "      <td>245.62</td>\n",
       "      <td>1.4</td>\n",
       "      <td>2008-12-18 04:44:00</td>\n",
       "      <td>1.0</td>\n",
       "    </tr>\n",
       "  </tbody>\n",
       "</table>\n",
       "</div>"
      ],
      "text/plain": [
       "   Global_active_power  Global_reactive_power  Voltage  Global_intensity  \\\n",
       "0                3.322                  0.204   238.70              14.2   \n",
       "1                0.328                  0.232   241.38               1.6   \n",
       "2                0.298                  0.112   245.59               1.2   \n",
       "3                0.082                  0.000   241.01               0.2   \n",
       "4                0.336                  0.078   245.62               1.4   \n",
       "\n",
       "             date_time  meterings  \n",
       "0  2009-04-13 21:18:00       35.0  \n",
       "1  2008-05-17 03:59:00        1.0  \n",
       "2  2007-01-24 01:41:00        0.0  \n",
       "3  2008-08-25 23:04:00        1.0  \n",
       "4  2008-12-18 04:44:00        1.0  "
      ]
     },
     "execution_count": 2,
     "metadata": {},
     "output_type": "execute_result"
    }
   ],
   "source": [
    "data = pd.read_csv('no_missing_values/sample_pow_cons.csv')\n",
    "data.drop(columns='Unnamed: 0',axis=1,inplace=True)\n",
    "data.head()"
   ]
  },
  {
   "cell_type": "code",
   "execution_count": 24,
   "id": "7fd34a1f",
   "metadata": {},
   "outputs": [
    {
     "data": {
      "text/html": [
       "<div>\n",
       "<style scoped>\n",
       "    .dataframe tbody tr th:only-of-type {\n",
       "        vertical-align: middle;\n",
       "    }\n",
       "\n",
       "    .dataframe tbody tr th {\n",
       "        vertical-align: top;\n",
       "    }\n",
       "\n",
       "    .dataframe thead th {\n",
       "        text-align: right;\n",
       "    }\n",
       "</style>\n",
       "<table border=\"1\" class=\"dataframe\">\n",
       "  <thead>\n",
       "    <tr style=\"text-align: right;\">\n",
       "      <th></th>\n",
       "      <th>Global_active_power</th>\n",
       "      <th>Global_reactive_power</th>\n",
       "      <th>Voltage</th>\n",
       "      <th>Global_intensity</th>\n",
       "      <th>meterings</th>\n",
       "    </tr>\n",
       "  </thead>\n",
       "  <tbody>\n",
       "    <tr>\n",
       "      <th>count</th>\n",
       "      <td>14825.000000</td>\n",
       "      <td>14825.000000</td>\n",
       "      <td>14825.000000</td>\n",
       "      <td>14825.000000</td>\n",
       "      <td>14825.000000</td>\n",
       "    </tr>\n",
       "    <tr>\n",
       "      <th>mean</th>\n",
       "      <td>1.096217</td>\n",
       "      <td>0.124692</td>\n",
       "      <td>240.862872</td>\n",
       "      <td>4.644465</td>\n",
       "      <td>8.798921</td>\n",
       "    </tr>\n",
       "    <tr>\n",
       "      <th>std</th>\n",
       "      <td>1.066980</td>\n",
       "      <td>0.113172</td>\n",
       "      <td>3.210986</td>\n",
       "      <td>4.483520</td>\n",
       "      <td>12.887056</td>\n",
       "    </tr>\n",
       "    <tr>\n",
       "      <th>min</th>\n",
       "      <td>0.078000</td>\n",
       "      <td>0.000000</td>\n",
       "      <td>226.180000</td>\n",
       "      <td>0.200000</td>\n",
       "      <td>0.000000</td>\n",
       "    </tr>\n",
       "    <tr>\n",
       "      <th>25%</th>\n",
       "      <td>0.308000</td>\n",
       "      <td>0.048000</td>\n",
       "      <td>239.030000</td>\n",
       "      <td>1.400000</td>\n",
       "      <td>0.000000</td>\n",
       "    </tr>\n",
       "    <tr>\n",
       "      <th>50%</th>\n",
       "      <td>0.604000</td>\n",
       "      <td>0.102000</td>\n",
       "      <td>240.990000</td>\n",
       "      <td>2.600000</td>\n",
       "      <td>1.000000</td>\n",
       "    </tr>\n",
       "    <tr>\n",
       "      <th>75%</th>\n",
       "      <td>1.526000</td>\n",
       "      <td>0.196000</td>\n",
       "      <td>242.910000</td>\n",
       "      <td>6.400000</td>\n",
       "      <td>18.000000</td>\n",
       "    </tr>\n",
       "    <tr>\n",
       "      <th>max</th>\n",
       "      <td>8.928000</td>\n",
       "      <td>1.108000</td>\n",
       "      <td>253.070000</td>\n",
       "      <td>38.800000</td>\n",
       "      <td>121.000000</td>\n",
       "    </tr>\n",
       "  </tbody>\n",
       "</table>\n",
       "</div>"
      ],
      "text/plain": [
       "       Global_active_power  Global_reactive_power       Voltage  \\\n",
       "count         14825.000000           14825.000000  14825.000000   \n",
       "mean              1.096217               0.124692    240.862872   \n",
       "std               1.066980               0.113172      3.210986   \n",
       "min               0.078000               0.000000    226.180000   \n",
       "25%               0.308000               0.048000    239.030000   \n",
       "50%               0.604000               0.102000    240.990000   \n",
       "75%               1.526000               0.196000    242.910000   \n",
       "max               8.928000               1.108000    253.070000   \n",
       "\n",
       "       Global_intensity     meterings  \n",
       "count      14825.000000  14825.000000  \n",
       "mean           4.644465      8.798921  \n",
       "std            4.483520     12.887056  \n",
       "min            0.200000      0.000000  \n",
       "25%            1.400000      0.000000  \n",
       "50%            2.600000      1.000000  \n",
       "75%            6.400000     18.000000  \n",
       "max           38.800000    121.000000  "
      ]
     },
     "execution_count": 24,
     "metadata": {},
     "output_type": "execute_result"
    }
   ],
   "source": [
    "data.describe()"
   ]
  },
  {
   "cell_type": "code",
   "execution_count": 3,
   "id": "2fe73ee2",
   "metadata": {},
   "outputs": [],
   "source": [
    "cols1 = ['Global_active_power', 'Global_reactive_power', 'Voltage','Global_intensity','meterings']"
   ]
  },
  {
   "cell_type": "code",
   "execution_count": 4,
   "id": "e9308ad3",
   "metadata": {},
   "outputs": [
    {
     "data": {
      "image/png": "[encoded data removed]",
      "text/plain": [
       "<Figure size 1080x864 with 6 Axes>"
      ]
     },
     "metadata": {
      "needs_background": "light"
     },
     "output_type": "display_data"
    }
   ],
   "source": [
    "fig, axs = plt.subplots(nrows=3, ncols=2, figsize=(15, 12))\n",
    "plt.subplots_adjust(hspace=0.5)\n",
    "fig.suptitle(\"electricity bill\", fontsize=18, y=0.95)\n",
    "\n",
    "for col, ax in zip(cols1, axs.ravel()):\n",
    "    sns.boxplot(data[col],ax=ax)\n",
    "\n",
    "    ax.set_title(col.upper())\n",
    "    ax.set_xlabel(\"\")\n",
    "\n",
    "plt.show()"
   ]
  },
  {
   "cell_type": "code",
   "execution_count": 5,
   "id": "eba8a50e",
   "metadata": {},
   "outputs": [
    {
     "name": "stdout",
     "output_type": "stream",
     "text": [
      "for col: Global_active_power\n",
      "Highest allowed 4.2971575005411005\n",
      "Lowest allowed -2.104723908635534\n",
      "----------------------------------------------------------------------\n",
      "for col: Global_reactive_power\n",
      "Highest allowed 0.46420714990905015\n",
      "Lowest allowed -0.2148230015110731\n",
      "----------------------------------------------------------------------\n",
      "for col: Voltage\n",
      "Highest allowed 250.49583055808355\n",
      "Lowest allowed 231.22991244360438\n",
      "----------------------------------------------------------------------\n",
      "for col: Global_intensity\n",
      "Highest allowed 18.095025385160522\n",
      "Lowest allowed -8.806094525126799\n",
      "----------------------------------------------------------------------\n",
      "for col: meterings\n",
      "Highest allowed 47.460087257187546\n",
      "Lowest allowed -29.862245773207782\n",
      "----------------------------------------------------------------------\n"
     ]
    }
   ],
   "source": [
    "for i in cols1:\n",
    "    print('for col:',i)\n",
    "    print(\"Highest allowed\",data[i].mean() + 3*data[i].std())\n",
    "    print(\"Lowest allowed\",data[i].mean() - 3*data[i].std())\n",
    "    print('----------------------------------------------------------------------')"
   ]
  },
  {
   "cell_type": "code",
   "execution_count": 6,
   "id": "2bbc0d7e",
   "metadata": {},
   "outputs": [],
   "source": [
    "highest_allowed = []\n",
    "lowest_allowed = []\n",
    "for i in cols1:\n",
    "    highest_allowed.append(data[i].mean() + 3*data[i].std())\n",
    "    lowest_allowed.append(data[i].mean() - 3*data[i].std())"
   ]
  },
  {
   "cell_type": "code",
   "execution_count": 7,
   "id": "e400d4c4",
   "metadata": {},
   "outputs": [],
   "source": [
    "j = 0\n",
    "for i in cols1:\n",
    "    df = data[(data[i] > lowest_allowed[j]) & (data[i] < highest_allowed[j])]\n",
    "    j=+1"
   ]
  },
  {
   "cell_type": "code",
   "execution_count": 8,
   "id": "4774c0b6",
   "metadata": {},
   "outputs": [
    {
     "data": {
      "text/plain": [
       "<AxesSubplot:xlabel='Global_active_power'>"
      ]
     },
     "execution_count": 8,
     "metadata": {},
     "output_type": "execute_result"
    },
    {
     "data": {
      "image/png": "[encoded data removed]",
      "text/plain": [
       "<Figure size 432x288 with 1 Axes>"
      ]
     },
     "metadata": {
      "needs_background": "light"
     },
     "output_type": "display_data"
    }
   ],
   "source": [
    "sns.boxplot(df['Global_active_power'])"
   ]
  },
  {
   "cell_type": "code",
   "execution_count": 9,
   "id": "6fb26ebc",
   "metadata": {},
   "outputs": [
    {
     "data": {
      "text/plain": [
       "<AxesSubplot:xlabel='Global_active_power'>"
      ]
     },
     "execution_count": 9,
     "metadata": {},
     "output_type": "execute_result"
    },
    {
     "data": {
      "image/png": "[encoded data removed]",
      "text/plain": [
       "<Figure size 432x288 with 1 Axes>"
      ]
     },
     "metadata": {
      "needs_background": "light"
     },
     "output_type": "display_data"
    }
   ],
   "source": [
    "sns.boxplot(data['Global_active_power'])"
   ]
  },
  {
   "cell_type": "markdown",
   "id": "7eb34d45",
   "metadata": {},
   "source": [
    "This method is not so much effective\n",
    "### Using IQR based filtering"
   ]
  },
  {
   "cell_type": "code",
   "execution_count": 10,
   "id": "3eea7104",
   "metadata": {},
   "outputs": [],
   "source": [
    "p25_gap = data['Global_active_power'].quantile(0.25)\n",
    "p75_gap = data['Global_active_power'].quantile(0.75)"
   ]
  },
  {
   "cell_type": "code",
   "execution_count": 11,
   "id": "1acaa2d3",
   "metadata": {},
   "outputs": [],
   "source": [
    "# First quartile (Q1)\n",
    "Q1 = np.percentile(data['Global_active_power'], 25, interpolation = 'midpoint')\n",
    "  \n",
    "# Third quartile (Q3)\n",
    "Q3 = np.percentile(data['Global_active_power'], 75, interpolation = 'midpoint')"
   ]
  },
  {
   "cell_type": "code",
   "execution_count": 12,
   "id": "afbefc1e",
   "metadata": {},
   "outputs": [],
   "source": [
    "IQR = Q3 - Q1"
   ]
  },
  {
   "cell_type": "code",
   "execution_count": 13,
   "id": "96c50be6",
   "metadata": {},
   "outputs": [],
   "source": [
    "ulim_gap = p75_gap + 1.5 * IQR\n",
    "llim_gap = p25_gap - 1.5 * IQR"
   ]
  },
  {
   "cell_type": "code",
   "execution_count": 14,
   "id": "05a59a26",
   "metadata": {},
   "outputs": [
    {
     "data": {
      "text/html": [
       "<div>\n",
       "<style scoped>\n",
       "    .dataframe tbody tr th:only-of-type {\n",
       "        vertical-align: middle;\n",
       "    }\n",
       "\n",
       "    .dataframe tbody tr th {\n",
       "        vertical-align: top;\n",
       "    }\n",
       "\n",
       "    .dataframe thead th {\n",
       "        text-align: right;\n",
       "    }\n",
       "</style>\n",
       "<table border=\"1\" class=\"dataframe\">\n",
       "  <thead>\n",
       "    <tr style=\"text-align: right;\">\n",
       "      <th></th>\n",
       "      <th>Global_active_power</th>\n",
       "      <th>Global_reactive_power</th>\n",
       "      <th>Voltage</th>\n",
       "      <th>Global_intensity</th>\n",
       "      <th>date_time</th>\n",
       "      <th>meterings</th>\n",
       "    </tr>\n",
       "  </thead>\n",
       "  <tbody>\n",
       "    <tr>\n",
       "      <th>13</th>\n",
       "      <td>5.766</td>\n",
       "      <td>0.188</td>\n",
       "      <td>233.57</td>\n",
       "      <td>24.6</td>\n",
       "      <td>2009-11-04 11:06:00</td>\n",
       "      <td>88.0</td>\n",
       "    </tr>\n",
       "    <tr>\n",
       "      <th>23</th>\n",
       "      <td>5.076</td>\n",
       "      <td>0.150</td>\n",
       "      <td>238.87</td>\n",
       "      <td>21.2</td>\n",
       "      <td>2009-09-04 21:08:00</td>\n",
       "      <td>62.0</td>\n",
       "    </tr>\n",
       "    <tr>\n",
       "      <th>36</th>\n",
       "      <td>4.208</td>\n",
       "      <td>0.590</td>\n",
       "      <td>238.40</td>\n",
       "      <td>17.8</td>\n",
       "      <td>2009-12-12 17:07:00</td>\n",
       "      <td>35.0</td>\n",
       "    </tr>\n",
       "    <tr>\n",
       "      <th>55</th>\n",
       "      <td>3.784</td>\n",
       "      <td>0.000</td>\n",
       "      <td>238.68</td>\n",
       "      <td>16.0</td>\n",
       "      <td>2008-04-02 07:35:00</td>\n",
       "      <td>17.0</td>\n",
       "    </tr>\n",
       "    <tr>\n",
       "      <th>71</th>\n",
       "      <td>3.690</td>\n",
       "      <td>0.172</td>\n",
       "      <td>238.91</td>\n",
       "      <td>15.4</td>\n",
       "      <td>2010-06-21 22:06:00</td>\n",
       "      <td>39.0</td>\n",
       "    </tr>\n",
       "    <tr>\n",
       "      <th>...</th>\n",
       "      <td>...</td>\n",
       "      <td>...</td>\n",
       "      <td>...</td>\n",
       "      <td>...</td>\n",
       "      <td>...</td>\n",
       "      <td>...</td>\n",
       "    </tr>\n",
       "    <tr>\n",
       "      <th>14690</th>\n",
       "      <td>4.412</td>\n",
       "      <td>0.168</td>\n",
       "      <td>233.94</td>\n",
       "      <td>19.0</td>\n",
       "      <td>2007-04-03 20:07:00</td>\n",
       "      <td>42.0</td>\n",
       "    </tr>\n",
       "    <tr>\n",
       "      <th>14744</th>\n",
       "      <td>3.500</td>\n",
       "      <td>0.350</td>\n",
       "      <td>237.50</td>\n",
       "      <td>14.8</td>\n",
       "      <td>2009-10-22 07:02:00</td>\n",
       "      <td>28.0</td>\n",
       "    </tr>\n",
       "    <tr>\n",
       "      <th>14790</th>\n",
       "      <td>4.912</td>\n",
       "      <td>0.344</td>\n",
       "      <td>234.45</td>\n",
       "      <td>21.0</td>\n",
       "      <td>2007-09-26 21:38:00</td>\n",
       "      <td>36.0</td>\n",
       "    </tr>\n",
       "    <tr>\n",
       "      <th>14800</th>\n",
       "      <td>4.896</td>\n",
       "      <td>0.212</td>\n",
       "      <td>234.46</td>\n",
       "      <td>21.6</td>\n",
       "      <td>2008-10-18 20:37:00</td>\n",
       "      <td>17.0</td>\n",
       "    </tr>\n",
       "    <tr>\n",
       "      <th>14815</th>\n",
       "      <td>5.116</td>\n",
       "      <td>0.378</td>\n",
       "      <td>230.58</td>\n",
       "      <td>22.2</td>\n",
       "      <td>2009-05-12 20:05:00</td>\n",
       "      <td>54.0</td>\n",
       "    </tr>\n",
       "  </tbody>\n",
       "</table>\n",
       "<p>710 rows × 6 columns</p>\n",
       "</div>"
      ],
      "text/plain": [
       "       Global_active_power  Global_reactive_power  Voltage  Global_intensity  \\\n",
       "13                   5.766                  0.188   233.57              24.6   \n",
       "23                   5.076                  0.150   238.87              21.2   \n",
       "36                   4.208                  0.590   238.40              17.8   \n",
       "55                   3.784                  0.000   238.68              16.0   \n",
       "71                   3.690                  0.172   238.91              15.4   \n",
       "...                    ...                    ...      ...               ...   \n",
       "14690                4.412                  0.168   233.94              19.0   \n",
       "14744                3.500                  0.350   237.50              14.8   \n",
       "14790                4.912                  0.344   234.45              21.0   \n",
       "14800                4.896                  0.212   234.46              21.6   \n",
       "14815                5.116                  0.378   230.58              22.2   \n",
       "\n",
       "                 date_time  meterings  \n",
       "13     2009-11-04 11:06:00       88.0  \n",
       "23     2009-09-04 21:08:00       62.0  \n",
       "36     2009-12-12 17:07:00       35.0  \n",
       "55     2008-04-02 07:35:00       17.0  \n",
       "71     2010-06-21 22:06:00       39.0  \n",
       "...                    ...        ...  \n",
       "14690  2007-04-03 20:07:00       42.0  \n",
       "14744  2009-10-22 07:02:00       28.0  \n",
       "14790  2007-09-26 21:38:00       36.0  \n",
       "14800  2008-10-18 20:37:00       17.0  \n",
       "14815  2009-05-12 20:05:00       54.0  \n",
       "\n",
       "[710 rows x 6 columns]"
      ]
     },
     "execution_count": 14,
     "metadata": {},
     "output_type": "execute_result"
    }
   ],
   "source": [
    "data[data['Global_active_power'] > ulim_gap]\n",
    "# data[data['Global_active_power'] < llim_gap]"
   ]
  },
  {
   "cell_type": "code",
   "execution_count": 15,
   "id": "b57fc3e8",
   "metadata": {},
   "outputs": [
    {
     "data": {
      "text/plain": [
       "(14115, 6)"
      ]
     },
     "execution_count": 15,
     "metadata": {},
     "output_type": "execute_result"
    }
   ],
   "source": [
    "new_df = data[data['Global_active_power'] < ulim_gap]\n",
    "new_df.shape"
   ]
  },
  {
   "cell_type": "code",
   "execution_count": 16,
   "id": "05a5f21c",
   "metadata": {},
   "outputs": [
    {
     "data": {
      "image/png": "[encoded data removed]",
      "text/plain": [
       "<Figure size 1152x576 with 4 Axes>"
      ]
     },
     "metadata": {
      "needs_background": "light"
     },
     "output_type": "display_data"
    }
   ],
   "source": [
    "plt.figure(figsize=(16,8))\n",
    "plt.subplot(2,2,1)\n",
    "sns.distplot(data['Global_active_power'])\n",
    "plt.subplot(2,2,2)\n",
    "sns.boxplot(data['Global_active_power'])\n",
    "plt.subplot(2,2,3)\n",
    "sns.distplot(new_df['Global_active_power'])\n",
    "plt.subplot(2,2,4)\n",
    "sns.boxplot(new_df['Global_active_power'])\n",
    "plt.show()"
   ]
  },
  {
   "cell_type": "markdown",
   "id": "827a25e8",
   "metadata": {},
   "source": [
    "So there are changes, we're progressing, there are less outliers in the 'Global_active_power' column than there were before, lets do the whole proces for all the other features."
   ]
  },
  {
   "cell_type": "code",
   "execution_count": 17,
   "id": "c3ee9ebf",
   "metadata": {},
   "outputs": [
    {
     "data": {
      "text/plain": [
       "['Global_active_power',\n",
       " 'Global_reactive_power',\n",
       " 'Voltage',\n",
       " 'Global_intensity',\n",
       " 'meterings']"
      ]
     },
     "execution_count": 17,
     "metadata": {},
     "output_type": "execute_result"
    }
   ],
   "source": [
    "cols1"
   ]
  },
  {
   "cell_type": "code",
   "execution_count": 18,
   "id": "85b78546",
   "metadata": {},
   "outputs": [
    {
     "data": {
      "image/png": "[encoded data removed]",
      "text/plain": [
       "<Figure size 1152x576 with 4 Axes>"
      ]
     },
     "metadata": {
      "needs_background": "light"
     },
     "output_type": "display_data"
    }
   ],
   "source": [
    "p25_gap = data['Global_reactive_power'].quantile(0.25)\n",
    "p75_gap = data['Global_reactive_power'].quantile(0.75)\n",
    "\n",
    "# First quartile (Q1)\n",
    "Q1 = np.percentile(data['Global_reactive_power'], 25, interpolation = 'midpoint')\n",
    "  \n",
    "# Third quartile (Q3)\n",
    "Q3 = np.percentile(data['Global_reactive_power'], 75, interpolation = 'midpoint')\n",
    "\n",
    "IQR = Q3 - Q1\n",
    "\n",
    "ulim_gap = p75_gap + 1.5 * IQR\n",
    "llim_gap = p25_gap - 1.5 * IQR\n",
    "\n",
    "data[data['Global_reactive_power'] > ulim_gap]\n",
    "# data[data['Global_reactive_power'] < llim_gap]\n",
    "\n",
    "new_df = data[data['Global_reactive_power'] < ulim_gap]\n",
    "new_df.shape\n",
    "\n",
    "plt.figure(figsize=(16,8))\n",
    "plt.subplot(2,2,1)\n",
    "sns.distplot(data['Global_reactive_power'])\n",
    "plt.subplot(2,2,2)\n",
    "sns.boxplot(data['Global_reactive_power'])\n",
    "plt.subplot(2,2,3)\n",
    "sns.distplot(new_df['Global_reactive_power'])\n",
    "plt.subplot(2,2,4)\n",
    "sns.boxplot(new_df['Global_reactive_power'])\n",
    "plt.show()"
   ]
  },
  {
   "cell_type": "code",
   "execution_count": 19,
   "id": "5ff8cfc6",
   "metadata": {},
   "outputs": [
    {
     "data": {
      "image/png": "[encoded data removed]",
      "text/plain": [
       "<Figure size 1152x576 with 4 Axes>"
      ]
     },
     "metadata": {
      "needs_background": "light"
     },
     "output_type": "display_data"
    }
   ],
   "source": [
    "p25_gap = data['Voltage'].quantile(0.25)\n",
    "p75_gap = data['Voltage'].quantile(0.75)\n",
    "\n",
    "# First quartile (Q1)\n",
    "Q1 = np.percentile(data['Voltage'], 25, interpolation = 'midpoint')\n",
    "  \n",
    "# Third quartile (Q3)\n",
    "Q3 = np.percentile(data['Voltage'], 75, interpolation = 'midpoint')\n",
    "\n",
    "IQR = Q3 - Q1\n",
    "\n",
    "ulim_gap = p75_gap + 1.5 * IQR\n",
    "llim_gap = p25_gap - 1.5 * IQR\n",
    "\n",
    "data[data['Voltage'] > ulim_gap]\n",
    "# data[data['Voltage'] < llim_gap]\n",
    "\n",
    "new_df = data[data['Voltage'] < ulim_gap]\n",
    "new_df.shape\n",
    "\n",
    "plt.figure(figsize=(16,8))\n",
    "plt.subplot(2,2,1)\n",
    "sns.distplot(data['Voltage'])\n",
    "plt.subplot(2,2,2)\n",
    "sns.boxplot(data['Voltage'])\n",
    "plt.subplot(2,2,3)\n",
    "sns.distplot(new_df['Voltage'])\n",
    "plt.subplot(2,2,4)\n",
    "sns.boxplot(new_df['Voltage'])\n",
    "plt.show()"
   ]
  },
  {
   "cell_type": "code",
   "execution_count": 20,
   "id": "2613c273",
   "metadata": {},
   "outputs": [
    {
     "data": {
      "image/png": "[encoded data removed]",
      "text/plain": [
       "<Figure size 1152x576 with 4 Axes>"
      ]
     },
     "metadata": {
      "needs_background": "light"
     },
     "output_type": "display_data"
    }
   ],
   "source": [
    "p25_gap = data['Global_intensity'].quantile(0.25)\n",
    "p75_gap = data['Global_intensity'].quantile(0.75)\n",
    "\n",
    "# First quartile (Q1)\n",
    "Q1 = np.percentile(data['Global_intensity'], 25, interpolation = 'midpoint')\n",
    "  \n",
    "# Third quartile (Q3)\n",
    "Q3 = np.percentile(data['Global_intensity'], 75, interpolation = 'midpoint')\n",
    "\n",
    "IQR = Q3 - Q1\n",
    "\n",
    "ulim_gap = p75_gap + 1.5 * IQR\n",
    "llim_gap = p25_gap - 1.5 * IQR\n",
    "\n",
    "data[data['Global_intensity'] > ulim_gap]\n",
    "# data[data['Global_intensity'] < llim_gap]\n",
    "\n",
    "new_df = data[data['Global_intensity'] < ulim_gap]\n",
    "new_df.shape\n",
    "\n",
    "plt.figure(figsize=(16,8))\n",
    "plt.subplot(2,2,1)\n",
    "sns.distplot(data['Global_intensity'])\n",
    "plt.subplot(2,2,2)\n",
    "sns.boxplot(data['Global_intensity'])\n",
    "plt.subplot(2,2,3)\n",
    "sns.distplot(new_df['Global_intensity'])\n",
    "plt.subplot(2,2,4)\n",
    "sns.boxplot(new_df['Global_intensity'])\n",
    "plt.show()"
   ]
  },
  {
   "cell_type": "code",
   "execution_count": 21,
   "id": "71eb2326",
   "metadata": {},
   "outputs": [
    {
     "data": {
      "image/png": "[encoded data removed]",
      "text/plain": [
       "<Figure size 1152x576 with 4 Axes>"
      ]
     },
     "metadata": {
      "needs_background": "light"
     },
     "output_type": "display_data"
    }
   ],
   "source": [
    "p25_gap = data['meterings'].quantile(0.25)\n",
    "p75_gap = data['meterings'].quantile(0.75)\n",
    "\n",
    "# First quartile (Q1)\n",
    "Q1 = np.percentile(data['meterings'], 25, interpolation = 'midpoint')\n",
    "  \n",
    "# Third quartile (Q3)\n",
    "Q3 = np.percentile(data['meterings'], 75, interpolation = 'midpoint')\n",
    "\n",
    "IQR = Q3 - Q1\n",
    "\n",
    "ulim_gap = p75_gap + 1.5 * IQR\n",
    "llim_gap = p25_gap - 1.5 * IQR\n",
    "\n",
    "data[data['meterings'] > ulim_gap]\n",
    "# data[data['meterings'] < llim_gap]\n",
    "\n",
    "new_df = data[data['meterings'] < ulim_gap]\n",
    "new_df.shape\n",
    "\n",
    "plt.figure(figsize=(16,8))\n",
    "plt.subplot(2,2,1)\n",
    "sns.distplot(data['meterings'])\n",
    "plt.subplot(2,2,2)\n",
    "sns.boxplot(data['meterings'])\n",
    "plt.subplot(2,2,3)\n",
    "sns.distplot(new_df['meterings'])\n",
    "plt.subplot(2,2,4)\n",
    "sns.boxplot(new_df['meterings'])\n",
    "plt.show()"
   ]
  },
  {
   "cell_type": "code",
   "execution_count": 22,
   "id": "213684e0",
   "metadata": {},
   "outputs": [
    {
     "data": {
      "text/html": [
       "<div>\n",
       "<style scoped>\n",
       "    .dataframe tbody tr th:only-of-type {\n",
       "        vertical-align: middle;\n",
       "    }\n",
       "\n",
       "    .dataframe tbody tr th {\n",
       "        vertical-align: top;\n",
       "    }\n",
       "\n",
       "    .dataframe thead th {\n",
       "        text-align: right;\n",
       "    }\n",
       "</style>\n",
       "<table border=\"1\" class=\"dataframe\">\n",
       "  <thead>\n",
       "    <tr style=\"text-align: right;\">\n",
       "      <th></th>\n",
       "      <th>Global_active_power</th>\n",
       "      <th>Global_reactive_power</th>\n",
       "      <th>Voltage</th>\n",
       "      <th>Global_intensity</th>\n",
       "      <th>date_time</th>\n",
       "      <th>meterings</th>\n",
       "    </tr>\n",
       "  </thead>\n",
       "  <tbody>\n",
       "    <tr>\n",
       "      <th>0</th>\n",
       "      <td>3.322</td>\n",
       "      <td>0.204</td>\n",
       "      <td>238.70</td>\n",
       "      <td>14.2</td>\n",
       "      <td>2009-04-13 21:18:00</td>\n",
       "      <td>35.0</td>\n",
       "    </tr>\n",
       "    <tr>\n",
       "      <th>1</th>\n",
       "      <td>0.328</td>\n",
       "      <td>0.232</td>\n",
       "      <td>241.38</td>\n",
       "      <td>1.6</td>\n",
       "      <td>2008-05-17 03:59:00</td>\n",
       "      <td>1.0</td>\n",
       "    </tr>\n",
       "    <tr>\n",
       "      <th>2</th>\n",
       "      <td>0.298</td>\n",
       "      <td>0.112</td>\n",
       "      <td>245.59</td>\n",
       "      <td>1.2</td>\n",
       "      <td>2007-01-24 01:41:00</td>\n",
       "      <td>0.0</td>\n",
       "    </tr>\n",
       "    <tr>\n",
       "      <th>3</th>\n",
       "      <td>0.082</td>\n",
       "      <td>0.000</td>\n",
       "      <td>241.01</td>\n",
       "      <td>0.2</td>\n",
       "      <td>2008-08-25 23:04:00</td>\n",
       "      <td>1.0</td>\n",
       "    </tr>\n",
       "    <tr>\n",
       "      <th>4</th>\n",
       "      <td>0.336</td>\n",
       "      <td>0.078</td>\n",
       "      <td>245.62</td>\n",
       "      <td>1.4</td>\n",
       "      <td>2008-12-18 04:44:00</td>\n",
       "      <td>1.0</td>\n",
       "    </tr>\n",
       "    <tr>\n",
       "      <th>...</th>\n",
       "      <td>...</td>\n",
       "      <td>...</td>\n",
       "      <td>...</td>\n",
       "      <td>...</td>\n",
       "      <td>...</td>\n",
       "      <td>...</td>\n",
       "    </tr>\n",
       "    <tr>\n",
       "      <th>14820</th>\n",
       "      <td>1.606</td>\n",
       "      <td>0.312</td>\n",
       "      <td>240.42</td>\n",
       "      <td>6.8</td>\n",
       "      <td>2007-07-15 21:21:00</td>\n",
       "      <td>19.0</td>\n",
       "    </tr>\n",
       "    <tr>\n",
       "      <th>14821</th>\n",
       "      <td>0.334</td>\n",
       "      <td>0.052</td>\n",
       "      <td>245.61</td>\n",
       "      <td>1.6</td>\n",
       "      <td>2007-11-20 16:47:00</td>\n",
       "      <td>1.0</td>\n",
       "    </tr>\n",
       "    <tr>\n",
       "      <th>14822</th>\n",
       "      <td>0.144</td>\n",
       "      <td>0.000</td>\n",
       "      <td>239.76</td>\n",
       "      <td>0.6</td>\n",
       "      <td>2008-02-09 02:32:00</td>\n",
       "      <td>1.0</td>\n",
       "    </tr>\n",
       "    <tr>\n",
       "      <th>14823</th>\n",
       "      <td>0.264</td>\n",
       "      <td>0.192</td>\n",
       "      <td>236.11</td>\n",
       "      <td>1.4</td>\n",
       "      <td>2007-09-05 01:24:00</td>\n",
       "      <td>1.0</td>\n",
       "    </tr>\n",
       "    <tr>\n",
       "      <th>14824</th>\n",
       "      <td>0.426</td>\n",
       "      <td>0.356</td>\n",
       "      <td>242.92</td>\n",
       "      <td>2.2</td>\n",
       "      <td>2009-09-15 01:45:00</td>\n",
       "      <td>2.0</td>\n",
       "    </tr>\n",
       "  </tbody>\n",
       "</table>\n",
       "<p>14397 rows × 6 columns</p>\n",
       "</div>"
      ],
      "text/plain": [
       "       Global_active_power  Global_reactive_power  Voltage  Global_intensity  \\\n",
       "0                    3.322                  0.204   238.70              14.2   \n",
       "1                    0.328                  0.232   241.38               1.6   \n",
       "2                    0.298                  0.112   245.59               1.2   \n",
       "3                    0.082                  0.000   241.01               0.2   \n",
       "4                    0.336                  0.078   245.62               1.4   \n",
       "...                    ...                    ...      ...               ...   \n",
       "14820                1.606                  0.312   240.42               6.8   \n",
       "14821                0.334                  0.052   245.61               1.6   \n",
       "14822                0.144                  0.000   239.76               0.6   \n",
       "14823                0.264                  0.192   236.11               1.4   \n",
       "14824                0.426                  0.356   242.92               2.2   \n",
       "\n",
       "                 date_time  meterings  \n",
       "0      2009-04-13 21:18:00       35.0  \n",
       "1      2008-05-17 03:59:00        1.0  \n",
       "2      2007-01-24 01:41:00        0.0  \n",
       "3      2008-08-25 23:04:00        1.0  \n",
       "4      2008-12-18 04:44:00        1.0  \n",
       "...                    ...        ...  \n",
       "14820  2007-07-15 21:21:00       19.0  \n",
       "14821  2007-11-20 16:47:00        1.0  \n",
       "14822  2008-02-09 02:32:00        1.0  \n",
       "14823  2007-09-05 01:24:00        1.0  \n",
       "14824  2009-09-15 01:45:00        2.0  \n",
       "\n",
       "[14397 rows x 6 columns]"
      ]
     },
     "execution_count": 22,
     "metadata": {},
     "output_type": "execute_result"
    }
   ],
   "source": [
    "new_df"
   ]
  },
  {
   "cell_type": "code",
   "execution_count": 23,
   "id": "1f6e9673",
   "metadata": {},
   "outputs": [
    {
     "data": {
      "text/html": [
       "<div>\n",
       "<style scoped>\n",
       "    .dataframe tbody tr th:only-of-type {\n",
       "        vertical-align: middle;\n",
       "    }\n",
       "\n",
       "    .dataframe tbody tr th {\n",
       "        vertical-align: top;\n",
       "    }\n",
       "\n",
       "    .dataframe thead th {\n",
       "        text-align: right;\n",
       "    }\n",
       "</style>\n",
       "<table border=\"1\" class=\"dataframe\">\n",
       "  <thead>\n",
       "    <tr style=\"text-align: right;\">\n",
       "      <th></th>\n",
       "      <th>Global_active_power</th>\n",
       "      <th>Global_reactive_power</th>\n",
       "      <th>Voltage</th>\n",
       "      <th>Global_intensity</th>\n",
       "      <th>meterings</th>\n",
       "    </tr>\n",
       "  </thead>\n",
       "  <tbody>\n",
       "    <tr>\n",
       "      <th>count</th>\n",
       "      <td>14397.000000</td>\n",
       "      <td>14397.000000</td>\n",
       "      <td>14397.000000</td>\n",
       "      <td>14397.000000</td>\n",
       "      <td>14397.000000</td>\n",
       "    </tr>\n",
       "    <tr>\n",
       "      <th>mean</th>\n",
       "      <td>0.995290</td>\n",
       "      <td>0.122642</td>\n",
       "      <td>240.981193</td>\n",
       "      <td>4.217031</td>\n",
       "      <td>7.315899</td>\n",
       "    </tr>\n",
       "    <tr>\n",
       "      <th>std</th>\n",
       "      <td>0.887389</td>\n",
       "      <td>0.111059</td>\n",
       "      <td>3.142006</td>\n",
       "      <td>3.710276</td>\n",
       "      <td>9.513796</td>\n",
       "    </tr>\n",
       "    <tr>\n",
       "      <th>min</th>\n",
       "      <td>0.078000</td>\n",
       "      <td>0.000000</td>\n",
       "      <td>226.180000</td>\n",
       "      <td>0.200000</td>\n",
       "      <td>0.000000</td>\n",
       "    </tr>\n",
       "    <tr>\n",
       "      <th>25%</th>\n",
       "      <td>0.304000</td>\n",
       "      <td>0.048000</td>\n",
       "      <td>239.200000</td>\n",
       "      <td>1.400000</td>\n",
       "      <td>0.000000</td>\n",
       "    </tr>\n",
       "    <tr>\n",
       "      <th>50%</th>\n",
       "      <td>0.556000</td>\n",
       "      <td>0.100000</td>\n",
       "      <td>241.080000</td>\n",
       "      <td>2.400000</td>\n",
       "      <td>1.000000</td>\n",
       "    </tr>\n",
       "    <tr>\n",
       "      <th>75%</th>\n",
       "      <td>1.474000</td>\n",
       "      <td>0.192000</td>\n",
       "      <td>242.970000</td>\n",
       "      <td>6.200000</td>\n",
       "      <td>18.000000</td>\n",
       "    </tr>\n",
       "    <tr>\n",
       "      <th>max</th>\n",
       "      <td>6.704000</td>\n",
       "      <td>1.108000</td>\n",
       "      <td>253.070000</td>\n",
       "      <td>29.000000</td>\n",
       "      <td>44.000000</td>\n",
       "    </tr>\n",
       "  </tbody>\n",
       "</table>\n",
       "</div>"
      ],
      "text/plain": [
       "       Global_active_power  Global_reactive_power       Voltage  \\\n",
       "count         14397.000000           14397.000000  14397.000000   \n",
       "mean              0.995290               0.122642    240.981193   \n",
       "std               0.887389               0.111059      3.142006   \n",
       "min               0.078000               0.000000    226.180000   \n",
       "25%               0.304000               0.048000    239.200000   \n",
       "50%               0.556000               0.100000    241.080000   \n",
       "75%               1.474000               0.192000    242.970000   \n",
       "max               6.704000               1.108000    253.070000   \n",
       "\n",
       "       Global_intensity     meterings  \n",
       "count      14397.000000  14397.000000  \n",
       "mean           4.217031      7.315899  \n",
       "std            3.710276      9.513796  \n",
       "min            0.200000      0.000000  \n",
       "25%            1.400000      0.000000  \n",
       "50%            2.400000      1.000000  \n",
       "75%            6.200000     18.000000  \n",
       "max           29.000000     44.000000  "
      ]
     },
     "execution_count": 23,
     "metadata": {},
     "output_type": "execute_result"
    }
   ],
   "source": [
    "new_df.describe()"
   ]
  },
  {
   "cell_type": "code",
   "execution_count": 25,
   "id": "5428308e",
   "metadata": {},
   "outputs": [
    {
     "name": "stdout",
     "output_type": "stream",
     "text": [
      "<class 'pandas.core.frame.DataFrame'>\n",
      "Int64Index: 14397 entries, 0 to 14824\n",
      "Data columns (total 6 columns):\n",
      " #   Column                 Non-Null Count  Dtype  \n",
      "---  ------                 --------------  -----  \n",
      " 0   Global_active_power    14397 non-null  float64\n",
      " 1   Global_reactive_power  14397 non-null  float64\n",
      " 2   Voltage                14397 non-null  float64\n",
      " 3   Global_intensity       14397 non-null  float64\n",
      " 4   date_time              14397 non-null  object \n",
      " 5   meterings              14397 non-null  float64\n",
      "dtypes: float64(5), object(1)\n",
      "memory usage: 787.3+ KB\n"
     ]
    }
   ],
   "source": [
    "new_df.info()"
   ]
  },
  {
   "cell_type": "code",
   "execution_count": 27,
   "id": "472c382f",
   "metadata": {},
   "outputs": [
    {
     "data": {
      "text/plain": [
       "0"
      ]
     },
     "execution_count": 27,
     "metadata": {},
     "output_type": "execute_result"
    }
   ],
   "source": [
    "new_df.duplicated().sum()"
   ]
  },
  {
   "cell_type": "code",
   "execution_count": 29,
   "id": "583e1740",
   "metadata": {},
   "outputs": [
    {
     "data": {
      "text/plain": [
       "Global_active_power      0\n",
       "Global_reactive_power    0\n",
       "Voltage                  0\n",
       "Global_intensity         0\n",
       "date_time                0\n",
       "meterings                0\n",
       "dtype: int64"
      ]
     },
     "execution_count": 29,
     "metadata": {},
     "output_type": "execute_result"
    }
   ],
   "source": [
    "new_df.isnull().sum()"
   ]
  },
  {
   "cell_type": "code",
   "execution_count": 30,
   "id": "4907c05e",
   "metadata": {},
   "outputs": [
    {
     "data": {
      "text/plain": [
       "(14397, 6)"
      ]
     },
     "execution_count": 30,
     "metadata": {},
     "output_type": "execute_result"
    }
   ],
   "source": [
    "new_df.shape"
   ]
  },
  {
   "cell_type": "markdown",
   "id": "2cfa08e7",
   "metadata": {},
   "source": [
    "Now we can finally export a csv without outliers\n",
    "### Exporting CSV"
   ]
  },
  {
   "cell_type": "code",
   "execution_count": 31,
   "id": "6263e2c4",
   "metadata": {},
   "outputs": [],
   "source": [
    "import os\n",
    "os.makedirs('no_outliers')\n",
    "new_df.to_csv('no_outliers/pow_cons_new1.csv')"
   ]
  }
 ],
 "metadata": {
  "kernelspec": {
   "display_name": "Python 3 (ipykernel)",
   "language": "python",
   "name": "python3"
  },
  "language_info": {
   "codemirror_mode": {
    "name": "ipython",
    "version": 3
   },
   "file_extension": ".py",
   "mimetype": "text/x-python",
   "name": "python",
   "nbconvert_exporter": "python",
   "pygments_lexer": "ipython3",
   "version": "3.9.12"
  }
 },
 "nbformat": 4,
 "nbformat_minor": 5
}
