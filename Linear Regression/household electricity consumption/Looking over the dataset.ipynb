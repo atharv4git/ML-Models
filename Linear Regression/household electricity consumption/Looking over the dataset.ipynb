{
 "cells": [
  {
   "cell_type": "code",
   "execution_count": 1,
   "id": "3280ee54",
   "metadata": {},
   "outputs": [],
   "source": [
    "import pandas as pd\n",
    "import numpy as np\n",
    "import missingno as msno\n",
    "import seaborn as sns\n",
    "import matplotlib.pyplot as plt\n",
    "%matplotlib inline\n",
    "import warnings\n",
    "warnings.simplefilter('ignore')\n",
    "import statistics as stats"
   ]
  },
  {
   "cell_type": "markdown",
   "id": "86ae67fa",
   "metadata": {},
   "source": [
    "# Data Set Information:\n",
    "\n",
    "This archive contains 2075259 measurements gathered in a house located in Sceaux (7km of Paris, France) between December 2006 and November 2010 (47 months).\n",
    "Notes:\n",
    "1. (global_active_power*1000/60 - sub_metering_1 - sub_metering_2 - sub_metering_3) represents the active energy consumed every minute (in watt hour) in the household by electrical equipment not measured in sub-meterings 1, 2 and 3.\n",
    "2. The dataset contains some missing values in the measurements (nearly 1,25% of the rows). All calendar timestamps are present in the dataset but for some timestamps, the measurement values are missing: a missing value is represented by the absence of value between two consecutive semi-colon attribute separators. For instance, the dataset shows missing values on April 28, 2007.\n",
    "\n",
    "\n",
    "# Attribute Information:\n",
    "\n",
    "1. date: Date in format dd/mm/yyyy\n",
    "2. time: time in format hh:mm:ss\n",
    "3. global_active_power: household global minute-averaged active power (in kilowatt)\n",
    "4. global_reactive_power: household global minute-averaged reactive power (in kilowatt)\n",
    "5. voltage: minute-averaged voltage (in volt)\n",
    "6. global_intensity: household global minute-averaged current intensity (in ampere)\n",
    "7. sub_metering_1: energy sub-metering No. 1 (in watt-hour of active energy). It corresponds to the kitchen, containing mainly a dishwasher, an oven and a microwave (hot plates are not electric but gas powered).\n",
    "8. sub_metering_2: energy sub-metering No. 2 (in watt-hour of active energy). It corresponds to the laundry room, containing a washing-machine, a tumble-drier, a refrigerator and a light.\n",
    "9. sub_metering_3: energy sub-metering No. 3 (in watt-hour of active energy). It corresponds to an electric water-heater and an air-conditioner."
   ]
  },
  {
   "cell_type": "markdown",
   "id": "fb298ec7",
   "metadata": {},
   "source": [
    "### Reading the txt file with the seperator  ';'"
   ]
  },
  {
   "cell_type": "code",
   "execution_count": 2,
   "id": "105504d6",
   "metadata": {},
   "outputs": [
    {
     "data": {
      "text/html": [
       "<div>\n",
       "<style scoped>\n",
       "    .dataframe tbody tr th:only-of-type {\n",
       "        vertical-align: middle;\n",
       "    }\n",
       "\n",
       "    .dataframe tbody tr th {\n",
       "        vertical-align: top;\n",
       "    }\n",
       "\n",
       "    .dataframe thead th {\n",
       "        text-align: right;\n",
       "    }\n",
       "</style>\n",
       "<table border=\"1\" class=\"dataframe\">\n",
       "  <thead>\n",
       "    <tr style=\"text-align: right;\">\n",
       "      <th></th>\n",
       "      <th>Date</th>\n",
       "      <th>Time</th>\n",
       "      <th>Global_active_power</th>\n",
       "      <th>Global_reactive_power</th>\n",
       "      <th>Voltage</th>\n",
       "      <th>Global_intensity</th>\n",
       "      <th>Sub_metering_1</th>\n",
       "      <th>Sub_metering_2</th>\n",
       "      <th>Sub_metering_3</th>\n",
       "    </tr>\n",
       "  </thead>\n",
       "  <tbody>\n",
       "    <tr>\n",
       "      <th>0</th>\n",
       "      <td>16/12/2006</td>\n",
       "      <td>17:24:00</td>\n",
       "      <td>4.216</td>\n",
       "      <td>0.418</td>\n",
       "      <td>234.840</td>\n",
       "      <td>18.400</td>\n",
       "      <td>0.000</td>\n",
       "      <td>1.000</td>\n",
       "      <td>17.0</td>\n",
       "    </tr>\n",
       "    <tr>\n",
       "      <th>1</th>\n",
       "      <td>16/12/2006</td>\n",
       "      <td>17:25:00</td>\n",
       "      <td>5.360</td>\n",
       "      <td>0.436</td>\n",
       "      <td>233.630</td>\n",
       "      <td>23.000</td>\n",
       "      <td>0.000</td>\n",
       "      <td>1.000</td>\n",
       "      <td>16.0</td>\n",
       "    </tr>\n",
       "    <tr>\n",
       "      <th>2</th>\n",
       "      <td>16/12/2006</td>\n",
       "      <td>17:26:00</td>\n",
       "      <td>5.374</td>\n",
       "      <td>0.498</td>\n",
       "      <td>233.290</td>\n",
       "      <td>23.000</td>\n",
       "      <td>0.000</td>\n",
       "      <td>2.000</td>\n",
       "      <td>17.0</td>\n",
       "    </tr>\n",
       "    <tr>\n",
       "      <th>3</th>\n",
       "      <td>16/12/2006</td>\n",
       "      <td>17:27:00</td>\n",
       "      <td>5.388</td>\n",
       "      <td>0.502</td>\n",
       "      <td>233.740</td>\n",
       "      <td>23.000</td>\n",
       "      <td>0.000</td>\n",
       "      <td>1.000</td>\n",
       "      <td>17.0</td>\n",
       "    </tr>\n",
       "    <tr>\n",
       "      <th>4</th>\n",
       "      <td>16/12/2006</td>\n",
       "      <td>17:28:00</td>\n",
       "      <td>3.666</td>\n",
       "      <td>0.528</td>\n",
       "      <td>235.680</td>\n",
       "      <td>15.800</td>\n",
       "      <td>0.000</td>\n",
       "      <td>1.000</td>\n",
       "      <td>17.0</td>\n",
       "    </tr>\n",
       "    <tr>\n",
       "      <th>...</th>\n",
       "      <td>...</td>\n",
       "      <td>...</td>\n",
       "      <td>...</td>\n",
       "      <td>...</td>\n",
       "      <td>...</td>\n",
       "      <td>...</td>\n",
       "      <td>...</td>\n",
       "      <td>...</td>\n",
       "      <td>...</td>\n",
       "    </tr>\n",
       "    <tr>\n",
       "      <th>2075254</th>\n",
       "      <td>26/11/2010</td>\n",
       "      <td>20:58:00</td>\n",
       "      <td>0.946</td>\n",
       "      <td>0.0</td>\n",
       "      <td>240.43</td>\n",
       "      <td>4.0</td>\n",
       "      <td>0.0</td>\n",
       "      <td>0.0</td>\n",
       "      <td>0.0</td>\n",
       "    </tr>\n",
       "    <tr>\n",
       "      <th>2075255</th>\n",
       "      <td>26/11/2010</td>\n",
       "      <td>20:59:00</td>\n",
       "      <td>0.944</td>\n",
       "      <td>0.0</td>\n",
       "      <td>240.0</td>\n",
       "      <td>4.0</td>\n",
       "      <td>0.0</td>\n",
       "      <td>0.0</td>\n",
       "      <td>0.0</td>\n",
       "    </tr>\n",
       "    <tr>\n",
       "      <th>2075256</th>\n",
       "      <td>26/11/2010</td>\n",
       "      <td>21:00:00</td>\n",
       "      <td>0.938</td>\n",
       "      <td>0.0</td>\n",
       "      <td>239.82</td>\n",
       "      <td>3.8</td>\n",
       "      <td>0.0</td>\n",
       "      <td>0.0</td>\n",
       "      <td>0.0</td>\n",
       "    </tr>\n",
       "    <tr>\n",
       "      <th>2075257</th>\n",
       "      <td>26/11/2010</td>\n",
       "      <td>21:01:00</td>\n",
       "      <td>0.934</td>\n",
       "      <td>0.0</td>\n",
       "      <td>239.7</td>\n",
       "      <td>3.8</td>\n",
       "      <td>0.0</td>\n",
       "      <td>0.0</td>\n",
       "      <td>0.0</td>\n",
       "    </tr>\n",
       "    <tr>\n",
       "      <th>2075258</th>\n",
       "      <td>26/11/2010</td>\n",
       "      <td>21:02:00</td>\n",
       "      <td>0.932</td>\n",
       "      <td>0.0</td>\n",
       "      <td>239.55</td>\n",
       "      <td>3.8</td>\n",
       "      <td>0.0</td>\n",
       "      <td>0.0</td>\n",
       "      <td>0.0</td>\n",
       "    </tr>\n",
       "  </tbody>\n",
       "</table>\n",
       "<p>2075259 rows × 9 columns</p>\n",
       "</div>"
      ],
      "text/plain": [
       "               Date      Time Global_active_power Global_reactive_power  \\\n",
       "0        16/12/2006  17:24:00               4.216                 0.418   \n",
       "1        16/12/2006  17:25:00               5.360                 0.436   \n",
       "2        16/12/2006  17:26:00               5.374                 0.498   \n",
       "3        16/12/2006  17:27:00               5.388                 0.502   \n",
       "4        16/12/2006  17:28:00               3.666                 0.528   \n",
       "...             ...       ...                 ...                   ...   \n",
       "2075254  26/11/2010  20:58:00               0.946                   0.0   \n",
       "2075255  26/11/2010  20:59:00               0.944                   0.0   \n",
       "2075256  26/11/2010  21:00:00               0.938                   0.0   \n",
       "2075257  26/11/2010  21:01:00               0.934                   0.0   \n",
       "2075258  26/11/2010  21:02:00               0.932                   0.0   \n",
       "\n",
       "         Voltage Global_intensity Sub_metering_1 Sub_metering_2  \\\n",
       "0        234.840           18.400          0.000          1.000   \n",
       "1        233.630           23.000          0.000          1.000   \n",
       "2        233.290           23.000          0.000          2.000   \n",
       "3        233.740           23.000          0.000          1.000   \n",
       "4        235.680           15.800          0.000          1.000   \n",
       "...          ...              ...            ...            ...   \n",
       "2075254   240.43              4.0            0.0            0.0   \n",
       "2075255    240.0              4.0            0.0            0.0   \n",
       "2075256   239.82              3.8            0.0            0.0   \n",
       "2075257    239.7              3.8            0.0            0.0   \n",
       "2075258   239.55              3.8            0.0            0.0   \n",
       "\n",
       "         Sub_metering_3  \n",
       "0                  17.0  \n",
       "1                  16.0  \n",
       "2                  17.0  \n",
       "3                  17.0  \n",
       "4                  17.0  \n",
       "...                 ...  \n",
       "2075254             0.0  \n",
       "2075255             0.0  \n",
       "2075256             0.0  \n",
       "2075257             0.0  \n",
       "2075258             0.0  \n",
       "\n",
       "[2075259 rows x 9 columns]"
      ]
     },
     "execution_count": 2,
     "metadata": {},
     "output_type": "execute_result"
    }
   ],
   "source": [
    "data = pd.read_csv('household_power_consumption/household_power_consumption.txt',sep=';')\n",
    "data"
   ]
  },
  {
   "cell_type": "markdown",
   "id": "ff86b069",
   "metadata": {},
   "source": [
    "### Creating a sample of 15000 random data points"
   ]
  },
  {
   "cell_type": "code",
   "execution_count": 3,
   "id": "0be042f2",
   "metadata": {},
   "outputs": [],
   "source": [
    "data_sample = data.sample(15000)"
   ]
  },
  {
   "cell_type": "markdown",
   "id": "c32ec294",
   "metadata": {},
   "source": [
    "### Looking for missing values"
   ]
  },
  {
   "cell_type": "code",
   "execution_count": 4,
   "id": "a974e80c",
   "metadata": {},
   "outputs": [
    {
     "data": {
      "text/plain": [
       "<AxesSubplot:>"
      ]
     },
     "execution_count": 4,
     "metadata": {},
     "output_type": "execute_result"
    },
    {
     "data": {
      "image/png": "[encoded data removed]",
      "text/plain": [
       "<Figure size 1800x720 with 2 Axes>"
      ]
     },
     "metadata": {
      "needs_background": "light"
     },
     "output_type": "display_data"
    }
   ],
   "source": [
    "msno.matrix(data_sample)"
   ]
  },
  {
   "cell_type": "code",
   "execution_count": 5,
   "id": "e9742050",
   "metadata": {},
   "outputs": [
    {
     "data": {
      "text/plain": [
       "Date                       0\n",
       "Time                       0\n",
       "Global_active_power        0\n",
       "Global_reactive_power      0\n",
       "Voltage                    0\n",
       "Global_intensity           0\n",
       "Sub_metering_1             0\n",
       "Sub_metering_2             0\n",
       "Sub_metering_3           175\n",
       "dtype: int64"
      ]
     },
     "execution_count": 5,
     "metadata": {},
     "output_type": "execute_result"
    }
   ],
   "source": [
    "data_sample.isnull().sum()"
   ]
  },
  {
   "cell_type": "code",
   "execution_count": 6,
   "id": "a61235aa",
   "metadata": {},
   "outputs": [
    {
     "data": {
      "text/plain": [
       "Date                       0\n",
       "Time                       0\n",
       "Global_active_power        0\n",
       "Global_reactive_power      0\n",
       "Voltage                    0\n",
       "Global_intensity           0\n",
       "Sub_metering_1             0\n",
       "Sub_metering_2             0\n",
       "Sub_metering_3           175\n",
       "dtype: int64"
      ]
     },
     "execution_count": 6,
     "metadata": {},
     "output_type": "execute_result"
    }
   ],
   "source": [
    "data_sample.isna().sum()"
   ]
  },
  {
   "cell_type": "code",
   "execution_count": 7,
   "id": "5819a5dc",
   "metadata": {},
   "outputs": [
    {
     "name": "stdout",
     "output_type": "stream",
     "text": [
      "<class 'pandas.core.frame.DataFrame'>\n",
      "Int64Index: 15000 entries, 1222794 to 1444821\n",
      "Data columns (total 9 columns):\n",
      " #   Column                 Non-Null Count  Dtype  \n",
      "---  ------                 --------------  -----  \n",
      " 0   Date                   15000 non-null  object \n",
      " 1   Time                   15000 non-null  object \n",
      " 2   Global_active_power    15000 non-null  object \n",
      " 3   Global_reactive_power  15000 non-null  object \n",
      " 4   Voltage                15000 non-null  object \n",
      " 5   Global_intensity       15000 non-null  object \n",
      " 6   Sub_metering_1         15000 non-null  object \n",
      " 7   Sub_metering_2         15000 non-null  object \n",
      " 8   Sub_metering_3         14825 non-null  float64\n",
      "dtypes: float64(1), object(8)\n",
      "memory usage: 1.1+ MB\n"
     ]
    }
   ],
   "source": [
    "data_sample.info()"
   ]
  },
  {
   "cell_type": "markdown",
   "id": "c29230f8",
   "metadata": {},
   "source": [
    "OMG!!! only one column is numerical, others are objects!!!\n",
    "### Changing the datatype"
   ]
  },
  {
   "cell_type": "code",
   "execution_count": 8,
   "id": "41495696",
   "metadata": {},
   "outputs": [
    {
     "data": {
      "text/plain": [
       "Index(['Date', 'Time', 'Global_active_power', 'Global_reactive_power',\n",
       "       'Voltage', 'Global_intensity', 'Sub_metering_1', 'Sub_metering_2',\n",
       "       'Sub_metering_3'],\n",
       "      dtype='object')"
      ]
     },
     "execution_count": 8,
     "metadata": {},
     "output_type": "execute_result"
    }
   ],
   "source": [
    "data_sample.columns"
   ]
  },
  {
   "cell_type": "code",
   "execution_count": 9,
   "id": "82fdfcc3",
   "metadata": {},
   "outputs": [],
   "source": [
    "data_sample.replace(\"?\",np.nan,inplace=True)"
   ]
  },
  {
   "cell_type": "code",
   "execution_count": 10,
   "id": "9c9689bf",
   "metadata": {},
   "outputs": [],
   "source": [
    "data_sample1 = data_sample.astype({'Global_active_power':'float', 'Global_reactive_power':'float',\n",
    "       'Voltage':'float', 'Global_intensity':'float', 'Sub_metering_1':'float', 'Sub_metering_2':'float'})"
   ]
  },
  {
   "cell_type": "code",
   "execution_count": 11,
   "id": "deac8716",
   "metadata": {},
   "outputs": [
    {
     "name": "stdout",
     "output_type": "stream",
     "text": [
      "<class 'pandas.core.frame.DataFrame'>\n",
      "Int64Index: 15000 entries, 1222794 to 1444821\n",
      "Data columns (total 9 columns):\n",
      " #   Column                 Non-Null Count  Dtype  \n",
      "---  ------                 --------------  -----  \n",
      " 0   Date                   15000 non-null  object \n",
      " 1   Time                   15000 non-null  object \n",
      " 2   Global_active_power    14825 non-null  float64\n",
      " 3   Global_reactive_power  14825 non-null  float64\n",
      " 4   Voltage                14825 non-null  float64\n",
      " 5   Global_intensity       14825 non-null  float64\n",
      " 6   Sub_metering_1         14825 non-null  float64\n",
      " 7   Sub_metering_2         14825 non-null  float64\n",
      " 8   Sub_metering_3         14825 non-null  float64\n",
      "dtypes: float64(7), object(2)\n",
      "memory usage: 1.1+ MB\n"
     ]
    }
   ],
   "source": [
    "data_sample1.info()"
   ]
  },
  {
   "cell_type": "markdown",
   "id": "afbeb369",
   "metadata": {},
   "source": [
    "### Createing a new date_time column"
   ]
  },
  {
   "cell_type": "code",
   "execution_count": 12,
   "id": "c90c7a7e",
   "metadata": {},
   "outputs": [],
   "source": [
    "data_sample1['date_time'] = pd.to_datetime(data_sample1['Date']+\" \"+data_sample1['Time'])"
   ]
  },
  {
   "cell_type": "code",
   "execution_count": 13,
   "id": "43b94fc3",
   "metadata": {},
   "outputs": [
    {
     "data": {
      "text/html": [
       "<div>\n",
       "<style scoped>\n",
       "    .dataframe tbody tr th:only-of-type {\n",
       "        vertical-align: middle;\n",
       "    }\n",
       "\n",
       "    .dataframe tbody tr th {\n",
       "        vertical-align: top;\n",
       "    }\n",
       "\n",
       "    .dataframe thead th {\n",
       "        text-align: right;\n",
       "    }\n",
       "</style>\n",
       "<table border=\"1\" class=\"dataframe\">\n",
       "  <thead>\n",
       "    <tr style=\"text-align: right;\">\n",
       "      <th></th>\n",
       "      <th>Date</th>\n",
       "      <th>Time</th>\n",
       "      <th>Global_active_power</th>\n",
       "      <th>Global_reactive_power</th>\n",
       "      <th>Voltage</th>\n",
       "      <th>Global_intensity</th>\n",
       "      <th>Sub_metering_1</th>\n",
       "      <th>Sub_metering_2</th>\n",
       "      <th>Sub_metering_3</th>\n",
       "      <th>date_time</th>\n",
       "    </tr>\n",
       "  </thead>\n",
       "  <tbody>\n",
       "    <tr>\n",
       "      <th>1222794</th>\n",
       "      <td>13/4/2009</td>\n",
       "      <td>21:18:00</td>\n",
       "      <td>3.322</td>\n",
       "      <td>0.204</td>\n",
       "      <td>238.70</td>\n",
       "      <td>14.2</td>\n",
       "      <td>1.0</td>\n",
       "      <td>33.0</td>\n",
       "      <td>1.0</td>\n",
       "      <td>2009-04-13 21:18:00</td>\n",
       "    </tr>\n",
       "    <tr>\n",
       "      <th>745115</th>\n",
       "      <td>17/5/2008</td>\n",
       "      <td>03:59:00</td>\n",
       "      <td>0.328</td>\n",
       "      <td>0.232</td>\n",
       "      <td>241.38</td>\n",
       "      <td>1.6</td>\n",
       "      <td>0.0</td>\n",
       "      <td>0.0</td>\n",
       "      <td>1.0</td>\n",
       "      <td>2008-05-17 03:59:00</td>\n",
       "    </tr>\n",
       "    <tr>\n",
       "      <th>55217</th>\n",
       "      <td>24/1/2007</td>\n",
       "      <td>01:41:00</td>\n",
       "      <td>0.298</td>\n",
       "      <td>0.112</td>\n",
       "      <td>245.59</td>\n",
       "      <td>1.2</td>\n",
       "      <td>0.0</td>\n",
       "      <td>0.0</td>\n",
       "      <td>0.0</td>\n",
       "      <td>2007-01-24 01:41:00</td>\n",
       "    </tr>\n",
       "    <tr>\n",
       "      <th>890260</th>\n",
       "      <td>25/8/2008</td>\n",
       "      <td>23:04:00</td>\n",
       "      <td>0.082</td>\n",
       "      <td>0.000</td>\n",
       "      <td>241.01</td>\n",
       "      <td>0.2</td>\n",
       "      <td>0.0</td>\n",
       "      <td>0.0</td>\n",
       "      <td>1.0</td>\n",
       "      <td>2008-08-25 23:04:00</td>\n",
       "    </tr>\n",
       "    <tr>\n",
       "      <th>1054760</th>\n",
       "      <td>18/12/2008</td>\n",
       "      <td>04:44:00</td>\n",
       "      <td>0.336</td>\n",
       "      <td>0.078</td>\n",
       "      <td>245.62</td>\n",
       "      <td>1.4</td>\n",
       "      <td>0.0</td>\n",
       "      <td>1.0</td>\n",
       "      <td>0.0</td>\n",
       "      <td>2008-12-18 04:44:00</td>\n",
       "    </tr>\n",
       "  </tbody>\n",
       "</table>\n",
       "</div>"
      ],
      "text/plain": [
       "               Date      Time  Global_active_power  Global_reactive_power  \\\n",
       "1222794   13/4/2009  21:18:00                3.322                  0.204   \n",
       "745115    17/5/2008  03:59:00                0.328                  0.232   \n",
       "55217     24/1/2007  01:41:00                0.298                  0.112   \n",
       "890260    25/8/2008  23:04:00                0.082                  0.000   \n",
       "1054760  18/12/2008  04:44:00                0.336                  0.078   \n",
       "\n",
       "         Voltage  Global_intensity  Sub_metering_1  Sub_metering_2  \\\n",
       "1222794   238.70              14.2             1.0            33.0   \n",
       "745115    241.38               1.6             0.0             0.0   \n",
       "55217     245.59               1.2             0.0             0.0   \n",
       "890260    241.01               0.2             0.0             0.0   \n",
       "1054760   245.62               1.4             0.0             1.0   \n",
       "\n",
       "         Sub_metering_3           date_time  \n",
       "1222794             1.0 2009-04-13 21:18:00  \n",
       "745115              1.0 2008-05-17 03:59:00  \n",
       "55217               0.0 2007-01-24 01:41:00  \n",
       "890260              1.0 2008-08-25 23:04:00  \n",
       "1054760             0.0 2008-12-18 04:44:00  "
      ]
     },
     "execution_count": 13,
     "metadata": {},
     "output_type": "execute_result"
    }
   ],
   "source": [
    "data_sample1.head()"
   ]
  },
  {
   "cell_type": "markdown",
   "id": "33246c17",
   "metadata": {},
   "source": [
    "### Combining sub meterings"
   ]
  },
  {
   "cell_type": "code",
   "execution_count": 14,
   "id": "d3266b5c",
   "metadata": {},
   "outputs": [],
   "source": [
    "data_sample1['meterings'] = data_sample1['Sub_metering_1'] + data_sample1['Sub_metering_2'] + data_sample1['Sub_metering_3']"
   ]
  },
  {
   "cell_type": "code",
   "execution_count": 15,
   "id": "135f649e",
   "metadata": {},
   "outputs": [
    {
     "data": {
      "text/html": [
       "<div>\n",
       "<style scoped>\n",
       "    .dataframe tbody tr th:only-of-type {\n",
       "        vertical-align: middle;\n",
       "    }\n",
       "\n",
       "    .dataframe tbody tr th {\n",
       "        vertical-align: top;\n",
       "    }\n",
       "\n",
       "    .dataframe thead th {\n",
       "        text-align: right;\n",
       "    }\n",
       "</style>\n",
       "<table border=\"1\" class=\"dataframe\">\n",
       "  <thead>\n",
       "    <tr style=\"text-align: right;\">\n",
       "      <th></th>\n",
       "      <th>Date</th>\n",
       "      <th>Time</th>\n",
       "      <th>Global_active_power</th>\n",
       "      <th>Global_reactive_power</th>\n",
       "      <th>Voltage</th>\n",
       "      <th>Global_intensity</th>\n",
       "      <th>Sub_metering_1</th>\n",
       "      <th>Sub_metering_2</th>\n",
       "      <th>Sub_metering_3</th>\n",
       "      <th>date_time</th>\n",
       "      <th>meterings</th>\n",
       "    </tr>\n",
       "  </thead>\n",
       "  <tbody>\n",
       "    <tr>\n",
       "      <th>1222794</th>\n",
       "      <td>13/4/2009</td>\n",
       "      <td>21:18:00</td>\n",
       "      <td>3.322</td>\n",
       "      <td>0.204</td>\n",
       "      <td>238.70</td>\n",
       "      <td>14.2</td>\n",
       "      <td>1.0</td>\n",
       "      <td>33.0</td>\n",
       "      <td>1.0</td>\n",
       "      <td>2009-04-13 21:18:00</td>\n",
       "      <td>35.0</td>\n",
       "    </tr>\n",
       "    <tr>\n",
       "      <th>745115</th>\n",
       "      <td>17/5/2008</td>\n",
       "      <td>03:59:00</td>\n",
       "      <td>0.328</td>\n",
       "      <td>0.232</td>\n",
       "      <td>241.38</td>\n",
       "      <td>1.6</td>\n",
       "      <td>0.0</td>\n",
       "      <td>0.0</td>\n",
       "      <td>1.0</td>\n",
       "      <td>2008-05-17 03:59:00</td>\n",
       "      <td>1.0</td>\n",
       "    </tr>\n",
       "    <tr>\n",
       "      <th>55217</th>\n",
       "      <td>24/1/2007</td>\n",
       "      <td>01:41:00</td>\n",
       "      <td>0.298</td>\n",
       "      <td>0.112</td>\n",
       "      <td>245.59</td>\n",
       "      <td>1.2</td>\n",
       "      <td>0.0</td>\n",
       "      <td>0.0</td>\n",
       "      <td>0.0</td>\n",
       "      <td>2007-01-24 01:41:00</td>\n",
       "      <td>0.0</td>\n",
       "    </tr>\n",
       "    <tr>\n",
       "      <th>890260</th>\n",
       "      <td>25/8/2008</td>\n",
       "      <td>23:04:00</td>\n",
       "      <td>0.082</td>\n",
       "      <td>0.000</td>\n",
       "      <td>241.01</td>\n",
       "      <td>0.2</td>\n",
       "      <td>0.0</td>\n",
       "      <td>0.0</td>\n",
       "      <td>1.0</td>\n",
       "      <td>2008-08-25 23:04:00</td>\n",
       "      <td>1.0</td>\n",
       "    </tr>\n",
       "    <tr>\n",
       "      <th>1054760</th>\n",
       "      <td>18/12/2008</td>\n",
       "      <td>04:44:00</td>\n",
       "      <td>0.336</td>\n",
       "      <td>0.078</td>\n",
       "      <td>245.62</td>\n",
       "      <td>1.4</td>\n",
       "      <td>0.0</td>\n",
       "      <td>1.0</td>\n",
       "      <td>0.0</td>\n",
       "      <td>2008-12-18 04:44:00</td>\n",
       "      <td>1.0</td>\n",
       "    </tr>\n",
       "  </tbody>\n",
       "</table>\n",
       "</div>"
      ],
      "text/plain": [
       "               Date      Time  Global_active_power  Global_reactive_power  \\\n",
       "1222794   13/4/2009  21:18:00                3.322                  0.204   \n",
       "745115    17/5/2008  03:59:00                0.328                  0.232   \n",
       "55217     24/1/2007  01:41:00                0.298                  0.112   \n",
       "890260    25/8/2008  23:04:00                0.082                  0.000   \n",
       "1054760  18/12/2008  04:44:00                0.336                  0.078   \n",
       "\n",
       "         Voltage  Global_intensity  Sub_metering_1  Sub_metering_2  \\\n",
       "1222794   238.70              14.2             1.0            33.0   \n",
       "745115    241.38               1.6             0.0             0.0   \n",
       "55217     245.59               1.2             0.0             0.0   \n",
       "890260    241.01               0.2             0.0             0.0   \n",
       "1054760   245.62               1.4             0.0             1.0   \n",
       "\n",
       "         Sub_metering_3           date_time  meterings  \n",
       "1222794             1.0 2009-04-13 21:18:00       35.0  \n",
       "745115              1.0 2008-05-17 03:59:00        1.0  \n",
       "55217               0.0 2007-01-24 01:41:00        0.0  \n",
       "890260              1.0 2008-08-25 23:04:00        1.0  \n",
       "1054760             0.0 2008-12-18 04:44:00        1.0  "
      ]
     },
     "execution_count": 15,
     "metadata": {},
     "output_type": "execute_result"
    }
   ],
   "source": [
    "data_sample1.head()"
   ]
  },
  {
   "cell_type": "markdown",
   "id": "e96aa763",
   "metadata": {},
   "source": [
    "### Dropping unecessary cols"
   ]
  },
  {
   "cell_type": "code",
   "execution_count": 16,
   "id": "fe320402",
   "metadata": {},
   "outputs": [],
   "source": [
    "data_sample1.drop(columns=['Date','Time','Sub_metering_1','Sub_metering_2','Sub_metering_3'],axis=1,inplace=True)"
   ]
  },
  {
   "cell_type": "code",
   "execution_count": 17,
   "id": "3249d28c",
   "metadata": {},
   "outputs": [
    {
     "data": {
      "text/html": [
       "<div>\n",
       "<style scoped>\n",
       "    .dataframe tbody tr th:only-of-type {\n",
       "        vertical-align: middle;\n",
       "    }\n",
       "\n",
       "    .dataframe tbody tr th {\n",
       "        vertical-align: top;\n",
       "    }\n",
       "\n",
       "    .dataframe thead th {\n",
       "        text-align: right;\n",
       "    }\n",
       "</style>\n",
       "<table border=\"1\" class=\"dataframe\">\n",
       "  <thead>\n",
       "    <tr style=\"text-align: right;\">\n",
       "      <th></th>\n",
       "      <th>Global_active_power</th>\n",
       "      <th>Global_reactive_power</th>\n",
       "      <th>Voltage</th>\n",
       "      <th>Global_intensity</th>\n",
       "      <th>date_time</th>\n",
       "      <th>meterings</th>\n",
       "    </tr>\n",
       "  </thead>\n",
       "  <tbody>\n",
       "    <tr>\n",
       "      <th>1222794</th>\n",
       "      <td>3.322</td>\n",
       "      <td>0.204</td>\n",
       "      <td>238.70</td>\n",
       "      <td>14.2</td>\n",
       "      <td>2009-04-13 21:18:00</td>\n",
       "      <td>35.0</td>\n",
       "    </tr>\n",
       "    <tr>\n",
       "      <th>745115</th>\n",
       "      <td>0.328</td>\n",
       "      <td>0.232</td>\n",
       "      <td>241.38</td>\n",
       "      <td>1.6</td>\n",
       "      <td>2008-05-17 03:59:00</td>\n",
       "      <td>1.0</td>\n",
       "    </tr>\n",
       "    <tr>\n",
       "      <th>55217</th>\n",
       "      <td>0.298</td>\n",
       "      <td>0.112</td>\n",
       "      <td>245.59</td>\n",
       "      <td>1.2</td>\n",
       "      <td>2007-01-24 01:41:00</td>\n",
       "      <td>0.0</td>\n",
       "    </tr>\n",
       "    <tr>\n",
       "      <th>890260</th>\n",
       "      <td>0.082</td>\n",
       "      <td>0.000</td>\n",
       "      <td>241.01</td>\n",
       "      <td>0.2</td>\n",
       "      <td>2008-08-25 23:04:00</td>\n",
       "      <td>1.0</td>\n",
       "    </tr>\n",
       "    <tr>\n",
       "      <th>1054760</th>\n",
       "      <td>0.336</td>\n",
       "      <td>0.078</td>\n",
       "      <td>245.62</td>\n",
       "      <td>1.4</td>\n",
       "      <td>2008-12-18 04:44:00</td>\n",
       "      <td>1.0</td>\n",
       "    </tr>\n",
       "  </tbody>\n",
       "</table>\n",
       "</div>"
      ],
      "text/plain": [
       "         Global_active_power  Global_reactive_power  Voltage  \\\n",
       "1222794                3.322                  0.204   238.70   \n",
       "745115                 0.328                  0.232   241.38   \n",
       "55217                  0.298                  0.112   245.59   \n",
       "890260                 0.082                  0.000   241.01   \n",
       "1054760                0.336                  0.078   245.62   \n",
       "\n",
       "         Global_intensity           date_time  meterings  \n",
       "1222794              14.2 2009-04-13 21:18:00       35.0  \n",
       "745115                1.6 2008-05-17 03:59:00        1.0  \n",
       "55217                 1.2 2007-01-24 01:41:00        0.0  \n",
       "890260                0.2 2008-08-25 23:04:00        1.0  \n",
       "1054760               1.4 2008-12-18 04:44:00        1.0  "
      ]
     },
     "execution_count": 17,
     "metadata": {},
     "output_type": "execute_result"
    }
   ],
   "source": [
    "data_sample1.head()"
   ]
  },
  {
   "cell_type": "markdown",
   "id": "55e37683",
   "metadata": {},
   "source": [
    "now we are good for doing an EDA but first lets see at the missing data and outliers\n",
    "### again looking at the missing data"
   ]
  },
  {
   "cell_type": "code",
   "execution_count": 18,
   "id": "08cf261d",
   "metadata": {},
   "outputs": [
    {
     "data": {
      "text/plain": [
       "<AxesSubplot:>"
      ]
     },
     "execution_count": 18,
     "metadata": {},
     "output_type": "execute_result"
    },
    {
     "data": {
      "image/png": "[encoded data removed]",
      "text/plain": [
       "<Figure size 1800x720 with 2 Axes>"
      ]
     },
     "metadata": {
      "needs_background": "light"
     },
     "output_type": "display_data"
    }
   ],
   "source": [
    "msno.matrix(data_sample1)"
   ]
  },
  {
   "cell_type": "code",
   "execution_count": 19,
   "id": "04a19748",
   "metadata": {},
   "outputs": [
    {
     "data": {
      "text/plain": [
       "Global_active_power      175\n",
       "Global_reactive_power    175\n",
       "Voltage                  175\n",
       "Global_intensity         175\n",
       "date_time                  0\n",
       "meterings                175\n",
       "dtype: int64"
      ]
     },
     "execution_count": 19,
     "metadata": {},
     "output_type": "execute_result"
    }
   ],
   "source": [
    "data_sample1.isnull().sum()"
   ]
  },
  {
   "cell_type": "code",
   "execution_count": 20,
   "id": "9ac1283a",
   "metadata": {},
   "outputs": [
    {
     "data": {
      "text/plain": [
       "Global_active_power      175\n",
       "Global_reactive_power    175\n",
       "Voltage                  175\n",
       "Global_intensity         175\n",
       "date_time                  0\n",
       "meterings                175\n",
       "dtype: int64"
      ]
     },
     "execution_count": 20,
     "metadata": {},
     "output_type": "execute_result"
    }
   ],
   "source": [
    "data_sample1.isna().sum()"
   ]
  },
  {
   "cell_type": "markdown",
   "id": "22eca510",
   "metadata": {},
   "source": [
    "Since we have the same amount of missing value in each column, we have to drop the values."
   ]
  },
  {
   "cell_type": "code",
   "execution_count": 21,
   "id": "23a81a86",
   "metadata": {},
   "outputs": [],
   "source": [
    "data_sample1.reset_index(inplace=True)"
   ]
  },
  {
   "cell_type": "code",
   "execution_count": 22,
   "id": "943e0277",
   "metadata": {},
   "outputs": [],
   "source": [
    "data_sample1.dropna(inplace=True)"
   ]
  },
  {
   "cell_type": "code",
   "execution_count": 23,
   "id": "38b91ee0",
   "metadata": {},
   "outputs": [
    {
     "data": {
      "text/plain": [
       "Index(['index', 'Global_active_power', 'Global_reactive_power', 'Voltage',\n",
       "       'Global_intensity', 'date_time', 'meterings'],\n",
       "      dtype='object')"
      ]
     },
     "execution_count": 23,
     "metadata": {},
     "output_type": "execute_result"
    }
   ],
   "source": [
    "data_sample1.columns"
   ]
  },
  {
   "cell_type": "code",
   "execution_count": 24,
   "id": "f535c191",
   "metadata": {},
   "outputs": [],
   "source": [
    "data_sample1.drop(columns=['index'],axis=1,inplace=True)"
   ]
  },
  {
   "cell_type": "code",
   "execution_count": 25,
   "id": "5e93a87b",
   "metadata": {},
   "outputs": [
    {
     "name": "stdout",
     "output_type": "stream",
     "text": [
      "<class 'pandas.core.frame.DataFrame'>\n",
      "Int64Index: 14825 entries, 0 to 14999\n",
      "Data columns (total 6 columns):\n",
      " #   Column                 Non-Null Count  Dtype         \n",
      "---  ------                 --------------  -----         \n",
      " 0   Global_active_power    14825 non-null  float64       \n",
      " 1   Global_reactive_power  14825 non-null  float64       \n",
      " 2   Voltage                14825 non-null  float64       \n",
      " 3   Global_intensity       14825 non-null  float64       \n",
      " 4   date_time              14825 non-null  datetime64[ns]\n",
      " 5   meterings              14825 non-null  float64       \n",
      "dtypes: datetime64[ns](1), float64(5)\n",
      "memory usage: 810.7 KB\n"
     ]
    }
   ],
   "source": [
    "data_sample1.info()"
   ]
  },
  {
   "cell_type": "code",
   "execution_count": 26,
   "id": "27b10714",
   "metadata": {},
   "outputs": [
    {
     "data": {
      "text/plain": [
       "Global_active_power      0\n",
       "Global_reactive_power    0\n",
       "Voltage                  0\n",
       "Global_intensity         0\n",
       "date_time                0\n",
       "meterings                0\n",
       "dtype: int64"
      ]
     },
     "execution_count": 26,
     "metadata": {},
     "output_type": "execute_result"
    }
   ],
   "source": [
    "data_sample1.isnull().sum()"
   ]
  },
  {
   "cell_type": "code",
   "execution_count": 27,
   "id": "a614e23c",
   "metadata": {},
   "outputs": [
    {
     "data": {
      "text/plain": [
       "<AxesSubplot:>"
      ]
     },
     "execution_count": 27,
     "metadata": {},
     "output_type": "execute_result"
    },
    {
     "data": {
      "image/png": "[encoded data removed]",
      "text/plain": [
       "<Figure size 1800x720 with 2 Axes>"
      ]
     },
     "metadata": {
      "needs_background": "light"
     },
     "output_type": "display_data"
    }
   ],
   "source": [
    "msno.matrix(data_sample1)"
   ]
  },
  {
   "cell_type": "code",
   "execution_count": null,
   "id": "0f173aeb",
   "metadata": {},
   "outputs": [],
   "source": [
    "np.bf"
   ]
  },
  {
   "cell_type": "code",
   "execution_count": null,
   "id": "5e2e1066",
   "metadata": {},
   "outputs": [],
   "source": []
  },
  {
   "cell_type": "code",
   "execution_count": null,
   "id": "8ca603c7",
   "metadata": {},
   "outputs": [],
   "source": []
  },
  {
   "cell_type": "code",
   "execution_count": null,
   "id": "4a7e9370",
   "metadata": {},
   "outputs": [],
   "source": []
  },
  {
   "cell_type": "markdown",
   "id": "1b494b20",
   "metadata": {},
   "source": [
    "Now we do not have any null data left.\\\n",
    "lets export this cleaned data to a new csv file.\n",
    "### exporting csv"
   ]
  },
  {
   "cell_type": "code",
   "execution_count": 42,
   "id": "1c3c1f7a",
   "metadata": {},
   "outputs": [],
   "source": [
    "import os\n",
    "os.makedirs('no_missing_values')\n",
    "data_sample1.to_csv('no_missing_values/sample_pow_cons.csv')"
   ]
  }
 ],
 "metadata": {
  "kernelspec": {
   "display_name": "Python 3 (ipykernel)",
   "language": "python",
   "name": "python3"
  },
  "language_info": {
   "codemirror_mode": {
    "name": "ipython",
    "version": 3
   },
   "file_extension": ".py",
   "mimetype": "text/x-python",
   "name": "python",
   "nbconvert_exporter": "python",
   "pygments_lexer": "ipython3",
   "version": "3.9.12"
  }
 },
 "nbformat": 4,
 "nbformat_minor": 5
}
